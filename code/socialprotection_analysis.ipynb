{
 "cells": [
  {
   "cell_type": "markdown",
   "id": "a082c628",
   "metadata": {},
   "source": [
    "# **Economic Dynamics & Social Protection in Ireland**"
   ]
  },
  {
   "cell_type": "markdown",
   "id": "415e806c",
   "metadata": {},
   "source": [
    "## Goal\n",
    "The goal of this project is to understand how labour force participation and social protection policies interact to shape economic health. Using Python for data analysis, the project explore how employment, unemployment, and welfare programs have evolved from 1998 to 2023, and what these patterns reveal about the effectiveness of Ireland’s policies and the resilience of its economy."
   ]
  },
  {
   "cell_type": "markdown",
   "id": "bf259c5d",
   "metadata": {},
   "source": [
    "## Setup"
   ]
  },
  {
   "cell_type": "markdown",
   "id": "ee4071d6",
   "metadata": {},
   "source": [
    "#### Importing libraries"
   ]
  },
  {
   "cell_type": "code",
   "execution_count": 1243,
   "id": "7f688f8b",
   "metadata": {},
   "outputs": [],
   "source": [
    "import pandas as pd\n",
    "import matplotlib.pyplot as plt\n",
    "from matplotlib.ticker import FuncFormatter \n",
    "import seaborn as sns\n",
    "import numpy as np\n",
    "import plotly.graph_objects as go\n",
    "import plotly.express as px\n",
    "from scipy import stats\n",
    "import plotly.io as pio\n",
    "from IPython.display import Image\n",
    "\n",
    "%matplotlib inline"
   ]
  },
  {
   "cell_type": "markdown",
   "id": "e61cb06d",
   "metadata": {},
   "source": [
    "## Data Preparation"
   ]
  },
  {
   "cell_type": "markdown",
   "id": "a0d429ac",
   "metadata": {},
   "source": [
    "#### Social Protection Dataset"
   ]
  },
  {
   "cell_type": "code",
   "execution_count": 1244,
   "id": "08ef7639",
   "metadata": {},
   "outputs": [
    {
     "data": {
      "text/html": [
       "<div>\n",
       "<style scoped>\n",
       "    .dataframe tbody tr th:only-of-type {\n",
       "        vertical-align: middle;\n",
       "    }\n",
       "\n",
       "    .dataframe tbody tr th {\n",
       "        vertical-align: top;\n",
       "    }\n",
       "\n",
       "    .dataframe thead th {\n",
       "        text-align: right;\n",
       "    }\n",
       "</style>\n",
       "<table border=\"1\" class=\"dataframe\">\n",
       "  <thead>\n",
       "    <tr style=\"text-align: right;\">\n",
       "      <th></th>\n",
       "      <th>period</th>\n",
       "      <th>programme</th>\n",
       "      <th>scheme</th>\n",
       "      <th>scheme_description</th>\n",
       "      <th>basis</th>\n",
       "      <th>county</th>\n",
       "      <th>county_code</th>\n",
       "      <th>UGI</th>\n",
       "      <th>recipients</th>\n",
       "    </tr>\n",
       "  </thead>\n",
       "  <tbody>\n",
       "    <tr>\n",
       "      <th>0</th>\n",
       "      <td>2014Q1</td>\n",
       "      <td>Children</td>\n",
       "      <td>CB</td>\n",
       "      <td>Child Benefit</td>\n",
       "      <td>Social Assistance</td>\n",
       "      <td>All</td>\n",
       "      <td>All</td>\n",
       "      <td>XX</td>\n",
       "      <td>623,739</td>\n",
       "    </tr>\n",
       "    <tr>\n",
       "      <th>1</th>\n",
       "      <td>2014Q1</td>\n",
       "      <td>Children</td>\n",
       "      <td>FIS</td>\n",
       "      <td>Family Income Supplement</td>\n",
       "      <td>Social Assistance</td>\n",
       "      <td>All</td>\n",
       "      <td>All</td>\n",
       "      <td>XX</td>\n",
       "      <td>48,327</td>\n",
       "    </tr>\n",
       "    <tr>\n",
       "      <th>2</th>\n",
       "      <td>2014Q1</td>\n",
       "      <td>Children</td>\n",
       "      <td>CB</td>\n",
       "      <td>Child Benefit</td>\n",
       "      <td>Social Assistance</td>\n",
       "      <td>Carlow</td>\n",
       "      <td>CW</td>\n",
       "      <td>2ae19629-143d-13a3-e055-000000000001</td>\n",
       "      <td>8,319</td>\n",
       "    </tr>\n",
       "    <tr>\n",
       "      <th>3</th>\n",
       "      <td>2014Q1</td>\n",
       "      <td>Children</td>\n",
       "      <td>FIS</td>\n",
       "      <td>Family Income Supplement</td>\n",
       "      <td>Social Assistance</td>\n",
       "      <td>Carlow</td>\n",
       "      <td>CW</td>\n",
       "      <td>2ae19629-143d-13a3-e055-000000000001</td>\n",
       "      <td>774</td>\n",
       "    </tr>\n",
       "    <tr>\n",
       "      <th>4</th>\n",
       "      <td>2014Q1</td>\n",
       "      <td>Children</td>\n",
       "      <td>CB</td>\n",
       "      <td>Child Benefit</td>\n",
       "      <td>Social Assistance</td>\n",
       "      <td>Cavan</td>\n",
       "      <td>CN</td>\n",
       "      <td>2ae19629-1448-13a3-e055-000000000001</td>\n",
       "      <td>10,349</td>\n",
       "    </tr>\n",
       "  </tbody>\n",
       "</table>\n",
       "</div>"
      ],
      "text/plain": [
       "   period programme scheme        scheme_description              basis  \\\n",
       "0  2014Q1  Children     CB             Child Benefit  Social Assistance   \n",
       "1  2014Q1  Children    FIS  Family Income Supplement  Social Assistance   \n",
       "2  2014Q1  Children     CB             Child Benefit  Social Assistance   \n",
       "3  2014Q1  Children    FIS  Family Income Supplement  Social Assistance   \n",
       "4  2014Q1  Children     CB             Child Benefit  Social Assistance   \n",
       "\n",
       "   county county_code                                   UGI  recipients  \n",
       "0     All         All                                    XX     623,739  \n",
       "1     All         All                                    XX      48,327  \n",
       "2  Carlow          CW  2ae19629-143d-13a3-e055-000000000001       8,319  \n",
       "3  Carlow          CW  2ae19629-143d-13a3-e055-000000000001         774  \n",
       "4   Cavan          CN  2ae19629-1448-13a3-e055-000000000001      10,349  "
      ]
     },
     "execution_count": 1244,
     "metadata": {},
     "output_type": "execute_result"
    }
   ],
   "source": [
    "# Load data\n",
    "datasp = pd.read_csv('SocialProt_original.csv')\n",
    "datasp.head()"
   ]
  },
  {
   "cell_type": "code",
   "execution_count": 1245,
   "id": "fa5d5176",
   "metadata": {},
   "outputs": [
    {
     "data": {
      "text/html": [
       "<div>\n",
       "<style scoped>\n",
       "    .dataframe tbody tr th:only-of-type {\n",
       "        vertical-align: middle;\n",
       "    }\n",
       "\n",
       "    .dataframe tbody tr th {\n",
       "        vertical-align: top;\n",
       "    }\n",
       "\n",
       "    .dataframe thead th {\n",
       "        text-align: right;\n",
       "    }\n",
       "</style>\n",
       "<table border=\"1\" class=\"dataframe\">\n",
       "  <thead>\n",
       "    <tr style=\"text-align: right;\">\n",
       "      <th></th>\n",
       "      <th>period</th>\n",
       "      <th>scheme_description</th>\n",
       "      <th>county</th>\n",
       "      <th>recipients</th>\n",
       "    </tr>\n",
       "  </thead>\n",
       "  <tbody>\n",
       "    <tr>\n",
       "      <th>0</th>\n",
       "      <td>2014Q1</td>\n",
       "      <td>Child Benefit</td>\n",
       "      <td>All</td>\n",
       "      <td>623,739</td>\n",
       "    </tr>\n",
       "    <tr>\n",
       "      <th>1</th>\n",
       "      <td>2014Q1</td>\n",
       "      <td>Family Income Supplement</td>\n",
       "      <td>All</td>\n",
       "      <td>48,327</td>\n",
       "    </tr>\n",
       "    <tr>\n",
       "      <th>2</th>\n",
       "      <td>2014Q1</td>\n",
       "      <td>Child Benefit</td>\n",
       "      <td>Carlow</td>\n",
       "      <td>8,319</td>\n",
       "    </tr>\n",
       "    <tr>\n",
       "      <th>3</th>\n",
       "      <td>2014Q1</td>\n",
       "      <td>Family Income Supplement</td>\n",
       "      <td>Carlow</td>\n",
       "      <td>774</td>\n",
       "    </tr>\n",
       "    <tr>\n",
       "      <th>4</th>\n",
       "      <td>2014Q1</td>\n",
       "      <td>Child Benefit</td>\n",
       "      <td>Cavan</td>\n",
       "      <td>10,349</td>\n",
       "    </tr>\n",
       "  </tbody>\n",
       "</table>\n",
       "</div>"
      ],
      "text/plain": [
       "   period        scheme_description  county  recipients\n",
       "0  2014Q1             Child Benefit     All     623,739\n",
       "1  2014Q1  Family Income Supplement     All      48,327\n",
       "2  2014Q1             Child Benefit  Carlow       8,319\n",
       "3  2014Q1  Family Income Supplement  Carlow         774\n",
       "4  2014Q1             Child Benefit   Cavan      10,349"
      ]
     },
     "execution_count": 1245,
     "metadata": {},
     "output_type": "execute_result"
    }
   ],
   "source": [
    "# Filter columns\n",
    "columns_selection = ['period', 'scheme_description', 'county', 'recipients']\n",
    "datasp = datasp[columns_selection]\n",
    "datasp.head()"
   ]
  },
  {
   "cell_type": "code",
   "execution_count": 1246,
   "id": "5c8f0529",
   "metadata": {},
   "outputs": [
    {
     "data": {
      "text/plain": [
       "0"
      ]
     },
     "execution_count": 1246,
     "metadata": {},
     "output_type": "execute_result"
    }
   ],
   "source": [
    "# Check duplicates\n",
    "datasp.duplicated().sum() "
   ]
  },
  {
   "cell_type": "code",
   "execution_count": 1247,
   "id": "ab1d0b34",
   "metadata": {},
   "outputs": [
    {
     "data": {
      "text/plain": [
       "period                0\n",
       "scheme_description    0\n",
       "county                0\n",
       "recipients            0\n",
       "dtype: int64"
      ]
     },
     "execution_count": 1247,
     "metadata": {},
     "output_type": "execute_result"
    }
   ],
   "source": [
    "# Check null values\n",
    "datasp.isnull().sum()"
   ]
  },
  {
   "cell_type": "code",
   "execution_count": 1248,
   "id": "d4ac3762",
   "metadata": {},
   "outputs": [],
   "source": [
    "# Rename columns\n",
    "datasp.rename(columns= {'period': 'Year',\n",
    "                        'county': 'Residence_county',\n",
    "                        'scheme_description': 'Scheme_description',\n",
    "                        'recipients': 'Recipients'}, inplace=True)"
   ]
  },
  {
   "cell_type": "code",
   "execution_count": 1249,
   "id": "8d8f3313",
   "metadata": {},
   "outputs": [
    {
     "data": {
      "text/plain": [
       "Residence_county\n",
       "All          874\n",
       "Limerick     853\n",
       "Wexford      853\n",
       "Westmeath    853\n",
       "Waterford    853\n",
       "Tipperary    853\n",
       "Offaly       853\n",
       "Monaghan     853\n",
       "Meath        853\n",
       "Mayo         853\n",
       "Louth        853\n",
       "Carlow       853\n",
       "Longford     853\n",
       "Leitrim      853\n",
       "Laois        853\n",
       "Kilkenny     853\n",
       "Kildare      853\n",
       "Kerry        853\n",
       "Galway       853\n",
       "Dublin       853\n",
       "Donegal      853\n",
       "Cork         853\n",
       "Clare        853\n",
       "Wicklow      853\n",
       "Roscommon    852\n",
       "Sligo        852\n",
       "Cavan        852\n",
       "Unknown      845\n",
       "Name: count, dtype: int64"
      ]
     },
     "execution_count": 1249,
     "metadata": {},
     "output_type": "execute_result"
    }
   ],
   "source": [
    "# Count residence_county values\n",
    "datasp['Residence_county'].value_counts()"
   ]
  },
  {
   "cell_type": "code",
   "execution_count": 1250,
   "id": "e4b52785",
   "metadata": {},
   "outputs": [],
   "source": [
    "# Remove Unknown data and all values from residence_county column\n",
    "datasp = datasp[datasp['Residence_county'] != 'Unknown']\n",
    "datasp = datasp[datasp['Residence_county'] != 'All']"
   ]
  },
  {
   "cell_type": "code",
   "execution_count": 1251,
   "id": "8a82bc3a",
   "metadata": {},
   "outputs": [
    {
     "name": "stdout",
     "output_type": "stream",
     "text": [
      "<class 'pandas.core.frame.DataFrame'>\n",
      "Index: 22175 entries, 2 to 23893\n",
      "Data columns (total 4 columns):\n",
      " #   Column              Non-Null Count  Dtype \n",
      "---  ------              --------------  ----- \n",
      " 0   Year                22175 non-null  object\n",
      " 1   Scheme_description  22175 non-null  object\n",
      " 2   Residence_county    22175 non-null  object\n",
      " 3   Recipients          22175 non-null  int32 \n",
      "dtypes: int32(1), object(3)\n",
      "memory usage: 779.6+ KB\n"
     ]
    }
   ],
   "source": [
    "# Change recipients type to integer\n",
    "datasp['Recipients'] = datasp['Recipients'].astype(int)\n",
    "datasp.info()"
   ]
  },
  {
   "cell_type": "code",
   "execution_count": 1252,
   "id": "d7c62677",
   "metadata": {},
   "outputs": [],
   "source": [
    "# Split year in two columns (year and period)\n",
    "datasp[['Year', 'Period']] = datasp['Year'].str.split('Q', expand=True) "
   ]
  },
  {
   "cell_type": "code",
   "execution_count": 1253,
   "id": "747a3a9a",
   "metadata": {},
   "outputs": [],
   "source": [
    "# Convert year and periods to integer\n",
    "datasp['Period'] = datasp['Period'].astype(int)\n",
    "datasp['Year'] = datasp['Year'].astype(int)"
   ]
  },
  {
   "cell_type": "code",
   "execution_count": 1254,
   "id": "7ae4fa4d",
   "metadata": {},
   "outputs": [
    {
     "data": {
      "text/html": [
       "<div>\n",
       "<style scoped>\n",
       "    .dataframe tbody tr th:only-of-type {\n",
       "        vertical-align: middle;\n",
       "    }\n",
       "\n",
       "    .dataframe tbody tr th {\n",
       "        vertical-align: top;\n",
       "    }\n",
       "\n",
       "    .dataframe thead th {\n",
       "        text-align: right;\n",
       "    }\n",
       "</style>\n",
       "<table border=\"1\" class=\"dataframe\">\n",
       "  <thead>\n",
       "    <tr style=\"text-align: right;\">\n",
       "      <th></th>\n",
       "      <th>Year</th>\n",
       "      <th>Period</th>\n",
       "      <th>Scheme_description</th>\n",
       "      <th>Residence_county</th>\n",
       "      <th>Recipients</th>\n",
       "    </tr>\n",
       "  </thead>\n",
       "  <tbody>\n",
       "    <tr>\n",
       "      <th>0</th>\n",
       "      <td>2014</td>\n",
       "      <td>1</td>\n",
       "      <td>Child Benefit</td>\n",
       "      <td>Carlow</td>\n",
       "      <td>8319</td>\n",
       "    </tr>\n",
       "    <tr>\n",
       "      <th>1</th>\n",
       "      <td>2014</td>\n",
       "      <td>1</td>\n",
       "      <td>Family Income Supplement</td>\n",
       "      <td>Carlow</td>\n",
       "      <td>774</td>\n",
       "    </tr>\n",
       "    <tr>\n",
       "      <th>2</th>\n",
       "      <td>2014</td>\n",
       "      <td>1</td>\n",
       "      <td>Child Benefit</td>\n",
       "      <td>Cavan</td>\n",
       "      <td>10349</td>\n",
       "    </tr>\n",
       "    <tr>\n",
       "      <th>3</th>\n",
       "      <td>2014</td>\n",
       "      <td>1</td>\n",
       "      <td>Family Income Supplement</td>\n",
       "      <td>Cavan</td>\n",
       "      <td>1089</td>\n",
       "    </tr>\n",
       "    <tr>\n",
       "      <th>4</th>\n",
       "      <td>2014</td>\n",
       "      <td>1</td>\n",
       "      <td>Child Benefit</td>\n",
       "      <td>Clare</td>\n",
       "      <td>15958</td>\n",
       "    </tr>\n",
       "  </tbody>\n",
       "</table>\n",
       "</div>"
      ],
      "text/plain": [
       "   Year  Period        Scheme_description Residence_county  Recipients\n",
       "0  2014       1             Child Benefit           Carlow        8319\n",
       "1  2014       1  Family Income Supplement           Carlow         774\n",
       "2  2014       1             Child Benefit            Cavan       10349\n",
       "3  2014       1  Family Income Supplement            Cavan        1089\n",
       "4  2014       1             Child Benefit            Clare       15958"
      ]
     },
     "execution_count": 1254,
     "metadata": {},
     "output_type": "execute_result"
    }
   ],
   "source": [
    "# Organize columns and reset index\n",
    "columns_selection = ['Year', 'Period', 'Scheme_description', 'Residence_county', 'Recipients']\n",
    "datasp = datasp[columns_selection]\n",
    "datasp.reset_index(drop=True, inplace=True)\n",
    "datasp.head()"
   ]
  },
  {
   "cell_type": "markdown",
   "id": "a1776826",
   "metadata": {},
   "source": [
    "#### Labour Force Dataset"
   ]
  },
  {
   "cell_type": "code",
   "execution_count": 1255,
   "id": "6b0164ff",
   "metadata": {},
   "outputs": [
    {
     "data": {
      "text/html": [
       "<div>\n",
       "<style scoped>\n",
       "    .dataframe tbody tr th:only-of-type {\n",
       "        vertical-align: middle;\n",
       "    }\n",
       "\n",
       "    .dataframe tbody tr th {\n",
       "        vertical-align: top;\n",
       "    }\n",
       "\n",
       "    .dataframe thead th {\n",
       "        text-align: right;\n",
       "    }\n",
       "</style>\n",
       "<table border=\"1\" class=\"dataframe\">\n",
       "  <thead>\n",
       "    <tr style=\"text-align: right;\">\n",
       "      <th></th>\n",
       "      <th>STATISTIC</th>\n",
       "      <th>Statistic Label</th>\n",
       "      <th>TLIST(Q1)</th>\n",
       "      <th>Quarter</th>\n",
       "      <th>C02199V02655</th>\n",
       "      <th>Sex</th>\n",
       "      <th>C01999V02434</th>\n",
       "      <th>ILO Economic Status</th>\n",
       "      <th>UNIT</th>\n",
       "      <th>VALUE</th>\n",
       "    </tr>\n",
       "  </thead>\n",
       "  <tbody>\n",
       "    <tr>\n",
       "      <th>0</th>\n",
       "      <td>QLF01C01</td>\n",
       "      <td>Persons aged 15 years and over</td>\n",
       "      <td>19981</td>\n",
       "      <td>1998Q1</td>\n",
       "      <td>-</td>\n",
       "      <td>Both sexes</td>\n",
       "      <td>-</td>\n",
       "      <td>All ILO economic status</td>\n",
       "      <td>Thousand</td>\n",
       "      <td>2,857</td>\n",
       "    </tr>\n",
       "    <tr>\n",
       "      <th>1</th>\n",
       "      <td>QLF01C01</td>\n",
       "      <td>Persons aged 15 years and over</td>\n",
       "      <td>19981</td>\n",
       "      <td>1998Q1</td>\n",
       "      <td>-</td>\n",
       "      <td>Both sexes</td>\n",
       "      <td>01</td>\n",
       "      <td>In labour force</td>\n",
       "      <td>Thousand</td>\n",
       "      <td>1,699</td>\n",
       "    </tr>\n",
       "    <tr>\n",
       "      <th>2</th>\n",
       "      <td>QLF01C01</td>\n",
       "      <td>Persons aged 15 years and over</td>\n",
       "      <td>19981</td>\n",
       "      <td>1998Q1</td>\n",
       "      <td>-</td>\n",
       "      <td>Both sexes</td>\n",
       "      <td>02</td>\n",
       "      <td>In employment</td>\n",
       "      <td>Thousand</td>\n",
       "      <td>1,550</td>\n",
       "    </tr>\n",
       "    <tr>\n",
       "      <th>3</th>\n",
       "      <td>QLF01C01</td>\n",
       "      <td>Persons aged 15 years and over</td>\n",
       "      <td>19981</td>\n",
       "      <td>1998Q1</td>\n",
       "      <td>-</td>\n",
       "      <td>Both sexes</td>\n",
       "      <td>03</td>\n",
       "      <td>In employment full-time</td>\n",
       "      <td>Thousand</td>\n",
       "      <td>1,283</td>\n",
       "    </tr>\n",
       "    <tr>\n",
       "      <th>4</th>\n",
       "      <td>QLF01C01</td>\n",
       "      <td>Persons aged 15 years and over</td>\n",
       "      <td>19981</td>\n",
       "      <td>1998Q1</td>\n",
       "      <td>-</td>\n",
       "      <td>Both sexes</td>\n",
       "      <td>04</td>\n",
       "      <td>In employment part-time</td>\n",
       "      <td>Thousand</td>\n",
       "      <td>268</td>\n",
       "    </tr>\n",
       "  </tbody>\n",
       "</table>\n",
       "</div>"
      ],
      "text/plain": [
       "  STATISTIC                 Statistic Label  TLIST(Q1) Quarter C02199V02655  \\\n",
       "0  QLF01C01  Persons aged 15 years and over      19981  1998Q1            -   \n",
       "1  QLF01C01  Persons aged 15 years and over      19981  1998Q1            -   \n",
       "2  QLF01C01  Persons aged 15 years and over      19981  1998Q1            -   \n",
       "3  QLF01C01  Persons aged 15 years and over      19981  1998Q1            -   \n",
       "4  QLF01C01  Persons aged 15 years and over      19981  1998Q1            -   \n",
       "\n",
       "          Sex C01999V02434      ILO Economic Status      UNIT  VALUE  \n",
       "0  Both sexes            -  All ILO economic status  Thousand  2,857  \n",
       "1  Both sexes           01          In labour force  Thousand  1,699  \n",
       "2  Both sexes           02            In employment  Thousand  1,550  \n",
       "3  Both sexes           03  In employment full-time  Thousand  1,283  \n",
       "4  Both sexes           04  In employment part-time  Thousand    268  "
      ]
     },
     "execution_count": 1255,
     "metadata": {},
     "output_type": "execute_result"
    }
   ],
   "source": [
    "# Load dataset\n",
    "labour_df = pd.read_csv(\"Labour_force .csv\")\n",
    "labour_df.head()"
   ]
  },
  {
   "cell_type": "code",
   "execution_count": 1256,
   "id": "ac010be5",
   "metadata": {},
   "outputs": [],
   "source": [
    "# Filter Sex column to both sexes\n",
    "labour_df = labour_df[labour_df[\"Sex\"] == \"Both sexes\"]"
   ]
  },
  {
   "cell_type": "code",
   "execution_count": 1257,
   "id": "dd044be3",
   "metadata": {},
   "outputs": [],
   "source": [
    "# Filter Columns\n",
    "columns_labour = [\"Quarter\", \"ILO Economic Status\", \"VALUE\"]\n",
    "labour_df = labour_df[columns_labour]"
   ]
  },
  {
   "cell_type": "code",
   "execution_count": 1258,
   "id": "f7c54d4a",
   "metadata": {},
   "outputs": [
    {
     "data": {
      "text/plain": [
       "array(['All ILO economic status', 'In labour force', 'In employment',\n",
       "       'In employment full-time', 'In employment part-time',\n",
       "       'In employment part-time - not underemployed',\n",
       "       'In employment part-time - underemployed', 'Unemployed',\n",
       "       'Unemployed seeking full-time work/future job-starter',\n",
       "       'Unemployed seeking part-time work', 'Not in labour force',\n",
       "       'Potential additional labour force', 'Others not in labour force',\n",
       "       'Unemployed seeking work as self-employed'], dtype=object)"
      ]
     },
     "execution_count": 1258,
     "metadata": {},
     "output_type": "execute_result"
    }
   ],
   "source": [
    "# Check variables in economic status\n",
    "labour_df[\"ILO Economic Status\"].unique()"
   ]
  },
  {
   "cell_type": "code",
   "execution_count": 1259,
   "id": "5ad2441a",
   "metadata": {},
   "outputs": [
    {
     "data": {
      "text/html": [
       "<div>\n",
       "<style scoped>\n",
       "    .dataframe tbody tr th:only-of-type {\n",
       "        vertical-align: middle;\n",
       "    }\n",
       "\n",
       "    .dataframe tbody tr th {\n",
       "        vertical-align: top;\n",
       "    }\n",
       "\n",
       "    .dataframe thead th {\n",
       "        text-align: right;\n",
       "    }\n",
       "</style>\n",
       "<table border=\"1\" class=\"dataframe\">\n",
       "  <thead>\n",
       "    <tr style=\"text-align: right;\">\n",
       "      <th></th>\n",
       "      <th>Quarter</th>\n",
       "      <th>ILO Economic Status</th>\n",
       "      <th>VALUE</th>\n",
       "    </tr>\n",
       "  </thead>\n",
       "  <tbody>\n",
       "    <tr>\n",
       "      <th>0</th>\n",
       "      <td>1998Q1</td>\n",
       "      <td>In labour force</td>\n",
       "      <td>1,699</td>\n",
       "    </tr>\n",
       "    <tr>\n",
       "      <th>1</th>\n",
       "      <td>1998Q1</td>\n",
       "      <td>In employment</td>\n",
       "      <td>1,550</td>\n",
       "    </tr>\n",
       "    <tr>\n",
       "      <th>2</th>\n",
       "      <td>1998Q1</td>\n",
       "      <td>Unemployed</td>\n",
       "      <td>149</td>\n",
       "    </tr>\n",
       "    <tr>\n",
       "      <th>3</th>\n",
       "      <td>1998Q1</td>\n",
       "      <td>Not in labour force</td>\n",
       "      <td>1,158</td>\n",
       "    </tr>\n",
       "    <tr>\n",
       "      <th>4</th>\n",
       "      <td>1998Q2</td>\n",
       "      <td>In labour force</td>\n",
       "      <td>1,711</td>\n",
       "    </tr>\n",
       "  </tbody>\n",
       "</table>\n",
       "</div>"
      ],
      "text/plain": [
       "  Quarter  ILO Economic Status  VALUE\n",
       "0  1998Q1      In labour force  1,699\n",
       "1  1998Q1        In employment  1,550\n",
       "2  1998Q1           Unemployed    149\n",
       "3  1998Q1  Not in labour force  1,158\n",
       "4  1998Q2      In labour force  1,711"
      ]
     },
     "execution_count": 1259,
     "metadata": {},
     "output_type": "execute_result"
    }
   ],
   "source": [
    "# Filter ILO Economic Status column: In labour force / In employment / Unemployed / Not in labour force\n",
    "labour_df = labour_df[labour_df[\"ILO Economic Status\"].isin([\"In labour force\", \"In employment\", \"Unemployed\", \"Not in labour force\"])].reset_index(drop=True)\n",
    "labour_df.head()"
   ]
  },
  {
   "cell_type": "code",
   "execution_count": 1260,
   "id": "f760e615",
   "metadata": {},
   "outputs": [
    {
     "data": {
      "text/plain": [
       "Quarter                0\n",
       "ILO Economic Status    0\n",
       "VALUE                  0\n",
       "dtype: int64"
      ]
     },
     "execution_count": 1260,
     "metadata": {},
     "output_type": "execute_result"
    }
   ],
   "source": [
    "# Check null\n",
    "labour_df.isnull().sum()"
   ]
  },
  {
   "cell_type": "code",
   "execution_count": 1261,
   "id": "1a63d826",
   "metadata": {},
   "outputs": [
    {
     "data": {
      "text/plain": [
       "0"
      ]
     },
     "execution_count": 1261,
     "metadata": {},
     "output_type": "execute_result"
    }
   ],
   "source": [
    "# Check duplicates\n",
    "labour_df.duplicated().sum()"
   ]
  },
  {
   "cell_type": "code",
   "execution_count": 1262,
   "id": "6ccc7b07",
   "metadata": {},
   "outputs": [],
   "source": [
    "# Split year in two columns (year and period)\n",
    "labour_df[[\"year\", \"period\"]] = labour_df[\"Quarter\"].str.split(\"Q\", expand=True)"
   ]
  },
  {
   "cell_type": "code",
   "execution_count": 1263,
   "id": "b33e1559",
   "metadata": {},
   "outputs": [],
   "source": [
    "# Rename columns\n",
    "labour_df.rename(columns={\n",
    "                          \"ILO Economic Status\": \"economic_status\",\n",
    "                          \"VALUE\": \"individuals\"\n",
    "                          }, inplace=True)"
   ]
  },
  {
   "cell_type": "code",
   "execution_count": 1264,
   "id": "f3d3f1c1",
   "metadata": {},
   "outputs": [],
   "source": [
    "# Organize columns\n",
    "columns_order = [\"year\", \"period\", \"economic_status\", \"individuals\"]\n",
    "labour_df = labour_df[columns_order]\n",
    "\n",
    "# Set the individuals columns to thousands\n",
    "labour_df[\"individuals\"] = labour_df[\"individuals\"]*1000"
   ]
  },
  {
   "cell_type": "code",
   "execution_count": 1265,
   "id": "0a3aca9d",
   "metadata": {},
   "outputs": [
    {
     "data": {
      "text/plain": [
       "year               0\n",
       "period             0\n",
       "economic_status    0\n",
       "individuals        0\n",
       "dtype: object"
      ]
     },
     "execution_count": 1265,
     "metadata": {},
     "output_type": "execute_result"
    }
   ],
   "source": [
    "# Check outliers\n",
    "Q1 = labour_df['individuals'].quantile(.25)\n",
    "Q3 = labour_df['individuals'].quantile(.75)\n",
    "IQR = Q3 - Q1\n",
    "lower_out = Q1 - 1.5 * IQR\n",
    "upper_out = Q3 + 1.5 * IQR\n",
    "\n",
    "outliers = labour_df[(labour_df['individuals'] < lower_out) | (labour_df['individuals'] > upper_out)]\n",
    "outliers.sum()\n"
   ]
  },
  {
   "cell_type": "code",
   "execution_count": 1266,
   "id": "506b25cd",
   "metadata": {},
   "outputs": [],
   "source": [
    "# Change data type to integer\n",
    "labour_df[\"year\"] = labour_df[\"year\"].astype(np.int64)\n",
    "labour_df[\"period\"] = labour_df[\"period\"].astype(np.int64)"
   ]
  },
  {
   "cell_type": "code",
   "execution_count": 1267,
   "id": "1f960393",
   "metadata": {},
   "outputs": [
    {
     "name": "stdout",
     "output_type": "stream",
     "text": [
      "<class 'pandas.core.frame.DataFrame'>\n",
      "RangeIndex: 428 entries, 0 to 427\n",
      "Data columns (total 4 columns):\n",
      " #   Column           Non-Null Count  Dtype  \n",
      "---  ------           --------------  -----  \n",
      " 0   year             428 non-null    int64  \n",
      " 1   period           428 non-null    int64  \n",
      " 2   economic_status  428 non-null    object \n",
      " 3   individuals      428 non-null    float64\n",
      "dtypes: float64(1), int64(2), object(1)\n",
      "memory usage: 13.5+ KB\n"
     ]
    }
   ],
   "source": [
    "labour_df.info()"
   ]
  },
  {
   "cell_type": "code",
   "execution_count": 1268,
   "id": "df9482b5",
   "metadata": {},
   "outputs": [
    {
     "data": {
      "text/html": [
       "<div>\n",
       "<style scoped>\n",
       "    .dataframe tbody tr th:only-of-type {\n",
       "        vertical-align: middle;\n",
       "    }\n",
       "\n",
       "    .dataframe tbody tr th {\n",
       "        vertical-align: top;\n",
       "    }\n",
       "\n",
       "    .dataframe thead th {\n",
       "        text-align: right;\n",
       "    }\n",
       "</style>\n",
       "<table border=\"1\" class=\"dataframe\">\n",
       "  <thead>\n",
       "    <tr style=\"text-align: right;\">\n",
       "      <th></th>\n",
       "      <th>year</th>\n",
       "      <th>period</th>\n",
       "      <th>economic_status</th>\n",
       "      <th>individuals</th>\n",
       "    </tr>\n",
       "  </thead>\n",
       "  <tbody>\n",
       "    <tr>\n",
       "      <th>0</th>\n",
       "      <td>1998</td>\n",
       "      <td>1</td>\n",
       "      <td>In labour force</td>\n",
       "      <td>1,699,000</td>\n",
       "    </tr>\n",
       "    <tr>\n",
       "      <th>1</th>\n",
       "      <td>1998</td>\n",
       "      <td>1</td>\n",
       "      <td>In employment</td>\n",
       "      <td>1,550,300</td>\n",
       "    </tr>\n",
       "    <tr>\n",
       "      <th>2</th>\n",
       "      <td>1998</td>\n",
       "      <td>1</td>\n",
       "      <td>Unemployed</td>\n",
       "      <td>148,700</td>\n",
       "    </tr>\n",
       "    <tr>\n",
       "      <th>3</th>\n",
       "      <td>1998</td>\n",
       "      <td>1</td>\n",
       "      <td>Not in labour force</td>\n",
       "      <td>1,158,200</td>\n",
       "    </tr>\n",
       "    <tr>\n",
       "      <th>4</th>\n",
       "      <td>1998</td>\n",
       "      <td>2</td>\n",
       "      <td>In labour force</td>\n",
       "      <td>1,710,700</td>\n",
       "    </tr>\n",
       "  </tbody>\n",
       "</table>\n",
       "</div>"
      ],
      "text/plain": [
       "   year  period      economic_status  individuals\n",
       "0  1998       1      In labour force    1,699,000\n",
       "1  1998       1        In employment    1,550,300\n",
       "2  1998       1           Unemployed      148,700\n",
       "3  1998       1  Not in labour force    1,158,200\n",
       "4  1998       2      In labour force    1,710,700"
      ]
     },
     "execution_count": 1268,
     "metadata": {},
     "output_type": "execute_result"
    }
   ],
   "source": [
    "labour_df.head()"
   ]
  },
  {
   "cell_type": "markdown",
   "id": "bc87c210",
   "metadata": {},
   "source": [
    "#### Social Protection Expenditure Dataset"
   ]
  },
  {
   "cell_type": "code",
   "execution_count": 1269,
   "id": "075f1e62",
   "metadata": {},
   "outputs": [
    {
     "data": {
      "text/html": [
       "<div>\n",
       "<style scoped>\n",
       "    .dataframe tbody tr th:only-of-type {\n",
       "        vertical-align: middle;\n",
       "    }\n",
       "\n",
       "    .dataframe tbody tr th {\n",
       "        vertical-align: top;\n",
       "    }\n",
       "\n",
       "    .dataframe thead th {\n",
       "        text-align: right;\n",
       "    }\n",
       "</style>\n",
       "<table border=\"1\" class=\"dataframe\">\n",
       "  <thead>\n",
       "    <tr style=\"text-align: right;\">\n",
       "      <th></th>\n",
       "      <th>STATISTIC</th>\n",
       "      <th>Statistic Label</th>\n",
       "      <th>TLIST(A1)</th>\n",
       "      <th>Year</th>\n",
       "      <th>C03908V04660</th>\n",
       "      <th>Social Protection Expenditure</th>\n",
       "      <th>UNIT</th>\n",
       "      <th>VALUE</th>\n",
       "    </tr>\n",
       "  </thead>\n",
       "  <tbody>\n",
       "    <tr>\n",
       "      <th>0</th>\n",
       "      <td>SPEA02C01</td>\n",
       "      <td>Social Protection Expenditure by function</td>\n",
       "      <td>2000</td>\n",
       "      <td>2000</td>\n",
       "      <td>1000000</td>\n",
       "      <td>Total Social Protection Expenditure</td>\n",
       "      <td>€million</td>\n",
       "      <td>16466</td>\n",
       "    </tr>\n",
       "    <tr>\n",
       "      <th>1</th>\n",
       "      <td>SPEA02C01</td>\n",
       "      <td>Social Protection Expenditure by function</td>\n",
       "      <td>2000</td>\n",
       "      <td>2000</td>\n",
       "      <td>1100000</td>\n",
       "      <td>Expenditure, Social Protection Benefits</td>\n",
       "      <td>€million</td>\n",
       "      <td>15584</td>\n",
       "    </tr>\n",
       "    <tr>\n",
       "      <th>2</th>\n",
       "      <td>SPEA02C01</td>\n",
       "      <td>Social Protection Expenditure by function</td>\n",
       "      <td>2000</td>\n",
       "      <td>2000</td>\n",
       "      <td>1110000</td>\n",
       "      <td>Expenditure, Sickness benefits</td>\n",
       "      <td>€million</td>\n",
       "      <td>5517</td>\n",
       "    </tr>\n",
       "    <tr>\n",
       "      <th>3</th>\n",
       "      <td>SPEA02C01</td>\n",
       "      <td>Social Protection Expenditure by function</td>\n",
       "      <td>2000</td>\n",
       "      <td>2000</td>\n",
       "      <td>1120000</td>\n",
       "      <td>Expenditure, Disability benefits</td>\n",
       "      <td>€million</td>\n",
       "      <td>682</td>\n",
       "    </tr>\n",
       "    <tr>\n",
       "      <th>4</th>\n",
       "      <td>SPEA02C01</td>\n",
       "      <td>Social Protection Expenditure by function</td>\n",
       "      <td>2000</td>\n",
       "      <td>2000</td>\n",
       "      <td>1130000</td>\n",
       "      <td>Expenditure, Old age benefits</td>\n",
       "      <td>€million</td>\n",
       "      <td>4444</td>\n",
       "    </tr>\n",
       "  </tbody>\n",
       "</table>\n",
       "</div>"
      ],
      "text/plain": [
       "   STATISTIC                            Statistic Label  TLIST(A1)  Year  \\\n",
       "0  SPEA02C01  Social Protection Expenditure by function       2000  2000   \n",
       "1  SPEA02C01  Social Protection Expenditure by function       2000  2000   \n",
       "2  SPEA02C01  Social Protection Expenditure by function       2000  2000   \n",
       "3  SPEA02C01  Social Protection Expenditure by function       2000  2000   \n",
       "4  SPEA02C01  Social Protection Expenditure by function       2000  2000   \n",
       "\n",
       "   C03908V04660            Social Protection Expenditure      UNIT  VALUE  \n",
       "0       1000000      Total Social Protection Expenditure  €million  16466  \n",
       "1       1100000  Expenditure, Social Protection Benefits  €million  15584  \n",
       "2       1110000           Expenditure, Sickness benefits  €million   5517  \n",
       "3       1120000         Expenditure, Disability benefits  €million    682  \n",
       "4       1130000            Expenditure, Old age benefits  €million   4444  "
      ]
     },
     "execution_count": 1269,
     "metadata": {},
     "output_type": "execute_result"
    }
   ],
   "source": [
    "# Load dataset\n",
    "expenditure_df = pd.read_csv(\"Expenditure.csv\")\n",
    "expenditure_df.head()"
   ]
  },
  {
   "cell_type": "code",
   "execution_count": 1270,
   "id": "dbd10a6b",
   "metadata": {},
   "outputs": [],
   "source": [
    "# Remove columns\n",
    "expenditure_df.drop(columns=[\"STATISTIC\", \"Statistic Label\", \"TLIST(A1)\", \"C03908V04660\"], inplace=True)"
   ]
  },
  {
   "cell_type": "code",
   "execution_count": 1271,
   "id": "619243a8",
   "metadata": {},
   "outputs": [
    {
     "data": {
      "text/plain": [
       "Year                             0\n",
       "Social Protection Expenditure    0\n",
       "UNIT                             0\n",
       "VALUE                            0\n",
       "dtype: int64"
      ]
     },
     "execution_count": 1271,
     "metadata": {},
     "output_type": "execute_result"
    }
   ],
   "source": [
    "# Check null\n",
    "expenditure_df.isnull().sum()"
   ]
  },
  {
   "cell_type": "code",
   "execution_count": 1272,
   "id": "9c52dbbb",
   "metadata": {},
   "outputs": [
    {
     "data": {
      "text/plain": [
       "0"
      ]
     },
     "execution_count": 1272,
     "metadata": {},
     "output_type": "execute_result"
    }
   ],
   "source": [
    "# Check duplicates\n",
    "expenditure_df.duplicated().sum()"
   ]
  },
  {
   "cell_type": "code",
   "execution_count": 1273,
   "id": "fed15053",
   "metadata": {},
   "outputs": [],
   "source": [
    "# Rename columns\n",
    "expenditure_df.rename(columns={\"Year\": \"year\",\n",
    "                       \"Social Protection Expenditure\": \"social protection expenditure\",\n",
    "                       \"VALUE\": \"value (euro)\",\n",
    "                       \"UNIT\": \"unit\"}, inplace=True)"
   ]
  },
  {
   "cell_type": "code",
   "execution_count": 1274,
   "id": "5ba0b58f",
   "metadata": {},
   "outputs": [],
   "source": [
    "# Rename variables in social protection expenditure column for readability \n",
    "social_expenditure_rename = {\n",
    "                    \"Total Social Protection Expenditure\": \"Total Social Protection\",\n",
    "                    \"Expenditure, Social Protection Benefits\": \"Social Protection Benefits\", \n",
    "                    \"Expenditure, Sickness benefits\": \"Sickness benefits\",\n",
    "                    \"Expenditure, Disability benefits\": \"Disability benefits\",\n",
    "                    \"Expenditure, Old age benefits\": \"Old age benefits\",\n",
    "                    \"Expenditure, Survivor benefits\": \"Survivor benefits\",\n",
    "                    \"Expenditure, Family benefits\": \"Family benefits\",\n",
    "                    \"Expenditure, Unemployment benefits\": \"Unemployment benefits\",\n",
    "                    \"Expenditure, Housing benefits\": \"Housing benefits\",\n",
    "                    \"Expenditure, Social exclusion benefits n.e.c.\": \"Social exclusion benefits\",\n",
    "                    \"Expenditure, Social Protection - Administration Costs\": \"Social Protection - Administration Costs\" \n",
    "}\n",
    "\n",
    "expenditure_df[\"social protection expenditure\"] = expenditure_df[\"social protection expenditure\"].replace(social_expenditure_rename)"
   ]
  },
  {
   "cell_type": "code",
   "execution_count": 1275,
   "id": "f6b0d416",
   "metadata": {},
   "outputs": [],
   "source": [
    "# Rename variables in unit column\n",
    "unit_rename = {\"€million\": \"Million\"}\n",
    "expenditure_df[\"unit\"] = expenditure_df[\"unit\"].replace(unit_rename)"
   ]
  },
  {
   "cell_type": "code",
   "execution_count": 1276,
   "id": "a40f0179",
   "metadata": {},
   "outputs": [
    {
     "data": {
      "text/plain": [
       "array(['Total Social Protection', 'Social Protection Benefits',\n",
       "       'Sickness benefits', 'Disability benefits', 'Old age benefits',\n",
       "       'Survivor benefits', 'Family benefits', 'Unemployment benefits',\n",
       "       'Housing benefits', 'Social exclusion benefits',\n",
       "       'Social Protection - Administration Costs'], dtype=object)"
      ]
     },
     "execution_count": 1276,
     "metadata": {},
     "output_type": "execute_result"
    }
   ],
   "source": [
    "# Check unique values \n",
    "expenditure_df[\"social protection expenditure\"].unique()"
   ]
  },
  {
   "cell_type": "code",
   "execution_count": 1277,
   "id": "7b5ceab9",
   "metadata": {},
   "outputs": [
    {
     "data": {
      "text/html": [
       "<div>\n",
       "<style scoped>\n",
       "    .dataframe tbody tr th:only-of-type {\n",
       "        vertical-align: middle;\n",
       "    }\n",
       "\n",
       "    .dataframe tbody tr th {\n",
       "        vertical-align: top;\n",
       "    }\n",
       "\n",
       "    .dataframe thead th {\n",
       "        text-align: right;\n",
       "    }\n",
       "</style>\n",
       "<table border=\"1\" class=\"dataframe\">\n",
       "  <thead>\n",
       "    <tr style=\"text-align: right;\">\n",
       "      <th></th>\n",
       "      <th>year</th>\n",
       "      <th>social protection expenditure</th>\n",
       "      <th>unit</th>\n",
       "      <th>value (euro)</th>\n",
       "    </tr>\n",
       "  </thead>\n",
       "  <tbody>\n",
       "    <tr>\n",
       "      <th>77</th>\n",
       "      <td>2007</td>\n",
       "      <td>Total Social Protection</td>\n",
       "      <td>Million</td>\n",
       "      <td>35682</td>\n",
       "    </tr>\n",
       "    <tr>\n",
       "      <th>78</th>\n",
       "      <td>2007</td>\n",
       "      <td>Social Protection Benefits</td>\n",
       "      <td>Million</td>\n",
       "      <td>34080</td>\n",
       "    </tr>\n",
       "    <tr>\n",
       "      <th>88</th>\n",
       "      <td>2008</td>\n",
       "      <td>Total Social Protection</td>\n",
       "      <td>Million</td>\n",
       "      <td>39209</td>\n",
       "    </tr>\n",
       "    <tr>\n",
       "      <th>89</th>\n",
       "      <td>2008</td>\n",
       "      <td>Social Protection Benefits</td>\n",
       "      <td>Million</td>\n",
       "      <td>37838</td>\n",
       "    </tr>\n",
       "    <tr>\n",
       "      <th>99</th>\n",
       "      <td>2009</td>\n",
       "      <td>Total Social Protection</td>\n",
       "      <td>Million</td>\n",
       "      <td>42094</td>\n",
       "    </tr>\n",
       "  </tbody>\n",
       "</table>\n",
       "</div>"
      ],
      "text/plain": [
       "    year social protection expenditure     unit  value (euro)\n",
       "77  2007       Total Social Protection  Million         35682\n",
       "78  2007    Social Protection Benefits  Million         34080\n",
       "88  2008       Total Social Protection  Million         39209\n",
       "89  2008    Social Protection Benefits  Million         37838\n",
       "99  2009       Total Social Protection  Million         42094"
      ]
     },
     "execution_count": 1277,
     "metadata": {},
     "output_type": "execute_result"
    }
   ],
   "source": [
    "# Check outliers\n",
    "Q1 = expenditure_df['value (euro)'].quantile(.25)\n",
    "Q3 = expenditure_df['value (euro)'].quantile(.75)\n",
    "IQR = Q3 - Q1\n",
    "lower_out = Q1 - 1.5 * IQR\n",
    "upper_out = Q3 + 1.5 * IQR\n",
    "\n",
    "outliers = expenditure_df[(expenditure_df['value (euro)'] < lower_out) | (expenditure_df['value (euro)'] > upper_out)]\n",
    "outliers.head()"
   ]
  },
  {
   "cell_type": "markdown",
   "id": "f4390bef",
   "metadata": {},
   "source": [
    "Not necessary to remove the outliers since the main analysis will be made on unemployment social protection."
   ]
  },
  {
   "cell_type": "code",
   "execution_count": 1278,
   "id": "52203a47",
   "metadata": {},
   "outputs": [
    {
     "data": {
      "text/html": [
       "<div>\n",
       "<style scoped>\n",
       "    .dataframe tbody tr th:only-of-type {\n",
       "        vertical-align: middle;\n",
       "    }\n",
       "\n",
       "    .dataframe tbody tr th {\n",
       "        vertical-align: top;\n",
       "    }\n",
       "\n",
       "    .dataframe thead th {\n",
       "        text-align: right;\n",
       "    }\n",
       "</style>\n",
       "<table border=\"1\" class=\"dataframe\">\n",
       "  <thead>\n",
       "    <tr style=\"text-align: right;\">\n",
       "      <th></th>\n",
       "      <th>year</th>\n",
       "      <th>social protection expenditure</th>\n",
       "      <th>unit</th>\n",
       "      <th>value (euro)</th>\n",
       "    </tr>\n",
       "  </thead>\n",
       "  <tbody>\n",
       "    <tr>\n",
       "      <th>0</th>\n",
       "      <td>2000</td>\n",
       "      <td>Total Social Protection</td>\n",
       "      <td>Million</td>\n",
       "      <td>16466</td>\n",
       "    </tr>\n",
       "    <tr>\n",
       "      <th>1</th>\n",
       "      <td>2000</td>\n",
       "      <td>Social Protection Benefits</td>\n",
       "      <td>Million</td>\n",
       "      <td>15584</td>\n",
       "    </tr>\n",
       "    <tr>\n",
       "      <th>2</th>\n",
       "      <td>2000</td>\n",
       "      <td>Sickness benefits</td>\n",
       "      <td>Million</td>\n",
       "      <td>5517</td>\n",
       "    </tr>\n",
       "    <tr>\n",
       "      <th>3</th>\n",
       "      <td>2000</td>\n",
       "      <td>Disability benefits</td>\n",
       "      <td>Million</td>\n",
       "      <td>682</td>\n",
       "    </tr>\n",
       "    <tr>\n",
       "      <th>4</th>\n",
       "      <td>2000</td>\n",
       "      <td>Old age benefits</td>\n",
       "      <td>Million</td>\n",
       "      <td>4444</td>\n",
       "    </tr>\n",
       "  </tbody>\n",
       "</table>\n",
       "</div>"
      ],
      "text/plain": [
       "   year social protection expenditure     unit  value (euro)\n",
       "0  2000       Total Social Protection  Million         16466\n",
       "1  2000    Social Protection Benefits  Million         15584\n",
       "2  2000             Sickness benefits  Million          5517\n",
       "3  2000           Disability benefits  Million           682\n",
       "4  2000              Old age benefits  Million          4444"
      ]
     },
     "execution_count": 1278,
     "metadata": {},
     "output_type": "execute_result"
    }
   ],
   "source": [
    "expenditure_df.head()"
   ]
  },
  {
   "cell_type": "markdown",
   "id": "df4c46f2",
   "metadata": {},
   "source": [
    "## Exploratory Data Analysis"
   ]
  },
  {
   "cell_type": "markdown",
   "id": "82bd3090",
   "metadata": {},
   "source": [
    "### Descriptive Statistics\n",
    "*A descriptive statistics to summarize the dataset’s main features and provide context for subsequent analyses.*"
   ]
  },
  {
   "cell_type": "markdown",
   "id": "57eb62be",
   "metadata": {},
   "source": [
    "##### Labour Force dataset"
   ]
  },
  {
   "cell_type": "code",
   "execution_count": 1279,
   "id": "c42ea279",
   "metadata": {},
   "outputs": [
    {
     "data": {
      "text/html": [
       "<div>\n",
       "<style scoped>\n",
       "    .dataframe tbody tr th:only-of-type {\n",
       "        vertical-align: middle;\n",
       "    }\n",
       "\n",
       "    .dataframe tbody tr th {\n",
       "        vertical-align: top;\n",
       "    }\n",
       "\n",
       "    .dataframe thead th {\n",
       "        text-align: right;\n",
       "    }\n",
       "</style>\n",
       "<table border=\"1\" class=\"dataframe\">\n",
       "  <thead>\n",
       "    <tr style=\"text-align: right;\">\n",
       "      <th></th>\n",
       "      <th>count</th>\n",
       "      <th>mean</th>\n",
       "      <th>std</th>\n",
       "      <th>min</th>\n",
       "      <th>25%</th>\n",
       "      <th>50%</th>\n",
       "      <th>75%</th>\n",
       "      <th>max</th>\n",
       "    </tr>\n",
       "    <tr>\n",
       "      <th>economic_status</th>\n",
       "      <th></th>\n",
       "      <th></th>\n",
       "      <th></th>\n",
       "      <th></th>\n",
       "      <th></th>\n",
       "      <th></th>\n",
       "      <th></th>\n",
       "      <th></th>\n",
       "    </tr>\n",
       "  </thead>\n",
       "  <tbody>\n",
       "    <tr>\n",
       "      <th>In employment</th>\n",
       "      <td>107</td>\n",
       "      <td>2,086,800</td>\n",
       "      <td>281,935</td>\n",
       "      <td>1,550,300</td>\n",
       "      <td>1,887,450</td>\n",
       "      <td>2,028,600</td>\n",
       "      <td>2,232,700</td>\n",
       "      <td>2,794,800</td>\n",
       "    </tr>\n",
       "    <tr>\n",
       "      <th>In labour force</th>\n",
       "      <td>107</td>\n",
       "      <td>2,255,595</td>\n",
       "      <td>280,176</td>\n",
       "      <td>1,699,000</td>\n",
       "      <td>2,072,700</td>\n",
       "      <td>2,267,500</td>\n",
       "      <td>2,378,200</td>\n",
       "      <td>2,924,400</td>\n",
       "    </tr>\n",
       "    <tr>\n",
       "      <th>Not in labour force</th>\n",
       "      <td>107</td>\n",
       "      <td>1,321,791</td>\n",
       "      <td>149,390</td>\n",
       "      <td>1,081,400</td>\n",
       "      <td>1,175,950</td>\n",
       "      <td>1,358,500</td>\n",
       "      <td>1,449,800</td>\n",
       "      <td>1,732,400</td>\n",
       "    </tr>\n",
       "    <tr>\n",
       "      <th>Unemployed</th>\n",
       "      <td>107</td>\n",
       "      <td>168,796</td>\n",
       "      <td>86,471</td>\n",
       "      <td>68,800</td>\n",
       "      <td>106,150</td>\n",
       "      <td>130,100</td>\n",
       "      <td>218,650</td>\n",
       "      <td>356,200</td>\n",
       "    </tr>\n",
       "  </tbody>\n",
       "</table>\n",
       "</div>"
      ],
      "text/plain": [
       "                     count      mean     std       min       25%       50%  \\\n",
       "economic_status                                                              \n",
       "In employment          107 2,086,800 281,935 1,550,300 1,887,450 2,028,600   \n",
       "In labour force        107 2,255,595 280,176 1,699,000 2,072,700 2,267,500   \n",
       "Not in labour force    107 1,321,791 149,390 1,081,400 1,175,950 1,358,500   \n",
       "Unemployed             107   168,796  86,471    68,800   106,150   130,100   \n",
       "\n",
       "                          75%       max  \n",
       "economic_status                          \n",
       "In employment       2,232,700 2,794,800  \n",
       "In labour force     2,378,200 2,924,400  \n",
       "Not in labour force 1,449,800 1,732,400  \n",
       "Unemployed            218,650   356,200  "
      ]
     },
     "execution_count": 1279,
     "metadata": {},
     "output_type": "execute_result"
    }
   ],
   "source": [
    "descriptive_lf = labour_df.groupby('economic_status')[\"individuals\"].describe()  \n",
    "descriptive_lf"
   ]
  },
  {
   "cell_type": "markdown",
   "id": "6cc6cc82",
   "metadata": {},
   "source": [
    "##### Social Protection dataset"
   ]
  },
  {
   "cell_type": "code",
   "execution_count": 1280,
   "id": "fe483075",
   "metadata": {},
   "outputs": [
    {
     "data": {
      "text/html": [
       "<div>\n",
       "<style scoped>\n",
       "    .dataframe tbody tr th:only-of-type {\n",
       "        vertical-align: middle;\n",
       "    }\n",
       "\n",
       "    .dataframe tbody tr th {\n",
       "        vertical-align: top;\n",
       "    }\n",
       "\n",
       "    .dataframe thead th {\n",
       "        text-align: right;\n",
       "    }\n",
       "</style>\n",
       "<table border=\"1\" class=\"dataframe\">\n",
       "  <thead>\n",
       "    <tr style=\"text-align: right;\">\n",
       "      <th></th>\n",
       "      <th>count</th>\n",
       "      <th>mean</th>\n",
       "      <th>std</th>\n",
       "      <th>min</th>\n",
       "      <th>25%</th>\n",
       "      <th>50%</th>\n",
       "      <th>75%</th>\n",
       "      <th>max</th>\n",
       "    </tr>\n",
       "    <tr>\n",
       "      <th>Scheme_description</th>\n",
       "      <th></th>\n",
       "      <th></th>\n",
       "      <th></th>\n",
       "      <th></th>\n",
       "      <th></th>\n",
       "      <th></th>\n",
       "      <th></th>\n",
       "      <th></th>\n",
       "    </tr>\n",
       "  </thead>\n",
       "  <tbody>\n",
       "    <tr>\n",
       "      <th>Back to Work Scheme Family Dividend</th>\n",
       "      <td>962</td>\n",
       "      <td>262</td>\n",
       "      <td>397</td>\n",
       "      <td>7</td>\n",
       "      <td>77</td>\n",
       "      <td>161</td>\n",
       "      <td>278</td>\n",
       "      <td>3,639</td>\n",
       "    </tr>\n",
       "    <tr>\n",
       "      <th>Carers Allowance</th>\n",
       "      <td>1,092</td>\n",
       "      <td>3,119</td>\n",
       "      <td>3,292</td>\n",
       "      <td>555</td>\n",
       "      <td>1,441</td>\n",
       "      <td>2,231</td>\n",
       "      <td>3,347</td>\n",
       "      <td>21,818</td>\n",
       "    </tr>\n",
       "    <tr>\n",
       "      <th>Carers Benefit</th>\n",
       "      <td>1,092</td>\n",
       "      <td>130</td>\n",
       "      <td>140</td>\n",
       "      <td>16</td>\n",
       "      <td>61</td>\n",
       "      <td>88</td>\n",
       "      <td>141</td>\n",
       "      <td>922</td>\n",
       "    </tr>\n",
       "    <tr>\n",
       "      <th>Child Benefit</th>\n",
       "      <td>1,092</td>\n",
       "      <td>24,305</td>\n",
       "      <td>31,598</td>\n",
       "      <td>4,078</td>\n",
       "      <td>10,522</td>\n",
       "      <td>15,864</td>\n",
       "      <td>21,510</td>\n",
       "      <td>181,014</td>\n",
       "    </tr>\n",
       "    <tr>\n",
       "      <th>Disability Allowance</th>\n",
       "      <td>1,092</td>\n",
       "      <td>5,443</td>\n",
       "      <td>6,590</td>\n",
       "      <td>795</td>\n",
       "      <td>2,340</td>\n",
       "      <td>3,638</td>\n",
       "      <td>5,633</td>\n",
       "      <td>40,155</td>\n",
       "    </tr>\n",
       "    <tr>\n",
       "      <th>Family Income Supplement</th>\n",
       "      <td>416</td>\n",
       "      <td>2,198</td>\n",
       "      <td>2,486</td>\n",
       "      <td>328</td>\n",
       "      <td>1,077</td>\n",
       "      <td>1,508</td>\n",
       "      <td>2,316</td>\n",
       "      <td>14,403</td>\n",
       "    </tr>\n",
       "    <tr>\n",
       "      <th>Household Benefits</th>\n",
       "      <td>2,184</td>\n",
       "      <td>3,372</td>\n",
       "      <td>5,313</td>\n",
       "      <td>329</td>\n",
       "      <td>1,249</td>\n",
       "      <td>2,038</td>\n",
       "      <td>3,241</td>\n",
       "      <td>53,217</td>\n",
       "    </tr>\n",
       "    <tr>\n",
       "      <th>Illness Benefit</th>\n",
       "      <td>1,092</td>\n",
       "      <td>4,175</td>\n",
       "      <td>5,796</td>\n",
       "      <td>636</td>\n",
       "      <td>1,646</td>\n",
       "      <td>2,591</td>\n",
       "      <td>4,164</td>\n",
       "      <td>85,169</td>\n",
       "    </tr>\n",
       "    <tr>\n",
       "      <th>Invalidity Pension</th>\n",
       "      <td>1,092</td>\n",
       "      <td>2,179</td>\n",
       "      <td>2,662</td>\n",
       "      <td>445</td>\n",
       "      <td>981</td>\n",
       "      <td>1,472</td>\n",
       "      <td>2,092</td>\n",
       "      <td>14,042</td>\n",
       "    </tr>\n",
       "    <tr>\n",
       "      <th>Jobseekers Allowance</th>\n",
       "      <td>1,092</td>\n",
       "      <td>8,404</td>\n",
       "      <td>10,151</td>\n",
       "      <td>1,277</td>\n",
       "      <td>3,526</td>\n",
       "      <td>5,858</td>\n",
       "      <td>8,799</td>\n",
       "      <td>81,041</td>\n",
       "    </tr>\n",
       "    <tr>\n",
       "      <th>Jobseekers Benefit</th>\n",
       "      <td>1,092</td>\n",
       "      <td>2,543</td>\n",
       "      <td>3,209</td>\n",
       "      <td>346</td>\n",
       "      <td>1,027</td>\n",
       "      <td>1,788</td>\n",
       "      <td>2,590</td>\n",
       "      <td>24,054</td>\n",
       "    </tr>\n",
       "    <tr>\n",
       "      <th>Maternity Benefit</th>\n",
       "      <td>1,092</td>\n",
       "      <td>1,133</td>\n",
       "      <td>1,568</td>\n",
       "      <td>164</td>\n",
       "      <td>452</td>\n",
       "      <td>722</td>\n",
       "      <td>972</td>\n",
       "      <td>9,337</td>\n",
       "    </tr>\n",
       "    <tr>\n",
       "      <th>One Parent Family Payment</th>\n",
       "      <td>1,092</td>\n",
       "      <td>1,832</td>\n",
       "      <td>3,101</td>\n",
       "      <td>168</td>\n",
       "      <td>659</td>\n",
       "      <td>1,190</td>\n",
       "      <td>1,577</td>\n",
       "      <td>26,893</td>\n",
       "    </tr>\n",
       "    <tr>\n",
       "      <th>Pandemic Unemployment Claim</th>\n",
       "      <td>234</td>\n",
       "      <td>14,362</td>\n",
       "      <td>26,118</td>\n",
       "      <td>516</td>\n",
       "      <td>3,285</td>\n",
       "      <td>7,458</td>\n",
       "      <td>15,163</td>\n",
       "      <td>214,372</td>\n",
       "    </tr>\n",
       "    <tr>\n",
       "      <th>Parents Benefit</th>\n",
       "      <td>492</td>\n",
       "      <td>593</td>\n",
       "      <td>944</td>\n",
       "      <td>1</td>\n",
       "      <td>155</td>\n",
       "      <td>362</td>\n",
       "      <td>640</td>\n",
       "      <td>7,676</td>\n",
       "    </tr>\n",
       "    <tr>\n",
       "      <th>Paternity Benefit</th>\n",
       "      <td>831</td>\n",
       "      <td>253</td>\n",
       "      <td>362</td>\n",
       "      <td>1</td>\n",
       "      <td>102</td>\n",
       "      <td>156</td>\n",
       "      <td>224</td>\n",
       "      <td>2,313</td>\n",
       "    </tr>\n",
       "    <tr>\n",
       "      <th>Rent Supplement</th>\n",
       "      <td>1,092</td>\n",
       "      <td>1,285</td>\n",
       "      <td>3,107</td>\n",
       "      <td>22</td>\n",
       "      <td>146</td>\n",
       "      <td>402</td>\n",
       "      <td>1,180</td>\n",
       "      <td>27,726</td>\n",
       "    </tr>\n",
       "    <tr>\n",
       "      <th>State Pension Contributory</th>\n",
       "      <td>1,092</td>\n",
       "      <td>14,459</td>\n",
       "      <td>20,023</td>\n",
       "      <td>2,138</td>\n",
       "      <td>5,726</td>\n",
       "      <td>9,734</td>\n",
       "      <td>13,664</td>\n",
       "      <td>127,132</td>\n",
       "    </tr>\n",
       "    <tr>\n",
       "      <th>State Pension Non Contributory</th>\n",
       "      <td>1,092</td>\n",
       "      <td>3,739</td>\n",
       "      <td>3,080</td>\n",
       "      <td>1,127</td>\n",
       "      <td>1,858</td>\n",
       "      <td>2,475</td>\n",
       "      <td>4,260</td>\n",
       "      <td>17,068</td>\n",
       "    </tr>\n",
       "    <tr>\n",
       "      <th>Widow(er)'s Contributory Pension</th>\n",
       "      <td>1,092</td>\n",
       "      <td>4,446</td>\n",
       "      <td>5,786</td>\n",
       "      <td>961</td>\n",
       "      <td>1,827</td>\n",
       "      <td>3,149</td>\n",
       "      <td>4,209</td>\n",
       "      <td>30,961</td>\n",
       "    </tr>\n",
       "    <tr>\n",
       "      <th>Widows Non Contributory Pension</th>\n",
       "      <td>1,092</td>\n",
       "      <td>54</td>\n",
       "      <td>62</td>\n",
       "      <td>6</td>\n",
       "      <td>23</td>\n",
       "      <td>34</td>\n",
       "      <td>62</td>\n",
       "      <td>378</td>\n",
       "    </tr>\n",
       "    <tr>\n",
       "      <th>Working Family Payment</th>\n",
       "      <td>676</td>\n",
       "      <td>2,050</td>\n",
       "      <td>2,372</td>\n",
       "      <td>322</td>\n",
       "      <td>977</td>\n",
       "      <td>1,374</td>\n",
       "      <td>2,176</td>\n",
       "      <td>14,370</td>\n",
       "    </tr>\n",
       "  </tbody>\n",
       "</table>\n",
       "</div>"
      ],
      "text/plain": [
       "                                     count   mean    std   min    25%    50%  \\\n",
       "Scheme_description                                                             \n",
       "Back to Work Scheme Family Dividend    962    262    397     7     77    161   \n",
       "Carers Allowance                     1,092  3,119  3,292   555  1,441  2,231   \n",
       "Carers Benefit                       1,092    130    140    16     61     88   \n",
       "Child Benefit                        1,092 24,305 31,598 4,078 10,522 15,864   \n",
       "Disability Allowance                 1,092  5,443  6,590   795  2,340  3,638   \n",
       "Family Income Supplement               416  2,198  2,486   328  1,077  1,508   \n",
       "Household Benefits                   2,184  3,372  5,313   329  1,249  2,038   \n",
       "Illness Benefit                      1,092  4,175  5,796   636  1,646  2,591   \n",
       "Invalidity Pension                   1,092  2,179  2,662   445    981  1,472   \n",
       "Jobseekers Allowance                 1,092  8,404 10,151 1,277  3,526  5,858   \n",
       "Jobseekers Benefit                   1,092  2,543  3,209   346  1,027  1,788   \n",
       "Maternity Benefit                    1,092  1,133  1,568   164    452    722   \n",
       "One Parent Family Payment            1,092  1,832  3,101   168    659  1,190   \n",
       "Pandemic Unemployment Claim            234 14,362 26,118   516  3,285  7,458   \n",
       "Parents Benefit                        492    593    944     1    155    362   \n",
       "Paternity Benefit                      831    253    362     1    102    156   \n",
       "Rent Supplement                      1,092  1,285  3,107    22    146    402   \n",
       "State Pension Contributory           1,092 14,459 20,023 2,138  5,726  9,734   \n",
       "State Pension Non Contributory       1,092  3,739  3,080 1,127  1,858  2,475   \n",
       "Widow(er)'s Contributory Pension     1,092  4,446  5,786   961  1,827  3,149   \n",
       "Widows Non Contributory Pension      1,092     54     62     6     23     34   \n",
       "Working Family Payment                 676  2,050  2,372   322    977  1,374   \n",
       "\n",
       "                                       75%     max  \n",
       "Scheme_description                                  \n",
       "Back to Work Scheme Family Dividend    278   3,639  \n",
       "Carers Allowance                     3,347  21,818  \n",
       "Carers Benefit                         141     922  \n",
       "Child Benefit                       21,510 181,014  \n",
       "Disability Allowance                 5,633  40,155  \n",
       "Family Income Supplement             2,316  14,403  \n",
       "Household Benefits                   3,241  53,217  \n",
       "Illness Benefit                      4,164  85,169  \n",
       "Invalidity Pension                   2,092  14,042  \n",
       "Jobseekers Allowance                 8,799  81,041  \n",
       "Jobseekers Benefit                   2,590  24,054  \n",
       "Maternity Benefit                      972   9,337  \n",
       "One Parent Family Payment            1,577  26,893  \n",
       "Pandemic Unemployment Claim         15,163 214,372  \n",
       "Parents Benefit                        640   7,676  \n",
       "Paternity Benefit                      224   2,313  \n",
       "Rent Supplement                      1,180  27,726  \n",
       "State Pension Contributory          13,664 127,132  \n",
       "State Pension Non Contributory       4,260  17,068  \n",
       "Widow(er)'s Contributory Pension     4,209  30,961  \n",
       "Widows Non Contributory Pension         62     378  \n",
       "Working Family Payment               2,176  14,370  "
      ]
     },
     "execution_count": 1280,
     "metadata": {},
     "output_type": "execute_result"
    }
   ],
   "source": [
    "descriptive_sp = datasp.groupby('Scheme_description')['Recipients'].describe()\n",
    "descriptive_sp"
   ]
  },
  {
   "cell_type": "markdown",
   "id": "c03810f9",
   "metadata": {},
   "source": [
    "##### Social Protection Expenditure dataset"
   ]
  },
  {
   "cell_type": "code",
   "execution_count": 1281,
   "id": "aa832864",
   "metadata": {},
   "outputs": [
    {
     "data": {
      "text/html": [
       "<div>\n",
       "<style scoped>\n",
       "    .dataframe tbody tr th:only-of-type {\n",
       "        vertical-align: middle;\n",
       "    }\n",
       "\n",
       "    .dataframe tbody tr th {\n",
       "        vertical-align: top;\n",
       "    }\n",
       "\n",
       "    .dataframe thead th {\n",
       "        text-align: right;\n",
       "    }\n",
       "</style>\n",
       "<table border=\"1\" class=\"dataframe\">\n",
       "  <thead>\n",
       "    <tr style=\"text-align: right;\">\n",
       "      <th></th>\n",
       "      <th>count</th>\n",
       "      <th>mean</th>\n",
       "      <th>std</th>\n",
       "      <th>min</th>\n",
       "      <th>25%</th>\n",
       "      <th>50%</th>\n",
       "      <th>75%</th>\n",
       "      <th>max</th>\n",
       "    </tr>\n",
       "    <tr>\n",
       "      <th>social protection expenditure</th>\n",
       "      <th></th>\n",
       "      <th></th>\n",
       "      <th></th>\n",
       "      <th></th>\n",
       "      <th></th>\n",
       "      <th></th>\n",
       "      <th></th>\n",
       "      <th></th>\n",
       "    </tr>\n",
       "  </thead>\n",
       "  <tbody>\n",
       "    <tr>\n",
       "      <th>Disability benefits</th>\n",
       "      <td>23</td>\n",
       "      <td>1,909</td>\n",
       "      <td>678</td>\n",
       "      <td>682</td>\n",
       "      <td>1,430</td>\n",
       "      <td>1,978</td>\n",
       "      <td>2,296</td>\n",
       "      <td>3,125</td>\n",
       "    </tr>\n",
       "    <tr>\n",
       "      <th>Family benefits</th>\n",
       "      <td>23</td>\n",
       "      <td>4,290</td>\n",
       "      <td>877</td>\n",
       "      <td>1,883</td>\n",
       "      <td>4,079</td>\n",
       "      <td>4,488</td>\n",
       "      <td>4,742</td>\n",
       "      <td>5,481</td>\n",
       "    </tr>\n",
       "    <tr>\n",
       "      <th>Housing benefits</th>\n",
       "      <td>23</td>\n",
       "      <td>1,265</td>\n",
       "      <td>589</td>\n",
       "      <td>365</td>\n",
       "      <td>735</td>\n",
       "      <td>1,380</td>\n",
       "      <td>1,592</td>\n",
       "      <td>2,281</td>\n",
       "    </tr>\n",
       "    <tr>\n",
       "      <th>Old age benefits</th>\n",
       "      <td>23</td>\n",
       "      <td>10,553</td>\n",
       "      <td>3,676</td>\n",
       "      <td>4,444</td>\n",
       "      <td>7,510</td>\n",
       "      <td>11,246</td>\n",
       "      <td>13,139</td>\n",
       "      <td>15,934</td>\n",
       "    </tr>\n",
       "    <tr>\n",
       "      <th>Sickness benefits</th>\n",
       "      <td>23</td>\n",
       "      <td>14,371</td>\n",
       "      <td>4,970</td>\n",
       "      <td>5,517</td>\n",
       "      <td>11,371</td>\n",
       "      <td>14,376</td>\n",
       "      <td>16,170</td>\n",
       "      <td>25,310</td>\n",
       "    </tr>\n",
       "    <tr>\n",
       "      <th>Social Protection - Administration Costs</th>\n",
       "      <td>23</td>\n",
       "      <td>1,516</td>\n",
       "      <td>400</td>\n",
       "      <td>843</td>\n",
       "      <td>1,248</td>\n",
       "      <td>1,602</td>\n",
       "      <td>1,818</td>\n",
       "      <td>2,141</td>\n",
       "    </tr>\n",
       "    <tr>\n",
       "      <th>Social Protection Benefits</th>\n",
       "      <td>23</td>\n",
       "      <td>37,561</td>\n",
       "      <td>11,461</td>\n",
       "      <td>15,584</td>\n",
       "      <td>29,546</td>\n",
       "      <td>40,496</td>\n",
       "      <td>42,131</td>\n",
       "      <td>57,117</td>\n",
       "    </tr>\n",
       "    <tr>\n",
       "      <th>Social exclusion benefits</th>\n",
       "      <td>23</td>\n",
       "      <td>457</td>\n",
       "      <td>174</td>\n",
       "      <td>300</td>\n",
       "      <td>324</td>\n",
       "      <td>358</td>\n",
       "      <td>540</td>\n",
       "      <td>945</td>\n",
       "    </tr>\n",
       "    <tr>\n",
       "      <th>Survivor benefits</th>\n",
       "      <td>23</td>\n",
       "      <td>1,298</td>\n",
       "      <td>297</td>\n",
       "      <td>964</td>\n",
       "      <td>1,070</td>\n",
       "      <td>1,186</td>\n",
       "      <td>1,426</td>\n",
       "      <td>2,080</td>\n",
       "    </tr>\n",
       "    <tr>\n",
       "      <th>Total Social Protection</th>\n",
       "      <td>23</td>\n",
       "      <td>39,077</td>\n",
       "      <td>11,836</td>\n",
       "      <td>16,466</td>\n",
       "      <td>30,886</td>\n",
       "      <td>42,094</td>\n",
       "      <td>43,950</td>\n",
       "      <td>59,107</td>\n",
       "    </tr>\n",
       "    <tr>\n",
       "      <th>Unemployment benefits</th>\n",
       "      <td>23</td>\n",
       "      <td>3,419</td>\n",
       "      <td>1,590</td>\n",
       "      <td>1,429</td>\n",
       "      <td>2,181</td>\n",
       "      <td>2,834</td>\n",
       "      <td>4,527</td>\n",
       "      <td>7,272</td>\n",
       "    </tr>\n",
       "  </tbody>\n",
       "</table>\n",
       "</div>"
      ],
      "text/plain": [
       "                                          count   mean    std    min    25%  \\\n",
       "social protection expenditure                                                 \n",
       "Disability benefits                          23  1,909    678    682  1,430   \n",
       "Family benefits                              23  4,290    877  1,883  4,079   \n",
       "Housing benefits                             23  1,265    589    365    735   \n",
       "Old age benefits                             23 10,553  3,676  4,444  7,510   \n",
       "Sickness benefits                            23 14,371  4,970  5,517 11,371   \n",
       "Social Protection - Administration Costs     23  1,516    400    843  1,248   \n",
       "Social Protection Benefits                   23 37,561 11,461 15,584 29,546   \n",
       "Social exclusion benefits                    23    457    174    300    324   \n",
       "Survivor benefits                            23  1,298    297    964  1,070   \n",
       "Total Social Protection                      23 39,077 11,836 16,466 30,886   \n",
       "Unemployment benefits                        23  3,419  1,590  1,429  2,181   \n",
       "\n",
       "                                            50%    75%    max  \n",
       "social protection expenditure                                  \n",
       "Disability benefits                       1,978  2,296  3,125  \n",
       "Family benefits                           4,488  4,742  5,481  \n",
       "Housing benefits                          1,380  1,592  2,281  \n",
       "Old age benefits                         11,246 13,139 15,934  \n",
       "Sickness benefits                        14,376 16,170 25,310  \n",
       "Social Protection - Administration Costs  1,602  1,818  2,141  \n",
       "Social Protection Benefits               40,496 42,131 57,117  \n",
       "Social exclusion benefits                   358    540    945  \n",
       "Survivor benefits                         1,186  1,426  2,080  \n",
       "Total Social Protection                  42,094 43,950 59,107  \n",
       "Unemployment benefits                     2,834  4,527  7,272  "
      ]
     },
     "execution_count": 1281,
     "metadata": {},
     "output_type": "execute_result"
    }
   ],
   "source": [
    "descriptive_exp = expenditure_df.groupby('social protection expenditure')[\"value (euro)\"].describe()   \n",
    "descriptive_exp"
   ]
  },
  {
   "cell_type": "markdown",
   "id": "30791b91",
   "metadata": {},
   "source": [
    "### Objective 1\n",
    "*In this analysis, I explored how labour fource participation, employment, and unemployment evolved from 1998 to 2023. Trend analysis and linear regression were applied to examine how changes in economic status relates to economic health.*"
   ]
  },
  {
   "cell_type": "markdown",
   "id": "77caaec3",
   "metadata": {},
   "source": [
    "##### Labour Force, Employment, and unemployment trends over time (1998-2024)"
   ]
  },
  {
   "cell_type": "code",
   "execution_count": 1282,
   "id": "0c7e0aa2",
   "metadata": {},
   "outputs": [
    {
     "data": {
      "text/html": [
       "<div>\n",
       "<style scoped>\n",
       "    .dataframe tbody tr th:only-of-type {\n",
       "        vertical-align: middle;\n",
       "    }\n",
       "\n",
       "    .dataframe tbody tr th {\n",
       "        vertical-align: top;\n",
       "    }\n",
       "\n",
       "    .dataframe thead th {\n",
       "        text-align: right;\n",
       "    }\n",
       "</style>\n",
       "<table border=\"1\" class=\"dataframe\">\n",
       "  <thead>\n",
       "    <tr style=\"text-align: right;\">\n",
       "      <th></th>\n",
       "      <th>year</th>\n",
       "      <th>economic_status</th>\n",
       "      <th>individuals</th>\n",
       "    </tr>\n",
       "  </thead>\n",
       "  <tbody>\n",
       "    <tr>\n",
       "      <th>0</th>\n",
       "      <td>1998</td>\n",
       "      <td>In employment</td>\n",
       "      <td>1,593,575</td>\n",
       "    </tr>\n",
       "    <tr>\n",
       "      <th>1</th>\n",
       "      <td>1998</td>\n",
       "      <td>In labour force</td>\n",
       "      <td>1,725,250</td>\n",
       "    </tr>\n",
       "    <tr>\n",
       "      <th>2</th>\n",
       "      <td>1998</td>\n",
       "      <td>Not in labour force</td>\n",
       "      <td>1,154,400</td>\n",
       "    </tr>\n",
       "    <tr>\n",
       "      <th>3</th>\n",
       "      <td>1998</td>\n",
       "      <td>Unemployed</td>\n",
       "      <td>131,650</td>\n",
       "    </tr>\n",
       "    <tr>\n",
       "      <th>4</th>\n",
       "      <td>1999</td>\n",
       "      <td>In employment</td>\n",
       "      <td>1,698,375</td>\n",
       "    </tr>\n",
       "  </tbody>\n",
       "</table>\n",
       "</div>"
      ],
      "text/plain": [
       "   year      economic_status  individuals\n",
       "0  1998        In employment    1,593,575\n",
       "1  1998      In labour force    1,725,250\n",
       "2  1998  Not in labour force    1,154,400\n",
       "3  1998           Unemployed      131,650\n",
       "4  1999        In employment    1,698,375"
      ]
     },
     "execution_count": 1282,
     "metadata": {},
     "output_type": "execute_result"
    }
   ],
   "source": [
    "# Average number of individuals for each economic status by year\n",
    "avg_year = labour_df.groupby([\"year\", \"economic_status\"]).agg({\"individuals\":\"mean\"}).reset_index()\n",
    "avg_year.head()"
   ]
  },
  {
   "cell_type": "code",
   "execution_count": 1283,
   "id": "286b5589",
   "metadata": {},
   "outputs": [],
   "source": [
    "# Filtering economic status in different variables\n",
    "emp = avg_year[avg_year[\"economic_status\"] == \"In employment\"]\n",
    "unemp = avg_year[avg_year[\"economic_status\"] == \"Unemployed\"]\n",
    "no_labour = avg_year[avg_year[\"economic_status\"] == \"Not in labour force\"]\n",
    "labour = avg_year[avg_year[\"economic_status\"] == \"In labour force\"]"
   ]
  },
  {
   "cell_type": "code",
   "execution_count": 1284,
   "id": "d4e30f42",
   "metadata": {},
   "outputs": [
    {
     "data": {
      "application/vnd.plotly.v1+json": {
       "config": {
        "plotlyServerURL": "https://plot.ly"
       },
       "data": [
        {
         "hovertemplate": "<extra></extra>",
         "legendgroup": "",
         "line": {
          "color": "#1F77B4",
          "dash": "solid"
         },
         "marker": {
          "size": 6,
          "symbol": "circle"
         },
         "mode": "markers+lines",
         "name": "",
         "orientation": "v",
         "showlegend": false,
         "type": "scatter",
         "xaxis": "x",
         "yaxis": "y"
        },
        {
         "line": {
          "color": "#5E9FF2"
         },
         "marker": {
          "size": 6
         },
         "mode": "markers+lines",
         "name": "In Employment",
         "type": "scatter",
         "x": [
          1998,
          1999,
          2000,
          2001,
          2002,
          2003,
          2004,
          2005,
          2006,
          2007,
          2008,
          2009,
          2010,
          2011,
          2012,
          2013,
          2014,
          2015,
          2016,
          2017,
          2018,
          2019,
          2020,
          2021,
          2022,
          2023,
          2024
         ],
         "y": [
          1593575,
          1698375,
          1772750,
          1822500,
          1849825,
          1885450,
          1946500,
          2037750,
          2129300,
          2219775,
          2197650,
          2014975,
          1924500,
          1887450,
          1880200,
          1937250,
          1988525,
          2055650,
          2132200,
          2199300,
          2265025,
          2335925,
          2277550,
          2427125,
          2594975,
          2684500,
          2751066.6666666665
         ]
        },
        {
         "line": {
          "color": "#F2522E"
         },
         "marker": {
          "size": 6
         },
         "mode": "markers+lines",
         "name": "Unemployed",
         "type": "scatter",
         "x": [
          1998,
          1999,
          2000,
          2001,
          2002,
          2003,
          2004,
          2005,
          2006,
          2007,
          2008,
          2009,
          2010,
          2011,
          2012,
          2013,
          2014,
          2015,
          2016,
          2017,
          2018,
          2019,
          2020,
          2021,
          2022,
          2023,
          2024
         ],
         "y": [
          131650,
          103200,
          81200,
          79550,
          91475,
          95775,
          96575,
          98850,
          106325,
          116425,
          159800,
          290750,
          327425,
          342500,
          343500,
          308125,
          267125,
          225150,
          194675,
          158525,
          138825,
          122200,
          140775,
          160075,
          120575,
          120275,
          125300
         ]
        },
        {
         "line": {
          "color": "#F2CB05"
         },
         "marker": {
          "size": 6
         },
         "mode": "markers+lines",
         "name": "Not in labour force",
         "type": "scatter",
         "x": [
          1998,
          1999,
          2000,
          2001,
          2002,
          2003,
          2004,
          2005,
          2006,
          2007,
          2008,
          2009,
          2010,
          2011,
          2012,
          2013,
          2014,
          2015,
          2016,
          2017,
          2018,
          2019,
          2020,
          2021,
          2022,
          2023,
          2024
         ],
         "y": [
          1154400,
          1123250,
          1122325,
          1134250,
          1161100,
          1178650,
          1178075,
          1167200,
          1164375,
          1172600,
          1219625,
          1292375,
          1346900,
          1370300,
          1384625,
          1379875,
          1398000,
          1412700,
          1418375,
          1451775,
          1472250,
          1493800,
          1602925,
          1495450,
          1468150,
          1478050,
          1488666.6666666667
         ]
        },
        {
         "line": {
          "color": "#30838C"
         },
         "marker": {
          "size": 6
         },
         "mode": "markers+lines",
         "name": "In labour force",
         "type": "scatter",
         "x": [
          1998,
          1999,
          2000,
          2001,
          2002,
          2003,
          2004,
          2005,
          2006,
          2007,
          2008,
          2009,
          2010,
          2011,
          2012,
          2013,
          2014,
          2015,
          2016,
          2017,
          2018,
          2019,
          2020,
          2021,
          2022,
          2023,
          2024
         ],
         "y": [
          1725250,
          1801575,
          1853925,
          1902025,
          1941300,
          1981225,
          2043075,
          2136650,
          2235625,
          2336200,
          2357425,
          2305725,
          2251900,
          2229950,
          2223675,
          2245350,
          2255650,
          2280800,
          2326900,
          2357825,
          2403825,
          2458125,
          2418300,
          2587200,
          2715575,
          2804800,
          2876400
         ]
        }
       ],
       "layout": {
        "height": 500,
        "legend": {
         "title": {
          "text": "Economic status"
         },
         "tracegroupgap": 0
        },
        "template": {
         "data": {
          "bar": [
           {
            "error_x": {
             "color": "rgb(36,36,36)"
            },
            "error_y": {
             "color": "rgb(36,36,36)"
            },
            "marker": {
             "line": {
              "color": "white",
              "width": 0.5
             },
             "pattern": {
              "fillmode": "overlay",
              "size": 10,
              "solidity": 0.2
             }
            },
            "type": "bar"
           }
          ],
          "barpolar": [
           {
            "marker": {
             "line": {
              "color": "white",
              "width": 0.5
             },
             "pattern": {
              "fillmode": "overlay",
              "size": 10,
              "solidity": 0.2
             }
            },
            "type": "barpolar"
           }
          ],
          "carpet": [
           {
            "aaxis": {
             "endlinecolor": "rgb(36,36,36)",
             "gridcolor": "white",
             "linecolor": "white",
             "minorgridcolor": "white",
             "startlinecolor": "rgb(36,36,36)"
            },
            "baxis": {
             "endlinecolor": "rgb(36,36,36)",
             "gridcolor": "white",
             "linecolor": "white",
             "minorgridcolor": "white",
             "startlinecolor": "rgb(36,36,36)"
            },
            "type": "carpet"
           }
          ],
          "choropleth": [
           {
            "colorbar": {
             "outlinewidth": 1,
             "tickcolor": "rgb(36,36,36)",
             "ticks": "outside"
            },
            "type": "choropleth"
           }
          ],
          "contour": [
           {
            "colorbar": {
             "outlinewidth": 1,
             "tickcolor": "rgb(36,36,36)",
             "ticks": "outside"
            },
            "colorscale": [
             [
              0,
              "#440154"
             ],
             [
              0.1111111111111111,
              "#482878"
             ],
             [
              0.2222222222222222,
              "#3e4989"
             ],
             [
              0.3333333333333333,
              "#31688e"
             ],
             [
              0.4444444444444444,
              "#26828e"
             ],
             [
              0.5555555555555556,
              "#1f9e89"
             ],
             [
              0.6666666666666666,
              "#35b779"
             ],
             [
              0.7777777777777778,
              "#6ece58"
             ],
             [
              0.8888888888888888,
              "#b5de2b"
             ],
             [
              1,
              "#fde725"
             ]
            ],
            "type": "contour"
           }
          ],
          "contourcarpet": [
           {
            "colorbar": {
             "outlinewidth": 1,
             "tickcolor": "rgb(36,36,36)",
             "ticks": "outside"
            },
            "type": "contourcarpet"
           }
          ],
          "heatmap": [
           {
            "colorbar": {
             "outlinewidth": 1,
             "tickcolor": "rgb(36,36,36)",
             "ticks": "outside"
            },
            "colorscale": [
             [
              0,
              "#440154"
             ],
             [
              0.1111111111111111,
              "#482878"
             ],
             [
              0.2222222222222222,
              "#3e4989"
             ],
             [
              0.3333333333333333,
              "#31688e"
             ],
             [
              0.4444444444444444,
              "#26828e"
             ],
             [
              0.5555555555555556,
              "#1f9e89"
             ],
             [
              0.6666666666666666,
              "#35b779"
             ],
             [
              0.7777777777777778,
              "#6ece58"
             ],
             [
              0.8888888888888888,
              "#b5de2b"
             ],
             [
              1,
              "#fde725"
             ]
            ],
            "type": "heatmap"
           }
          ],
          "heatmapgl": [
           {
            "colorbar": {
             "outlinewidth": 1,
             "tickcolor": "rgb(36,36,36)",
             "ticks": "outside"
            },
            "colorscale": [
             [
              0,
              "#440154"
             ],
             [
              0.1111111111111111,
              "#482878"
             ],
             [
              0.2222222222222222,
              "#3e4989"
             ],
             [
              0.3333333333333333,
              "#31688e"
             ],
             [
              0.4444444444444444,
              "#26828e"
             ],
             [
              0.5555555555555556,
              "#1f9e89"
             ],
             [
              0.6666666666666666,
              "#35b779"
             ],
             [
              0.7777777777777778,
              "#6ece58"
             ],
             [
              0.8888888888888888,
              "#b5de2b"
             ],
             [
              1,
              "#fde725"
             ]
            ],
            "type": "heatmapgl"
           }
          ],
          "histogram": [
           {
            "marker": {
             "line": {
              "color": "white",
              "width": 0.6
             }
            },
            "type": "histogram"
           }
          ],
          "histogram2d": [
           {
            "colorbar": {
             "outlinewidth": 1,
             "tickcolor": "rgb(36,36,36)",
             "ticks": "outside"
            },
            "colorscale": [
             [
              0,
              "#440154"
             ],
             [
              0.1111111111111111,
              "#482878"
             ],
             [
              0.2222222222222222,
              "#3e4989"
             ],
             [
              0.3333333333333333,
              "#31688e"
             ],
             [
              0.4444444444444444,
              "#26828e"
             ],
             [
              0.5555555555555556,
              "#1f9e89"
             ],
             [
              0.6666666666666666,
              "#35b779"
             ],
             [
              0.7777777777777778,
              "#6ece58"
             ],
             [
              0.8888888888888888,
              "#b5de2b"
             ],
             [
              1,
              "#fde725"
             ]
            ],
            "type": "histogram2d"
           }
          ],
          "histogram2dcontour": [
           {
            "colorbar": {
             "outlinewidth": 1,
             "tickcolor": "rgb(36,36,36)",
             "ticks": "outside"
            },
            "colorscale": [
             [
              0,
              "#440154"
             ],
             [
              0.1111111111111111,
              "#482878"
             ],
             [
              0.2222222222222222,
              "#3e4989"
             ],
             [
              0.3333333333333333,
              "#31688e"
             ],
             [
              0.4444444444444444,
              "#26828e"
             ],
             [
              0.5555555555555556,
              "#1f9e89"
             ],
             [
              0.6666666666666666,
              "#35b779"
             ],
             [
              0.7777777777777778,
              "#6ece58"
             ],
             [
              0.8888888888888888,
              "#b5de2b"
             ],
             [
              1,
              "#fde725"
             ]
            ],
            "type": "histogram2dcontour"
           }
          ],
          "mesh3d": [
           {
            "colorbar": {
             "outlinewidth": 1,
             "tickcolor": "rgb(36,36,36)",
             "ticks": "outside"
            },
            "type": "mesh3d"
           }
          ],
          "parcoords": [
           {
            "line": {
             "colorbar": {
              "outlinewidth": 1,
              "tickcolor": "rgb(36,36,36)",
              "ticks": "outside"
             }
            },
            "type": "parcoords"
           }
          ],
          "pie": [
           {
            "automargin": true,
            "type": "pie"
           }
          ],
          "scatter": [
           {
            "fillpattern": {
             "fillmode": "overlay",
             "size": 10,
             "solidity": 0.2
            },
            "type": "scatter"
           }
          ],
          "scatter3d": [
           {
            "line": {
             "colorbar": {
              "outlinewidth": 1,
              "tickcolor": "rgb(36,36,36)",
              "ticks": "outside"
             }
            },
            "marker": {
             "colorbar": {
              "outlinewidth": 1,
              "tickcolor": "rgb(36,36,36)",
              "ticks": "outside"
             }
            },
            "type": "scatter3d"
           }
          ],
          "scattercarpet": [
           {
            "marker": {
             "colorbar": {
              "outlinewidth": 1,
              "tickcolor": "rgb(36,36,36)",
              "ticks": "outside"
             }
            },
            "type": "scattercarpet"
           }
          ],
          "scattergeo": [
           {
            "marker": {
             "colorbar": {
              "outlinewidth": 1,
              "tickcolor": "rgb(36,36,36)",
              "ticks": "outside"
             }
            },
            "type": "scattergeo"
           }
          ],
          "scattergl": [
           {
            "marker": {
             "colorbar": {
              "outlinewidth": 1,
              "tickcolor": "rgb(36,36,36)",
              "ticks": "outside"
             }
            },
            "type": "scattergl"
           }
          ],
          "scattermapbox": [
           {
            "marker": {
             "colorbar": {
              "outlinewidth": 1,
              "tickcolor": "rgb(36,36,36)",
              "ticks": "outside"
             }
            },
            "type": "scattermapbox"
           }
          ],
          "scatterpolar": [
           {
            "marker": {
             "colorbar": {
              "outlinewidth": 1,
              "tickcolor": "rgb(36,36,36)",
              "ticks": "outside"
             }
            },
            "type": "scatterpolar"
           }
          ],
          "scatterpolargl": [
           {
            "marker": {
             "colorbar": {
              "outlinewidth": 1,
              "tickcolor": "rgb(36,36,36)",
              "ticks": "outside"
             }
            },
            "type": "scatterpolargl"
           }
          ],
          "scatterternary": [
           {
            "marker": {
             "colorbar": {
              "outlinewidth": 1,
              "tickcolor": "rgb(36,36,36)",
              "ticks": "outside"
             }
            },
            "type": "scatterternary"
           }
          ],
          "surface": [
           {
            "colorbar": {
             "outlinewidth": 1,
             "tickcolor": "rgb(36,36,36)",
             "ticks": "outside"
            },
            "colorscale": [
             [
              0,
              "#440154"
             ],
             [
              0.1111111111111111,
              "#482878"
             ],
             [
              0.2222222222222222,
              "#3e4989"
             ],
             [
              0.3333333333333333,
              "#31688e"
             ],
             [
              0.4444444444444444,
              "#26828e"
             ],
             [
              0.5555555555555556,
              "#1f9e89"
             ],
             [
              0.6666666666666666,
              "#35b779"
             ],
             [
              0.7777777777777778,
              "#6ece58"
             ],
             [
              0.8888888888888888,
              "#b5de2b"
             ],
             [
              1,
              "#fde725"
             ]
            ],
            "type": "surface"
           }
          ],
          "table": [
           {
            "cells": {
             "fill": {
              "color": "rgb(237,237,237)"
             },
             "line": {
              "color": "white"
             }
            },
            "header": {
             "fill": {
              "color": "rgb(217,217,217)"
             },
             "line": {
              "color": "white"
             }
            },
            "type": "table"
           }
          ]
         },
         "layout": {
          "annotationdefaults": {
           "arrowhead": 0,
           "arrowwidth": 1
          },
          "autotypenumbers": "strict",
          "coloraxis": {
           "colorbar": {
            "outlinewidth": 1,
            "tickcolor": "rgb(36,36,36)",
            "ticks": "outside"
           }
          },
          "colorscale": {
           "diverging": [
            [
             0,
             "rgb(103,0,31)"
            ],
            [
             0.1,
             "rgb(178,24,43)"
            ],
            [
             0.2,
             "rgb(214,96,77)"
            ],
            [
             0.3,
             "rgb(244,165,130)"
            ],
            [
             0.4,
             "rgb(253,219,199)"
            ],
            [
             0.5,
             "rgb(247,247,247)"
            ],
            [
             0.6,
             "rgb(209,229,240)"
            ],
            [
             0.7,
             "rgb(146,197,222)"
            ],
            [
             0.8,
             "rgb(67,147,195)"
            ],
            [
             0.9,
             "rgb(33,102,172)"
            ],
            [
             1,
             "rgb(5,48,97)"
            ]
           ],
           "sequential": [
            [
             0,
             "#440154"
            ],
            [
             0.1111111111111111,
             "#482878"
            ],
            [
             0.2222222222222222,
             "#3e4989"
            ],
            [
             0.3333333333333333,
             "#31688e"
            ],
            [
             0.4444444444444444,
             "#26828e"
            ],
            [
             0.5555555555555556,
             "#1f9e89"
            ],
            [
             0.6666666666666666,
             "#35b779"
            ],
            [
             0.7777777777777778,
             "#6ece58"
            ],
            [
             0.8888888888888888,
             "#b5de2b"
            ],
            [
             1,
             "#fde725"
            ]
           ],
           "sequentialminus": [
            [
             0,
             "#440154"
            ],
            [
             0.1111111111111111,
             "#482878"
            ],
            [
             0.2222222222222222,
             "#3e4989"
            ],
            [
             0.3333333333333333,
             "#31688e"
            ],
            [
             0.4444444444444444,
             "#26828e"
            ],
            [
             0.5555555555555556,
             "#1f9e89"
            ],
            [
             0.6666666666666666,
             "#35b779"
            ],
            [
             0.7777777777777778,
             "#6ece58"
            ],
            [
             0.8888888888888888,
             "#b5de2b"
            ],
            [
             1,
             "#fde725"
            ]
           ]
          },
          "colorway": [
           "#1F77B4",
           "#FF7F0E",
           "#2CA02C",
           "#D62728",
           "#9467BD",
           "#8C564B",
           "#E377C2",
           "#7F7F7F",
           "#BCBD22",
           "#17BECF"
          ],
          "font": {
           "color": "rgb(36,36,36)"
          },
          "geo": {
           "bgcolor": "white",
           "lakecolor": "white",
           "landcolor": "white",
           "showlakes": true,
           "showland": true,
           "subunitcolor": "white"
          },
          "hoverlabel": {
           "align": "left"
          },
          "hovermode": "closest",
          "mapbox": {
           "style": "light"
          },
          "paper_bgcolor": "white",
          "plot_bgcolor": "white",
          "polar": {
           "angularaxis": {
            "gridcolor": "rgb(232,232,232)",
            "linecolor": "rgb(36,36,36)",
            "showgrid": false,
            "showline": true,
            "ticks": "outside"
           },
           "bgcolor": "white",
           "radialaxis": {
            "gridcolor": "rgb(232,232,232)",
            "linecolor": "rgb(36,36,36)",
            "showgrid": false,
            "showline": true,
            "ticks": "outside"
           }
          },
          "scene": {
           "xaxis": {
            "backgroundcolor": "white",
            "gridcolor": "rgb(232,232,232)",
            "gridwidth": 2,
            "linecolor": "rgb(36,36,36)",
            "showbackground": true,
            "showgrid": false,
            "showline": true,
            "ticks": "outside",
            "zeroline": false,
            "zerolinecolor": "rgb(36,36,36)"
           },
           "yaxis": {
            "backgroundcolor": "white",
            "gridcolor": "rgb(232,232,232)",
            "gridwidth": 2,
            "linecolor": "rgb(36,36,36)",
            "showbackground": true,
            "showgrid": false,
            "showline": true,
            "ticks": "outside",
            "zeroline": false,
            "zerolinecolor": "rgb(36,36,36)"
           },
           "zaxis": {
            "backgroundcolor": "white",
            "gridcolor": "rgb(232,232,232)",
            "gridwidth": 2,
            "linecolor": "rgb(36,36,36)",
            "showbackground": true,
            "showgrid": false,
            "showline": true,
            "ticks": "outside",
            "zeroline": false,
            "zerolinecolor": "rgb(36,36,36)"
           }
          },
          "shapedefaults": {
           "fillcolor": "black",
           "line": {
            "width": 0
           },
           "opacity": 0.3
          },
          "ternary": {
           "aaxis": {
            "gridcolor": "rgb(232,232,232)",
            "linecolor": "rgb(36,36,36)",
            "showgrid": false,
            "showline": true,
            "ticks": "outside"
           },
           "baxis": {
            "gridcolor": "rgb(232,232,232)",
            "linecolor": "rgb(36,36,36)",
            "showgrid": false,
            "showline": true,
            "ticks": "outside"
           },
           "bgcolor": "white",
           "caxis": {
            "gridcolor": "rgb(232,232,232)",
            "linecolor": "rgb(36,36,36)",
            "showgrid": false,
            "showline": true,
            "ticks": "outside"
           }
          },
          "title": {
           "x": 0.05
          },
          "xaxis": {
           "automargin": true,
           "gridcolor": "rgb(232,232,232)",
           "linecolor": "rgb(36,36,36)",
           "showgrid": false,
           "showline": true,
           "ticks": "outside",
           "title": {
            "standoff": 15
           },
           "zeroline": false,
           "zerolinecolor": "rgb(36,36,36)"
          },
          "yaxis": {
           "automargin": true,
           "gridcolor": "rgb(232,232,232)",
           "linecolor": "rgb(36,36,36)",
           "showgrid": false,
           "showline": true,
           "ticks": "outside",
           "title": {
            "standoff": 15
           },
           "zeroline": false,
           "zerolinecolor": "rgb(36,36,36)"
          }
         }
        },
        "title": {
         "text": "<b>Economic Activity in Ireland: Labour Force Participation</b><br><sup>Number of individuals in millions (1998 - 2024) </sup>"
        },
        "width": 850,
        "xaxis": {
         "anchor": "y",
         "domain": [
          0,
          1
         ],
         "showgrid": true,
         "tickfont": {
          "size": 14
         },
         "title": {
          "text": ""
         }
        },
        "yaxis": {
         "anchor": "x",
         "domain": [
          0,
          1
         ],
         "tickfont": {
          "size": 14
         },
         "title": {
          "text": ""
         }
        }
       }
      }
     },
     "metadata": {},
     "output_type": "display_data"
    }
   ],
   "source": [
    "# Initialize the plot + title and styling\n",
    "fig_1 = px.line(\n",
    "            title='<b>Economic Activity in Ireland: Labour Force Participation</b><br><sup>Number of individuals in millions (1998 - 2024) </sup>',\n",
    "            template='simple_white'\n",
    "                )\n",
    "\n",
    "# Add economic status traces to plot\n",
    "fig_1.add_trace(go.Scatter(x=emp['year'], y=emp['individuals'], name=\"In Employment\", line=dict(color=\"#5E9FF2\")))\n",
    "fig_1.add_trace(go.Scatter(x=unemp.year, y=unemp.individuals, name=\"Unemployed\", line=dict(color=\"#F2522E\")))\n",
    "fig_1.add_trace(go.Scatter(x=no_labour.year, y=no_labour.individuals, name=\"Not in labour force\", line=dict(color=\"#F2CB05\")))\n",
    "fig_1.add_trace(go.Scatter(x=labour.year, y=labour.individuals, name=\"In labour force\", line=dict(color=\"#30838C\")))\n",
    "\n",
    "# Axis configuration\n",
    "fig_1.update_xaxes(tickfont=dict(size=14), title_text='', showgrid=True)\n",
    "fig_1.update_yaxes(tickfont=dict(size=14), title_text='')\n",
    "\n",
    "# Line and marker style\n",
    "fig_1.update_traces(mode='markers+lines', marker=dict(size=6))\n",
    "\n",
    "# Layout adjustment\n",
    "fig_1.update_layout(legend_title='Economic status', width=850, height=500)"
   ]
  },
  {
   "cell_type": "markdown",
   "id": "1c5234bb",
   "metadata": {},
   "source": [
    "![01_fig1](https://raw.githubusercontent.com/vinikcabral/Labour-Force-Social-Welfare-in-Ireland-PYTHON/refs/heads/main/assets/img/01_fig1.png)"
   ]
  },
  {
   "cell_type": "markdown",
   "id": "3c2684a3",
   "metadata": {},
   "source": [
    "**Analysis:** Employment steady and long-term growth. Labour Force expanded from 1998 to 2024, reflecting population growth and participation. Unemployment spiked during crises and recovery post crises. "
   ]
  },
  {
   "cell_type": "markdown",
   "id": "36519204",
   "metadata": {},
   "source": [
    "##### Linear Regrassion to explore if employment, unemployment, and labour force participation have significant upward or downward trends over the years (1998-2024)"
   ]
  },
  {
   "cell_type": "code",
   "execution_count": 1285,
   "id": "0169c752",
   "metadata": {},
   "outputs": [],
   "source": [
    "# Linear regression stats for each variable\n",
    "slope_emp, intercept_emp, r_value_emp, p_value_emp, std_error_emp = stats.linregress(emp['year'], emp['individuals'])\n",
    "slope_unemp, intercept_unemp, r_value_unemp, p_value_unemp, std_error_unemp = stats.linregress(unemp['year'], unemp['individuals'])\n",
    "slope_lf, intercept_lf, r_value_lf, p_value_lf, std_error_lf = stats.linregress(labour['year'], labour['individuals'])"
   ]
  },
  {
   "cell_type": "code",
   "execution_count": 1286,
   "id": "ffe60829",
   "metadata": {},
   "outputs": [
    {
     "name": "stdout",
     "output_type": "stream",
     "text": [
      "EMPLOYMENT\n",
      "Slope: 31230.031542531535\n",
      "Intercept: -60710642.81474697\n",
      "R value: 0.8567267877866024\n",
      "R-squared (The coefficient of determination): 0.733981\n",
      "P value: 1.1790675274873324e-08\n",
      "std_error 3760.2487249278856\n",
      "\n",
      "UNEMPLOYMENT\n",
      "Slope: 2392.59768009768\n",
      "Intercept: -4643120.416157916\n",
      "R value: 0.2200049578002969\n",
      "R-squared (The coefficient of determination): 0.048402\n",
      "P value: 0.2701729302053674\n",
      "std_error 2121.7485991829008\n",
      "\n",
      "IN LABOUR FORCE\n",
      "Slope: 33623.031135531135\n",
      "Intercept: -65354572.095034584\n",
      "R value: 0.9297867250281091\n",
      "R-squared (The coefficient of determination): 0.864503\n",
      "P value: 2.3815705119989808e-12\n",
      "std_error 2662.2435875024457\n"
     ]
    }
   ],
   "source": [
    "# Display result\n",
    "print(\"EMPLOYMENT\")\n",
    "print(\"Slope: \" + str(slope_emp))\n",
    "print(\"Intercept: \" + str(intercept_emp))\n",
    "print(\"R value: \" + str(r_value_emp))\n",
    "print(f\"R-squared (The coefficient of determination): {r_value_emp**2:.6f}\")\n",
    "print(\"P value: \" + str(p_value_emp))\n",
    "print(\"std_error \" + str(std_error_emp))\n",
    "print()\n",
    "print(\"UNEMPLOYMENT\")\n",
    "print(\"Slope: \" + str(slope_unemp))\n",
    "print(\"Intercept: \" + str(intercept_unemp))\n",
    "print(\"R value: \" + str(r_value_unemp))\n",
    "print(f\"R-squared (The coefficient of determination): {r_value_unemp**2:.6f}\")\n",
    "print(\"P value: \" + str(p_value_unemp))\n",
    "print(\"std_error \" + str(std_error_unemp))\n",
    "print()\n",
    "print(\"IN LABOUR FORCE\")\n",
    "print(\"Slope: \" + str(slope_lf))\n",
    "print(\"Intercept: \" + str(intercept_lf))\n",
    "print(\"R value: \" + str(r_value_lf))\n",
    "print(f\"R-squared (The coefficient of determination): {r_value_lf**2:.6f}\")\n",
    "print(\"P value: \" + str(p_value_lf))\n",
    "print(\"std_error \" + str(std_error_lf))"
   ]
  },
  {
   "cell_type": "code",
   "execution_count": 1287,
   "id": "0c396c91",
   "metadata": {},
   "outputs": [
    {
     "data": {
      "application/vnd.plotly.v1+json": {
       "config": {
        "plotlyServerURL": "https://plot.ly"
       },
       "data": [
        {
         "hovertemplate": "<extra></extra>",
         "legendgroup": "",
         "line": {
          "color": "#1F77B4",
          "dash": "solid"
         },
         "marker": {
          "size": 6,
          "symbol": "x"
         },
         "mode": "markers",
         "name": "",
         "orientation": "v",
         "showlegend": false,
         "type": "scatter",
         "xaxis": "x",
         "yaxis": "y"
        },
        {
         "line": {
          "color": "#5E9FF2"
         },
         "marker": {
          "size": 6,
          "symbol": "x"
         },
         "mode": "markers",
         "name": "In Employment",
         "type": "scatter",
         "x": [
          1998,
          1999,
          2000,
          2001,
          2002,
          2003,
          2004,
          2005,
          2006,
          2007,
          2008,
          2009,
          2010,
          2011,
          2012,
          2013,
          2014,
          2015,
          2016,
          2017,
          2018,
          2019,
          2020,
          2021,
          2022,
          2023,
          2024
         ],
         "y": [
          1593575,
          1698375,
          1772750,
          1822500,
          1849825,
          1885450,
          1946500,
          2037750,
          2129300,
          2219775,
          2197650,
          2014975,
          1924500,
          1887450,
          1880200,
          1937250,
          1988525,
          2055650,
          2132200,
          2199300,
          2265025,
          2335925,
          2277550,
          2427125,
          2594975,
          2684500,
          2751066.6666666665
         ]
        },
        {
         "line": {
          "color": "#F2522E"
         },
         "marker": {
          "size": 6,
          "symbol": "x"
         },
         "mode": "markers",
         "name": "Unemployed",
         "type": "scatter",
         "x": [
          1998,
          1999,
          2000,
          2001,
          2002,
          2003,
          2004,
          2005,
          2006,
          2007,
          2008,
          2009,
          2010,
          2011,
          2012,
          2013,
          2014,
          2015,
          2016,
          2017,
          2018,
          2019,
          2020,
          2021,
          2022,
          2023,
          2024
         ],
         "y": [
          131650,
          103200,
          81200,
          79550,
          91475,
          95775,
          96575,
          98850,
          106325,
          116425,
          159800,
          290750,
          327425,
          342500,
          343500,
          308125,
          267125,
          225150,
          194675,
          158525,
          138825,
          122200,
          140775,
          160075,
          120575,
          120275,
          125300
         ]
        },
        {
         "line": {
          "color": "#30838C"
         },
         "marker": {
          "size": 6,
          "symbol": "x"
         },
         "mode": "markers",
         "name": "In labour force",
         "type": "scatter",
         "x": [
          1998,
          1999,
          2000,
          2001,
          2002,
          2003,
          2004,
          2005,
          2006,
          2007,
          2008,
          2009,
          2010,
          2011,
          2012,
          2013,
          2014,
          2015,
          2016,
          2017,
          2018,
          2019,
          2020,
          2021,
          2022,
          2023,
          2024
         ],
         "y": [
          1725250,
          1801575,
          1853925,
          1902025,
          1941300,
          1981225,
          2043075,
          2136650,
          2235625,
          2336200,
          2357425,
          2305725,
          2251900,
          2229950,
          2223675,
          2245350,
          2255650,
          2280800,
          2326900,
          2357825,
          2403825,
          2458125,
          2418300,
          2587200,
          2715575,
          2804800,
          2876400
         ]
        },
        {
         "line": {
          "color": "#5E9FF2"
         },
         "name": "In Employment",
         "type": "scatter",
         "x": [
          1998,
          1999,
          2000,
          2001,
          2002,
          2003,
          2004,
          2005,
          2006,
          2007,
          2008,
          2009,
          2010,
          2011,
          2012,
          2013,
          2014,
          2015,
          2016,
          2017,
          2018,
          2019,
          2020,
          2021,
          2022,
          2023,
          2024,
          2025,
          2026
         ],
         "y": [
          1686960.2072310373,
          1718190.2387735695,
          1749420.2703161016,
          1780650.3018586338,
          1811880.333401166,
          1843110.364943698,
          1874340.3964862302,
          1905570.4280287623,
          1936800.459571287,
          1968030.4911138192,
          1999260.5226563513,
          2030490.5541988835,
          2061720.5857414156,
          2092950.6172839478,
          2124180.64882648,
          2155410.680369012,
          2186640.711911544,
          2217870.7434540763,
          2249100.7749966085,
          2280330.8065391406,
          2311560.8380816653,
          2342790.8696241975,
          2374020.9011667296,
          2405250.932709262,
          2436480.964251794,
          2467710.995794326,
          2498941.027336858,
          2530171.0588793904,
          2561401.0904219225
         ]
        },
        {
         "line": {
          "color": "#F2522E"
         },
         "name": "Unemployed",
         "type": "scatter",
         "x": [
          1998,
          1999,
          2000,
          2001,
          2002,
          2003,
          2004,
          2005,
          2006,
          2007,
          2008,
          2009,
          2010,
          2011,
          2012,
          2013,
          2014,
          2015,
          2016,
          2017,
          2018,
          2019,
          2020,
          2021,
          2022,
          2023,
          2024,
          2025,
          2026
         ],
         "y": [
          137289.74867724814,
          139682.3463573465,
          142074.94403744396,
          144467.5417175414,
          146860.13939763885,
          149252.73707773723,
          151645.33475783467,
          154037.93243793212,
          156430.53011802956,
          158823.12779812794,
          161215.7254782254,
          163608.32315832283,
          166000.92083842028,
          168393.51851851866,
          170786.1161986161,
          173178.71387871355,
          175571.311558811,
          177963.90923890937,
          180356.50691900682,
          182749.10459910426,
          185141.7022792017,
          187534.2999593001,
          189926.89763939753,
          192319.49531949498,
          194712.09299959242,
          197104.6906796908,
          199497.28835978825,
          201889.8860398857,
          204282.48371998314
         ]
        },
        {
         "line": {
          "color": "#30838C"
         },
         "name": "In labour force",
         "type": "scatter",
         "x": [
          1998,
          1999,
          2000,
          2001,
          2002,
          2003,
          2004,
          2005,
          2006,
          2007,
          2008,
          2009,
          2010,
          2011,
          2012,
          2013,
          2014,
          2015,
          2016,
          2017,
          2018,
          2019,
          2020,
          2021,
          2022,
          2023,
          2024,
          2025,
          2026
         ],
         "y": [
          1824244.1137566268,
          1857867.1448921561,
          1891490.1760276854,
          1925113.2071632147,
          1958736.238298744,
          1992359.2694342732,
          2025982.3005698174,
          2059605.3317053467,
          2093228.362840876,
          2126851.3939764053,
          2160474.4251119345,
          2194097.456247464,
          2227720.487382993,
          2261343.5185185224,
          2294966.5496540666,
          2328589.580789596,
          2362212.611925125,
          2395835.6430606544,
          2429458.6741961837,
          2463081.705331713,
          2496704.7364672422,
          2530327.7676027715,
          2563950.7987383157,
          2597573.829873845,
          2631196.8610093743,
          2664819.8921449035,
          2698442.923280433,
          2732065.954415962,
          2765688.9855514914
         ]
        }
       ],
       "layout": {
        "height": 500,
        "legend": {
         "title": {
          "text": "Economic status"
         },
         "tracegroupgap": 0
        },
        "template": {
         "data": {
          "bar": [
           {
            "error_x": {
             "color": "rgb(36,36,36)"
            },
            "error_y": {
             "color": "rgb(36,36,36)"
            },
            "marker": {
             "line": {
              "color": "white",
              "width": 0.5
             },
             "pattern": {
              "fillmode": "overlay",
              "size": 10,
              "solidity": 0.2
             }
            },
            "type": "bar"
           }
          ],
          "barpolar": [
           {
            "marker": {
             "line": {
              "color": "white",
              "width": 0.5
             },
             "pattern": {
              "fillmode": "overlay",
              "size": 10,
              "solidity": 0.2
             }
            },
            "type": "barpolar"
           }
          ],
          "carpet": [
           {
            "aaxis": {
             "endlinecolor": "rgb(36,36,36)",
             "gridcolor": "white",
             "linecolor": "white",
             "minorgridcolor": "white",
             "startlinecolor": "rgb(36,36,36)"
            },
            "baxis": {
             "endlinecolor": "rgb(36,36,36)",
             "gridcolor": "white",
             "linecolor": "white",
             "minorgridcolor": "white",
             "startlinecolor": "rgb(36,36,36)"
            },
            "type": "carpet"
           }
          ],
          "choropleth": [
           {
            "colorbar": {
             "outlinewidth": 1,
             "tickcolor": "rgb(36,36,36)",
             "ticks": "outside"
            },
            "type": "choropleth"
           }
          ],
          "contour": [
           {
            "colorbar": {
             "outlinewidth": 1,
             "tickcolor": "rgb(36,36,36)",
             "ticks": "outside"
            },
            "colorscale": [
             [
              0,
              "#440154"
             ],
             [
              0.1111111111111111,
              "#482878"
             ],
             [
              0.2222222222222222,
              "#3e4989"
             ],
             [
              0.3333333333333333,
              "#31688e"
             ],
             [
              0.4444444444444444,
              "#26828e"
             ],
             [
              0.5555555555555556,
              "#1f9e89"
             ],
             [
              0.6666666666666666,
              "#35b779"
             ],
             [
              0.7777777777777778,
              "#6ece58"
             ],
             [
              0.8888888888888888,
              "#b5de2b"
             ],
             [
              1,
              "#fde725"
             ]
            ],
            "type": "contour"
           }
          ],
          "contourcarpet": [
           {
            "colorbar": {
             "outlinewidth": 1,
             "tickcolor": "rgb(36,36,36)",
             "ticks": "outside"
            },
            "type": "contourcarpet"
           }
          ],
          "heatmap": [
           {
            "colorbar": {
             "outlinewidth": 1,
             "tickcolor": "rgb(36,36,36)",
             "ticks": "outside"
            },
            "colorscale": [
             [
              0,
              "#440154"
             ],
             [
              0.1111111111111111,
              "#482878"
             ],
             [
              0.2222222222222222,
              "#3e4989"
             ],
             [
              0.3333333333333333,
              "#31688e"
             ],
             [
              0.4444444444444444,
              "#26828e"
             ],
             [
              0.5555555555555556,
              "#1f9e89"
             ],
             [
              0.6666666666666666,
              "#35b779"
             ],
             [
              0.7777777777777778,
              "#6ece58"
             ],
             [
              0.8888888888888888,
              "#b5de2b"
             ],
             [
              1,
              "#fde725"
             ]
            ],
            "type": "heatmap"
           }
          ],
          "heatmapgl": [
           {
            "colorbar": {
             "outlinewidth": 1,
             "tickcolor": "rgb(36,36,36)",
             "ticks": "outside"
            },
            "colorscale": [
             [
              0,
              "#440154"
             ],
             [
              0.1111111111111111,
              "#482878"
             ],
             [
              0.2222222222222222,
              "#3e4989"
             ],
             [
              0.3333333333333333,
              "#31688e"
             ],
             [
              0.4444444444444444,
              "#26828e"
             ],
             [
              0.5555555555555556,
              "#1f9e89"
             ],
             [
              0.6666666666666666,
              "#35b779"
             ],
             [
              0.7777777777777778,
              "#6ece58"
             ],
             [
              0.8888888888888888,
              "#b5de2b"
             ],
             [
              1,
              "#fde725"
             ]
            ],
            "type": "heatmapgl"
           }
          ],
          "histogram": [
           {
            "marker": {
             "line": {
              "color": "white",
              "width": 0.6
             }
            },
            "type": "histogram"
           }
          ],
          "histogram2d": [
           {
            "colorbar": {
             "outlinewidth": 1,
             "tickcolor": "rgb(36,36,36)",
             "ticks": "outside"
            },
            "colorscale": [
             [
              0,
              "#440154"
             ],
             [
              0.1111111111111111,
              "#482878"
             ],
             [
              0.2222222222222222,
              "#3e4989"
             ],
             [
              0.3333333333333333,
              "#31688e"
             ],
             [
              0.4444444444444444,
              "#26828e"
             ],
             [
              0.5555555555555556,
              "#1f9e89"
             ],
             [
              0.6666666666666666,
              "#35b779"
             ],
             [
              0.7777777777777778,
              "#6ece58"
             ],
             [
              0.8888888888888888,
              "#b5de2b"
             ],
             [
              1,
              "#fde725"
             ]
            ],
            "type": "histogram2d"
           }
          ],
          "histogram2dcontour": [
           {
            "colorbar": {
             "outlinewidth": 1,
             "tickcolor": "rgb(36,36,36)",
             "ticks": "outside"
            },
            "colorscale": [
             [
              0,
              "#440154"
             ],
             [
              0.1111111111111111,
              "#482878"
             ],
             [
              0.2222222222222222,
              "#3e4989"
             ],
             [
              0.3333333333333333,
              "#31688e"
             ],
             [
              0.4444444444444444,
              "#26828e"
             ],
             [
              0.5555555555555556,
              "#1f9e89"
             ],
             [
              0.6666666666666666,
              "#35b779"
             ],
             [
              0.7777777777777778,
              "#6ece58"
             ],
             [
              0.8888888888888888,
              "#b5de2b"
             ],
             [
              1,
              "#fde725"
             ]
            ],
            "type": "histogram2dcontour"
           }
          ],
          "mesh3d": [
           {
            "colorbar": {
             "outlinewidth": 1,
             "tickcolor": "rgb(36,36,36)",
             "ticks": "outside"
            },
            "type": "mesh3d"
           }
          ],
          "parcoords": [
           {
            "line": {
             "colorbar": {
              "outlinewidth": 1,
              "tickcolor": "rgb(36,36,36)",
              "ticks": "outside"
             }
            },
            "type": "parcoords"
           }
          ],
          "pie": [
           {
            "automargin": true,
            "type": "pie"
           }
          ],
          "scatter": [
           {
            "fillpattern": {
             "fillmode": "overlay",
             "size": 10,
             "solidity": 0.2
            },
            "type": "scatter"
           }
          ],
          "scatter3d": [
           {
            "line": {
             "colorbar": {
              "outlinewidth": 1,
              "tickcolor": "rgb(36,36,36)",
              "ticks": "outside"
             }
            },
            "marker": {
             "colorbar": {
              "outlinewidth": 1,
              "tickcolor": "rgb(36,36,36)",
              "ticks": "outside"
             }
            },
            "type": "scatter3d"
           }
          ],
          "scattercarpet": [
           {
            "marker": {
             "colorbar": {
              "outlinewidth": 1,
              "tickcolor": "rgb(36,36,36)",
              "ticks": "outside"
             }
            },
            "type": "scattercarpet"
           }
          ],
          "scattergeo": [
           {
            "marker": {
             "colorbar": {
              "outlinewidth": 1,
              "tickcolor": "rgb(36,36,36)",
              "ticks": "outside"
             }
            },
            "type": "scattergeo"
           }
          ],
          "scattergl": [
           {
            "marker": {
             "colorbar": {
              "outlinewidth": 1,
              "tickcolor": "rgb(36,36,36)",
              "ticks": "outside"
             }
            },
            "type": "scattergl"
           }
          ],
          "scattermapbox": [
           {
            "marker": {
             "colorbar": {
              "outlinewidth": 1,
              "tickcolor": "rgb(36,36,36)",
              "ticks": "outside"
             }
            },
            "type": "scattermapbox"
           }
          ],
          "scatterpolar": [
           {
            "marker": {
             "colorbar": {
              "outlinewidth": 1,
              "tickcolor": "rgb(36,36,36)",
              "ticks": "outside"
             }
            },
            "type": "scatterpolar"
           }
          ],
          "scatterpolargl": [
           {
            "marker": {
             "colorbar": {
              "outlinewidth": 1,
              "tickcolor": "rgb(36,36,36)",
              "ticks": "outside"
             }
            },
            "type": "scatterpolargl"
           }
          ],
          "scatterternary": [
           {
            "marker": {
             "colorbar": {
              "outlinewidth": 1,
              "tickcolor": "rgb(36,36,36)",
              "ticks": "outside"
             }
            },
            "type": "scatterternary"
           }
          ],
          "surface": [
           {
            "colorbar": {
             "outlinewidth": 1,
             "tickcolor": "rgb(36,36,36)",
             "ticks": "outside"
            },
            "colorscale": [
             [
              0,
              "#440154"
             ],
             [
              0.1111111111111111,
              "#482878"
             ],
             [
              0.2222222222222222,
              "#3e4989"
             ],
             [
              0.3333333333333333,
              "#31688e"
             ],
             [
              0.4444444444444444,
              "#26828e"
             ],
             [
              0.5555555555555556,
              "#1f9e89"
             ],
             [
              0.6666666666666666,
              "#35b779"
             ],
             [
              0.7777777777777778,
              "#6ece58"
             ],
             [
              0.8888888888888888,
              "#b5de2b"
             ],
             [
              1,
              "#fde725"
             ]
            ],
            "type": "surface"
           }
          ],
          "table": [
           {
            "cells": {
             "fill": {
              "color": "rgb(237,237,237)"
             },
             "line": {
              "color": "white"
             }
            },
            "header": {
             "fill": {
              "color": "rgb(217,217,217)"
             },
             "line": {
              "color": "white"
             }
            },
            "type": "table"
           }
          ]
         },
         "layout": {
          "annotationdefaults": {
           "arrowhead": 0,
           "arrowwidth": 1
          },
          "autotypenumbers": "strict",
          "coloraxis": {
           "colorbar": {
            "outlinewidth": 1,
            "tickcolor": "rgb(36,36,36)",
            "ticks": "outside"
           }
          },
          "colorscale": {
           "diverging": [
            [
             0,
             "rgb(103,0,31)"
            ],
            [
             0.1,
             "rgb(178,24,43)"
            ],
            [
             0.2,
             "rgb(214,96,77)"
            ],
            [
             0.3,
             "rgb(244,165,130)"
            ],
            [
             0.4,
             "rgb(253,219,199)"
            ],
            [
             0.5,
             "rgb(247,247,247)"
            ],
            [
             0.6,
             "rgb(209,229,240)"
            ],
            [
             0.7,
             "rgb(146,197,222)"
            ],
            [
             0.8,
             "rgb(67,147,195)"
            ],
            [
             0.9,
             "rgb(33,102,172)"
            ],
            [
             1,
             "rgb(5,48,97)"
            ]
           ],
           "sequential": [
            [
             0,
             "#440154"
            ],
            [
             0.1111111111111111,
             "#482878"
            ],
            [
             0.2222222222222222,
             "#3e4989"
            ],
            [
             0.3333333333333333,
             "#31688e"
            ],
            [
             0.4444444444444444,
             "#26828e"
            ],
            [
             0.5555555555555556,
             "#1f9e89"
            ],
            [
             0.6666666666666666,
             "#35b779"
            ],
            [
             0.7777777777777778,
             "#6ece58"
            ],
            [
             0.8888888888888888,
             "#b5de2b"
            ],
            [
             1,
             "#fde725"
            ]
           ],
           "sequentialminus": [
            [
             0,
             "#440154"
            ],
            [
             0.1111111111111111,
             "#482878"
            ],
            [
             0.2222222222222222,
             "#3e4989"
            ],
            [
             0.3333333333333333,
             "#31688e"
            ],
            [
             0.4444444444444444,
             "#26828e"
            ],
            [
             0.5555555555555556,
             "#1f9e89"
            ],
            [
             0.6666666666666666,
             "#35b779"
            ],
            [
             0.7777777777777778,
             "#6ece58"
            ],
            [
             0.8888888888888888,
             "#b5de2b"
            ],
            [
             1,
             "#fde725"
            ]
           ]
          },
          "colorway": [
           "#1F77B4",
           "#FF7F0E",
           "#2CA02C",
           "#D62728",
           "#9467BD",
           "#8C564B",
           "#E377C2",
           "#7F7F7F",
           "#BCBD22",
           "#17BECF"
          ],
          "font": {
           "color": "rgb(36,36,36)"
          },
          "geo": {
           "bgcolor": "white",
           "lakecolor": "white",
           "landcolor": "white",
           "showlakes": true,
           "showland": true,
           "subunitcolor": "white"
          },
          "hoverlabel": {
           "align": "left"
          },
          "hovermode": "closest",
          "mapbox": {
           "style": "light"
          },
          "paper_bgcolor": "white",
          "plot_bgcolor": "white",
          "polar": {
           "angularaxis": {
            "gridcolor": "rgb(232,232,232)",
            "linecolor": "rgb(36,36,36)",
            "showgrid": false,
            "showline": true,
            "ticks": "outside"
           },
           "bgcolor": "white",
           "radialaxis": {
            "gridcolor": "rgb(232,232,232)",
            "linecolor": "rgb(36,36,36)",
            "showgrid": false,
            "showline": true,
            "ticks": "outside"
           }
          },
          "scene": {
           "xaxis": {
            "backgroundcolor": "white",
            "gridcolor": "rgb(232,232,232)",
            "gridwidth": 2,
            "linecolor": "rgb(36,36,36)",
            "showbackground": true,
            "showgrid": false,
            "showline": true,
            "ticks": "outside",
            "zeroline": false,
            "zerolinecolor": "rgb(36,36,36)"
           },
           "yaxis": {
            "backgroundcolor": "white",
            "gridcolor": "rgb(232,232,232)",
            "gridwidth": 2,
            "linecolor": "rgb(36,36,36)",
            "showbackground": true,
            "showgrid": false,
            "showline": true,
            "ticks": "outside",
            "zeroline": false,
            "zerolinecolor": "rgb(36,36,36)"
           },
           "zaxis": {
            "backgroundcolor": "white",
            "gridcolor": "rgb(232,232,232)",
            "gridwidth": 2,
            "linecolor": "rgb(36,36,36)",
            "showbackground": true,
            "showgrid": false,
            "showline": true,
            "ticks": "outside",
            "zeroline": false,
            "zerolinecolor": "rgb(36,36,36)"
           }
          },
          "shapedefaults": {
           "fillcolor": "black",
           "line": {
            "width": 0
           },
           "opacity": 0.3
          },
          "ternary": {
           "aaxis": {
            "gridcolor": "rgb(232,232,232)",
            "linecolor": "rgb(36,36,36)",
            "showgrid": false,
            "showline": true,
            "ticks": "outside"
           },
           "baxis": {
            "gridcolor": "rgb(232,232,232)",
            "linecolor": "rgb(36,36,36)",
            "showgrid": false,
            "showline": true,
            "ticks": "outside"
           },
           "bgcolor": "white",
           "caxis": {
            "gridcolor": "rgb(232,232,232)",
            "linecolor": "rgb(36,36,36)",
            "showgrid": false,
            "showline": true,
            "ticks": "outside"
           }
          },
          "title": {
           "x": 0.05
          },
          "xaxis": {
           "automargin": true,
           "gridcolor": "rgb(232,232,232)",
           "linecolor": "rgb(36,36,36)",
           "showgrid": false,
           "showline": true,
           "ticks": "outside",
           "title": {
            "standoff": 15
           },
           "zeroline": false,
           "zerolinecolor": "rgb(36,36,36)"
          },
          "yaxis": {
           "automargin": true,
           "gridcolor": "rgb(232,232,232)",
           "linecolor": "rgb(36,36,36)",
           "showgrid": false,
           "showline": true,
           "ticks": "outside",
           "title": {
            "standoff": 15
           },
           "zeroline": false,
           "zerolinecolor": "rgb(36,36,36)"
          }
         }
        },
        "title": {
         "text": "<b>Economic Activity in Ireland: Regression Analysis </b><br><sup>Number of individuals in millions (1998 - 2024) </sup>"
        },
        "width": 850,
        "xaxis": {
         "anchor": "y",
         "domain": [
          0,
          1
         ],
         "showgrid": true,
         "tickfont": {
          "size": 14
         },
         "title": {
          "text": ""
         }
        },
        "yaxis": {
         "anchor": "x",
         "domain": [
          0,
          1
         ],
         "tickfont": {
          "size": 14
         },
         "title": {
          "text": ""
         }
        }
       }
      }
     },
     "metadata": {},
     "output_type": "display_data"
    }
   ],
   "source": [
    "# Define time period\n",
    "years = np.arange(1998, 2027)\n",
    "\n",
    "# Initialize the plot + title and styling\n",
    "fig_2 = px.line(\n",
    "            title='<b>Economic Activity in Ireland: Regression Analysis </b><br><sup>Number of individuals in millions (1998 - 2024) </sup>',\n",
    "            template='simple_white',\n",
    "                )\n",
    "\n",
    "# Add traces to plot\n",
    "fig_2.add_trace(go.Scatter(x=emp.year, y=emp.individuals, name=\"In Employment\", line=dict(color=\"#5E9FF2\")))\n",
    "fig_2.add_trace(go.Scatter(x=unemp.year, y=unemp.individuals, name=\"Unemployed\", line=dict(color=\"#F2522E\")))\n",
    "fig_2.add_trace(go.Scatter(x=labour.year, y=labour.individuals, name=\"In labour force\", line=dict(color=\"#30838C\")))\n",
    "\n",
    "# Axis configuration\n",
    "fig_2.update_xaxes(tickfont=dict(size=14), title_text='', showgrid=True)\n",
    "fig_2.update_yaxes(tickfont=dict(size=14), title_text='')\n",
    "\n",
    "# Line and marker style\n",
    "fig_2.update_traces(mode='markers', marker=dict(size=6, symbol='x'))\n",
    "\n",
    "# Layout adjustment\n",
    "fig_2.update_layout(legend_title='Economic status', width=850, height=500)\n",
    "\n",
    "# Add linear regression line\n",
    "fig_2.add_trace(go.Scatter(x=years, y=[intercept_emp + slope_emp * x for x in years], name=\"In Employment\", line=dict(color=\"#5E9FF2\")))\n",
    "fig_2.add_trace(go.Scatter(x=years, y=[intercept_unemp + slope_unemp * x for x in years], name=\"Unemployed\", line=dict(color=\"#F2522E\")))\n",
    "fig_2.add_trace(go.Scatter(x=years, y=[intercept_lf + slope_lf * x for x in years], name=\"In labour force\", line=dict(color=\"#30838C\")))"
   ]
  },
  {
   "cell_type": "markdown",
   "id": "af9d5f2a",
   "metadata": {},
   "source": [
    "![01_fig2](https://raw.githubusercontent.com/vinikcabral/Labour-Force-Social-Welfare-in-Ireland-PYTHON/refs/heads/main/assets/img/01_fig2.png)"
   ]
  },
  {
   "cell_type": "markdown",
   "id": "384bd20e",
   "metadata": {},
   "source": [
    "**Analysis:** Strong positive trend for employment and labour force. The positive growth trajectory continues."
   ]
  },
  {
   "cell_type": "markdown",
   "id": "cd8480bc",
   "metadata": {},
   "source": [
    "### Objective 2\n",
    "*The goal was to explore trends of social protection schemes recipients over time and across counties, and evaluate if the disparities in schemes uptake are statistically significant over the years.*"
   ]
  },
  {
   "cell_type": "markdown",
   "id": "559385b7",
   "metadata": {},
   "source": [
    "#### Social Protection scheme trend over the years (2014-2024)"
   ]
  },
  {
   "cell_type": "code",
   "execution_count": 1288,
   "id": "da8464bc",
   "metadata": {},
   "outputs": [
    {
     "data": {
      "text/html": [
       "<div>\n",
       "<style scoped>\n",
       "    .dataframe tbody tr th:only-of-type {\n",
       "        vertical-align: middle;\n",
       "    }\n",
       "\n",
       "    .dataframe tbody tr th {\n",
       "        vertical-align: top;\n",
       "    }\n",
       "\n",
       "    .dataframe thead th {\n",
       "        text-align: right;\n",
       "    }\n",
       "</style>\n",
       "<table border=\"1\" class=\"dataframe\">\n",
       "  <thead>\n",
       "    <tr style=\"text-align: right;\">\n",
       "      <th></th>\n",
       "      <th>Year</th>\n",
       "      <th>Scheme_description</th>\n",
       "      <th>Residence_county</th>\n",
       "      <th>Recipients</th>\n",
       "    </tr>\n",
       "  </thead>\n",
       "  <tbody>\n",
       "    <tr>\n",
       "      <th>0</th>\n",
       "      <td>2014</td>\n",
       "      <td>Carers Allowance</td>\n",
       "      <td>Carlow</td>\n",
       "      <td>979</td>\n",
       "    </tr>\n",
       "    <tr>\n",
       "      <th>1</th>\n",
       "      <td>2014</td>\n",
       "      <td>Carers Allowance</td>\n",
       "      <td>Cavan</td>\n",
       "      <td>972</td>\n",
       "    </tr>\n",
       "    <tr>\n",
       "      <th>2</th>\n",
       "      <td>2014</td>\n",
       "      <td>Carers Allowance</td>\n",
       "      <td>Clare</td>\n",
       "      <td>1,573</td>\n",
       "    </tr>\n",
       "    <tr>\n",
       "      <th>3</th>\n",
       "      <td>2014</td>\n",
       "      <td>Carers Allowance</td>\n",
       "      <td>Cork</td>\n",
       "      <td>6,816</td>\n",
       "    </tr>\n",
       "    <tr>\n",
       "      <th>4</th>\n",
       "      <td>2014</td>\n",
       "      <td>Carers Allowance</td>\n",
       "      <td>Donegal</td>\n",
       "      <td>3,287</td>\n",
       "    </tr>\n",
       "  </tbody>\n",
       "</table>\n",
       "</div>"
      ],
      "text/plain": [
       "   Year Scheme_description Residence_county  Recipients\n",
       "0  2014   Carers Allowance           Carlow         979\n",
       "1  2014   Carers Allowance            Cavan         972\n",
       "2  2014   Carers Allowance            Clare       1,573\n",
       "3  2014   Carers Allowance             Cork       6,816\n",
       "4  2014   Carers Allowance          Donegal       3,287"
      ]
     },
     "metadata": {},
     "output_type": "display_data"
    },
    {
     "data": {
      "text/html": [
       "<div>\n",
       "<style scoped>\n",
       "    .dataframe tbody tr th:only-of-type {\n",
       "        vertical-align: middle;\n",
       "    }\n",
       "\n",
       "    .dataframe tbody tr th {\n",
       "        vertical-align: top;\n",
       "    }\n",
       "\n",
       "    .dataframe thead th {\n",
       "        text-align: right;\n",
       "    }\n",
       "</style>\n",
       "<table border=\"1\" class=\"dataframe\">\n",
       "  <thead>\n",
       "    <tr style=\"text-align: right;\">\n",
       "      <th></th>\n",
       "      <th>Scheme_description</th>\n",
       "      <th>Year</th>\n",
       "      <th>Recipients</th>\n",
       "    </tr>\n",
       "  </thead>\n",
       "  <tbody>\n",
       "    <tr>\n",
       "      <th>0</th>\n",
       "      <td>Back to Work Scheme Family Dividend</td>\n",
       "      <td>2015</td>\n",
       "      <td>7,138</td>\n",
       "    </tr>\n",
       "    <tr>\n",
       "      <th>1</th>\n",
       "      <td>Back to Work Scheme Family Dividend</td>\n",
       "      <td>2016</td>\n",
       "      <td>12,801</td>\n",
       "    </tr>\n",
       "    <tr>\n",
       "      <th>2</th>\n",
       "      <td>Back to Work Scheme Family Dividend</td>\n",
       "      <td>2017</td>\n",
       "      <td>13,153</td>\n",
       "    </tr>\n",
       "    <tr>\n",
       "      <th>3</th>\n",
       "      <td>Back to Work Scheme Family Dividend</td>\n",
       "      <td>2018</td>\n",
       "      <td>8,668</td>\n",
       "    </tr>\n",
       "    <tr>\n",
       "      <th>4</th>\n",
       "      <td>Back to Work Scheme Family Dividend</td>\n",
       "      <td>2019</td>\n",
       "      <td>7,282</td>\n",
       "    </tr>\n",
       "  </tbody>\n",
       "</table>\n",
       "</div>"
      ],
      "text/plain": [
       "                    Scheme_description  Year  Recipients\n",
       "0  Back to Work Scheme Family Dividend  2015       7,138\n",
       "1  Back to Work Scheme Family Dividend  2016      12,801\n",
       "2  Back to Work Scheme Family Dividend  2017      13,153\n",
       "3  Back to Work Scheme Family Dividend  2018       8,668\n",
       "4  Back to Work Scheme Family Dividend  2019       7,282"
      ]
     },
     "metadata": {},
     "output_type": "display_data"
    }
   ],
   "source": [
    "# Average recipients by years, counties, and schemes\n",
    "mean_df = datasp.groupby([\"Year\", \"Scheme_description\", \"Residence_county\"])[\"Recipients\"].mean().reset_index()\n",
    "display(mean_df.head())\n",
    "\n",
    "# Sum on counties in years and schemes\n",
    "mean_scheme_year = mean_df.groupby([\"Scheme_description\", \"Year\"])[\"Recipients\"].sum().reset_index()\n",
    "display(mean_scheme_year.head())"
   ]
  },
  {
   "cell_type": "code",
   "execution_count": 1289,
   "id": "8d4b7f5f",
   "metadata": {},
   "outputs": [],
   "source": [
    "# Finding top 5 schemes\n",
    "top_5_schemes = (mean_scheme_year\n",
    "                 .groupby('Scheme_description')['Recipients']\n",
    "                 .mean()\n",
    "                 .nlargest(5)\n",
    "                 .index.tolist())"
   ]
  },
  {
   "cell_type": "code",
   "execution_count": 1290,
   "id": "c9a42251",
   "metadata": {},
   "outputs": [
    {
     "data": {
      "text/html": [
       "<div>\n",
       "<style scoped>\n",
       "    .dataframe tbody tr th:only-of-type {\n",
       "        vertical-align: middle;\n",
       "    }\n",
       "\n",
       "    .dataframe tbody tr th {\n",
       "        vertical-align: top;\n",
       "    }\n",
       "\n",
       "    .dataframe thead th {\n",
       "        text-align: right;\n",
       "    }\n",
       "</style>\n",
       "<table border=\"1\" class=\"dataframe\">\n",
       "  <thead>\n",
       "    <tr style=\"text-align: right;\">\n",
       "      <th></th>\n",
       "      <th>Scheme_description</th>\n",
       "      <th>Year</th>\n",
       "      <th>Recipients</th>\n",
       "    </tr>\n",
       "  </thead>\n",
       "  <tbody>\n",
       "    <tr>\n",
       "      <th>32</th>\n",
       "      <td>Child Benefit</td>\n",
       "      <td>2014</td>\n",
       "      <td>612,862</td>\n",
       "    </tr>\n",
       "    <tr>\n",
       "      <th>33</th>\n",
       "      <td>Child Benefit</td>\n",
       "      <td>2015</td>\n",
       "      <td>616,349</td>\n",
       "    </tr>\n",
       "    <tr>\n",
       "      <th>34</th>\n",
       "      <td>Child Benefit</td>\n",
       "      <td>2016</td>\n",
       "      <td>620,443</td>\n",
       "    </tr>\n",
       "    <tr>\n",
       "      <th>35</th>\n",
       "      <td>Child Benefit</td>\n",
       "      <td>2017</td>\n",
       "      <td>623,448</td>\n",
       "    </tr>\n",
       "    <tr>\n",
       "      <th>36</th>\n",
       "      <td>Child Benefit</td>\n",
       "      <td>2018</td>\n",
       "      <td>627,886</td>\n",
       "    </tr>\n",
       "  </tbody>\n",
       "</table>\n",
       "</div>"
      ],
      "text/plain": [
       "   Scheme_description  Year  Recipients\n",
       "32      Child Benefit  2014     612,862\n",
       "33      Child Benefit  2015     616,349\n",
       "34      Child Benefit  2016     620,443\n",
       "35      Child Benefit  2017     623,448\n",
       "36      Child Benefit  2018     627,886"
      ]
     },
     "metadata": {},
     "output_type": "display_data"
    }
   ],
   "source": [
    "# Filtering top 5\n",
    "most_recipients = mean_scheme_year[mean_scheme_year[\"Scheme_description\"].isin(top_5_schemes)]\n",
    "display(most_recipients.head())"
   ]
  },
  {
   "cell_type": "code",
   "execution_count": 1291,
   "id": "5f67b6b2",
   "metadata": {},
   "outputs": [
    {
     "data": {
      "text/html": [
       "<div>\n",
       "<style scoped>\n",
       "    .dataframe tbody tr th:only-of-type {\n",
       "        vertical-align: middle;\n",
       "    }\n",
       "\n",
       "    .dataframe tbody tr th {\n",
       "        vertical-align: top;\n",
       "    }\n",
       "\n",
       "    .dataframe thead th {\n",
       "        text-align: right;\n",
       "    }\n",
       "</style>\n",
       "<table border=\"1\" class=\"dataframe\">\n",
       "  <thead>\n",
       "    <tr style=\"text-align: right;\">\n",
       "      <th>Scheme_description</th>\n",
       "      <th>Back to Work Scheme Family Dividend</th>\n",
       "      <th>Carers Allowance</th>\n",
       "      <th>Carers Benefit</th>\n",
       "      <th>Child Benefit</th>\n",
       "      <th>Disability Allowance</th>\n",
       "      <th>Family Income Supplement</th>\n",
       "      <th>Household Benefits</th>\n",
       "      <th>Illness Benefit</th>\n",
       "      <th>Invalidity Pension</th>\n",
       "      <th>Jobseekers Allowance</th>\n",
       "      <th>...</th>\n",
       "      <th>One Parent Family Payment</th>\n",
       "      <th>Pandemic Unemployment Claim</th>\n",
       "      <th>Parents Benefit</th>\n",
       "      <th>Paternity Benefit</th>\n",
       "      <th>Rent Supplement</th>\n",
       "      <th>State Pension Contributory</th>\n",
       "      <th>State Pension Non Contributory</th>\n",
       "      <th>Widow(er)'s Contributory Pension</th>\n",
       "      <th>Widows Non Contributory Pension</th>\n",
       "      <th>Working Family Payment</th>\n",
       "    </tr>\n",
       "    <tr>\n",
       "      <th>Year</th>\n",
       "      <th></th>\n",
       "      <th></th>\n",
       "      <th></th>\n",
       "      <th></th>\n",
       "      <th></th>\n",
       "      <th></th>\n",
       "      <th></th>\n",
       "      <th></th>\n",
       "      <th></th>\n",
       "      <th></th>\n",
       "      <th></th>\n",
       "      <th></th>\n",
       "      <th></th>\n",
       "      <th></th>\n",
       "      <th></th>\n",
       "      <th></th>\n",
       "      <th></th>\n",
       "      <th></th>\n",
       "      <th></th>\n",
       "      <th></th>\n",
       "      <th></th>\n",
       "    </tr>\n",
       "  </thead>\n",
       "  <tbody>\n",
       "    <tr>\n",
       "      <th>2014</th>\n",
       "      <td>NaN</td>\n",
       "      <td>59,549</td>\n",
       "      <td>1,800</td>\n",
       "      <td>612,862</td>\n",
       "      <td>111,006</td>\n",
       "      <td>50,150</td>\n",
       "      <td>50,394</td>\n",
       "      <td>94,128</td>\n",
       "      <td>53,912</td>\n",
       "      <td>337,017</td>\n",
       "      <td>...</td>\n",
       "      <td>77,165</td>\n",
       "      <td>NaN</td>\n",
       "      <td>NaN</td>\n",
       "      <td>NaN</td>\n",
       "      <td>76,372</td>\n",
       "      <td>294,875</td>\n",
       "      <td>96,738</td>\n",
       "      <td>111,021</td>\n",
       "      <td>1,615</td>\n",
       "      <td>NaN</td>\n",
       "    </tr>\n",
       "    <tr>\n",
       "      <th>2015</th>\n",
       "      <td>7,138</td>\n",
       "      <td>63,205</td>\n",
       "      <td>2,228</td>\n",
       "      <td>616,349</td>\n",
       "      <td>117,770</td>\n",
       "      <td>56,623</td>\n",
       "      <td>56,814</td>\n",
       "      <td>91,032</td>\n",
       "      <td>55,028</td>\n",
       "      <td>314,844</td>\n",
       "      <td>...</td>\n",
       "      <td>58,076</td>\n",
       "      <td>NaN</td>\n",
       "      <td>NaN</td>\n",
       "      <td>NaN</td>\n",
       "      <td>66,896</td>\n",
       "      <td>310,200</td>\n",
       "      <td>96,553</td>\n",
       "      <td>112,239</td>\n",
       "      <td>1,742</td>\n",
       "      <td>NaN</td>\n",
       "    </tr>\n",
       "    <tr>\n",
       "      <th>2016</th>\n",
       "      <td>12,801</td>\n",
       "      <td>68,261</td>\n",
       "      <td>2,909</td>\n",
       "      <td>620,443</td>\n",
       "      <td>124,457</td>\n",
       "      <td>60,170</td>\n",
       "      <td>63,202</td>\n",
       "      <td>89,696</td>\n",
       "      <td>55,344</td>\n",
       "      <td>283,644</td>\n",
       "      <td>...</td>\n",
       "      <td>43,202</td>\n",
       "      <td>NaN</td>\n",
       "      <td>NaN</td>\n",
       "      <td>2,350</td>\n",
       "      <td>54,510</td>\n",
       "      <td>325,614</td>\n",
       "      <td>96,478</td>\n",
       "      <td>113,427</td>\n",
       "      <td>1,608</td>\n",
       "      <td>NaN</td>\n",
       "    </tr>\n",
       "    <tr>\n",
       "      <th>2017</th>\n",
       "      <td>13,153</td>\n",
       "      <td>75,450</td>\n",
       "      <td>3,219</td>\n",
       "      <td>623,448</td>\n",
       "      <td>132,504</td>\n",
       "      <td>61,615</td>\n",
       "      <td>70,583</td>\n",
       "      <td>89,834</td>\n",
       "      <td>56,911</td>\n",
       "      <td>241,796</td>\n",
       "      <td>...</td>\n",
       "      <td>42,109</td>\n",
       "      <td>NaN</td>\n",
       "      <td>NaN</td>\n",
       "      <td>6,657</td>\n",
       "      <td>41,098</td>\n",
       "      <td>342,028</td>\n",
       "      <td>96,332</td>\n",
       "      <td>114,382</td>\n",
       "      <td>1,532</td>\n",
       "      <td>NaN</td>\n",
       "    </tr>\n",
       "    <tr>\n",
       "      <th>2018</th>\n",
       "      <td>8,668</td>\n",
       "      <td>79,498</td>\n",
       "      <td>3,228</td>\n",
       "      <td>627,886</td>\n",
       "      <td>139,879</td>\n",
       "      <td>NaN</td>\n",
       "      <td>77,363</td>\n",
       "      <td>90,158</td>\n",
       "      <td>57,670</td>\n",
       "      <td>204,648</td>\n",
       "      <td>...</td>\n",
       "      <td>41,671</td>\n",
       "      <td>NaN</td>\n",
       "      <td>NaN</td>\n",
       "      <td>6,330</td>\n",
       "      <td>29,289</td>\n",
       "      <td>359,004</td>\n",
       "      <td>96,350</td>\n",
       "      <td>114,880</td>\n",
       "      <td>1,490</td>\n",
       "      <td>60,004</td>\n",
       "    </tr>\n",
       "  </tbody>\n",
       "</table>\n",
       "<p>5 rows × 22 columns</p>\n",
       "</div>"
      ],
      "text/plain": [
       "Scheme_description  Back to Work Scheme Family Dividend  Carers Allowance  \\\n",
       "Year                                                                        \n",
       "2014                                                NaN            59,549   \n",
       "2015                                              7,138            63,205   \n",
       "2016                                             12,801            68,261   \n",
       "2017                                             13,153            75,450   \n",
       "2018                                              8,668            79,498   \n",
       "\n",
       "Scheme_description  Carers Benefit  Child Benefit  Disability Allowance  \\\n",
       "Year                                                                      \n",
       "2014                         1,800        612,862               111,006   \n",
       "2015                         2,228        616,349               117,770   \n",
       "2016                         2,909        620,443               124,457   \n",
       "2017                         3,219        623,448               132,504   \n",
       "2018                         3,228        627,886               139,879   \n",
       "\n",
       "Scheme_description  Family Income Supplement  Household Benefits  \\\n",
       "Year                                                               \n",
       "2014                                  50,150              50,394   \n",
       "2015                                  56,623              56,814   \n",
       "2016                                  60,170              63,202   \n",
       "2017                                  61,615              70,583   \n",
       "2018                                     NaN              77,363   \n",
       "\n",
       "Scheme_description  Illness Benefit  Invalidity Pension  Jobseekers Allowance  \\\n",
       "Year                                                                            \n",
       "2014                         94,128              53,912               337,017   \n",
       "2015                         91,032              55,028               314,844   \n",
       "2016                         89,696              55,344               283,644   \n",
       "2017                         89,834              56,911               241,796   \n",
       "2018                         90,158              57,670               204,648   \n",
       "\n",
       "Scheme_description  ...  One Parent Family Payment  \\\n",
       "Year                ...                              \n",
       "2014                ...                     77,165   \n",
       "2015                ...                     58,076   \n",
       "2016                ...                     43,202   \n",
       "2017                ...                     42,109   \n",
       "2018                ...                     41,671   \n",
       "\n",
       "Scheme_description  Pandemic Unemployment Claim  Parents Benefit  \\\n",
       "Year                                                               \n",
       "2014                                        NaN              NaN   \n",
       "2015                                        NaN              NaN   \n",
       "2016                                        NaN              NaN   \n",
       "2017                                        NaN              NaN   \n",
       "2018                                        NaN              NaN   \n",
       "\n",
       "Scheme_description  Paternity Benefit  Rent Supplement  \\\n",
       "Year                                                     \n",
       "2014                              NaN           76,372   \n",
       "2015                              NaN           66,896   \n",
       "2016                            2,350           54,510   \n",
       "2017                            6,657           41,098   \n",
       "2018                            6,330           29,289   \n",
       "\n",
       "Scheme_description  State Pension Contributory  \\\n",
       "Year                                             \n",
       "2014                                   294,875   \n",
       "2015                                   310,200   \n",
       "2016                                   325,614   \n",
       "2017                                   342,028   \n",
       "2018                                   359,004   \n",
       "\n",
       "Scheme_description  State Pension Non Contributory  \\\n",
       "Year                                                 \n",
       "2014                                        96,738   \n",
       "2015                                        96,553   \n",
       "2016                                        96,478   \n",
       "2017                                        96,332   \n",
       "2018                                        96,350   \n",
       "\n",
       "Scheme_description  Widow(er)'s Contributory Pension  \\\n",
       "Year                                                   \n",
       "2014                                         111,021   \n",
       "2015                                         112,239   \n",
       "2016                                         113,427   \n",
       "2017                                         114,382   \n",
       "2018                                         114,880   \n",
       "\n",
       "Scheme_description  Widows Non Contributory Pension  Working Family Payment  \n",
       "Year                                                                         \n",
       "2014                                          1,615                     NaN  \n",
       "2015                                          1,742                     NaN  \n",
       "2016                                          1,608                     NaN  \n",
       "2017                                          1,532                     NaN  \n",
       "2018                                          1,490                  60,004  \n",
       "\n",
       "[5 rows x 22 columns]"
      ]
     },
     "metadata": {},
     "output_type": "display_data"
    },
    {
     "data": {
      "text/html": [
       "<div>\n",
       "<style scoped>\n",
       "    .dataframe tbody tr th:only-of-type {\n",
       "        vertical-align: middle;\n",
       "    }\n",
       "\n",
       "    .dataframe tbody tr th {\n",
       "        vertical-align: top;\n",
       "    }\n",
       "\n",
       "    .dataframe thead th {\n",
       "        text-align: right;\n",
       "    }\n",
       "</style>\n",
       "<table border=\"1\" class=\"dataframe\">\n",
       "  <thead>\n",
       "    <tr style=\"text-align: right;\">\n",
       "      <th>Scheme_description</th>\n",
       "      <th>Child Benefit</th>\n",
       "      <th>Disability Allowance</th>\n",
       "      <th>Jobseekers Allowance</th>\n",
       "      <th>Pandemic Unemployment Claim</th>\n",
       "      <th>State Pension Contributory</th>\n",
       "    </tr>\n",
       "    <tr>\n",
       "      <th>Year</th>\n",
       "      <th></th>\n",
       "      <th></th>\n",
       "      <th></th>\n",
       "      <th></th>\n",
       "      <th></th>\n",
       "    </tr>\n",
       "  </thead>\n",
       "  <tbody>\n",
       "    <tr>\n",
       "      <th>2014</th>\n",
       "      <td>612,862</td>\n",
       "      <td>111,006</td>\n",
       "      <td>337,017</td>\n",
       "      <td>NaN</td>\n",
       "      <td>294,875</td>\n",
       "    </tr>\n",
       "    <tr>\n",
       "      <th>2015</th>\n",
       "      <td>616,349</td>\n",
       "      <td>117,770</td>\n",
       "      <td>314,844</td>\n",
       "      <td>NaN</td>\n",
       "      <td>310,200</td>\n",
       "    </tr>\n",
       "    <tr>\n",
       "      <th>2016</th>\n",
       "      <td>620,443</td>\n",
       "      <td>124,457</td>\n",
       "      <td>283,644</td>\n",
       "      <td>NaN</td>\n",
       "      <td>325,614</td>\n",
       "    </tr>\n",
       "    <tr>\n",
       "      <th>2017</th>\n",
       "      <td>623,448</td>\n",
       "      <td>132,504</td>\n",
       "      <td>241,796</td>\n",
       "      <td>NaN</td>\n",
       "      <td>342,028</td>\n",
       "    </tr>\n",
       "    <tr>\n",
       "      <th>2018</th>\n",
       "      <td>627,886</td>\n",
       "      <td>139,879</td>\n",
       "      <td>204,648</td>\n",
       "      <td>NaN</td>\n",
       "      <td>359,004</td>\n",
       "    </tr>\n",
       "  </tbody>\n",
       "</table>\n",
       "</div>"
      ],
      "text/plain": [
       "Scheme_description  Child Benefit  Disability Allowance  Jobseekers Allowance  \\\n",
       "Year                                                                            \n",
       "2014                      612,862               111,006               337,017   \n",
       "2015                      616,349               117,770               314,844   \n",
       "2016                      620,443               124,457               283,644   \n",
       "2017                      623,448               132,504               241,796   \n",
       "2018                      627,886               139,879               204,648   \n",
       "\n",
       "Scheme_description  Pandemic Unemployment Claim  State Pension Contributory  \n",
       "Year                                                                         \n",
       "2014                                        NaN                     294,875  \n",
       "2015                                        NaN                     310,200  \n",
       "2016                                        NaN                     325,614  \n",
       "2017                                        NaN                     342,028  \n",
       "2018                                        NaN                     359,004  "
      ]
     },
     "metadata": {},
     "output_type": "display_data"
    }
   ],
   "source": [
    "# Pivot table all schemes through the years\n",
    "pvt = mean_scheme_year.pivot(index=\"Year\", columns=\"Scheme_description\", values=\"Recipients\")\n",
    "display(pvt.head())\n",
    "\n",
    "# Pivot table of most uptaken schemes through the years\n",
    "social_programs = most_recipients.pivot(index=\"Year\", columns=\"Scheme_description\", values=\"Recipients\") \n",
    "display(social_programs.head())"
   ]
  },
  {
   "cell_type": "code",
   "execution_count": 1292,
   "id": "fb47dca5",
   "metadata": {},
   "outputs": [
    {
     "data": {
      "image/png": "[encoded data removed]",
      "text/plain": [
       "<Figure size 1000x500 with 1 Axes>"
      ]
     },
     "metadata": {},
     "output_type": "display_data"
    }
   ],
   "source": [
    "# Initialize figure + custom size\n",
    "plt.figure(figsize=(10, 5))\n",
    "\n",
    "# Iterate through each social scheme program creating line plots\n",
    "for column in pvt.columns:\n",
    "    plt.plot(pvt.index, pvt[column], marker='o', label=column)\n",
    "\n",
    "# Set label\n",
    "plt.ylabel(\"Number of recipients\")\n",
    "\n",
    "# Set title\n",
    "plt.title(\"Trends in recipients of Social Protection Programs(2014-2024)\")\n",
    "\n",
    "# Legend and gridconfiguration\n",
    "plt.legend(title='Social protection programs', bbox_to_anchor=(1, 1.02), loc='upper left')\n",
    "plt.grid(axis='x', alpha=0.5)\n",
    "\n",
    "# Display\n",
    "plt.show()"
   ]
  },
  {
   "cell_type": "markdown",
   "id": "0564091e",
   "metadata": {},
   "source": [
    "**Analysis:** Pandemic, pension, child, and jobseeker benefits highlight comparing to other benefits."
   ]
  },
  {
   "cell_type": "code",
   "execution_count": 1293,
   "id": "ea406899",
   "metadata": {},
   "outputs": [
    {
     "data": {
      "application/vnd.plotly.v1+json": {
       "config": {
        "plotlyServerURL": "https://plot.ly"
       },
       "data": [
        {
         "hovertemplate": "<extra></extra>",
         "legendgroup": "",
         "line": {
          "color": "#1F77B4",
          "dash": "solid"
         },
         "marker": {
          "size": 6,
          "symbol": "circle"
         },
         "mode": "markers+lines",
         "name": "",
         "orientation": "v",
         "showlegend": false,
         "type": "scatter",
         "xaxis": "x",
         "yaxis": "y"
        },
        {
         "marker": {
          "size": 6
         },
         "mode": "markers+lines",
         "name": "Child Benefit",
         "type": "scatter",
         "x": [
          2014,
          2015,
          2016,
          2017,
          2018,
          2019,
          2020,
          2021,
          2022,
          2023,
          2024
         ],
         "y": [
          612861.75,
          616348.75,
          620442.75,
          623448,
          627886.5,
          630485.75,
          636945,
          634504.5,
          642482.75,
          654859.25,
          670261.5
         ]
        },
        {
         "marker": {
          "size": 6
         },
         "mode": "markers+lines",
         "name": "Disability Allowance\t",
         "type": "scatter",
         "x": [
          2014,
          2015,
          2016,
          2017,
          2018,
          2019,
          2020,
          2021,
          2022,
          2023,
          2024
         ],
         "y": [
          111005.5,
          117770,
          124456.75,
          132504.5,
          139879,
          146099.75,
          152518.75,
          156425.5,
          158844.5,
          162726,
          167507
         ]
        },
        {
         "marker": {
          "size": 6
         },
         "mode": "markers+lines",
         "name": "Jobseekers Allowance",
         "type": "scatter",
         "x": [
          2014,
          2015,
          2016,
          2017,
          2018,
          2019,
          2020,
          2021,
          2022,
          2023,
          2024
         ],
         "y": [
          337017,
          314844,
          283644.25,
          241796.25,
          204647.5,
          176648,
          164321,
          155606.75,
          164008.5,
          170865.75,
          161925
         ]
        },
        {
         "marker": {
          "size": 6
         },
         "mode": "markers+lines",
         "name": "Pandemic Unemployment Claim",
         "type": "scatter",
         "x": [
          2014,
          2015,
          2016,
          2017,
          2018,
          2019,
          2020,
          2021,
          2022,
          2023,
          2024
         ],
         "y": [
          null,
          null,
          null,
          null,
          null,
          null,
          472590.75,
          346366.25,
          84801,
          null,
          null
         ]
        },
        {
         "marker": {
          "size": 6
         },
         "mode": "markers+lines",
         "name": "State Pension Contributory",
         "type": "scatter",
         "x": [
          2014,
          2015,
          2016,
          2017,
          2018,
          2019,
          2020,
          2021,
          2022,
          2023,
          2024
         ],
         "y": [
          294875.25,
          310200.25,
          325614.5,
          342027.75,
          359003.75,
          378089.5,
          397819.75,
          415879.5,
          434149.25,
          453335.25,
          472558
         ]
        }
       ],
       "layout": {
        "height": 500,
        "legend": {
         "title": {
          "text": "Social Protection Programs"
         },
         "tracegroupgap": 0
        },
        "template": {
         "data": {
          "bar": [
           {
            "error_x": {
             "color": "rgb(36,36,36)"
            },
            "error_y": {
             "color": "rgb(36,36,36)"
            },
            "marker": {
             "line": {
              "color": "white",
              "width": 0.5
             },
             "pattern": {
              "fillmode": "overlay",
              "size": 10,
              "solidity": 0.2
             }
            },
            "type": "bar"
           }
          ],
          "barpolar": [
           {
            "marker": {
             "line": {
              "color": "white",
              "width": 0.5
             },
             "pattern": {
              "fillmode": "overlay",
              "size": 10,
              "solidity": 0.2
             }
            },
            "type": "barpolar"
           }
          ],
          "carpet": [
           {
            "aaxis": {
             "endlinecolor": "rgb(36,36,36)",
             "gridcolor": "white",
             "linecolor": "white",
             "minorgridcolor": "white",
             "startlinecolor": "rgb(36,36,36)"
            },
            "baxis": {
             "endlinecolor": "rgb(36,36,36)",
             "gridcolor": "white",
             "linecolor": "white",
             "minorgridcolor": "white",
             "startlinecolor": "rgb(36,36,36)"
            },
            "type": "carpet"
           }
          ],
          "choropleth": [
           {
            "colorbar": {
             "outlinewidth": 1,
             "tickcolor": "rgb(36,36,36)",
             "ticks": "outside"
            },
            "type": "choropleth"
           }
          ],
          "contour": [
           {
            "colorbar": {
             "outlinewidth": 1,
             "tickcolor": "rgb(36,36,36)",
             "ticks": "outside"
            },
            "colorscale": [
             [
              0,
              "#440154"
             ],
             [
              0.1111111111111111,
              "#482878"
             ],
             [
              0.2222222222222222,
              "#3e4989"
             ],
             [
              0.3333333333333333,
              "#31688e"
             ],
             [
              0.4444444444444444,
              "#26828e"
             ],
             [
              0.5555555555555556,
              "#1f9e89"
             ],
             [
              0.6666666666666666,
              "#35b779"
             ],
             [
              0.7777777777777778,
              "#6ece58"
             ],
             [
              0.8888888888888888,
              "#b5de2b"
             ],
             [
              1,
              "#fde725"
             ]
            ],
            "type": "contour"
           }
          ],
          "contourcarpet": [
           {
            "colorbar": {
             "outlinewidth": 1,
             "tickcolor": "rgb(36,36,36)",
             "ticks": "outside"
            },
            "type": "contourcarpet"
           }
          ],
          "heatmap": [
           {
            "colorbar": {
             "outlinewidth": 1,
             "tickcolor": "rgb(36,36,36)",
             "ticks": "outside"
            },
            "colorscale": [
             [
              0,
              "#440154"
             ],
             [
              0.1111111111111111,
              "#482878"
             ],
             [
              0.2222222222222222,
              "#3e4989"
             ],
             [
              0.3333333333333333,
              "#31688e"
             ],
             [
              0.4444444444444444,
              "#26828e"
             ],
             [
              0.5555555555555556,
              "#1f9e89"
             ],
             [
              0.6666666666666666,
              "#35b779"
             ],
             [
              0.7777777777777778,
              "#6ece58"
             ],
             [
              0.8888888888888888,
              "#b5de2b"
             ],
             [
              1,
              "#fde725"
             ]
            ],
            "type": "heatmap"
           }
          ],
          "heatmapgl": [
           {
            "colorbar": {
             "outlinewidth": 1,
             "tickcolor": "rgb(36,36,36)",
             "ticks": "outside"
            },
            "colorscale": [
             [
              0,
              "#440154"
             ],
             [
              0.1111111111111111,
              "#482878"
             ],
             [
              0.2222222222222222,
              "#3e4989"
             ],
             [
              0.3333333333333333,
              "#31688e"
             ],
             [
              0.4444444444444444,
              "#26828e"
             ],
             [
              0.5555555555555556,
              "#1f9e89"
             ],
             [
              0.6666666666666666,
              "#35b779"
             ],
             [
              0.7777777777777778,
              "#6ece58"
             ],
             [
              0.8888888888888888,
              "#b5de2b"
             ],
             [
              1,
              "#fde725"
             ]
            ],
            "type": "heatmapgl"
           }
          ],
          "histogram": [
           {
            "marker": {
             "line": {
              "color": "white",
              "width": 0.6
             }
            },
            "type": "histogram"
           }
          ],
          "histogram2d": [
           {
            "colorbar": {
             "outlinewidth": 1,
             "tickcolor": "rgb(36,36,36)",
             "ticks": "outside"
            },
            "colorscale": [
             [
              0,
              "#440154"
             ],
             [
              0.1111111111111111,
              "#482878"
             ],
             [
              0.2222222222222222,
              "#3e4989"
             ],
             [
              0.3333333333333333,
              "#31688e"
             ],
             [
              0.4444444444444444,
              "#26828e"
             ],
             [
              0.5555555555555556,
              "#1f9e89"
             ],
             [
              0.6666666666666666,
              "#35b779"
             ],
             [
              0.7777777777777778,
              "#6ece58"
             ],
             [
              0.8888888888888888,
              "#b5de2b"
             ],
             [
              1,
              "#fde725"
             ]
            ],
            "type": "histogram2d"
           }
          ],
          "histogram2dcontour": [
           {
            "colorbar": {
             "outlinewidth": 1,
             "tickcolor": "rgb(36,36,36)",
             "ticks": "outside"
            },
            "colorscale": [
             [
              0,
              "#440154"
             ],
             [
              0.1111111111111111,
              "#482878"
             ],
             [
              0.2222222222222222,
              "#3e4989"
             ],
             [
              0.3333333333333333,
              "#31688e"
             ],
             [
              0.4444444444444444,
              "#26828e"
             ],
             [
              0.5555555555555556,
              "#1f9e89"
             ],
             [
              0.6666666666666666,
              "#35b779"
             ],
             [
              0.7777777777777778,
              "#6ece58"
             ],
             [
              0.8888888888888888,
              "#b5de2b"
             ],
             [
              1,
              "#fde725"
             ]
            ],
            "type": "histogram2dcontour"
           }
          ],
          "mesh3d": [
           {
            "colorbar": {
             "outlinewidth": 1,
             "tickcolor": "rgb(36,36,36)",
             "ticks": "outside"
            },
            "type": "mesh3d"
           }
          ],
          "parcoords": [
           {
            "line": {
             "colorbar": {
              "outlinewidth": 1,
              "tickcolor": "rgb(36,36,36)",
              "ticks": "outside"
             }
            },
            "type": "parcoords"
           }
          ],
          "pie": [
           {
            "automargin": true,
            "type": "pie"
           }
          ],
          "scatter": [
           {
            "fillpattern": {
             "fillmode": "overlay",
             "size": 10,
             "solidity": 0.2
            },
            "type": "scatter"
           }
          ],
          "scatter3d": [
           {
            "line": {
             "colorbar": {
              "outlinewidth": 1,
              "tickcolor": "rgb(36,36,36)",
              "ticks": "outside"
             }
            },
            "marker": {
             "colorbar": {
              "outlinewidth": 1,
              "tickcolor": "rgb(36,36,36)",
              "ticks": "outside"
             }
            },
            "type": "scatter3d"
           }
          ],
          "scattercarpet": [
           {
            "marker": {
             "colorbar": {
              "outlinewidth": 1,
              "tickcolor": "rgb(36,36,36)",
              "ticks": "outside"
             }
            },
            "type": "scattercarpet"
           }
          ],
          "scattergeo": [
           {
            "marker": {
             "colorbar": {
              "outlinewidth": 1,
              "tickcolor": "rgb(36,36,36)",
              "ticks": "outside"
             }
            },
            "type": "scattergeo"
           }
          ],
          "scattergl": [
           {
            "marker": {
             "colorbar": {
              "outlinewidth": 1,
              "tickcolor": "rgb(36,36,36)",
              "ticks": "outside"
             }
            },
            "type": "scattergl"
           }
          ],
          "scattermapbox": [
           {
            "marker": {
             "colorbar": {
              "outlinewidth": 1,
              "tickcolor": "rgb(36,36,36)",
              "ticks": "outside"
             }
            },
            "type": "scattermapbox"
           }
          ],
          "scatterpolar": [
           {
            "marker": {
             "colorbar": {
              "outlinewidth": 1,
              "tickcolor": "rgb(36,36,36)",
              "ticks": "outside"
             }
            },
            "type": "scatterpolar"
           }
          ],
          "scatterpolargl": [
           {
            "marker": {
             "colorbar": {
              "outlinewidth": 1,
              "tickcolor": "rgb(36,36,36)",
              "ticks": "outside"
             }
            },
            "type": "scatterpolargl"
           }
          ],
          "scatterternary": [
           {
            "marker": {
             "colorbar": {
              "outlinewidth": 1,
              "tickcolor": "rgb(36,36,36)",
              "ticks": "outside"
             }
            },
            "type": "scatterternary"
           }
          ],
          "surface": [
           {
            "colorbar": {
             "outlinewidth": 1,
             "tickcolor": "rgb(36,36,36)",
             "ticks": "outside"
            },
            "colorscale": [
             [
              0,
              "#440154"
             ],
             [
              0.1111111111111111,
              "#482878"
             ],
             [
              0.2222222222222222,
              "#3e4989"
             ],
             [
              0.3333333333333333,
              "#31688e"
             ],
             [
              0.4444444444444444,
              "#26828e"
             ],
             [
              0.5555555555555556,
              "#1f9e89"
             ],
             [
              0.6666666666666666,
              "#35b779"
             ],
             [
              0.7777777777777778,
              "#6ece58"
             ],
             [
              0.8888888888888888,
              "#b5de2b"
             ],
             [
              1,
              "#fde725"
             ]
            ],
            "type": "surface"
           }
          ],
          "table": [
           {
            "cells": {
             "fill": {
              "color": "rgb(237,237,237)"
             },
             "line": {
              "color": "white"
             }
            },
            "header": {
             "fill": {
              "color": "rgb(217,217,217)"
             },
             "line": {
              "color": "white"
             }
            },
            "type": "table"
           }
          ]
         },
         "layout": {
          "annotationdefaults": {
           "arrowhead": 0,
           "arrowwidth": 1
          },
          "autotypenumbers": "strict",
          "coloraxis": {
           "colorbar": {
            "outlinewidth": 1,
            "tickcolor": "rgb(36,36,36)",
            "ticks": "outside"
           }
          },
          "colorscale": {
           "diverging": [
            [
             0,
             "rgb(103,0,31)"
            ],
            [
             0.1,
             "rgb(178,24,43)"
            ],
            [
             0.2,
             "rgb(214,96,77)"
            ],
            [
             0.3,
             "rgb(244,165,130)"
            ],
            [
             0.4,
             "rgb(253,219,199)"
            ],
            [
             0.5,
             "rgb(247,247,247)"
            ],
            [
             0.6,
             "rgb(209,229,240)"
            ],
            [
             0.7,
             "rgb(146,197,222)"
            ],
            [
             0.8,
             "rgb(67,147,195)"
            ],
            [
             0.9,
             "rgb(33,102,172)"
            ],
            [
             1,
             "rgb(5,48,97)"
            ]
           ],
           "sequential": [
            [
             0,
             "#440154"
            ],
            [
             0.1111111111111111,
             "#482878"
            ],
            [
             0.2222222222222222,
             "#3e4989"
            ],
            [
             0.3333333333333333,
             "#31688e"
            ],
            [
             0.4444444444444444,
             "#26828e"
            ],
            [
             0.5555555555555556,
             "#1f9e89"
            ],
            [
             0.6666666666666666,
             "#35b779"
            ],
            [
             0.7777777777777778,
             "#6ece58"
            ],
            [
             0.8888888888888888,
             "#b5de2b"
            ],
            [
             1,
             "#fde725"
            ]
           ],
           "sequentialminus": [
            [
             0,
             "#440154"
            ],
            [
             0.1111111111111111,
             "#482878"
            ],
            [
             0.2222222222222222,
             "#3e4989"
            ],
            [
             0.3333333333333333,
             "#31688e"
            ],
            [
             0.4444444444444444,
             "#26828e"
            ],
            [
             0.5555555555555556,
             "#1f9e89"
            ],
            [
             0.6666666666666666,
             "#35b779"
            ],
            [
             0.7777777777777778,
             "#6ece58"
            ],
            [
             0.8888888888888888,
             "#b5de2b"
            ],
            [
             1,
             "#fde725"
            ]
           ]
          },
          "colorway": [
           "#1F77B4",
           "#FF7F0E",
           "#2CA02C",
           "#D62728",
           "#9467BD",
           "#8C564B",
           "#E377C2",
           "#7F7F7F",
           "#BCBD22",
           "#17BECF"
          ],
          "font": {
           "color": "rgb(36,36,36)"
          },
          "geo": {
           "bgcolor": "white",
           "lakecolor": "white",
           "landcolor": "white",
           "showlakes": true,
           "showland": true,
           "subunitcolor": "white"
          },
          "hoverlabel": {
           "align": "left"
          },
          "hovermode": "closest",
          "mapbox": {
           "style": "light"
          },
          "paper_bgcolor": "white",
          "plot_bgcolor": "white",
          "polar": {
           "angularaxis": {
            "gridcolor": "rgb(232,232,232)",
            "linecolor": "rgb(36,36,36)",
            "showgrid": false,
            "showline": true,
            "ticks": "outside"
           },
           "bgcolor": "white",
           "radialaxis": {
            "gridcolor": "rgb(232,232,232)",
            "linecolor": "rgb(36,36,36)",
            "showgrid": false,
            "showline": true,
            "ticks": "outside"
           }
          },
          "scene": {
           "xaxis": {
            "backgroundcolor": "white",
            "gridcolor": "rgb(232,232,232)",
            "gridwidth": 2,
            "linecolor": "rgb(36,36,36)",
            "showbackground": true,
            "showgrid": false,
            "showline": true,
            "ticks": "outside",
            "zeroline": false,
            "zerolinecolor": "rgb(36,36,36)"
           },
           "yaxis": {
            "backgroundcolor": "white",
            "gridcolor": "rgb(232,232,232)",
            "gridwidth": 2,
            "linecolor": "rgb(36,36,36)",
            "showbackground": true,
            "showgrid": false,
            "showline": true,
            "ticks": "outside",
            "zeroline": false,
            "zerolinecolor": "rgb(36,36,36)"
           },
           "zaxis": {
            "backgroundcolor": "white",
            "gridcolor": "rgb(232,232,232)",
            "gridwidth": 2,
            "linecolor": "rgb(36,36,36)",
            "showbackground": true,
            "showgrid": false,
            "showline": true,
            "ticks": "outside",
            "zeroline": false,
            "zerolinecolor": "rgb(36,36,36)"
           }
          },
          "shapedefaults": {
           "fillcolor": "black",
           "line": {
            "width": 0
           },
           "opacity": 0.3
          },
          "ternary": {
           "aaxis": {
            "gridcolor": "rgb(232,232,232)",
            "linecolor": "rgb(36,36,36)",
            "showgrid": false,
            "showline": true,
            "ticks": "outside"
           },
           "baxis": {
            "gridcolor": "rgb(232,232,232)",
            "linecolor": "rgb(36,36,36)",
            "showgrid": false,
            "showline": true,
            "ticks": "outside"
           },
           "bgcolor": "white",
           "caxis": {
            "gridcolor": "rgb(232,232,232)",
            "linecolor": "rgb(36,36,36)",
            "showgrid": false,
            "showline": true,
            "ticks": "outside"
           }
          },
          "title": {
           "x": 0.05
          },
          "xaxis": {
           "automargin": true,
           "gridcolor": "rgb(232,232,232)",
           "linecolor": "rgb(36,36,36)",
           "showgrid": false,
           "showline": true,
           "ticks": "outside",
           "title": {
            "standoff": 15
           },
           "zeroline": false,
           "zerolinecolor": "rgb(36,36,36)"
          },
          "yaxis": {
           "automargin": true,
           "gridcolor": "rgb(232,232,232)",
           "linecolor": "rgb(36,36,36)",
           "showgrid": false,
           "showline": true,
           "ticks": "outside",
           "title": {
            "standoff": 15
           },
           "zeroline": false,
           "zerolinecolor": "rgb(36,36,36)"
          }
         }
        },
        "title": {
         "text": "<b>Trends in recipients of Social Protection Programs</b><br><sup>The five highest recipients (2014-2024)</sup>"
        },
        "width": 850,
        "xaxis": {
         "anchor": "y",
         "domain": [
          0,
          1
         ],
         "showgrid": true,
         "tickfont": {
          "size": 14
         },
         "title": {
          "text": ""
         }
        },
        "yaxis": {
         "anchor": "x",
         "domain": [
          0,
          1
         ],
         "tickfont": {
          "size": 14
         },
         "title": {
          "text": ""
         }
        }
       }
      }
     },
     "metadata": {},
     "output_type": "display_data"
    }
   ],
   "source": [
    "# Define time period\n",
    "years = np.arange(2014, 2025)\n",
    "\n",
    "# Initialize the plot + title and styling\n",
    "fig = px.line(\n",
    "            title='<b>Trends in recipients of Social Protection Programs</b><br><sup>The five highest recipients (2014-2024)</sup>',\n",
    "            template='simple_white',\n",
    "              )\n",
    "\n",
    "# Add social protection program traces to plot\n",
    "fig.add_trace(go.Scatter(x=years, y=social_programs['Child Benefit'], name=\"Child Benefit\"))\n",
    "fig.add_trace(go.Scatter(x=years, y=social_programs['Disability Allowance'], name=\"Disability Allowance\t\"))\n",
    "fig.add_trace(go.Scatter(x=years, y=social_programs['Jobseekers Allowance'], name=\"Jobseekers Allowance\"))\n",
    "fig.add_trace(go.Scatter(x=years, y=social_programs['Pandemic Unemployment Claim'], name=\"Pandemic Unemployment Claim\"))\n",
    "fig.add_trace(go.Scatter(x=years, y=social_programs['State Pension Contributory'], name=\"State Pension Contributory\"))\n",
    "\n",
    "# Axis configuration\n",
    "fig.update_xaxes(tickfont=dict(size=14), title_text='', showgrid=True)\n",
    "fig.update_yaxes(tickfont=dict(size=14), title_text='')\n",
    "\n",
    "# Line and marker style\n",
    "fig.update_traces(mode='markers+lines', marker=dict(size=6))\n",
    "\n",
    "# Layout adjustment\n",
    "fig.update_layout(legend_title='Social Protection Programs', width=850, height=500)"
   ]
  },
  {
   "cell_type": "markdown",
   "id": "b6dee455",
   "metadata": {},
   "source": [
    "![02_fig2](https://raw.githubusercontent.com/vinikcabral/Labour-Force-Social-Welfare-in-Ireland-PYTHON/refs/heads/main/assets/img/02_fig2.png)"
   ]
  },
  {
   "cell_type": "markdown",
   "id": "8df1cfd3",
   "metadata": {},
   "source": [
    "**Analysis:** Pandemic Claim spikes in 2020-2021 and ends in 2022. Child Benefit and State Pension remain in consistent high, Jobseeker steady decline over decade."
   ]
  },
  {
   "cell_type": "markdown",
   "id": "b06eee22",
   "metadata": {},
   "source": [
    "#### 5 most counties with social protection scheme recipients exploration"
   ]
  },
  {
   "cell_type": "code",
   "execution_count": 1294,
   "id": "be4ab7a6",
   "metadata": {},
   "outputs": [
    {
     "data": {
      "text/html": [
       "<div>\n",
       "<style scoped>\n",
       "    .dataframe tbody tr th:only-of-type {\n",
       "        vertical-align: middle;\n",
       "    }\n",
       "\n",
       "    .dataframe tbody tr th {\n",
       "        vertical-align: top;\n",
       "    }\n",
       "\n",
       "    .dataframe thead th {\n",
       "        text-align: right;\n",
       "    }\n",
       "</style>\n",
       "<table border=\"1\" class=\"dataframe\">\n",
       "  <thead>\n",
       "    <tr style=\"text-align: right;\">\n",
       "      <th></th>\n",
       "      <th>Residence_county</th>\n",
       "      <th>Recipients</th>\n",
       "    </tr>\n",
       "  </thead>\n",
       "  <tbody>\n",
       "    <tr>\n",
       "      <th>5</th>\n",
       "      <td>Dublin</td>\n",
       "      <td>6,480,855</td>\n",
       "    </tr>\n",
       "    <tr>\n",
       "      <th>3</th>\n",
       "      <td>Cork</td>\n",
       "      <td>2,765,532</td>\n",
       "    </tr>\n",
       "    <tr>\n",
       "      <th>6</th>\n",
       "      <td>Galway</td>\n",
       "      <td>1,279,202</td>\n",
       "    </tr>\n",
       "    <tr>\n",
       "      <th>8</th>\n",
       "      <td>Kildare</td>\n",
       "      <td>1,098,602</td>\n",
       "    </tr>\n",
       "    <tr>\n",
       "      <th>12</th>\n",
       "      <td>Limerick</td>\n",
       "      <td>1,060,261</td>\n",
       "    </tr>\n",
       "  </tbody>\n",
       "</table>\n",
       "</div>"
      ],
      "text/plain": [
       "   Residence_county  Recipients\n",
       "5            Dublin   6,480,855\n",
       "3              Cork   2,765,532\n",
       "6            Galway   1,279,202\n",
       "8           Kildare   1,098,602\n",
       "12         Limerick   1,060,261"
      ]
     },
     "execution_count": 1294,
     "metadata": {},
     "output_type": "execute_result"
    }
   ],
   "source": [
    "# 5 most recipients by county\n",
    "top5_check = (\n",
    "    mean_df.groupby([\"Residence_county\"])[\"Recipients\"].sum()\n",
    "    .reset_index()\n",
    "    .sort_values([\"Recipients\"], ascending=False))\n",
    "\n",
    "top5_check.head(5)"
   ]
  },
  {
   "cell_type": "code",
   "execution_count": 1295,
   "id": "cc9bee77",
   "metadata": {},
   "outputs": [
    {
     "data": {
      "text/html": [
       "<div>\n",
       "<style scoped>\n",
       "    .dataframe tbody tr th:only-of-type {\n",
       "        vertical-align: middle;\n",
       "    }\n",
       "\n",
       "    .dataframe tbody tr th {\n",
       "        vertical-align: top;\n",
       "    }\n",
       "\n",
       "    .dataframe thead th {\n",
       "        text-align: right;\n",
       "    }\n",
       "</style>\n",
       "<table border=\"1\" class=\"dataframe\">\n",
       "  <thead>\n",
       "    <tr style=\"text-align: right;\">\n",
       "      <th>Residence_county</th>\n",
       "      <th>Cork</th>\n",
       "      <th>Dublin</th>\n",
       "      <th>Galway</th>\n",
       "      <th>Kildare</th>\n",
       "      <th>Limerick</th>\n",
       "    </tr>\n",
       "    <tr>\n",
       "      <th>Year</th>\n",
       "      <th></th>\n",
       "      <th></th>\n",
       "      <th></th>\n",
       "      <th></th>\n",
       "      <th></th>\n",
       "    </tr>\n",
       "  </thead>\n",
       "  <tbody>\n",
       "    <tr>\n",
       "      <th>2014</th>\n",
       "      <td>237,784</td>\n",
       "      <td>549,365</td>\n",
       "      <td>108,686</td>\n",
       "      <td>93,562</td>\n",
       "      <td>91,531</td>\n",
       "    </tr>\n",
       "    <tr>\n",
       "      <th>2015</th>\n",
       "      <td>236,746</td>\n",
       "      <td>547,582</td>\n",
       "      <td>108,385</td>\n",
       "      <td>93,620</td>\n",
       "      <td>90,564</td>\n",
       "    </tr>\n",
       "    <tr>\n",
       "      <th>2016</th>\n",
       "      <td>235,000</td>\n",
       "      <td>545,516</td>\n",
       "      <td>107,825</td>\n",
       "      <td>92,745</td>\n",
       "      <td>89,953</td>\n",
       "    </tr>\n",
       "    <tr>\n",
       "      <th>2017</th>\n",
       "      <td>234,309</td>\n",
       "      <td>544,616</td>\n",
       "      <td>107,199</td>\n",
       "      <td>92,293</td>\n",
       "      <td>89,996</td>\n",
       "    </tr>\n",
       "    <tr>\n",
       "      <th>2018</th>\n",
       "      <td>233,090</td>\n",
       "      <td>541,200</td>\n",
       "      <td>106,778</td>\n",
       "      <td>91,967</td>\n",
       "      <td>89,708</td>\n",
       "    </tr>\n",
       "    <tr>\n",
       "      <th>2019</th>\n",
       "      <td>233,588</td>\n",
       "      <td>541,766</td>\n",
       "      <td>106,841</td>\n",
       "      <td>91,843</td>\n",
       "      <td>89,743</td>\n",
       "    </tr>\n",
       "    <tr>\n",
       "      <th>2020</th>\n",
       "      <td>287,678</td>\n",
       "      <td>702,792</td>\n",
       "      <td>135,976</td>\n",
       "      <td>115,605</td>\n",
       "      <td>109,159</td>\n",
       "    </tr>\n",
       "    <tr>\n",
       "      <th>2021</th>\n",
       "      <td>279,363</td>\n",
       "      <td>684,392</td>\n",
       "      <td>130,817</td>\n",
       "      <td>112,045</td>\n",
       "      <td>106,807</td>\n",
       "    </tr>\n",
       "    <tr>\n",
       "      <th>2022</th>\n",
       "      <td>269,114</td>\n",
       "      <td>632,238</td>\n",
       "      <td>126,355</td>\n",
       "      <td>106,889</td>\n",
       "      <td>103,385</td>\n",
       "    </tr>\n",
       "    <tr>\n",
       "      <th>2023</th>\n",
       "      <td>257,052</td>\n",
       "      <td>590,130</td>\n",
       "      <td>119,157</td>\n",
       "      <td>102,278</td>\n",
       "      <td>99,154</td>\n",
       "    </tr>\n",
       "    <tr>\n",
       "      <th>2024</th>\n",
       "      <td>261,811</td>\n",
       "      <td>601,258</td>\n",
       "      <td>121,183</td>\n",
       "      <td>105,756</td>\n",
       "      <td>100,260</td>\n",
       "    </tr>\n",
       "  </tbody>\n",
       "</table>\n",
       "</div>"
      ],
      "text/plain": [
       "Residence_county    Cork  Dublin  Galway  Kildare  Limerick\n",
       "Year                                                       \n",
       "2014             237,784 549,365 108,686   93,562    91,531\n",
       "2015             236,746 547,582 108,385   93,620    90,564\n",
       "2016             235,000 545,516 107,825   92,745    89,953\n",
       "2017             234,309 544,616 107,199   92,293    89,996\n",
       "2018             233,090 541,200 106,778   91,967    89,708\n",
       "2019             233,588 541,766 106,841   91,843    89,743\n",
       "2020             287,678 702,792 135,976  115,605   109,159\n",
       "2021             279,363 684,392 130,817  112,045   106,807\n",
       "2022             269,114 632,238 126,355  106,889   103,385\n",
       "2023             257,052 590,130 119,157  102,278    99,154\n",
       "2024             261,811 601,258 121,183  105,756   100,260"
      ]
     },
     "execution_count": 1295,
     "metadata": {},
     "output_type": "execute_result"
    }
   ],
   "source": [
    "top5_by_year = (\n",
    "    mean_df.groupby([\"Residence_county\", \"Year\"])[\"Recipients\"].sum()\n",
    "    .reset_index())\n",
    "\n",
    "top5_by_year = top5_by_year[top5_by_year[\"Residence_county\"].isin([\"Dublin\", \"Cork\", \"Galway\", \"Kildare\", \"Limerick\"])]\n",
    "\n",
    "# Pivot table top5 counties\n",
    "pvt_top_5 = top5_by_year.pivot(index=\"Year\", columns=\"Residence_county\", values=\"Recipients\")\n",
    "pvt_top_5"
   ]
  },
  {
   "cell_type": "code",
   "execution_count": 1296,
   "id": "6f123d03",
   "metadata": {},
   "outputs": [
    {
     "data": {
      "application/vnd.plotly.v1+json": {
       "config": {
        "plotlyServerURL": "https://plot.ly"
       },
       "data": [
        {
         "alignmentgroup": "True",
         "hovertemplate": "<extra></extra>",
         "legendgroup": "",
         "marker": {
          "color": "#1F77B4",
          "pattern": {
           "shape": ""
          }
         },
         "name": "",
         "offsetgroup": "",
         "orientation": "v",
         "showlegend": false,
         "textposition": "auto",
         "type": "bar",
         "xaxis": "x",
         "yaxis": "y"
        },
        {
         "name": "Cork",
         "type": "bar",
         "x": [
          2014,
          2015,
          2016,
          2017,
          2018,
          2019,
          2020,
          2021,
          2022,
          2023,
          2024
         ],
         "y": [
          237783.5,
          236745.875,
          235000.375,
          234308.625,
          233089.875,
          233587.5,
          287677.75,
          279362.625,
          269113.75,
          257051.5,
          261811
         ]
        },
        {
         "name": "Dublin",
         "type": "bar",
         "x": [
          2014,
          2015,
          2016,
          2017,
          2018,
          2019,
          2020,
          2021,
          2022,
          2023,
          2024
         ],
         "y": [
          549365.25,
          547581.5416666666,
          545516.5,
          544616.125,
          541200,
          541765.5,
          702791.5,
          684392.25,
          632238.125,
          590130.375,
          601257.75
         ]
        },
        {
         "name": "Galway",
         "type": "bar",
         "x": [
          2014,
          2015,
          2016,
          2017,
          2018,
          2019,
          2020,
          2021,
          2022,
          2023,
          2024
         ],
         "y": [
          108686.25,
          108385.04166666667,
          107824.75,
          107199,
          106778,
          106840.875,
          135976,
          130817.25,
          126355.375,
          119156.875,
          121182.75
         ]
        },
        {
         "name": "Kildare",
         "type": "bar",
         "x": [
          2014,
          2015,
          2016,
          2017,
          2018,
          2019,
          2020,
          2021,
          2022,
          2023,
          2024
         ],
         "y": [
          93561.625,
          93620.5,
          92745,
          92292.875,
          91967.125,
          91843.25,
          115604.875,
          112044.625,
          106888.625,
          102277.625,
          105755.75
         ]
        },
        {
         "name": "Limerick",
         "type": "bar",
         "x": [
          2014,
          2015,
          2016,
          2017,
          2018,
          2019,
          2020,
          2021,
          2022,
          2023,
          2024
         ],
         "y": [
          91531.125,
          90564.04166666667,
          89952.75,
          89995.875,
          89708.125,
          89742.875,
          109159.25,
          106807,
          103385.25,
          99153.75,
          100260.5
         ]
        }
       ],
       "layout": {
        "barmode": "group",
        "height": 500,
        "legend": {
         "title": {
          "text": "Social Protection Schemes"
         },
         "tracegroupgap": 0
        },
        "template": {
         "data": {
          "bar": [
           {
            "error_x": {
             "color": "rgb(36,36,36)"
            },
            "error_y": {
             "color": "rgb(36,36,36)"
            },
            "marker": {
             "line": {
              "color": "white",
              "width": 0.5
             },
             "pattern": {
              "fillmode": "overlay",
              "size": 10,
              "solidity": 0.2
             }
            },
            "type": "bar"
           }
          ],
          "barpolar": [
           {
            "marker": {
             "line": {
              "color": "white",
              "width": 0.5
             },
             "pattern": {
              "fillmode": "overlay",
              "size": 10,
              "solidity": 0.2
             }
            },
            "type": "barpolar"
           }
          ],
          "carpet": [
           {
            "aaxis": {
             "endlinecolor": "rgb(36,36,36)",
             "gridcolor": "white",
             "linecolor": "white",
             "minorgridcolor": "white",
             "startlinecolor": "rgb(36,36,36)"
            },
            "baxis": {
             "endlinecolor": "rgb(36,36,36)",
             "gridcolor": "white",
             "linecolor": "white",
             "minorgridcolor": "white",
             "startlinecolor": "rgb(36,36,36)"
            },
            "type": "carpet"
           }
          ],
          "choropleth": [
           {
            "colorbar": {
             "outlinewidth": 1,
             "tickcolor": "rgb(36,36,36)",
             "ticks": "outside"
            },
            "type": "choropleth"
           }
          ],
          "contour": [
           {
            "colorbar": {
             "outlinewidth": 1,
             "tickcolor": "rgb(36,36,36)",
             "ticks": "outside"
            },
            "colorscale": [
             [
              0,
              "#440154"
             ],
             [
              0.1111111111111111,
              "#482878"
             ],
             [
              0.2222222222222222,
              "#3e4989"
             ],
             [
              0.3333333333333333,
              "#31688e"
             ],
             [
              0.4444444444444444,
              "#26828e"
             ],
             [
              0.5555555555555556,
              "#1f9e89"
             ],
             [
              0.6666666666666666,
              "#35b779"
             ],
             [
              0.7777777777777778,
              "#6ece58"
             ],
             [
              0.8888888888888888,
              "#b5de2b"
             ],
             [
              1,
              "#fde725"
             ]
            ],
            "type": "contour"
           }
          ],
          "contourcarpet": [
           {
            "colorbar": {
             "outlinewidth": 1,
             "tickcolor": "rgb(36,36,36)",
             "ticks": "outside"
            },
            "type": "contourcarpet"
           }
          ],
          "heatmap": [
           {
            "colorbar": {
             "outlinewidth": 1,
             "tickcolor": "rgb(36,36,36)",
             "ticks": "outside"
            },
            "colorscale": [
             [
              0,
              "#440154"
             ],
             [
              0.1111111111111111,
              "#482878"
             ],
             [
              0.2222222222222222,
              "#3e4989"
             ],
             [
              0.3333333333333333,
              "#31688e"
             ],
             [
              0.4444444444444444,
              "#26828e"
             ],
             [
              0.5555555555555556,
              "#1f9e89"
             ],
             [
              0.6666666666666666,
              "#35b779"
             ],
             [
              0.7777777777777778,
              "#6ece58"
             ],
             [
              0.8888888888888888,
              "#b5de2b"
             ],
             [
              1,
              "#fde725"
             ]
            ],
            "type": "heatmap"
           }
          ],
          "heatmapgl": [
           {
            "colorbar": {
             "outlinewidth": 1,
             "tickcolor": "rgb(36,36,36)",
             "ticks": "outside"
            },
            "colorscale": [
             [
              0,
              "#440154"
             ],
             [
              0.1111111111111111,
              "#482878"
             ],
             [
              0.2222222222222222,
              "#3e4989"
             ],
             [
              0.3333333333333333,
              "#31688e"
             ],
             [
              0.4444444444444444,
              "#26828e"
             ],
             [
              0.5555555555555556,
              "#1f9e89"
             ],
             [
              0.6666666666666666,
              "#35b779"
             ],
             [
              0.7777777777777778,
              "#6ece58"
             ],
             [
              0.8888888888888888,
              "#b5de2b"
             ],
             [
              1,
              "#fde725"
             ]
            ],
            "type": "heatmapgl"
           }
          ],
          "histogram": [
           {
            "marker": {
             "line": {
              "color": "white",
              "width": 0.6
             }
            },
            "type": "histogram"
           }
          ],
          "histogram2d": [
           {
            "colorbar": {
             "outlinewidth": 1,
             "tickcolor": "rgb(36,36,36)",
             "ticks": "outside"
            },
            "colorscale": [
             [
              0,
              "#440154"
             ],
             [
              0.1111111111111111,
              "#482878"
             ],
             [
              0.2222222222222222,
              "#3e4989"
             ],
             [
              0.3333333333333333,
              "#31688e"
             ],
             [
              0.4444444444444444,
              "#26828e"
             ],
             [
              0.5555555555555556,
              "#1f9e89"
             ],
             [
              0.6666666666666666,
              "#35b779"
             ],
             [
              0.7777777777777778,
              "#6ece58"
             ],
             [
              0.8888888888888888,
              "#b5de2b"
             ],
             [
              1,
              "#fde725"
             ]
            ],
            "type": "histogram2d"
           }
          ],
          "histogram2dcontour": [
           {
            "colorbar": {
             "outlinewidth": 1,
             "tickcolor": "rgb(36,36,36)",
             "ticks": "outside"
            },
            "colorscale": [
             [
              0,
              "#440154"
             ],
             [
              0.1111111111111111,
              "#482878"
             ],
             [
              0.2222222222222222,
              "#3e4989"
             ],
             [
              0.3333333333333333,
              "#31688e"
             ],
             [
              0.4444444444444444,
              "#26828e"
             ],
             [
              0.5555555555555556,
              "#1f9e89"
             ],
             [
              0.6666666666666666,
              "#35b779"
             ],
             [
              0.7777777777777778,
              "#6ece58"
             ],
             [
              0.8888888888888888,
              "#b5de2b"
             ],
             [
              1,
              "#fde725"
             ]
            ],
            "type": "histogram2dcontour"
           }
          ],
          "mesh3d": [
           {
            "colorbar": {
             "outlinewidth": 1,
             "tickcolor": "rgb(36,36,36)",
             "ticks": "outside"
            },
            "type": "mesh3d"
           }
          ],
          "parcoords": [
           {
            "line": {
             "colorbar": {
              "outlinewidth": 1,
              "tickcolor": "rgb(36,36,36)",
              "ticks": "outside"
             }
            },
            "type": "parcoords"
           }
          ],
          "pie": [
           {
            "automargin": true,
            "type": "pie"
           }
          ],
          "scatter": [
           {
            "fillpattern": {
             "fillmode": "overlay",
             "size": 10,
             "solidity": 0.2
            },
            "type": "scatter"
           }
          ],
          "scatter3d": [
           {
            "line": {
             "colorbar": {
              "outlinewidth": 1,
              "tickcolor": "rgb(36,36,36)",
              "ticks": "outside"
             }
            },
            "marker": {
             "colorbar": {
              "outlinewidth": 1,
              "tickcolor": "rgb(36,36,36)",
              "ticks": "outside"
             }
            },
            "type": "scatter3d"
           }
          ],
          "scattercarpet": [
           {
            "marker": {
             "colorbar": {
              "outlinewidth": 1,
              "tickcolor": "rgb(36,36,36)",
              "ticks": "outside"
             }
            },
            "type": "scattercarpet"
           }
          ],
          "scattergeo": [
           {
            "marker": {
             "colorbar": {
              "outlinewidth": 1,
              "tickcolor": "rgb(36,36,36)",
              "ticks": "outside"
             }
            },
            "type": "scattergeo"
           }
          ],
          "scattergl": [
           {
            "marker": {
             "colorbar": {
              "outlinewidth": 1,
              "tickcolor": "rgb(36,36,36)",
              "ticks": "outside"
             }
            },
            "type": "scattergl"
           }
          ],
          "scattermapbox": [
           {
            "marker": {
             "colorbar": {
              "outlinewidth": 1,
              "tickcolor": "rgb(36,36,36)",
              "ticks": "outside"
             }
            },
            "type": "scattermapbox"
           }
          ],
          "scatterpolar": [
           {
            "marker": {
             "colorbar": {
              "outlinewidth": 1,
              "tickcolor": "rgb(36,36,36)",
              "ticks": "outside"
             }
            },
            "type": "scatterpolar"
           }
          ],
          "scatterpolargl": [
           {
            "marker": {
             "colorbar": {
              "outlinewidth": 1,
              "tickcolor": "rgb(36,36,36)",
              "ticks": "outside"
             }
            },
            "type": "scatterpolargl"
           }
          ],
          "scatterternary": [
           {
            "marker": {
             "colorbar": {
              "outlinewidth": 1,
              "tickcolor": "rgb(36,36,36)",
              "ticks": "outside"
             }
            },
            "type": "scatterternary"
           }
          ],
          "surface": [
           {
            "colorbar": {
             "outlinewidth": 1,
             "tickcolor": "rgb(36,36,36)",
             "ticks": "outside"
            },
            "colorscale": [
             [
              0,
              "#440154"
             ],
             [
              0.1111111111111111,
              "#482878"
             ],
             [
              0.2222222222222222,
              "#3e4989"
             ],
             [
              0.3333333333333333,
              "#31688e"
             ],
             [
              0.4444444444444444,
              "#26828e"
             ],
             [
              0.5555555555555556,
              "#1f9e89"
             ],
             [
              0.6666666666666666,
              "#35b779"
             ],
             [
              0.7777777777777778,
              "#6ece58"
             ],
             [
              0.8888888888888888,
              "#b5de2b"
             ],
             [
              1,
              "#fde725"
             ]
            ],
            "type": "surface"
           }
          ],
          "table": [
           {
            "cells": {
             "fill": {
              "color": "rgb(237,237,237)"
             },
             "line": {
              "color": "white"
             }
            },
            "header": {
             "fill": {
              "color": "rgb(217,217,217)"
             },
             "line": {
              "color": "white"
             }
            },
            "type": "table"
           }
          ]
         },
         "layout": {
          "annotationdefaults": {
           "arrowhead": 0,
           "arrowwidth": 1
          },
          "autotypenumbers": "strict",
          "coloraxis": {
           "colorbar": {
            "outlinewidth": 1,
            "tickcolor": "rgb(36,36,36)",
            "ticks": "outside"
           }
          },
          "colorscale": {
           "diverging": [
            [
             0,
             "rgb(103,0,31)"
            ],
            [
             0.1,
             "rgb(178,24,43)"
            ],
            [
             0.2,
             "rgb(214,96,77)"
            ],
            [
             0.3,
             "rgb(244,165,130)"
            ],
            [
             0.4,
             "rgb(253,219,199)"
            ],
            [
             0.5,
             "rgb(247,247,247)"
            ],
            [
             0.6,
             "rgb(209,229,240)"
            ],
            [
             0.7,
             "rgb(146,197,222)"
            ],
            [
             0.8,
             "rgb(67,147,195)"
            ],
            [
             0.9,
             "rgb(33,102,172)"
            ],
            [
             1,
             "rgb(5,48,97)"
            ]
           ],
           "sequential": [
            [
             0,
             "#440154"
            ],
            [
             0.1111111111111111,
             "#482878"
            ],
            [
             0.2222222222222222,
             "#3e4989"
            ],
            [
             0.3333333333333333,
             "#31688e"
            ],
            [
             0.4444444444444444,
             "#26828e"
            ],
            [
             0.5555555555555556,
             "#1f9e89"
            ],
            [
             0.6666666666666666,
             "#35b779"
            ],
            [
             0.7777777777777778,
             "#6ece58"
            ],
            [
             0.8888888888888888,
             "#b5de2b"
            ],
            [
             1,
             "#fde725"
            ]
           ],
           "sequentialminus": [
            [
             0,
             "#440154"
            ],
            [
             0.1111111111111111,
             "#482878"
            ],
            [
             0.2222222222222222,
             "#3e4989"
            ],
            [
             0.3333333333333333,
             "#31688e"
            ],
            [
             0.4444444444444444,
             "#26828e"
            ],
            [
             0.5555555555555556,
             "#1f9e89"
            ],
            [
             0.6666666666666666,
             "#35b779"
            ],
            [
             0.7777777777777778,
             "#6ece58"
            ],
            [
             0.8888888888888888,
             "#b5de2b"
            ],
            [
             1,
             "#fde725"
            ]
           ]
          },
          "colorway": [
           "#1F77B4",
           "#FF7F0E",
           "#2CA02C",
           "#D62728",
           "#9467BD",
           "#8C564B",
           "#E377C2",
           "#7F7F7F",
           "#BCBD22",
           "#17BECF"
          ],
          "font": {
           "color": "rgb(36,36,36)"
          },
          "geo": {
           "bgcolor": "white",
           "lakecolor": "white",
           "landcolor": "white",
           "showlakes": true,
           "showland": true,
           "subunitcolor": "white"
          },
          "hoverlabel": {
           "align": "left"
          },
          "hovermode": "closest",
          "mapbox": {
           "style": "light"
          },
          "paper_bgcolor": "white",
          "plot_bgcolor": "white",
          "polar": {
           "angularaxis": {
            "gridcolor": "rgb(232,232,232)",
            "linecolor": "rgb(36,36,36)",
            "showgrid": false,
            "showline": true,
            "ticks": "outside"
           },
           "bgcolor": "white",
           "radialaxis": {
            "gridcolor": "rgb(232,232,232)",
            "linecolor": "rgb(36,36,36)",
            "showgrid": false,
            "showline": true,
            "ticks": "outside"
           }
          },
          "scene": {
           "xaxis": {
            "backgroundcolor": "white",
            "gridcolor": "rgb(232,232,232)",
            "gridwidth": 2,
            "linecolor": "rgb(36,36,36)",
            "showbackground": true,
            "showgrid": false,
            "showline": true,
            "ticks": "outside",
            "zeroline": false,
            "zerolinecolor": "rgb(36,36,36)"
           },
           "yaxis": {
            "backgroundcolor": "white",
            "gridcolor": "rgb(232,232,232)",
            "gridwidth": 2,
            "linecolor": "rgb(36,36,36)",
            "showbackground": true,
            "showgrid": false,
            "showline": true,
            "ticks": "outside",
            "zeroline": false,
            "zerolinecolor": "rgb(36,36,36)"
           },
           "zaxis": {
            "backgroundcolor": "white",
            "gridcolor": "rgb(232,232,232)",
            "gridwidth": 2,
            "linecolor": "rgb(36,36,36)",
            "showbackground": true,
            "showgrid": false,
            "showline": true,
            "ticks": "outside",
            "zeroline": false,
            "zerolinecolor": "rgb(36,36,36)"
           }
          },
          "shapedefaults": {
           "fillcolor": "black",
           "line": {
            "width": 0
           },
           "opacity": 0.3
          },
          "ternary": {
           "aaxis": {
            "gridcolor": "rgb(232,232,232)",
            "linecolor": "rgb(36,36,36)",
            "showgrid": false,
            "showline": true,
            "ticks": "outside"
           },
           "baxis": {
            "gridcolor": "rgb(232,232,232)",
            "linecolor": "rgb(36,36,36)",
            "showgrid": false,
            "showline": true,
            "ticks": "outside"
           },
           "bgcolor": "white",
           "caxis": {
            "gridcolor": "rgb(232,232,232)",
            "linecolor": "rgb(36,36,36)",
            "showgrid": false,
            "showline": true,
            "ticks": "outside"
           }
          },
          "title": {
           "x": 0.05
          },
          "xaxis": {
           "automargin": true,
           "gridcolor": "rgb(232,232,232)",
           "linecolor": "rgb(36,36,36)",
           "showgrid": false,
           "showline": true,
           "ticks": "outside",
           "title": {
            "standoff": 15
           },
           "zeroline": false,
           "zerolinecolor": "rgb(36,36,36)"
          },
          "yaxis": {
           "automargin": true,
           "gridcolor": "rgb(232,232,232)",
           "linecolor": "rgb(36,36,36)",
           "showgrid": false,
           "showline": true,
           "ticks": "outside",
           "title": {
            "standoff": 15
           },
           "zeroline": false,
           "zerolinecolor": "rgb(36,36,36)"
          }
         }
        },
        "title": {
         "text": "<b>Trends in Recipients of Social Protection Schemes By County</b><br><sup>The five highest recipients (2014-2024)</sup>"
        },
        "width": 850,
        "xaxis": {
         "anchor": "y",
         "domain": [
          0,
          1
         ],
         "tickfont": {
          "size": 14
         },
         "title": {
          "text": ""
         }
        },
        "yaxis": {
         "anchor": "x",
         "domain": [
          0,
          1
         ],
         "showgrid": true,
         "tickfont": {
          "size": 14
         },
         "title": {
          "text": ""
         }
        }
       }
      }
     },
     "metadata": {},
     "output_type": "display_data"
    }
   ],
   "source": [
    "# Define time period\n",
    "years = np.arange(2014, 2025)\n",
    "\n",
    "# Initialize the barplot + title and styling\n",
    "fig_counties = px.bar(\n",
    "            title='<b>Trends in Recipients of Social Protection Schemes By County</b><br><sup>The five highest recipients (2014-2024)</sup>',\n",
    "            template='simple_white',\n",
    "            )\n",
    "\n",
    "# Add counties top 5 recipients to plot\n",
    "fig_counties.add_trace(go.Bar(x=years, y=pvt_top_5['Cork'], name=\"Cork\"))\n",
    "fig_counties.add_trace(go.Bar(x=years, y=pvt_top_5['Dublin'], name=\"Dublin\"))\n",
    "fig_counties.add_trace(go.Bar(x=years, y=pvt_top_5['Galway'], name=\"Galway\"))\n",
    "fig_counties.add_trace(go.Bar(x=years, y=pvt_top_5['Kildare'], name=\"Kildare\"))\n",
    "fig_counties.add_trace(go.Bar(x=years, y=pvt_top_5['Limerick'], name=\"Limerick\"))\n",
    "\n",
    "# Axis configuration\n",
    "fig_counties.update_xaxes(tickfont=dict(size=14), title_text='')\n",
    "fig_counties.update_yaxes(tickfont=dict(size=14), title_text='', showgrid=True)\n",
    "\n",
    "# Layout adjustment\n",
    "fig_counties.update_layout(legend_title='Social Protection Schemes', width=850, height=500, barmode='group')"
   ]
  },
  {
   "cell_type": "markdown",
   "id": "8ab16bdb",
   "metadata": {},
   "source": [
    "![05_fig1](https://raw.githubusercontent.com/vinikcabral/Labour-Force-Social-Welfare-in-Ireland-PYTHON/refs/heads/main/assets/img/05_fig1.png)"
   ]
  },
  {
   "cell_type": "markdown",
   "id": "45610a98",
   "metadata": {},
   "source": [
    "**Analysis:** Dublin shows highest recipient numbers, followed by cork. All counties follow similar trend patterns."
   ]
  },
  {
   "cell_type": "code",
   "execution_count": 1297,
   "id": "f5e3d0d3",
   "metadata": {},
   "outputs": [
    {
     "data": {
      "text/plain": [
       "<Figure size 1000x500 with 0 Axes>"
      ]
     },
     "metadata": {},
     "output_type": "display_data"
    },
    {
     "data": {
      "image/png": "[encoded data removed]",
      "text/plain": [
       "<Figure size 640x480 with 1 Axes>"
      ]
     },
     "metadata": {},
     "output_type": "display_data"
    }
   ],
   "source": [
    "# Initialize figure with custom size\n",
    "plt.figure(figsize=(10, 5))\n",
    "\n",
    "# Generate box plot from pivot table\n",
    "pvt_top_5.plot(kind='box')\n",
    "\n",
    "# Set labels\n",
    "plt.xlabel('Year')\n",
    "plt.ylabel(\"Number of recipients\")\n",
    "\n",
    "# Set title\n",
    "plt.title(\"Trend of total recipients by county (2014-2024)\")\n",
    "\n",
    "# Display\n",
    "plt.show()"
   ]
  },
  {
   "cell_type": "markdown",
   "id": "4eac30d1",
   "metadata": {},
   "source": [
    "**Analysis:** Dublin has significantly higher recipients totals than other counties, followed by Cork. Similar to last graphic results."
   ]
  },
  {
   "cell_type": "markdown",
   "id": "65cd15d3",
   "metadata": {},
   "source": [
    "#### Linear Regression to evaluate disparities in uptaken schemes are statistically significant over the years, including/excluding \"Pandemic Unemployment Claim\". "
   ]
  },
  {
   "cell_type": "markdown",
   "id": "9b4782e6",
   "metadata": {},
   "source": [
    "**Including Pandemic**"
   ]
  },
  {
   "cell_type": "code",
   "execution_count": 1298,
   "id": "256687aa",
   "metadata": {},
   "outputs": [
    {
     "data": {
      "text/html": [
       "<div>\n",
       "<style scoped>\n",
       "    .dataframe tbody tr th:only-of-type {\n",
       "        vertical-align: middle;\n",
       "    }\n",
       "\n",
       "    .dataframe tbody tr th {\n",
       "        vertical-align: top;\n",
       "    }\n",
       "\n",
       "    .dataframe thead th {\n",
       "        text-align: right;\n",
       "    }\n",
       "</style>\n",
       "<table border=\"1\" class=\"dataframe\">\n",
       "  <thead>\n",
       "    <tr style=\"text-align: right;\">\n",
       "      <th></th>\n",
       "      <th>Year</th>\n",
       "      <th>Recipients</th>\n",
       "    </tr>\n",
       "  </thead>\n",
       "  <tbody>\n",
       "    <tr>\n",
       "      <th>6</th>\n",
       "      <td>2020</td>\n",
       "      <td>2,608,376</td>\n",
       "    </tr>\n",
       "    <tr>\n",
       "      <th>7</th>\n",
       "      <td>2021</td>\n",
       "      <td>2,528,953</td>\n",
       "    </tr>\n",
       "    <tr>\n",
       "      <th>8</th>\n",
       "      <td>2022</td>\n",
       "      <td>2,415,730</td>\n",
       "    </tr>\n",
       "    <tr>\n",
       "      <th>9</th>\n",
       "      <td>2023</td>\n",
       "      <td>2,300,839</td>\n",
       "    </tr>\n",
       "    <tr>\n",
       "      <th>10</th>\n",
       "      <td>2024</td>\n",
       "      <td>2,344,723</td>\n",
       "    </tr>\n",
       "  </tbody>\n",
       "</table>\n",
       "</div>"
      ],
      "text/plain": [
       "    Year  Recipients\n",
       "6   2020   2,608,376\n",
       "7   2021   2,528,953\n",
       "8   2022   2,415,730\n",
       "9   2023   2,300,839\n",
       "10  2024   2,344,723"
      ]
     },
     "execution_count": 1298,
     "metadata": {},
     "output_type": "execute_result"
    }
   ],
   "source": [
    "# Average of recipient for scheme by year including pandemic\n",
    "pd.options.display.float_format = '{:,.0f}'.format # Changing number format\n",
    "\n",
    "pandemic_in = mean_scheme_year.groupby(\"Year\")[\"Recipients\"].sum().reset_index()\n",
    "pandemic_in.tail()"
   ]
  },
  {
   "cell_type": "code",
   "execution_count": 1299,
   "id": "1b40ef8e",
   "metadata": {},
   "outputs": [],
   "source": [
    "# Linear regression pandemic included\n",
    "slope_pandemic_in, intercept_pandemic_in, r_value_pandemic_in, p_value_pandemic_in, std_error_pandemic_in = stats.linregress(pandemic_in['Year'], pandemic_in['Recipients'])"
   ]
  },
  {
   "cell_type": "code",
   "execution_count": 1300,
   "id": "5a78b763",
   "metadata": {},
   "outputs": [
    {
     "name": "stdout",
     "output_type": "stream",
     "text": [
      "Slope: 36501.15757575758\n",
      "Intercept: -71436549.26666668\n",
      "R value: 0.6328783888202555\n",
      "R-squared (The coefficient of determination): 0.400535\n",
      "P value: 0.036623035325861746\n",
      "std_error 14884.937414817854\n"
     ]
    }
   ],
   "source": [
    "# Display result\n",
    "print(\"Slope: \" + str(slope_pandemic_in))\n",
    "print(\"Intercept: \" + str(intercept_pandemic_in))\n",
    "print(\"R value: \" + str(r_value_pandemic_in))\n",
    "print(f\"R-squared (The coefficient of determination): {r_value_pandemic_in**2:.6f}\")\n",
    "print(\"P value: \" + str(p_value_pandemic_in))\n",
    "print(\"std_error \" + str(std_error_pandemic_in))"
   ]
  },
  {
   "cell_type": "markdown",
   "id": "d0e37703",
   "metadata": {},
   "source": [
    "**Result:** Slope suggests recipients increased by ~36.500 people per year on average. R² suggests a weak model fit, with only 40% of variance explained. "
   ]
  },
  {
   "cell_type": "markdown",
   "id": "0420f121",
   "metadata": {},
   "source": [
    "**Excluding Pandemic**"
   ]
  },
  {
   "cell_type": "code",
   "execution_count": 1301,
   "id": "671c059e",
   "metadata": {},
   "outputs": [
    {
     "data": {
      "text/html": [
       "<div>\n",
       "<style scoped>\n",
       "    .dataframe tbody tr th:only-of-type {\n",
       "        vertical-align: middle;\n",
       "    }\n",
       "\n",
       "    .dataframe tbody tr th {\n",
       "        vertical-align: top;\n",
       "    }\n",
       "\n",
       "    .dataframe thead th {\n",
       "        text-align: right;\n",
       "    }\n",
       "</style>\n",
       "<table border=\"1\" class=\"dataframe\">\n",
       "  <thead>\n",
       "    <tr style=\"text-align: right;\">\n",
       "      <th></th>\n",
       "      <th>Year</th>\n",
       "      <th>Recipients</th>\n",
       "    </tr>\n",
       "  </thead>\n",
       "  <tbody>\n",
       "    <tr>\n",
       "      <th>6</th>\n",
       "      <td>2020</td>\n",
       "      <td>2,135,785</td>\n",
       "    </tr>\n",
       "    <tr>\n",
       "      <th>7</th>\n",
       "      <td>2021</td>\n",
       "      <td>2,182,586</td>\n",
       "    </tr>\n",
       "    <tr>\n",
       "      <th>8</th>\n",
       "      <td>2022</td>\n",
       "      <td>2,330,929</td>\n",
       "    </tr>\n",
       "    <tr>\n",
       "      <th>9</th>\n",
       "      <td>2023</td>\n",
       "      <td>2,300,839</td>\n",
       "    </tr>\n",
       "    <tr>\n",
       "      <th>10</th>\n",
       "      <td>2024</td>\n",
       "      <td>2,344,723</td>\n",
       "    </tr>\n",
       "  </tbody>\n",
       "</table>\n",
       "</div>"
      ],
      "text/plain": [
       "    Year  Recipients\n",
       "6   2020   2,135,785\n",
       "7   2021   2,182,586\n",
       "8   2022   2,330,929\n",
       "9   2023   2,300,839\n",
       "10  2024   2,344,723"
      ]
     },
     "execution_count": 1301,
     "metadata": {},
     "output_type": "execute_result"
    }
   ],
   "source": [
    "# Average of recipient for scheme per year excluging pandemic\n",
    "no_pandemic = mean_scheme_year[mean_scheme_year[\"Scheme_description\"] != \"Pandemic Unemployment Claim\"]\n",
    "no_pandemic = no_pandemic.groupby(\"Year\")[\"Recipients\"].sum().reset_index()\n",
    "no_pandemic.tail()"
   ]
  },
  {
   "cell_type": "code",
   "execution_count": 1302,
   "id": "a17b89cb",
   "metadata": {},
   "outputs": [],
   "source": [
    "# Linear regression pandemic excluded\n",
    "slope_no_pan, intercept_no_pan, r_value_no_pan, p_value_no_pan, std_error_no_pan = stats.linregress(no_pandemic['Year'], no_pandemic['Recipients'])"
   ]
  },
  {
   "cell_type": "code",
   "execution_count": 1303,
   "id": "1f355252",
   "metadata": {},
   "outputs": [
    {
     "name": "stdout",
     "output_type": "stream",
     "text": [
      "Slope: 23594.55530303031\n",
      "Intercept: -45460279.096212134\n",
      "R value: 0.7870312799883328\n",
      "R-squared (The coefficient of determination): 0.619418\n",
      "P value: 0.004044593339203742\n",
      "std_error 6164.850309492691\n"
     ]
    }
   ],
   "source": [
    "# Display result\n",
    "print(\"Slope: \" + str(slope_no_pan))\n",
    "print(\"Intercept: \" + str(intercept_no_pan))\n",
    "print(\"R value: \" + str(r_value_no_pan))\n",
    "print(f\"R-squared (The coefficient of determination): {r_value_no_pan**2:.6f}\")\n",
    "print(\"P value: \" + str(p_value_no_pan))\n",
    "print(\"std_error \" + str(std_error_no_pan))"
   ]
  },
  {
   "cell_type": "markdown",
   "id": "d01db3d0",
   "metadata": {},
   "source": [
    "**Results:** Less growth than the last model with ~23.600 people per year. A better model fit with 62% of the variance explained by R². Highly statistically significant with p-value(0.004) < 0.05. "
   ]
  },
  {
   "cell_type": "markdown",
   "id": "137df4c0",
   "metadata": {},
   "source": [
    "**Conclusion:** Pandemic distorts long-term patterns, without it the model shows a strong upward trend."
   ]
  },
  {
   "cell_type": "markdown",
   "id": "2810d613",
   "metadata": {},
   "source": [
    "### Objective 3\n",
    "*I investigate the effectiveness of social protection schemes in the labour force, exploring the relationship between jobseeker (allowance and benefits), and unemployment.*"
   ]
  },
  {
   "cell_type": "markdown",
   "id": "fde321e5",
   "metadata": {},
   "source": [
    "#### Correlation between jobseeker allowance, jobseeker benefit, and unemployment"
   ]
  },
  {
   "cell_type": "code",
   "execution_count": 1304,
   "id": "5f0ae86b",
   "metadata": {},
   "outputs": [],
   "source": [
    "# Calculate average individuals by year and economic status\n",
    "avg_year = (labour_df\n",
    "            .groupby([\"year\", \"economic_status\"])\n",
    "            .agg({\"individuals\": \"mean\"})\n",
    "            .reset_index())"
   ]
  },
  {
   "cell_type": "code",
   "execution_count": 1305,
   "id": "39d0b103",
   "metadata": {},
   "outputs": [
    {
     "name": "stderr",
     "output_type": "stream",
     "text": [
      "C:\\Users\\Student\\AppData\\Local\\Temp\\ipykernel_43332\\545619790.py:6: SettingWithCopyWarning:\n",
      "\n",
      "\n",
      "A value is trying to be set on a copy of a slice from a DataFrame\n",
      "\n",
      "See the caveats in the documentation: https://pandas.pydata.org/pandas-docs/stable/user_guide/indexing.html#returning-a-view-versus-a-copy\n",
      "\n"
     ]
    }
   ],
   "source": [
    "# Filter jobseeker schemes\n",
    "jobseeker_schemes = [\"Jobseekers Allowance\", \"Jobseekers Benefit\"]\n",
    "proportion_scheme = mean_scheme_year[mean_scheme_year[\"Scheme_description\"].isin(jobseeker_schemes)]\n",
    "\n",
    "# Standardize column names\n",
    "proportion_scheme.rename(columns={\n",
    "    \"Scheme_description\": \"scheme_description\",\n",
    "    \"Year\": \"year\", \n",
    "    \"Recipients\": \"recipients\"\n",
    "}, inplace=True)"
   ]
  },
  {
   "cell_type": "code",
   "execution_count": 1306,
   "id": "e856b196",
   "metadata": {},
   "outputs": [],
   "source": [
    "# Calculate proportion by labour force\n",
    "# ==============================================\n",
    "\n",
    "# Total individuals in labour force by year\n",
    "proportion_labour = avg_year[avg_year[\"economic_status\"] == \"In labour force\"]\n",
    "\n",
    "# Merge scheme data with labour force data\n",
    "proportion_scheme = proportion_scheme.merge(proportion_labour, on=\"year\", how=\"left\")\n",
    "\n",
    "# Calculate proportion of recipients in labour force in a new column\n",
    "proportion_scheme[\"proportion by labour\"] = (proportion_scheme[\"recipients\"] / proportion_scheme[\"individuals\"])*100"
   ]
  },
  {
   "cell_type": "code",
   "execution_count": 1307,
   "id": "cf02f32b",
   "metadata": {},
   "outputs": [],
   "source": [
    "# Create pivot table for analysis\n",
    "pvt_proportion = proportion_scheme.pivot(\n",
    "    index=\"year\", \n",
    "    columns=\"scheme_description\", \n",
    "    values=\"proportion by labour\"\n",
    ")"
   ]
  },
  {
   "cell_type": "code",
   "execution_count": 1308,
   "id": "54bba1d8",
   "metadata": {},
   "outputs": [],
   "source": [
    "# Unemployed correlation\n",
    "# ======================================\n",
    "\n",
    "# Unemployed individuals by year\n",
    "unemp_by_year = avg_year[avg_year[\"economic_status\"] == \"Unemployed\"]\n",
    "\n",
    "# Merge schemes proportion with unemployment by year\n",
    "corr_analysis = proportion_scheme.merge(unemp_by_year, on=\"year\", how=\"left\")\n",
    "\n",
    "# Calculate proportion of unemployment in labour force\n",
    "corr_analysis[\"proportion by labour_unem\"] = (corr_analysis[\"individuals_y\"] / corr_analysis[\"individuals_x\"])*100"
   ]
  },
  {
   "cell_type": "code",
   "execution_count": 1309,
   "id": "801576b6",
   "metadata": {},
   "outputs": [],
   "source": [
    "# Filter relevant columns for unemployment proportion analysis\n",
    "select_columns = ['economic_status_y','year', 'individuals_y', 'proportion by labour_unem']\n",
    "unemp_prop = corr_analysis[select_columns][:11]"
   ]
  },
  {
   "cell_type": "code",
   "execution_count": 1310,
   "id": "44d57a71",
   "metadata": {},
   "outputs": [
    {
     "name": "stdout",
     "output_type": "stream",
     "text": [
      "UNEMPLOYMENT PROPORTION DATASET\n"
     ]
    },
    {
     "data": {
      "text/html": [
       "<div>\n",
       "<style scoped>\n",
       "    .dataframe tbody tr th:only-of-type {\n",
       "        vertical-align: middle;\n",
       "    }\n",
       "\n",
       "    .dataframe tbody tr th {\n",
       "        vertical-align: top;\n",
       "    }\n",
       "\n",
       "    .dataframe thead th {\n",
       "        text-align: right;\n",
       "    }\n",
       "</style>\n",
       "<table border=\"1\" class=\"dataframe\">\n",
       "  <thead>\n",
       "    <tr style=\"text-align: right;\">\n",
       "      <th></th>\n",
       "      <th>economic_status_y</th>\n",
       "      <th>year</th>\n",
       "      <th>individuals_y</th>\n",
       "      <th>proportion by labour_unem</th>\n",
       "    </tr>\n",
       "  </thead>\n",
       "  <tbody>\n",
       "    <tr>\n",
       "      <th>0</th>\n",
       "      <td>Unemployed</td>\n",
       "      <td>2014</td>\n",
       "      <td>267,125</td>\n",
       "      <td>12</td>\n",
       "    </tr>\n",
       "    <tr>\n",
       "      <th>1</th>\n",
       "      <td>Unemployed</td>\n",
       "      <td>2015</td>\n",
       "      <td>225,150</td>\n",
       "      <td>10</td>\n",
       "    </tr>\n",
       "    <tr>\n",
       "      <th>2</th>\n",
       "      <td>Unemployed</td>\n",
       "      <td>2016</td>\n",
       "      <td>194,675</td>\n",
       "      <td>8</td>\n",
       "    </tr>\n",
       "    <tr>\n",
       "      <th>3</th>\n",
       "      <td>Unemployed</td>\n",
       "      <td>2017</td>\n",
       "      <td>158,525</td>\n",
       "      <td>7</td>\n",
       "    </tr>\n",
       "    <tr>\n",
       "      <th>4</th>\n",
       "      <td>Unemployed</td>\n",
       "      <td>2018</td>\n",
       "      <td>138,825</td>\n",
       "      <td>6</td>\n",
       "    </tr>\n",
       "  </tbody>\n",
       "</table>\n",
       "</div>"
      ],
      "text/plain": [
       "  economic_status_y  year  individuals_y  proportion by labour_unem\n",
       "0        Unemployed  2014        267,125                         12\n",
       "1        Unemployed  2015        225,150                         10\n",
       "2        Unemployed  2016        194,675                          8\n",
       "3        Unemployed  2017        158,525                          7\n",
       "4        Unemployed  2018        138,825                          6"
      ]
     },
     "metadata": {},
     "output_type": "display_data"
    },
    {
     "name": "stdout",
     "output_type": "stream",
     "text": [
      "\n",
      "SCHEME PROPORTION BY LABOUR FORCE\n"
     ]
    },
    {
     "data": {
      "text/html": [
       "<div>\n",
       "<style scoped>\n",
       "    .dataframe tbody tr th:only-of-type {\n",
       "        vertical-align: middle;\n",
       "    }\n",
       "\n",
       "    .dataframe tbody tr th {\n",
       "        vertical-align: top;\n",
       "    }\n",
       "\n",
       "    .dataframe thead th {\n",
       "        text-align: right;\n",
       "    }\n",
       "</style>\n",
       "<table border=\"1\" class=\"dataframe\">\n",
       "  <thead>\n",
       "    <tr style=\"text-align: right;\">\n",
       "      <th>scheme_description</th>\n",
       "      <th>Jobseekers Allowance</th>\n",
       "      <th>Jobseekers Benefit</th>\n",
       "    </tr>\n",
       "    <tr>\n",
       "      <th>year</th>\n",
       "      <th></th>\n",
       "      <th></th>\n",
       "    </tr>\n",
       "  </thead>\n",
       "  <tbody>\n",
       "    <tr>\n",
       "      <th>2014</th>\n",
       "      <td>15</td>\n",
       "      <td>3</td>\n",
       "    </tr>\n",
       "    <tr>\n",
       "      <th>2015</th>\n",
       "      <td>14</td>\n",
       "      <td>3</td>\n",
       "    </tr>\n",
       "    <tr>\n",
       "      <th>2016</th>\n",
       "      <td>12</td>\n",
       "      <td>3</td>\n",
       "    </tr>\n",
       "    <tr>\n",
       "      <th>2017</th>\n",
       "      <td>10</td>\n",
       "      <td>3</td>\n",
       "    </tr>\n",
       "    <tr>\n",
       "      <th>2018</th>\n",
       "      <td>9</td>\n",
       "      <td>2</td>\n",
       "    </tr>\n",
       "  </tbody>\n",
       "</table>\n",
       "</div>"
      ],
      "text/plain": [
       "scheme_description  Jobseekers Allowance  Jobseekers Benefit\n",
       "year                                                        \n",
       "2014                                  15                   3\n",
       "2015                                  14                   3\n",
       "2016                                  12                   3\n",
       "2017                                  10                   3\n",
       "2018                                   9                   2"
      ]
     },
     "metadata": {},
     "output_type": "display_data"
    }
   ],
   "source": [
    "# Datasets display\n",
    "print(\"UNEMPLOYMENT PROPORTION DATASET\")\n",
    "display(unemp_prop.head())\n",
    "print(\"\\nSCHEME PROPORTION BY LABOUR FORCE\")\n",
    "display(pvt_proportion.head())"
   ]
  },
  {
   "cell_type": "code",
   "execution_count": 1311,
   "id": "85eb095d",
   "metadata": {},
   "outputs": [
    {
     "data": {
      "application/vnd.plotly.v1+json": {
       "config": {
        "plotlyServerURL": "https://plot.ly"
       },
       "data": [
        {
         "hovertemplate": "<extra></extra>",
         "legendgroup": "",
         "line": {
          "color": "#1F77B4",
          "dash": "solid"
         },
         "marker": {
          "size": 6,
          "symbol": "circle"
         },
         "mode": "markers+lines",
         "name": "",
         "orientation": "v",
         "showlegend": false,
         "type": "scatter",
         "xaxis": "x",
         "yaxis": "y"
        },
        {
         "line": {
          "color": "#5E9FF2"
         },
         "marker": {
          "size": 6
         },
         "mode": "markers+lines",
         "name": "Jobeseeker's Allowance",
         "type": "scatter",
         "x": [
          2014,
          2015,
          2016,
          2017,
          2018,
          2019,
          2020,
          2021,
          2022,
          2023,
          2024
         ],
         "y": [
          14.941014785095206,
          13.804103823219924,
          12.189791138424514,
          10.255054976514371,
          8.51341091801608,
          7.186290363590135,
          6.794897241864119,
          6.0144847711812,
          6.039549634976018,
          6.09190494865944,
          5.629432624113475
         ]
        },
        {
         "line": {
          "color": "#30838C"
         },
         "marker": {
          "size": 6
         },
         "mode": "markers+lines",
         "name": "Jobseeker's Benefit",
         "type": "scatter",
         "x": [
          2014,
          2015,
          2016,
          2017,
          2018,
          2019,
          2020,
          2021,
          2022,
          2023,
          2024
         ],
         "y": [
          3.4625052645578878,
          3.0690547176429326,
          2.7628497142120416,
          2.5796019636741487,
          2.468638524019011,
          2.4361657767607423,
          2.6386407807137244,
          2.2303841991341993,
          2.875910258416726,
          2.3604535082715343,
          2.4996523432067863
         ]
        },
        {
         "line": {
          "color": "#F2522E"
         },
         "marker": {
          "size": 6
         },
         "mode": "markers+lines",
         "name": "Unemployment",
         "type": "scatter",
         "x": [
          2014,
          2015,
          2016,
          2017,
          2018,
          2019,
          2020,
          2021,
          2022,
          2023,
          2024
         ],
         "y": [
          11.84248442799193,
          9.87153630305156,
          8.366281318492415,
          6.723357331438932,
          5.775170821503229,
          4.971268751589117,
          5.82123805979407,
          6.187190785405071,
          4.440127781409093,
          4.288184540787221,
          4.356139618968155
         ]
        }
       ],
       "layout": {
        "height": 500,
        "legend": {
         "tracegroupgap": 0
        },
        "template": {
         "data": {
          "bar": [
           {
            "error_x": {
             "color": "rgb(36,36,36)"
            },
            "error_y": {
             "color": "rgb(36,36,36)"
            },
            "marker": {
             "line": {
              "color": "white",
              "width": 0.5
             },
             "pattern": {
              "fillmode": "overlay",
              "size": 10,
              "solidity": 0.2
             }
            },
            "type": "bar"
           }
          ],
          "barpolar": [
           {
            "marker": {
             "line": {
              "color": "white",
              "width": 0.5
             },
             "pattern": {
              "fillmode": "overlay",
              "size": 10,
              "solidity": 0.2
             }
            },
            "type": "barpolar"
           }
          ],
          "carpet": [
           {
            "aaxis": {
             "endlinecolor": "rgb(36,36,36)",
             "gridcolor": "white",
             "linecolor": "white",
             "minorgridcolor": "white",
             "startlinecolor": "rgb(36,36,36)"
            },
            "baxis": {
             "endlinecolor": "rgb(36,36,36)",
             "gridcolor": "white",
             "linecolor": "white",
             "minorgridcolor": "white",
             "startlinecolor": "rgb(36,36,36)"
            },
            "type": "carpet"
           }
          ],
          "choropleth": [
           {
            "colorbar": {
             "outlinewidth": 1,
             "tickcolor": "rgb(36,36,36)",
             "ticks": "outside"
            },
            "type": "choropleth"
           }
          ],
          "contour": [
           {
            "colorbar": {
             "outlinewidth": 1,
             "tickcolor": "rgb(36,36,36)",
             "ticks": "outside"
            },
            "colorscale": [
             [
              0,
              "#440154"
             ],
             [
              0.1111111111111111,
              "#482878"
             ],
             [
              0.2222222222222222,
              "#3e4989"
             ],
             [
              0.3333333333333333,
              "#31688e"
             ],
             [
              0.4444444444444444,
              "#26828e"
             ],
             [
              0.5555555555555556,
              "#1f9e89"
             ],
             [
              0.6666666666666666,
              "#35b779"
             ],
             [
              0.7777777777777778,
              "#6ece58"
             ],
             [
              0.8888888888888888,
              "#b5de2b"
             ],
             [
              1,
              "#fde725"
             ]
            ],
            "type": "contour"
           }
          ],
          "contourcarpet": [
           {
            "colorbar": {
             "outlinewidth": 1,
             "tickcolor": "rgb(36,36,36)",
             "ticks": "outside"
            },
            "type": "contourcarpet"
           }
          ],
          "heatmap": [
           {
            "colorbar": {
             "outlinewidth": 1,
             "tickcolor": "rgb(36,36,36)",
             "ticks": "outside"
            },
            "colorscale": [
             [
              0,
              "#440154"
             ],
             [
              0.1111111111111111,
              "#482878"
             ],
             [
              0.2222222222222222,
              "#3e4989"
             ],
             [
              0.3333333333333333,
              "#31688e"
             ],
             [
              0.4444444444444444,
              "#26828e"
             ],
             [
              0.5555555555555556,
              "#1f9e89"
             ],
             [
              0.6666666666666666,
              "#35b779"
             ],
             [
              0.7777777777777778,
              "#6ece58"
             ],
             [
              0.8888888888888888,
              "#b5de2b"
             ],
             [
              1,
              "#fde725"
             ]
            ],
            "type": "heatmap"
           }
          ],
          "heatmapgl": [
           {
            "colorbar": {
             "outlinewidth": 1,
             "tickcolor": "rgb(36,36,36)",
             "ticks": "outside"
            },
            "colorscale": [
             [
              0,
              "#440154"
             ],
             [
              0.1111111111111111,
              "#482878"
             ],
             [
              0.2222222222222222,
              "#3e4989"
             ],
             [
              0.3333333333333333,
              "#31688e"
             ],
             [
              0.4444444444444444,
              "#26828e"
             ],
             [
              0.5555555555555556,
              "#1f9e89"
             ],
             [
              0.6666666666666666,
              "#35b779"
             ],
             [
              0.7777777777777778,
              "#6ece58"
             ],
             [
              0.8888888888888888,
              "#b5de2b"
             ],
             [
              1,
              "#fde725"
             ]
            ],
            "type": "heatmapgl"
           }
          ],
          "histogram": [
           {
            "marker": {
             "line": {
              "color": "white",
              "width": 0.6
             }
            },
            "type": "histogram"
           }
          ],
          "histogram2d": [
           {
            "colorbar": {
             "outlinewidth": 1,
             "tickcolor": "rgb(36,36,36)",
             "ticks": "outside"
            },
            "colorscale": [
             [
              0,
              "#440154"
             ],
             [
              0.1111111111111111,
              "#482878"
             ],
             [
              0.2222222222222222,
              "#3e4989"
             ],
             [
              0.3333333333333333,
              "#31688e"
             ],
             [
              0.4444444444444444,
              "#26828e"
             ],
             [
              0.5555555555555556,
              "#1f9e89"
             ],
             [
              0.6666666666666666,
              "#35b779"
             ],
             [
              0.7777777777777778,
              "#6ece58"
             ],
             [
              0.8888888888888888,
              "#b5de2b"
             ],
             [
              1,
              "#fde725"
             ]
            ],
            "type": "histogram2d"
           }
          ],
          "histogram2dcontour": [
           {
            "colorbar": {
             "outlinewidth": 1,
             "tickcolor": "rgb(36,36,36)",
             "ticks": "outside"
            },
            "colorscale": [
             [
              0,
              "#440154"
             ],
             [
              0.1111111111111111,
              "#482878"
             ],
             [
              0.2222222222222222,
              "#3e4989"
             ],
             [
              0.3333333333333333,
              "#31688e"
             ],
             [
              0.4444444444444444,
              "#26828e"
             ],
             [
              0.5555555555555556,
              "#1f9e89"
             ],
             [
              0.6666666666666666,
              "#35b779"
             ],
             [
              0.7777777777777778,
              "#6ece58"
             ],
             [
              0.8888888888888888,
              "#b5de2b"
             ],
             [
              1,
              "#fde725"
             ]
            ],
            "type": "histogram2dcontour"
           }
          ],
          "mesh3d": [
           {
            "colorbar": {
             "outlinewidth": 1,
             "tickcolor": "rgb(36,36,36)",
             "ticks": "outside"
            },
            "type": "mesh3d"
           }
          ],
          "parcoords": [
           {
            "line": {
             "colorbar": {
              "outlinewidth": 1,
              "tickcolor": "rgb(36,36,36)",
              "ticks": "outside"
             }
            },
            "type": "parcoords"
           }
          ],
          "pie": [
           {
            "automargin": true,
            "type": "pie"
           }
          ],
          "scatter": [
           {
            "fillpattern": {
             "fillmode": "overlay",
             "size": 10,
             "solidity": 0.2
            },
            "type": "scatter"
           }
          ],
          "scatter3d": [
           {
            "line": {
             "colorbar": {
              "outlinewidth": 1,
              "tickcolor": "rgb(36,36,36)",
              "ticks": "outside"
             }
            },
            "marker": {
             "colorbar": {
              "outlinewidth": 1,
              "tickcolor": "rgb(36,36,36)",
              "ticks": "outside"
             }
            },
            "type": "scatter3d"
           }
          ],
          "scattercarpet": [
           {
            "marker": {
             "colorbar": {
              "outlinewidth": 1,
              "tickcolor": "rgb(36,36,36)",
              "ticks": "outside"
             }
            },
            "type": "scattercarpet"
           }
          ],
          "scattergeo": [
           {
            "marker": {
             "colorbar": {
              "outlinewidth": 1,
              "tickcolor": "rgb(36,36,36)",
              "ticks": "outside"
             }
            },
            "type": "scattergeo"
           }
          ],
          "scattergl": [
           {
            "marker": {
             "colorbar": {
              "outlinewidth": 1,
              "tickcolor": "rgb(36,36,36)",
              "ticks": "outside"
             }
            },
            "type": "scattergl"
           }
          ],
          "scattermapbox": [
           {
            "marker": {
             "colorbar": {
              "outlinewidth": 1,
              "tickcolor": "rgb(36,36,36)",
              "ticks": "outside"
             }
            },
            "type": "scattermapbox"
           }
          ],
          "scatterpolar": [
           {
            "marker": {
             "colorbar": {
              "outlinewidth": 1,
              "tickcolor": "rgb(36,36,36)",
              "ticks": "outside"
             }
            },
            "type": "scatterpolar"
           }
          ],
          "scatterpolargl": [
           {
            "marker": {
             "colorbar": {
              "outlinewidth": 1,
              "tickcolor": "rgb(36,36,36)",
              "ticks": "outside"
             }
            },
            "type": "scatterpolargl"
           }
          ],
          "scatterternary": [
           {
            "marker": {
             "colorbar": {
              "outlinewidth": 1,
              "tickcolor": "rgb(36,36,36)",
              "ticks": "outside"
             }
            },
            "type": "scatterternary"
           }
          ],
          "surface": [
           {
            "colorbar": {
             "outlinewidth": 1,
             "tickcolor": "rgb(36,36,36)",
             "ticks": "outside"
            },
            "colorscale": [
             [
              0,
              "#440154"
             ],
             [
              0.1111111111111111,
              "#482878"
             ],
             [
              0.2222222222222222,
              "#3e4989"
             ],
             [
              0.3333333333333333,
              "#31688e"
             ],
             [
              0.4444444444444444,
              "#26828e"
             ],
             [
              0.5555555555555556,
              "#1f9e89"
             ],
             [
              0.6666666666666666,
              "#35b779"
             ],
             [
              0.7777777777777778,
              "#6ece58"
             ],
             [
              0.8888888888888888,
              "#b5de2b"
             ],
             [
              1,
              "#fde725"
             ]
            ],
            "type": "surface"
           }
          ],
          "table": [
           {
            "cells": {
             "fill": {
              "color": "rgb(237,237,237)"
             },
             "line": {
              "color": "white"
             }
            },
            "header": {
             "fill": {
              "color": "rgb(217,217,217)"
             },
             "line": {
              "color": "white"
             }
            },
            "type": "table"
           }
          ]
         },
         "layout": {
          "annotationdefaults": {
           "arrowhead": 0,
           "arrowwidth": 1
          },
          "autotypenumbers": "strict",
          "coloraxis": {
           "colorbar": {
            "outlinewidth": 1,
            "tickcolor": "rgb(36,36,36)",
            "ticks": "outside"
           }
          },
          "colorscale": {
           "diverging": [
            [
             0,
             "rgb(103,0,31)"
            ],
            [
             0.1,
             "rgb(178,24,43)"
            ],
            [
             0.2,
             "rgb(214,96,77)"
            ],
            [
             0.3,
             "rgb(244,165,130)"
            ],
            [
             0.4,
             "rgb(253,219,199)"
            ],
            [
             0.5,
             "rgb(247,247,247)"
            ],
            [
             0.6,
             "rgb(209,229,240)"
            ],
            [
             0.7,
             "rgb(146,197,222)"
            ],
            [
             0.8,
             "rgb(67,147,195)"
            ],
            [
             0.9,
             "rgb(33,102,172)"
            ],
            [
             1,
             "rgb(5,48,97)"
            ]
           ],
           "sequential": [
            [
             0,
             "#440154"
            ],
            [
             0.1111111111111111,
             "#482878"
            ],
            [
             0.2222222222222222,
             "#3e4989"
            ],
            [
             0.3333333333333333,
             "#31688e"
            ],
            [
             0.4444444444444444,
             "#26828e"
            ],
            [
             0.5555555555555556,
             "#1f9e89"
            ],
            [
             0.6666666666666666,
             "#35b779"
            ],
            [
             0.7777777777777778,
             "#6ece58"
            ],
            [
             0.8888888888888888,
             "#b5de2b"
            ],
            [
             1,
             "#fde725"
            ]
           ],
           "sequentialminus": [
            [
             0,
             "#440154"
            ],
            [
             0.1111111111111111,
             "#482878"
            ],
            [
             0.2222222222222222,
             "#3e4989"
            ],
            [
             0.3333333333333333,
             "#31688e"
            ],
            [
             0.4444444444444444,
             "#26828e"
            ],
            [
             0.5555555555555556,
             "#1f9e89"
            ],
            [
             0.6666666666666666,
             "#35b779"
            ],
            [
             0.7777777777777778,
             "#6ece58"
            ],
            [
             0.8888888888888888,
             "#b5de2b"
            ],
            [
             1,
             "#fde725"
            ]
           ]
          },
          "colorway": [
           "#1F77B4",
           "#FF7F0E",
           "#2CA02C",
           "#D62728",
           "#9467BD",
           "#8C564B",
           "#E377C2",
           "#7F7F7F",
           "#BCBD22",
           "#17BECF"
          ],
          "font": {
           "color": "rgb(36,36,36)"
          },
          "geo": {
           "bgcolor": "white",
           "lakecolor": "white",
           "landcolor": "white",
           "showlakes": true,
           "showland": true,
           "subunitcolor": "white"
          },
          "hoverlabel": {
           "align": "left"
          },
          "hovermode": "closest",
          "mapbox": {
           "style": "light"
          },
          "paper_bgcolor": "white",
          "plot_bgcolor": "white",
          "polar": {
           "angularaxis": {
            "gridcolor": "rgb(232,232,232)",
            "linecolor": "rgb(36,36,36)",
            "showgrid": false,
            "showline": true,
            "ticks": "outside"
           },
           "bgcolor": "white",
           "radialaxis": {
            "gridcolor": "rgb(232,232,232)",
            "linecolor": "rgb(36,36,36)",
            "showgrid": false,
            "showline": true,
            "ticks": "outside"
           }
          },
          "scene": {
           "xaxis": {
            "backgroundcolor": "white",
            "gridcolor": "rgb(232,232,232)",
            "gridwidth": 2,
            "linecolor": "rgb(36,36,36)",
            "showbackground": true,
            "showgrid": false,
            "showline": true,
            "ticks": "outside",
            "zeroline": false,
            "zerolinecolor": "rgb(36,36,36)"
           },
           "yaxis": {
            "backgroundcolor": "white",
            "gridcolor": "rgb(232,232,232)",
            "gridwidth": 2,
            "linecolor": "rgb(36,36,36)",
            "showbackground": true,
            "showgrid": false,
            "showline": true,
            "ticks": "outside",
            "zeroline": false,
            "zerolinecolor": "rgb(36,36,36)"
           },
           "zaxis": {
            "backgroundcolor": "white",
            "gridcolor": "rgb(232,232,232)",
            "gridwidth": 2,
            "linecolor": "rgb(36,36,36)",
            "showbackground": true,
            "showgrid": false,
            "showline": true,
            "ticks": "outside",
            "zeroline": false,
            "zerolinecolor": "rgb(36,36,36)"
           }
          },
          "shapedefaults": {
           "fillcolor": "black",
           "line": {
            "width": 0
           },
           "opacity": 0.3
          },
          "ternary": {
           "aaxis": {
            "gridcolor": "rgb(232,232,232)",
            "linecolor": "rgb(36,36,36)",
            "showgrid": false,
            "showline": true,
            "ticks": "outside"
           },
           "baxis": {
            "gridcolor": "rgb(232,232,232)",
            "linecolor": "rgb(36,36,36)",
            "showgrid": false,
            "showline": true,
            "ticks": "outside"
           },
           "bgcolor": "white",
           "caxis": {
            "gridcolor": "rgb(232,232,232)",
            "linecolor": "rgb(36,36,36)",
            "showgrid": false,
            "showline": true,
            "ticks": "outside"
           }
          },
          "title": {
           "x": 0.05
          },
          "xaxis": {
           "automargin": true,
           "gridcolor": "rgb(232,232,232)",
           "linecolor": "rgb(36,36,36)",
           "showgrid": false,
           "showline": true,
           "ticks": "outside",
           "title": {
            "standoff": 15
           },
           "zeroline": false,
           "zerolinecolor": "rgb(36,36,36)"
          },
          "yaxis": {
           "automargin": true,
           "gridcolor": "rgb(232,232,232)",
           "linecolor": "rgb(36,36,36)",
           "showgrid": false,
           "showline": true,
           "ticks": "outside",
           "title": {
            "standoff": 15
           },
           "zeroline": false,
           "zerolinecolor": "rgb(36,36,36)"
          }
         }
        },
        "title": {
         "text": "<b>Jobseeker's Allowance, Benefit and Unemployment trend</b><br><sup>Proportion of the labour force (2014-2024)</sup>"
        },
        "width": 850,
        "xaxis": {
         "anchor": "y",
         "domain": [
          0,
          1
         ],
         "showgrid": true,
         "tickfont": {
          "size": 14
         },
         "title": {
          "text": ""
         }
        },
        "yaxis": {
         "anchor": "x",
         "domain": [
          0,
          1
         ],
         "tickfont": {
          "size": 14
         },
         "title": {
          "text": "(%)"
         }
        }
       }
      }
     },
     "metadata": {},
     "output_type": "display_data"
    }
   ],
   "source": [
    "# Define time period\n",
    "years = np.arange(2014, 2025)\n",
    "\n",
    "# Initialize the plot + title and styling\n",
    "fig_4 = px.line(\n",
    "            title=\"<b>Jobseeker's Allowance, Benefit and Unemployment trend</b><br><sup>Proportion of the labour force (2014-2024)</sup>\",\n",
    "            template='simple_white',\n",
    "                )\n",
    "\n",
    "# Add proportion by schemes traces to plot\n",
    "fig_4.add_trace(go.Scatter(x=years, y=pvt_proportion['Jobseekers Allowance'], name=\"Jobeseeker's Allowance\", line=dict(color=\"#5E9FF2\")))\n",
    "fig_4.add_trace(go.Scatter(x=years, y=pvt_proportion['Jobseekers Benefit'], name=\"Jobseeker's Benefit\", line=dict(color=\"#30838C\")))\n",
    "fig_4.add_trace(go.Scatter(x=years, y=unemp_prop['proportion by labour_unem'], name=\"Unemployment\", line=dict(color=\"#F2522E\")))\n",
    "\n",
    "# Axis configuration\n",
    "fig_4.update_xaxes(tickfont=dict(size=14), title_text='', showgrid=True)\n",
    "fig_4.update_yaxes(tickfont=dict(size=14), title_text='(%)')\n",
    "\n",
    "# Line and marker style\n",
    "fig_4.update_traces(mode='markers+lines', marker=dict(size=6))\n",
    "\n",
    "# Layout adjustment\n",
    "fig_4.update_layout(width=850, height=500)"
   ]
  },
  {
   "cell_type": "markdown",
   "id": "574842e8",
   "metadata": {},
   "source": [
    "![03_fig1](https://raw.githubusercontent.com/vinikcabral/Labour-Force-Social-Welfare-in-Ireland-PYTHON/refs/heads/main/assets/img/03_fig1.png)"
   ]
  },
  {
   "cell_type": "markdown",
   "id": "0cb383c9",
   "metadata": {},
   "source": [
    "**Analysis:** All schemes had a dramatically spike in the last decade. Indicating improving Labour Force."
   ]
  },
  {
   "cell_type": "markdown",
   "id": "55f9b9fc",
   "metadata": {},
   "source": [
    "#### Linear regression calculation and graphics"
   ]
  },
  {
   "cell_type": "code",
   "execution_count": 1312,
   "id": "2113a5f9",
   "metadata": {},
   "outputs": [],
   "source": [
    "# Filter jobseeker scheme\n",
    "allowance_plot = corr_analysis[corr_analysis[\"scheme_description\"] == \"Jobseekers Allowance\"]\n",
    "benefit_plot = corr_analysis[corr_analysis[\"scheme_description\"] == \"Jobseekers Benefit\"]"
   ]
  },
  {
   "cell_type": "code",
   "execution_count": 1313,
   "id": "423c08f9",
   "metadata": {},
   "outputs": [
    {
     "data": {
      "text/html": [
       "<div>\n",
       "<style scoped>\n",
       "    .dataframe tbody tr th:only-of-type {\n",
       "        vertical-align: middle;\n",
       "    }\n",
       "\n",
       "    .dataframe tbody tr th {\n",
       "        vertical-align: top;\n",
       "    }\n",
       "\n",
       "    .dataframe thead th {\n",
       "        text-align: right;\n",
       "    }\n",
       "</style>\n",
       "<table border=\"1\" class=\"dataframe\">\n",
       "  <thead>\n",
       "    <tr style=\"text-align: right;\">\n",
       "      <th></th>\n",
       "      <th>scheme_description</th>\n",
       "      <th>year</th>\n",
       "      <th>recipients</th>\n",
       "      <th>economic_status_x</th>\n",
       "      <th>individuals_x</th>\n",
       "      <th>proportion by labour</th>\n",
       "      <th>economic_status_y</th>\n",
       "      <th>individuals_y</th>\n",
       "      <th>proportion by labour_unem</th>\n",
       "    </tr>\n",
       "  </thead>\n",
       "  <tbody>\n",
       "    <tr>\n",
       "      <th>0</th>\n",
       "      <td>Jobseekers Allowance</td>\n",
       "      <td>2014</td>\n",
       "      <td>337,017</td>\n",
       "      <td>In labour force</td>\n",
       "      <td>2,255,650</td>\n",
       "      <td>15</td>\n",
       "      <td>Unemployed</td>\n",
       "      <td>267,125</td>\n",
       "      <td>12</td>\n",
       "    </tr>\n",
       "    <tr>\n",
       "      <th>1</th>\n",
       "      <td>Jobseekers Allowance</td>\n",
       "      <td>2015</td>\n",
       "      <td>314,844</td>\n",
       "      <td>In labour force</td>\n",
       "      <td>2,280,800</td>\n",
       "      <td>14</td>\n",
       "      <td>Unemployed</td>\n",
       "      <td>225,150</td>\n",
       "      <td>10</td>\n",
       "    </tr>\n",
       "    <tr>\n",
       "      <th>2</th>\n",
       "      <td>Jobseekers Allowance</td>\n",
       "      <td>2016</td>\n",
       "      <td>283,644</td>\n",
       "      <td>In labour force</td>\n",
       "      <td>2,326,900</td>\n",
       "      <td>12</td>\n",
       "      <td>Unemployed</td>\n",
       "      <td>194,675</td>\n",
       "      <td>8</td>\n",
       "    </tr>\n",
       "    <tr>\n",
       "      <th>3</th>\n",
       "      <td>Jobseekers Allowance</td>\n",
       "      <td>2017</td>\n",
       "      <td>241,796</td>\n",
       "      <td>In labour force</td>\n",
       "      <td>2,357,825</td>\n",
       "      <td>10</td>\n",
       "      <td>Unemployed</td>\n",
       "      <td>158,525</td>\n",
       "      <td>7</td>\n",
       "    </tr>\n",
       "    <tr>\n",
       "      <th>4</th>\n",
       "      <td>Jobseekers Allowance</td>\n",
       "      <td>2018</td>\n",
       "      <td>204,648</td>\n",
       "      <td>In labour force</td>\n",
       "      <td>2,403,825</td>\n",
       "      <td>9</td>\n",
       "      <td>Unemployed</td>\n",
       "      <td>138,825</td>\n",
       "      <td>6</td>\n",
       "    </tr>\n",
       "  </tbody>\n",
       "</table>\n",
       "</div>"
      ],
      "text/plain": [
       "     scheme_description  year  recipients economic_status_x  individuals_x  \\\n",
       "0  Jobseekers Allowance  2014     337,017   In labour force      2,255,650   \n",
       "1  Jobseekers Allowance  2015     314,844   In labour force      2,280,800   \n",
       "2  Jobseekers Allowance  2016     283,644   In labour force      2,326,900   \n",
       "3  Jobseekers Allowance  2017     241,796   In labour force      2,357,825   \n",
       "4  Jobseekers Allowance  2018     204,648   In labour force      2,403,825   \n",
       "\n",
       "   proportion by labour economic_status_y  individuals_y  \\\n",
       "0                    15        Unemployed        267,125   \n",
       "1                    14        Unemployed        225,150   \n",
       "2                    12        Unemployed        194,675   \n",
       "3                    10        Unemployed        158,525   \n",
       "4                     9        Unemployed        138,825   \n",
       "\n",
       "   proportion by labour_unem  \n",
       "0                         12  \n",
       "1                         10  \n",
       "2                          8  \n",
       "3                          7  \n",
       "4                          6  "
      ]
     },
     "execution_count": 1313,
     "metadata": {},
     "output_type": "execute_result"
    }
   ],
   "source": [
    "allowance_plot.head()"
   ]
  },
  {
   "cell_type": "code",
   "execution_count": 1314,
   "id": "a0f0a0e7",
   "metadata": {},
   "outputs": [
    {
     "data": {
      "image/png": "[encoded data removed]",
      "text/plain": [
       "<Figure size 640x480 with 1 Axes>"
      ]
     },
     "metadata": {},
     "output_type": "display_data"
    }
   ],
   "source": [
    "# Linear Regression\n",
    "# ====================================\n",
    "\n",
    "# Calculate linear regression \n",
    "m, b = np.polyfit(allowance_plot['recipients'], allowance_plot['individuals_y'], 1)\n",
    "\n",
    "# Plot data\n",
    "plt.plot(allowance_plot['recipients'],  allowance_plot['individuals_y'], 'o')\n",
    "plt.plot(allowance_plot['recipients'], m*allowance_plot['recipients']+b, color=\"red\" )\n",
    "\n",
    "# Set label\n",
    "plt.xlabel(\"Number of Recipients\")\n",
    "plt.ylabel(\"Total unemployed individuals\")\n",
    "\n",
    "# Set title\n",
    "plt.title(\"Jobseeker Allowance Recipients vs Total Unemployed\")\n",
    "\n",
    "# Display\n",
    "plt.show()"
   ]
  },
  {
   "cell_type": "markdown",
   "id": "74241fe9",
   "metadata": {},
   "source": [
    "**Analysis:** Strong positive correlation between Jobseeker allowance and Unemployment. Indicates that Jobseeker complements Unemployment individuals very well."
   ]
  },
  {
   "cell_type": "code",
   "execution_count": 1315,
   "id": "28686b33",
   "metadata": {},
   "outputs": [],
   "source": [
    "# Perform linear regression analysis\n",
    "slope_a, intercept_a, r_value_a, p_value_a, std_error_a = stats.linregress(allowance_plot['recipients'], allowance_plot['individuals_y'])"
   ]
  },
  {
   "cell_type": "code",
   "execution_count": 1316,
   "id": "31ad7f6c",
   "metadata": {},
   "outputs": [
    {
     "name": "stdout",
     "output_type": "stream",
     "text": [
      "Slope: 0.6652801142692174\n",
      "Intercept: 17567.65253214416\n",
      "R value: 0.9240073803512334\n",
      "R-squared (The coefficient of determination): 0.853790\n",
      "P value: 4.8189045716703876e-05\n",
      "std_error 0.09176919502936996\n"
     ]
    }
   ],
   "source": [
    "# Display results\n",
    "print(\"Slope: \" + str(slope_a))\n",
    "print(\"Intercept: \" + str(intercept_a))\n",
    "print(\"R value: \" + str(r_value_a))\n",
    "print(f\"R-squared (The coefficient of determination): {r_value_a**2:.6f}\")\n",
    "print(\"P value: \" + str(p_value_a))\n",
    "print(\"std_error \" + str(std_error_a))"
   ]
  },
  {
   "cell_type": "code",
   "execution_count": 1317,
   "id": "fa9f17e8",
   "metadata": {},
   "outputs": [
    {
     "data": {
      "image/png": "[encoded data removed]",
      "text/plain": [
       "<Figure size 640x480 with 1 Axes>"
      ]
     },
     "metadata": {},
     "output_type": "display_data"
    }
   ],
   "source": [
    "# Linear Regression\n",
    "# ====================================\n",
    "\n",
    "# Calculate linear regression \n",
    "m, b = np.polyfit(benefit_plot['recipients'], benefit_plot['individuals_y'], 1)\n",
    "\n",
    "# Plot data\n",
    "plt.plot(benefit_plot['recipients'],  benefit_plot['individuals_y'], 'o', label='original data')\n",
    "plt.plot(benefit_plot['recipients'], m*benefit_plot['recipients']+b, color=\"red\" )\n",
    "\n",
    "# Set label\n",
    "plt.xlabel(\"Number of Recipients\")\n",
    "plt.ylabel(\"Total unemployed individuals\")\n",
    "\n",
    "# Set title\n",
    "plt.title(\"Jobseeker Benefit Recipients vs Total Unemployed\")\n",
    "\n",
    "# Display\n",
    "plt.show()"
   ]
  },
  {
   "cell_type": "markdown",
   "id": "482a0092",
   "metadata": {},
   "source": [
    "**Analysis:** Jobseeker Benefit had a weaker correlation comparing to Jobseeker Allowance. Less useful to understand Unemployment compared to Allowance. "
   ]
  },
  {
   "cell_type": "code",
   "execution_count": 1318,
   "id": "17e1b143",
   "metadata": {},
   "outputs": [],
   "source": [
    "# Perform linear regression analysis\n",
    "slope_b, intercept_b, r_value_b, p_value_b, std_error_b = stats.linregress(benefit_plot['recipients'], benefit_plot['individuals_y'])"
   ]
  },
  {
   "cell_type": "code",
   "execution_count": 1319,
   "id": "67105176",
   "metadata": {},
   "outputs": [
    {
     "name": "stdout",
     "output_type": "stream",
     "text": [
      "Slope: 2.321762500960541\n",
      "Intercept: 7113.690809820895\n",
      "R value: 0.34780432294370495\n",
      "R-squared (The coefficient of determination): 0.120968\n",
      "P value: 0.2945939939942242\n",
      "std_error 2.08623843707978\n"
     ]
    }
   ],
   "source": [
    "# Display results\n",
    "print(\"Slope: \" + str(slope_b))\n",
    "print(\"Intercept: \" + str(intercept_b))\n",
    "print(\"R value: \" + str(r_value_b))\n",
    "print(f\"R-squared (The coefficient of determination): {r_value_b**2:.6f}\")\n",
    "print(\"P value: \" + str(p_value_b))\n",
    "print(\"std_error \" + str(std_error_b))"
   ]
  },
  {
   "cell_type": "markdown",
   "id": "dd546ae7",
   "metadata": {},
   "source": [
    "**Conclusion:** Jobseeker's Allowance effectively tracks unemployment trends, confirming its role as a good social protection tool during labour market fluctuations. Jobseeker's Benefit shows weaker correlation."
   ]
  },
  {
   "cell_type": "markdown",
   "id": "d3718c82",
   "metadata": {},
   "source": [
    "### Objective 4\n",
    "*The main goal was to explore the relationship between social protection expenditures and unemployment setting a hypothesis test.*"
   ]
  },
  {
   "cell_type": "markdown",
   "id": "45336d42",
   "metadata": {},
   "source": [
    "#### Preparing data"
   ]
  },
  {
   "cell_type": "code",
   "execution_count": 1320,
   "id": "bba49887",
   "metadata": {},
   "outputs": [
    {
     "name": "stdout",
     "output_type": "stream",
     "text": [
      "AVERAGE INDIVIDUALS BY YEAR AND ECONOMIC STATUS\n"
     ]
    },
    {
     "data": {
      "text/html": [
       "<div>\n",
       "<style scoped>\n",
       "    .dataframe tbody tr th:only-of-type {\n",
       "        vertical-align: middle;\n",
       "    }\n",
       "\n",
       "    .dataframe tbody tr th {\n",
       "        vertical-align: top;\n",
       "    }\n",
       "\n",
       "    .dataframe thead th {\n",
       "        text-align: right;\n",
       "    }\n",
       "</style>\n",
       "<table border=\"1\" class=\"dataframe\">\n",
       "  <thead>\n",
       "    <tr style=\"text-align: right;\">\n",
       "      <th></th>\n",
       "      <th>year</th>\n",
       "      <th>economic_status</th>\n",
       "      <th>individuals</th>\n",
       "    </tr>\n",
       "  </thead>\n",
       "  <tbody>\n",
       "    <tr>\n",
       "      <th>0</th>\n",
       "      <td>1998</td>\n",
       "      <td>In employment</td>\n",
       "      <td>1,593,575</td>\n",
       "    </tr>\n",
       "    <tr>\n",
       "      <th>1</th>\n",
       "      <td>1998</td>\n",
       "      <td>In labour force</td>\n",
       "      <td>1,725,250</td>\n",
       "    </tr>\n",
       "    <tr>\n",
       "      <th>2</th>\n",
       "      <td>1998</td>\n",
       "      <td>Not in labour force</td>\n",
       "      <td>1,154,400</td>\n",
       "    </tr>\n",
       "    <tr>\n",
       "      <th>3</th>\n",
       "      <td>1998</td>\n",
       "      <td>Unemployed</td>\n",
       "      <td>131,650</td>\n",
       "    </tr>\n",
       "    <tr>\n",
       "      <th>4</th>\n",
       "      <td>1999</td>\n",
       "      <td>In employment</td>\n",
       "      <td>1,698,375</td>\n",
       "    </tr>\n",
       "  </tbody>\n",
       "</table>\n",
       "</div>"
      ],
      "text/plain": [
       "   year      economic_status  individuals\n",
       "0  1998        In employment    1,593,575\n",
       "1  1998      In labour force    1,725,250\n",
       "2  1998  Not in labour force    1,154,400\n",
       "3  1998           Unemployed      131,650\n",
       "4  1999        In employment    1,698,375"
      ]
     },
     "metadata": {},
     "output_type": "display_data"
    },
    {
     "name": "stdout",
     "output_type": "stream",
     "text": [
      "\n",
      "EXPENDITURE DATASET\n"
     ]
    },
    {
     "data": {
      "text/html": [
       "<div>\n",
       "<style scoped>\n",
       "    .dataframe tbody tr th:only-of-type {\n",
       "        vertical-align: middle;\n",
       "    }\n",
       "\n",
       "    .dataframe tbody tr th {\n",
       "        vertical-align: top;\n",
       "    }\n",
       "\n",
       "    .dataframe thead th {\n",
       "        text-align: right;\n",
       "    }\n",
       "</style>\n",
       "<table border=\"1\" class=\"dataframe\">\n",
       "  <thead>\n",
       "    <tr style=\"text-align: right;\">\n",
       "      <th></th>\n",
       "      <th>year</th>\n",
       "      <th>social protection expenditure</th>\n",
       "      <th>unit</th>\n",
       "      <th>value (euro)</th>\n",
       "    </tr>\n",
       "  </thead>\n",
       "  <tbody>\n",
       "    <tr>\n",
       "      <th>0</th>\n",
       "      <td>2000</td>\n",
       "      <td>Total Social Protection</td>\n",
       "      <td>Million</td>\n",
       "      <td>16466</td>\n",
       "    </tr>\n",
       "    <tr>\n",
       "      <th>1</th>\n",
       "      <td>2000</td>\n",
       "      <td>Social Protection Benefits</td>\n",
       "      <td>Million</td>\n",
       "      <td>15584</td>\n",
       "    </tr>\n",
       "    <tr>\n",
       "      <th>2</th>\n",
       "      <td>2000</td>\n",
       "      <td>Sickness benefits</td>\n",
       "      <td>Million</td>\n",
       "      <td>5517</td>\n",
       "    </tr>\n",
       "    <tr>\n",
       "      <th>3</th>\n",
       "      <td>2000</td>\n",
       "      <td>Disability benefits</td>\n",
       "      <td>Million</td>\n",
       "      <td>682</td>\n",
       "    </tr>\n",
       "    <tr>\n",
       "      <th>4</th>\n",
       "      <td>2000</td>\n",
       "      <td>Old age benefits</td>\n",
       "      <td>Million</td>\n",
       "      <td>4444</td>\n",
       "    </tr>\n",
       "  </tbody>\n",
       "</table>\n",
       "</div>"
      ],
      "text/plain": [
       "   year social protection expenditure     unit  value (euro)\n",
       "0  2000       Total Social Protection  Million         16466\n",
       "1  2000    Social Protection Benefits  Million         15584\n",
       "2  2000             Sickness benefits  Million          5517\n",
       "3  2000           Disability benefits  Million           682\n",
       "4  2000              Old age benefits  Million          4444"
      ]
     },
     "metadata": {},
     "output_type": "display_data"
    }
   ],
   "source": [
    "# Datasets for this analysis\n",
    "# ======================================================\n",
    "\n",
    "print(\"AVERAGE INDIVIDUALS BY YEAR AND ECONOMIC STATUS\")\n",
    "display(avg_year.head())\n",
    "print(\"\\nEXPENDITURE DATASET\")\n",
    "display(expenditure_df.head())"
   ]
  },
  {
   "cell_type": "code",
   "execution_count": 1321,
   "id": "19ab11a3",
   "metadata": {},
   "outputs": [],
   "source": [
    "# Filter expenditure to unemployment benefits and total social protection expenditure\n",
    "expenditure_unem = expenditure_df[expenditure_df[\"social protection expenditure\"] == \"Unemployment benefits\"].reset_index(drop=True)\n",
    "expenditure_total = expenditure_df[expenditure_df[\"social protection expenditure\"] == \"Total Social Protection\"].reset_index(drop=True)"
   ]
  },
  {
   "cell_type": "code",
   "execution_count": 1322,
   "id": "c14103ce",
   "metadata": {},
   "outputs": [],
   "source": [
    "# Filter for unemployed individuals between years 2000 and 2022 (inclusive)\n",
    "lf_unemp = avg_year[(\n",
    "    avg_year[\"economic_status\"] == \"Unemployed\") & (\n",
    "    avg_year[\"year\"] > 1999) & (\n",
    "    avg_year[\"year\"] < 2023)\n",
    "].reset_index(drop=True)"
   ]
  },
  {
   "cell_type": "code",
   "execution_count": 1323,
   "id": "dc1c4920",
   "metadata": {},
   "outputs": [
    {
     "data": {
      "text/html": [
       "<div>\n",
       "<style scoped>\n",
       "    .dataframe tbody tr th:only-of-type {\n",
       "        vertical-align: middle;\n",
       "    }\n",
       "\n",
       "    .dataframe tbody tr th {\n",
       "        vertical-align: top;\n",
       "    }\n",
       "\n",
       "    .dataframe thead th {\n",
       "        text-align: right;\n",
       "    }\n",
       "</style>\n",
       "<table border=\"1\" class=\"dataframe\">\n",
       "  <thead>\n",
       "    <tr style=\"text-align: right;\">\n",
       "      <th></th>\n",
       "      <th>year</th>\n",
       "      <th>economic_status</th>\n",
       "      <th>individuals</th>\n",
       "    </tr>\n",
       "  </thead>\n",
       "  <tbody>\n",
       "    <tr>\n",
       "      <th>0</th>\n",
       "      <td>2000</td>\n",
       "      <td>Unemployed</td>\n",
       "      <td>81,200</td>\n",
       "    </tr>\n",
       "    <tr>\n",
       "      <th>1</th>\n",
       "      <td>2001</td>\n",
       "      <td>Unemployed</td>\n",
       "      <td>79,550</td>\n",
       "    </tr>\n",
       "    <tr>\n",
       "      <th>2</th>\n",
       "      <td>2002</td>\n",
       "      <td>Unemployed</td>\n",
       "      <td>91,475</td>\n",
       "    </tr>\n",
       "    <tr>\n",
       "      <th>3</th>\n",
       "      <td>2003</td>\n",
       "      <td>Unemployed</td>\n",
       "      <td>95,775</td>\n",
       "    </tr>\n",
       "    <tr>\n",
       "      <th>4</th>\n",
       "      <td>2004</td>\n",
       "      <td>Unemployed</td>\n",
       "      <td>96,575</td>\n",
       "    </tr>\n",
       "  </tbody>\n",
       "</table>\n",
       "</div>"
      ],
      "text/plain": [
       "   year economic_status  individuals\n",
       "0  2000      Unemployed       81,200\n",
       "1  2001      Unemployed       79,550\n",
       "2  2002      Unemployed       91,475\n",
       "3  2003      Unemployed       95,775\n",
       "4  2004      Unemployed       96,575"
      ]
     },
     "execution_count": 1323,
     "metadata": {},
     "output_type": "execute_result"
    }
   ],
   "source": [
    "lf_unemp.head()"
   ]
  },
  {
   "cell_type": "code",
   "execution_count": 1324,
   "id": "5fcb8de6",
   "metadata": {},
   "outputs": [],
   "source": [
    "# Merge unemployed individuals dataset with unemployed expenditure dataset\n",
    "hpt_4 = lf_unemp.merge(expenditure_unem, on=\"year\")"
   ]
  },
  {
   "cell_type": "code",
   "execution_count": 1325,
   "id": "1adfc657",
   "metadata": {},
   "outputs": [
    {
     "data": {
      "text/html": [
       "<div>\n",
       "<style scoped>\n",
       "    .dataframe tbody tr th:only-of-type {\n",
       "        vertical-align: middle;\n",
       "    }\n",
       "\n",
       "    .dataframe tbody tr th {\n",
       "        vertical-align: top;\n",
       "    }\n",
       "\n",
       "    .dataframe thead th {\n",
       "        text-align: right;\n",
       "    }\n",
       "</style>\n",
       "<table border=\"1\" class=\"dataframe\">\n",
       "  <thead>\n",
       "    <tr style=\"text-align: right;\">\n",
       "      <th></th>\n",
       "      <th>year</th>\n",
       "      <th>economic_status</th>\n",
       "      <th>individuals</th>\n",
       "      <th>social protection expenditure</th>\n",
       "      <th>unit</th>\n",
       "      <th>value (euro)</th>\n",
       "    </tr>\n",
       "  </thead>\n",
       "  <tbody>\n",
       "    <tr>\n",
       "      <th>0</th>\n",
       "      <td>2000</td>\n",
       "      <td>Unemployed</td>\n",
       "      <td>81,200</td>\n",
       "      <td>Unemployment benefits</td>\n",
       "      <td>Million</td>\n",
       "      <td>1429</td>\n",
       "    </tr>\n",
       "    <tr>\n",
       "      <th>1</th>\n",
       "      <td>2001</td>\n",
       "      <td>Unemployed</td>\n",
       "      <td>79,550</td>\n",
       "      <td>Unemployment benefits</td>\n",
       "      <td>Million</td>\n",
       "      <td>1520</td>\n",
       "    </tr>\n",
       "    <tr>\n",
       "      <th>2</th>\n",
       "      <td>2002</td>\n",
       "      <td>Unemployed</td>\n",
       "      <td>91,475</td>\n",
       "      <td>Unemployment benefits</td>\n",
       "      <td>Million</td>\n",
       "      <td>1817</td>\n",
       "    </tr>\n",
       "    <tr>\n",
       "      <th>3</th>\n",
       "      <td>2003</td>\n",
       "      <td>Unemployed</td>\n",
       "      <td>95,775</td>\n",
       "      <td>Unemployment benefits</td>\n",
       "      <td>Million</td>\n",
       "      <td>1958</td>\n",
       "    </tr>\n",
       "    <tr>\n",
       "      <th>4</th>\n",
       "      <td>2004</td>\n",
       "      <td>Unemployed</td>\n",
       "      <td>96,575</td>\n",
       "      <td>Unemployment benefits</td>\n",
       "      <td>Million</td>\n",
       "      <td>2099</td>\n",
       "    </tr>\n",
       "  </tbody>\n",
       "</table>\n",
       "</div>"
      ],
      "text/plain": [
       "   year economic_status  individuals social protection expenditure     unit  \\\n",
       "0  2000      Unemployed       81,200         Unemployment benefits  Million   \n",
       "1  2001      Unemployed       79,550         Unemployment benefits  Million   \n",
       "2  2002      Unemployed       91,475         Unemployment benefits  Million   \n",
       "3  2003      Unemployed       95,775         Unemployment benefits  Million   \n",
       "4  2004      Unemployed       96,575         Unemployment benefits  Million   \n",
       "\n",
       "   value (euro)  \n",
       "0          1429  \n",
       "1          1520  \n",
       "2          1817  \n",
       "3          1958  \n",
       "4          2099  "
      ]
     },
     "execution_count": 1325,
     "metadata": {},
     "output_type": "execute_result"
    }
   ],
   "source": [
    "hpt_4.head()"
   ]
  },
  {
   "cell_type": "markdown",
   "id": "5fefb080",
   "metadata": {},
   "source": [
    "#### Checking Normality"
   ]
  },
  {
   "cell_type": "code",
   "execution_count": 1326,
   "id": "bf2bdb02",
   "metadata": {},
   "outputs": [
    {
     "data": {
      "image/png": "[encoded data removed]",
      "text/plain": [
       "<Figure size 1200x600 with 2 Axes>"
      ]
     },
     "metadata": {},
     "output_type": "display_data"
    }
   ],
   "source": [
    "# Subplots figure with 1 row and 2 columns\n",
    "fig, axes = plt.subplots(1, 2, figsize=(12, 6))\n",
    "\n",
    "# Left plot for unemployed individuals\n",
    "axes[0].hist(hpt_4[\"individuals\"], bins=10, color=\"#5E9FF2\")\n",
    "axes[0].set_title(\"Unemployed individuals\")\n",
    "axes[0].set_xlabel('Individuals')\n",
    "axes[0].set_ylabel('Frequency')\n",
    "\n",
    "# Right plot for unmeployment benefit expenditure\n",
    "axes[1].hist(hpt_4[\"value (euro)\"], bins=10, color=\"#30838C\")\n",
    "axes[1].set_title(\"Unemployment benefit expenditure\")\n",
    "axes[1].set_xlabel('Euros(in Million)')\n",
    "axes[1].set_ylabel('Frequency')\n",
    "\n",
    "# Set title\n",
    "fig.suptitle(\"Unemployment Individuals and Unemployment Protection Expenditure (2000–2022)\", fontsize=14)\n",
    "\n",
    "# Display\n",
    "plt.show()"
   ]
  },
  {
   "cell_type": "code",
   "execution_count": 1327,
   "id": "2232f6e0",
   "metadata": {},
   "outputs": [
    {
     "name": "stdout",
     "output_type": "stream",
     "text": [
      "NORMALITY TEST: UNEMPLOYED INDIVIDUALS\n",
      "p value:0.0027\n",
      "Reject null hypothesis >> The data is not normally distributed\n",
      "\n",
      "\n",
      "NORMALITY TEST: UNEMPLOYMENT EXPENDITURE\n",
      "p value:0.0734\n",
      "Fail to reject null hypothesis >> The data is normally distributed\n"
     ]
    },
    {
     "data": {
      "text/plain": [
       "True"
      ]
     },
     "execution_count": 1327,
     "metadata": {},
     "output_type": "execute_result"
    }
   ],
   "source": [
    "# Perform Shapiro-Wilk normality test\n",
    "\n",
    "def check_normality(data):\n",
    "    \n",
    "    test_stat_normality, p_value_normality = stats.shapiro(data)    \n",
    "    print(\"p value:%.4f\" % p_value_normality)\n",
    "    \n",
    "    if p_value_normality < 0.05:\n",
    "        print(\"Reject null hypothesis >> The data is not normally distributed\")\n",
    "        return False\n",
    "    else:\n",
    "        print(\"Fail to reject null hypothesis >> The data is normally distributed\")\n",
    "        return True\n",
    "    \n",
    "print(\"NORMALITY TEST: UNEMPLOYED INDIVIDUALS\")\n",
    "check_normality(hpt_4[\"individuals\"])\n",
    "print('\\n')\n",
    "print(\"NORMALITY TEST: UNEMPLOYMENT EXPENDITURE\")\n",
    "check_normality(hpt_4[\"value (euro)\"])"
   ]
  },
  {
   "cell_type": "markdown",
   "id": "f072613e",
   "metadata": {},
   "source": [
    "#### Kendal test"
   ]
  },
  {
   "cell_type": "markdown",
   "id": "216733cd",
   "metadata": {},
   "source": [
    "**Null Hypothesis : Social protection expenditure has no effect on unemployment.**\n",
    "\n",
    "**Alternative Hypothesis: Social protection expenditure has a significant effect on unemployment.**"
   ]
  },
  {
   "cell_type": "code",
   "execution_count": 1328,
   "id": "952b2297",
   "metadata": {},
   "outputs": [
    {
     "name": "stdout",
     "output_type": "stream",
     "text": [
      "KENDALL TAU CORRELATION RESULTS\n",
      "Correlation Coefficient: 0.7470\n",
      "P-value: 0.0000\n"
     ]
    }
   ],
   "source": [
    "# Calculate Kendall's tau correlation coefficient and p-value\n",
    "kendal_corr = stats.kendalltau(hpt_4[\"individuals\"], hpt_4[\"value (euro)\"])\n",
    "print('KENDALL TAU CORRELATION RESULTS')\n",
    "print(f\"Correlation Coefficient: {kendal_corr.correlation:.4f}\")\n",
    "print(f\"P-value: {kendal_corr.pvalue:.4f}\")"
   ]
  },
  {
   "cell_type": "markdown",
   "id": "2ddea628",
   "metadata": {},
   "source": [
    "**Analysis:** Strong correlation = 0.747. Highly significant. As unemployment increases, expenditure increases too."
   ]
  },
  {
   "cell_type": "markdown",
   "id": "e1672776",
   "metadata": {},
   "source": [
    "**Conclusion:** we reject the null hypothesis so there is a strong correlation between unemployment and expenditure.\n"
   ]
  },
  {
   "cell_type": "markdown",
   "id": "b789b584",
   "metadata": {},
   "source": [
    "#### Linear Regression"
   ]
  },
  {
   "cell_type": "code",
   "execution_count": 1329,
   "id": "fd5b22b5",
   "metadata": {},
   "outputs": [],
   "source": [
    "# Convert expenditure from millions to actual euros\n",
    "hpt_4['value (euro)'] = hpt_4['value (euro)']*1000000\n",
    "\n",
    "# Perform linear regression analysis\n",
    "slope, intercept, r_value, p_value, std_error = stats.linregress(hpt_4[\"individuals\"], hpt_4[\"value (euro)\"])"
   ]
  },
  {
   "cell_type": "code",
   "execution_count": 1330,
   "id": "9b93af61",
   "metadata": {},
   "outputs": [
    {
     "name": "stdout",
     "output_type": "stream",
     "text": [
      "Slope: 11579.875220833403\n",
      "Intercept: 1371561364.2194443\n",
      "R value: 0.6629766399983944\n",
      "R-squared (The coefficient of determination): 0.439538\n",
      "P value: 0.0005653338832772529\n",
      "std_error 2853.4422168583133\n"
     ]
    }
   ],
   "source": [
    "# Display results\n",
    "print(\"Slope: \" + str(slope))\n",
    "print(\"Intercept: \" + str(intercept))\n",
    "print(\"R value: \" + str(r_value))\n",
    "print(f\"R-squared (The coefficient of determination): {r_value**2:.6f}\")\n",
    "print(\"P value: \" + str(p_value))\n",
    "print(\"std_error \" + str(std_error))"
   ]
  },
  {
   "cell_type": "markdown",
   "id": "705c5aaa",
   "metadata": {},
   "source": [
    "**Results:** Stron relationship, each unemployment person increase 11.580 euros in expenditure. Model explains just 44%, moderate model fit."
   ]
  },
  {
   "cell_type": "code",
   "execution_count": 1331,
   "id": "c3f45ddc",
   "metadata": {},
   "outputs": [
    {
     "data": {
      "application/vnd.plotly.v1+json": {
       "config": {
        "plotlyServerURL": "https://plot.ly"
       },
       "data": [
        {
         "hovertemplate": "<extra></extra>",
         "legendgroup": "",
         "line": {
          "color": "#1F77B4",
          "dash": "solid"
         },
         "marker": {
          "size": 8,
          "symbol": "x"
         },
         "mode": "markers",
         "name": "",
         "orientation": "v",
         "showlegend": false,
         "type": "scatter",
         "xaxis": "x",
         "yaxis": "y"
        },
        {
         "line": {
          "color": "#30838C"
         },
         "marker": {
          "size": 8,
          "symbol": "x"
         },
         "mode": "markers",
         "type": "scatter",
         "x": [
          81200,
          79550,
          91475,
          95775,
          96575,
          98850,
          106325,
          116425,
          159800,
          290750,
          327425,
          342500,
          343500,
          308125,
          267125,
          225150,
          194675,
          158525,
          138825,
          122200,
          140775,
          160075,
          120575
         ],
         "y": [
          1429000000,
          1520000000,
          1817000000,
          1958000000,
          2099000000,
          2170000000,
          2419000000,
          2737000000,
          3397000000,
          5073000000,
          5473000000,
          5195000000,
          4684000000,
          4370000000,
          3950000000,
          3669000000,
          3281000000,
          2834000000,
          2470000000,
          2192000000,
          7272000000,
          6104000000,
          2519000000
         ]
        },
        {
         "line": {
          "color": "#F2522E",
          "width": 3
         },
         "mode": "lines",
         "type": "scatter",
         "x": [
          81200,
          79550,
          91475,
          95775,
          96575,
          98850,
          106325,
          116425,
          159800,
          290750,
          327425,
          342500,
          343500,
          308125,
          267125,
          225150,
          194675,
          158525,
          138825,
          122200,
          140775,
          160075,
          120575
         ],
         "y": [
          2311847232.1511164,
          2292740438.0367413,
          2430830450.04518,
          2480623913.4947634,
          2489887813.67143,
          2516232029.798826,
          2602791597.074556,
          2719748336.804973,
          3222025424.508622,
          4738410084.676756,
          5163102008.400822,
          5337668627.354885,
          5349248502.575718,
          4939610416.638737,
          4464835532.584567,
          3978770270.190085,
          3625873572.835187,
          3207261083.6020594,
          2979137541.7516413,
          2786622116.205286,
          3001718298.432266,
          3225209890.194351,
          2767804818.9714317
         ]
        }
       ],
       "layout": {
        "height": 600,
        "legend": {
         "tracegroupgap": 0
        },
        "template": {
         "data": {
          "bar": [
           {
            "error_x": {
             "color": "rgb(36,36,36)"
            },
            "error_y": {
             "color": "rgb(36,36,36)"
            },
            "marker": {
             "line": {
              "color": "white",
              "width": 0.5
             },
             "pattern": {
              "fillmode": "overlay",
              "size": 10,
              "solidity": 0.2
             }
            },
            "type": "bar"
           }
          ],
          "barpolar": [
           {
            "marker": {
             "line": {
              "color": "white",
              "width": 0.5
             },
             "pattern": {
              "fillmode": "overlay",
              "size": 10,
              "solidity": 0.2
             }
            },
            "type": "barpolar"
           }
          ],
          "carpet": [
           {
            "aaxis": {
             "endlinecolor": "rgb(36,36,36)",
             "gridcolor": "white",
             "linecolor": "white",
             "minorgridcolor": "white",
             "startlinecolor": "rgb(36,36,36)"
            },
            "baxis": {
             "endlinecolor": "rgb(36,36,36)",
             "gridcolor": "white",
             "linecolor": "white",
             "minorgridcolor": "white",
             "startlinecolor": "rgb(36,36,36)"
            },
            "type": "carpet"
           }
          ],
          "choropleth": [
           {
            "colorbar": {
             "outlinewidth": 1,
             "tickcolor": "rgb(36,36,36)",
             "ticks": "outside"
            },
            "type": "choropleth"
           }
          ],
          "contour": [
           {
            "colorbar": {
             "outlinewidth": 1,
             "tickcolor": "rgb(36,36,36)",
             "ticks": "outside"
            },
            "colorscale": [
             [
              0,
              "#440154"
             ],
             [
              0.1111111111111111,
              "#482878"
             ],
             [
              0.2222222222222222,
              "#3e4989"
             ],
             [
              0.3333333333333333,
              "#31688e"
             ],
             [
              0.4444444444444444,
              "#26828e"
             ],
             [
              0.5555555555555556,
              "#1f9e89"
             ],
             [
              0.6666666666666666,
              "#35b779"
             ],
             [
              0.7777777777777778,
              "#6ece58"
             ],
             [
              0.8888888888888888,
              "#b5de2b"
             ],
             [
              1,
              "#fde725"
             ]
            ],
            "type": "contour"
           }
          ],
          "contourcarpet": [
           {
            "colorbar": {
             "outlinewidth": 1,
             "tickcolor": "rgb(36,36,36)",
             "ticks": "outside"
            },
            "type": "contourcarpet"
           }
          ],
          "heatmap": [
           {
            "colorbar": {
             "outlinewidth": 1,
             "tickcolor": "rgb(36,36,36)",
             "ticks": "outside"
            },
            "colorscale": [
             [
              0,
              "#440154"
             ],
             [
              0.1111111111111111,
              "#482878"
             ],
             [
              0.2222222222222222,
              "#3e4989"
             ],
             [
              0.3333333333333333,
              "#31688e"
             ],
             [
              0.4444444444444444,
              "#26828e"
             ],
             [
              0.5555555555555556,
              "#1f9e89"
             ],
             [
              0.6666666666666666,
              "#35b779"
             ],
             [
              0.7777777777777778,
              "#6ece58"
             ],
             [
              0.8888888888888888,
              "#b5de2b"
             ],
             [
              1,
              "#fde725"
             ]
            ],
            "type": "heatmap"
           }
          ],
          "heatmapgl": [
           {
            "colorbar": {
             "outlinewidth": 1,
             "tickcolor": "rgb(36,36,36)",
             "ticks": "outside"
            },
            "colorscale": [
             [
              0,
              "#440154"
             ],
             [
              0.1111111111111111,
              "#482878"
             ],
             [
              0.2222222222222222,
              "#3e4989"
             ],
             [
              0.3333333333333333,
              "#31688e"
             ],
             [
              0.4444444444444444,
              "#26828e"
             ],
             [
              0.5555555555555556,
              "#1f9e89"
             ],
             [
              0.6666666666666666,
              "#35b779"
             ],
             [
              0.7777777777777778,
              "#6ece58"
             ],
             [
              0.8888888888888888,
              "#b5de2b"
             ],
             [
              1,
              "#fde725"
             ]
            ],
            "type": "heatmapgl"
           }
          ],
          "histogram": [
           {
            "marker": {
             "line": {
              "color": "white",
              "width": 0.6
             }
            },
            "type": "histogram"
           }
          ],
          "histogram2d": [
           {
            "colorbar": {
             "outlinewidth": 1,
             "tickcolor": "rgb(36,36,36)",
             "ticks": "outside"
            },
            "colorscale": [
             [
              0,
              "#440154"
             ],
             [
              0.1111111111111111,
              "#482878"
             ],
             [
              0.2222222222222222,
              "#3e4989"
             ],
             [
              0.3333333333333333,
              "#31688e"
             ],
             [
              0.4444444444444444,
              "#26828e"
             ],
             [
              0.5555555555555556,
              "#1f9e89"
             ],
             [
              0.6666666666666666,
              "#35b779"
             ],
             [
              0.7777777777777778,
              "#6ece58"
             ],
             [
              0.8888888888888888,
              "#b5de2b"
             ],
             [
              1,
              "#fde725"
             ]
            ],
            "type": "histogram2d"
           }
          ],
          "histogram2dcontour": [
           {
            "colorbar": {
             "outlinewidth": 1,
             "tickcolor": "rgb(36,36,36)",
             "ticks": "outside"
            },
            "colorscale": [
             [
              0,
              "#440154"
             ],
             [
              0.1111111111111111,
              "#482878"
             ],
             [
              0.2222222222222222,
              "#3e4989"
             ],
             [
              0.3333333333333333,
              "#31688e"
             ],
             [
              0.4444444444444444,
              "#26828e"
             ],
             [
              0.5555555555555556,
              "#1f9e89"
             ],
             [
              0.6666666666666666,
              "#35b779"
             ],
             [
              0.7777777777777778,
              "#6ece58"
             ],
             [
              0.8888888888888888,
              "#b5de2b"
             ],
             [
              1,
              "#fde725"
             ]
            ],
            "type": "histogram2dcontour"
           }
          ],
          "mesh3d": [
           {
            "colorbar": {
             "outlinewidth": 1,
             "tickcolor": "rgb(36,36,36)",
             "ticks": "outside"
            },
            "type": "mesh3d"
           }
          ],
          "parcoords": [
           {
            "line": {
             "colorbar": {
              "outlinewidth": 1,
              "tickcolor": "rgb(36,36,36)",
              "ticks": "outside"
             }
            },
            "type": "parcoords"
           }
          ],
          "pie": [
           {
            "automargin": true,
            "type": "pie"
           }
          ],
          "scatter": [
           {
            "fillpattern": {
             "fillmode": "overlay",
             "size": 10,
             "solidity": 0.2
            },
            "type": "scatter"
           }
          ],
          "scatter3d": [
           {
            "line": {
             "colorbar": {
              "outlinewidth": 1,
              "tickcolor": "rgb(36,36,36)",
              "ticks": "outside"
             }
            },
            "marker": {
             "colorbar": {
              "outlinewidth": 1,
              "tickcolor": "rgb(36,36,36)",
              "ticks": "outside"
             }
            },
            "type": "scatter3d"
           }
          ],
          "scattercarpet": [
           {
            "marker": {
             "colorbar": {
              "outlinewidth": 1,
              "tickcolor": "rgb(36,36,36)",
              "ticks": "outside"
             }
            },
            "type": "scattercarpet"
           }
          ],
          "scattergeo": [
           {
            "marker": {
             "colorbar": {
              "outlinewidth": 1,
              "tickcolor": "rgb(36,36,36)",
              "ticks": "outside"
             }
            },
            "type": "scattergeo"
           }
          ],
          "scattergl": [
           {
            "marker": {
             "colorbar": {
              "outlinewidth": 1,
              "tickcolor": "rgb(36,36,36)",
              "ticks": "outside"
             }
            },
            "type": "scattergl"
           }
          ],
          "scattermapbox": [
           {
            "marker": {
             "colorbar": {
              "outlinewidth": 1,
              "tickcolor": "rgb(36,36,36)",
              "ticks": "outside"
             }
            },
            "type": "scattermapbox"
           }
          ],
          "scatterpolar": [
           {
            "marker": {
             "colorbar": {
              "outlinewidth": 1,
              "tickcolor": "rgb(36,36,36)",
              "ticks": "outside"
             }
            },
            "type": "scatterpolar"
           }
          ],
          "scatterpolargl": [
           {
            "marker": {
             "colorbar": {
              "outlinewidth": 1,
              "tickcolor": "rgb(36,36,36)",
              "ticks": "outside"
             }
            },
            "type": "scatterpolargl"
           }
          ],
          "scatterternary": [
           {
            "marker": {
             "colorbar": {
              "outlinewidth": 1,
              "tickcolor": "rgb(36,36,36)",
              "ticks": "outside"
             }
            },
            "type": "scatterternary"
           }
          ],
          "surface": [
           {
            "colorbar": {
             "outlinewidth": 1,
             "tickcolor": "rgb(36,36,36)",
             "ticks": "outside"
            },
            "colorscale": [
             [
              0,
              "#440154"
             ],
             [
              0.1111111111111111,
              "#482878"
             ],
             [
              0.2222222222222222,
              "#3e4989"
             ],
             [
              0.3333333333333333,
              "#31688e"
             ],
             [
              0.4444444444444444,
              "#26828e"
             ],
             [
              0.5555555555555556,
              "#1f9e89"
             ],
             [
              0.6666666666666666,
              "#35b779"
             ],
             [
              0.7777777777777778,
              "#6ece58"
             ],
             [
              0.8888888888888888,
              "#b5de2b"
             ],
             [
              1,
              "#fde725"
             ]
            ],
            "type": "surface"
           }
          ],
          "table": [
           {
            "cells": {
             "fill": {
              "color": "rgb(237,237,237)"
             },
             "line": {
              "color": "white"
             }
            },
            "header": {
             "fill": {
              "color": "rgb(217,217,217)"
             },
             "line": {
              "color": "white"
             }
            },
            "type": "table"
           }
          ]
         },
         "layout": {
          "annotationdefaults": {
           "arrowhead": 0,
           "arrowwidth": 1
          },
          "autotypenumbers": "strict",
          "coloraxis": {
           "colorbar": {
            "outlinewidth": 1,
            "tickcolor": "rgb(36,36,36)",
            "ticks": "outside"
           }
          },
          "colorscale": {
           "diverging": [
            [
             0,
             "rgb(103,0,31)"
            ],
            [
             0.1,
             "rgb(178,24,43)"
            ],
            [
             0.2,
             "rgb(214,96,77)"
            ],
            [
             0.3,
             "rgb(244,165,130)"
            ],
            [
             0.4,
             "rgb(253,219,199)"
            ],
            [
             0.5,
             "rgb(247,247,247)"
            ],
            [
             0.6,
             "rgb(209,229,240)"
            ],
            [
             0.7,
             "rgb(146,197,222)"
            ],
            [
             0.8,
             "rgb(67,147,195)"
            ],
            [
             0.9,
             "rgb(33,102,172)"
            ],
            [
             1,
             "rgb(5,48,97)"
            ]
           ],
           "sequential": [
            [
             0,
             "#440154"
            ],
            [
             0.1111111111111111,
             "#482878"
            ],
            [
             0.2222222222222222,
             "#3e4989"
            ],
            [
             0.3333333333333333,
             "#31688e"
            ],
            [
             0.4444444444444444,
             "#26828e"
            ],
            [
             0.5555555555555556,
             "#1f9e89"
            ],
            [
             0.6666666666666666,
             "#35b779"
            ],
            [
             0.7777777777777778,
             "#6ece58"
            ],
            [
             0.8888888888888888,
             "#b5de2b"
            ],
            [
             1,
             "#fde725"
            ]
           ],
           "sequentialminus": [
            [
             0,
             "#440154"
            ],
            [
             0.1111111111111111,
             "#482878"
            ],
            [
             0.2222222222222222,
             "#3e4989"
            ],
            [
             0.3333333333333333,
             "#31688e"
            ],
            [
             0.4444444444444444,
             "#26828e"
            ],
            [
             0.5555555555555556,
             "#1f9e89"
            ],
            [
             0.6666666666666666,
             "#35b779"
            ],
            [
             0.7777777777777778,
             "#6ece58"
            ],
            [
             0.8888888888888888,
             "#b5de2b"
            ],
            [
             1,
             "#fde725"
            ]
           ]
          },
          "colorway": [
           "#1F77B4",
           "#FF7F0E",
           "#2CA02C",
           "#D62728",
           "#9467BD",
           "#8C564B",
           "#E377C2",
           "#7F7F7F",
           "#BCBD22",
           "#17BECF"
          ],
          "font": {
           "color": "rgb(36,36,36)"
          },
          "geo": {
           "bgcolor": "white",
           "lakecolor": "white",
           "landcolor": "white",
           "showlakes": true,
           "showland": true,
           "subunitcolor": "white"
          },
          "hoverlabel": {
           "align": "left"
          },
          "hovermode": "closest",
          "mapbox": {
           "style": "light"
          },
          "paper_bgcolor": "white",
          "plot_bgcolor": "white",
          "polar": {
           "angularaxis": {
            "gridcolor": "rgb(232,232,232)",
            "linecolor": "rgb(36,36,36)",
            "showgrid": false,
            "showline": true,
            "ticks": "outside"
           },
           "bgcolor": "white",
           "radialaxis": {
            "gridcolor": "rgb(232,232,232)",
            "linecolor": "rgb(36,36,36)",
            "showgrid": false,
            "showline": true,
            "ticks": "outside"
           }
          },
          "scene": {
           "xaxis": {
            "backgroundcolor": "white",
            "gridcolor": "rgb(232,232,232)",
            "gridwidth": 2,
            "linecolor": "rgb(36,36,36)",
            "showbackground": true,
            "showgrid": false,
            "showline": true,
            "ticks": "outside",
            "zeroline": false,
            "zerolinecolor": "rgb(36,36,36)"
           },
           "yaxis": {
            "backgroundcolor": "white",
            "gridcolor": "rgb(232,232,232)",
            "gridwidth": 2,
            "linecolor": "rgb(36,36,36)",
            "showbackground": true,
            "showgrid": false,
            "showline": true,
            "ticks": "outside",
            "zeroline": false,
            "zerolinecolor": "rgb(36,36,36)"
           },
           "zaxis": {
            "backgroundcolor": "white",
            "gridcolor": "rgb(232,232,232)",
            "gridwidth": 2,
            "linecolor": "rgb(36,36,36)",
            "showbackground": true,
            "showgrid": false,
            "showline": true,
            "ticks": "outside",
            "zeroline": false,
            "zerolinecolor": "rgb(36,36,36)"
           }
          },
          "shapedefaults": {
           "fillcolor": "black",
           "line": {
            "width": 0
           },
           "opacity": 0.3
          },
          "ternary": {
           "aaxis": {
            "gridcolor": "rgb(232,232,232)",
            "linecolor": "rgb(36,36,36)",
            "showgrid": false,
            "showline": true,
            "ticks": "outside"
           },
           "baxis": {
            "gridcolor": "rgb(232,232,232)",
            "linecolor": "rgb(36,36,36)",
            "showgrid": false,
            "showline": true,
            "ticks": "outside"
           },
           "bgcolor": "white",
           "caxis": {
            "gridcolor": "rgb(232,232,232)",
            "linecolor": "rgb(36,36,36)",
            "showgrid": false,
            "showline": true,
            "ticks": "outside"
           }
          },
          "title": {
           "x": 0.05
          },
          "xaxis": {
           "automargin": true,
           "gridcolor": "rgb(232,232,232)",
           "linecolor": "rgb(36,36,36)",
           "showgrid": false,
           "showline": true,
           "ticks": "outside",
           "title": {
            "standoff": 15
           },
           "zeroline": false,
           "zerolinecolor": "rgb(36,36,36)"
          },
          "yaxis": {
           "automargin": true,
           "gridcolor": "rgb(232,232,232)",
           "linecolor": "rgb(36,36,36)",
           "showgrid": false,
           "showline": true,
           "ticks": "outside",
           "title": {
            "standoff": 15
           },
           "zeroline": false,
           "zerolinecolor": "rgb(36,36,36)"
          }
         }
        },
        "title": {
         "text": "<b>Unemployment expenditure VS Unemployed individuals</b><br><sup>Linear regression showing their correlation </sup>"
        },
        "width": 800,
        "xaxis": {
         "anchor": "y",
         "domain": [
          0,
          1
         ],
         "showgrid": true,
         "tickfont": {
          "size": 14
         },
         "title": {
          "text": ""
         }
        },
        "yaxis": {
         "anchor": "x",
         "domain": [
          0,
          1
         ],
         "tickfont": {
          "size": 14
         },
         "title": {
          "text": ""
         }
        }
       }
      }
     },
     "metadata": {},
     "output_type": "display_data"
    }
   ],
   "source": [
    "# Define time period\n",
    "years = np.arange(2014, 2025)\n",
    "\n",
    "# Initialize the plot + title and styling\n",
    "fig_7 = px.line(\n",
    "            title=\"<b>Unemployment expenditure VS Unemployed individuals</b><br><sup>Linear regression showing their correlation </sup>\",\n",
    "            template='simple_white',\n",
    "              )\n",
    "\n",
    "# Add trace\n",
    "fig_7.add_trace(go.Scatter(x=hpt_4.individuals, y=hpt_4['value (euro)'], line=dict(color=\"#30838C\")))\n",
    "\n",
    "\n",
    "# Axis configuration\n",
    "fig_7.update_xaxes(tickfont=dict(size=14), title_text='', showgrid=True)\n",
    "fig_7.update_yaxes(tickfont=dict(size=14), title_text='')\n",
    "\n",
    "# Line and market style\n",
    "fig_7.update_traces(mode='markers', marker=dict(size=8, symbol='x'))\n",
    "\n",
    "# Layout adjustment\n",
    "fig_7.update_layout(width=800, height=600)\n",
    "\n",
    "# Add regression line\n",
    "fig_7.add_trace(go.Scatter(x=hpt_4.individuals, \n",
    "                           y=[intercept_c + slope_c * x for x in hpt_4.individuals],\n",
    "                           mode='lines', \n",
    "                           line=dict(color=\"#F2522E\", width=3)))"
   ]
  },
  {
   "cell_type": "markdown",
   "id": "fae0d281",
   "metadata": {},
   "source": [
    "![04_fig2](https://raw.githubusercontent.com/vinikcabral/Labour-Force-Social-Welfare-in-Ireland-PYTHON/refs/heads/main/assets/img/04_fig2.png)"
   ]
  },
  {
   "cell_type": "markdown",
   "id": "7cf3afe4",
   "metadata": {},
   "source": [
    "**Analysisi:** The graphic indicates a strong positive correlation between unemployment expenditure and unemployment individuals. Validate system responsiveness."
   ]
  }
 ],
 "metadata": {
  "kernelspec": {
   "display_name": "base",
   "language": "python",
   "name": "python3"
  },
  "language_info": {
   "codemirror_mode": {
    "name": "ipython",
    "version": 3
   },
   "file_extension": ".py",
   "mimetype": "text/x-python",
   "name": "python",
   "nbconvert_exporter": "python",
   "pygments_lexer": "ipython3",
   "version": "3.12.3"
  }
 },
 "nbformat": 4,
 "nbformat_minor": 5
}
