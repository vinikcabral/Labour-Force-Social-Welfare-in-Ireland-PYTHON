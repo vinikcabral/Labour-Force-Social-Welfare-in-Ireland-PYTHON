{
 "cells": [
  {
   "cell_type": "markdown",
   "id": "783defab",
   "metadata": {},
   "source": [
    "# **Economic Dynamics & Social Protection in Ireland**"
   ]
  },
  {
   "cell_type": "markdown",
   "id": "a7156e7a",
   "metadata": {},
   "source": [
    "## Goal\n",
    "The goal of this project is to understand how labour force participation and social protection policies interact to shape economic health. Using Python for data analysis, the project explore how employment, unemployment, and welfare programs have evolved from 1998 to 2023, and what these patterns reveal about the effectiveness of Ireland’s policies and the resilience of its economy."
   ]
  },
  {
   "cell_type": "markdown",
   "id": "cf294369",
   "metadata": {},
   "source": [
    "## Setup"
   ]
  },
  {
   "cell_type": "markdown",
   "id": "c82c0e97",
   "metadata": {},
   "source": [
    "#### Importing libraries"
   ]
  },
  {
   "cell_type": "code",
   "execution_count": 109,
   "id": "a4685bbe",
   "metadata": {},
   "outputs": [],
   "source": [
    "import pandas as pd\n",
    "import matplotlib.pyplot as plt\n",
    "from matplotlib.ticker import FuncFormatter \n",
    "import seaborn as sns\n",
    "import numpy as np\n",
    "import plotly.graph_objects as go\n",
    "import plotly.express as px\n",
    "from scipy import stats\n",
    "import plotly.io as pio\n",
    "from IPython.display import Image\n",
    "\n",
    "%matplotlib inline"
   ]
  },
  {
   "cell_type": "markdown",
   "id": "d2ba573c",
   "metadata": {},
   "source": [
    "## Data Preparation"
   ]
  },
  {
   "cell_type": "markdown",
   "id": "243eac97",
   "metadata": {},
   "source": [
    "#### Social Protection Dataset"
   ]
  },
  {
   "cell_type": "code",
   "execution_count": 110,
   "id": "9ec6db7e",
   "metadata": {},
   "outputs": [
    {
     "data": {
      "text/html": [
       "<div>\n",
       "<style scoped>\n",
       "    .dataframe tbody tr th:only-of-type {\n",
       "        vertical-align: middle;\n",
       "    }\n",
       "\n",
       "    .dataframe tbody tr th {\n",
       "        vertical-align: top;\n",
       "    }\n",
       "\n",
       "    .dataframe thead th {\n",
       "        text-align: right;\n",
       "    }\n",
       "</style>\n",
       "<table border=\"1\" class=\"dataframe\">\n",
       "  <thead>\n",
       "    <tr style=\"text-align: right;\">\n",
       "      <th></th>\n",
       "      <th>period</th>\n",
       "      <th>programme</th>\n",
       "      <th>scheme</th>\n",
       "      <th>scheme_description</th>\n",
       "      <th>basis</th>\n",
       "      <th>county</th>\n",
       "      <th>county_code</th>\n",
       "      <th>UGI</th>\n",
       "      <th>recipients</th>\n",
       "    </tr>\n",
       "  </thead>\n",
       "  <tbody>\n",
       "    <tr>\n",
       "      <th>0</th>\n",
       "      <td>2014Q1</td>\n",
       "      <td>Children</td>\n",
       "      <td>CB</td>\n",
       "      <td>Child Benefit</td>\n",
       "      <td>Social Assistance</td>\n",
       "      <td>All</td>\n",
       "      <td>All</td>\n",
       "      <td>XX</td>\n",
       "      <td>623739.0</td>\n",
       "    </tr>\n",
       "    <tr>\n",
       "      <th>1</th>\n",
       "      <td>2014Q1</td>\n",
       "      <td>Children</td>\n",
       "      <td>FIS</td>\n",
       "      <td>Family Income Supplement</td>\n",
       "      <td>Social Assistance</td>\n",
       "      <td>All</td>\n",
       "      <td>All</td>\n",
       "      <td>XX</td>\n",
       "      <td>48327.0</td>\n",
       "    </tr>\n",
       "    <tr>\n",
       "      <th>2</th>\n",
       "      <td>2014Q1</td>\n",
       "      <td>Children</td>\n",
       "      <td>CB</td>\n",
       "      <td>Child Benefit</td>\n",
       "      <td>Social Assistance</td>\n",
       "      <td>Carlow</td>\n",
       "      <td>CW</td>\n",
       "      <td>2ae19629-143d-13a3-e055-000000000001</td>\n",
       "      <td>8319.0</td>\n",
       "    </tr>\n",
       "    <tr>\n",
       "      <th>3</th>\n",
       "      <td>2014Q1</td>\n",
       "      <td>Children</td>\n",
       "      <td>FIS</td>\n",
       "      <td>Family Income Supplement</td>\n",
       "      <td>Social Assistance</td>\n",
       "      <td>Carlow</td>\n",
       "      <td>CW</td>\n",
       "      <td>2ae19629-143d-13a3-e055-000000000001</td>\n",
       "      <td>774.0</td>\n",
       "    </tr>\n",
       "    <tr>\n",
       "      <th>4</th>\n",
       "      <td>2014Q1</td>\n",
       "      <td>Children</td>\n",
       "      <td>CB</td>\n",
       "      <td>Child Benefit</td>\n",
       "      <td>Social Assistance</td>\n",
       "      <td>Cavan</td>\n",
       "      <td>CN</td>\n",
       "      <td>2ae19629-1448-13a3-e055-000000000001</td>\n",
       "      <td>10349.0</td>\n",
       "    </tr>\n",
       "  </tbody>\n",
       "</table>\n",
       "</div>"
      ],
      "text/plain": [
       "   period programme scheme        scheme_description              basis  \\\n",
       "0  2014Q1  Children     CB             Child Benefit  Social Assistance   \n",
       "1  2014Q1  Children    FIS  Family Income Supplement  Social Assistance   \n",
       "2  2014Q1  Children     CB             Child Benefit  Social Assistance   \n",
       "3  2014Q1  Children    FIS  Family Income Supplement  Social Assistance   \n",
       "4  2014Q1  Children     CB             Child Benefit  Social Assistance   \n",
       "\n",
       "   county county_code                                   UGI  recipients  \n",
       "0     All         All                                    XX    623739.0  \n",
       "1     All         All                                    XX     48327.0  \n",
       "2  Carlow          CW  2ae19629-143d-13a3-e055-000000000001      8319.0  \n",
       "3  Carlow          CW  2ae19629-143d-13a3-e055-000000000001       774.0  \n",
       "4   Cavan          CN  2ae19629-1448-13a3-e055-000000000001     10349.0  "
      ]
     },
     "execution_count": 110,
     "metadata": {},
     "output_type": "execute_result"
    }
   ],
   "source": [
    "# Load data\n",
    "datasp = pd.read_csv('SocialProt.csv')\n",
    "datasp.head()"
   ]
  },
  {
   "cell_type": "code",
   "execution_count": 111,
   "id": "5e673e3a",
   "metadata": {},
   "outputs": [
    {
     "data": {
      "text/html": [
       "<div>\n",
       "<style scoped>\n",
       "    .dataframe tbody tr th:only-of-type {\n",
       "        vertical-align: middle;\n",
       "    }\n",
       "\n",
       "    .dataframe tbody tr th {\n",
       "        vertical-align: top;\n",
       "    }\n",
       "\n",
       "    .dataframe thead th {\n",
       "        text-align: right;\n",
       "    }\n",
       "</style>\n",
       "<table border=\"1\" class=\"dataframe\">\n",
       "  <thead>\n",
       "    <tr style=\"text-align: right;\">\n",
       "      <th></th>\n",
       "      <th>period</th>\n",
       "      <th>scheme_description</th>\n",
       "      <th>county</th>\n",
       "      <th>recipients</th>\n",
       "    </tr>\n",
       "  </thead>\n",
       "  <tbody>\n",
       "    <tr>\n",
       "      <th>0</th>\n",
       "      <td>2014Q1</td>\n",
       "      <td>Child Benefit</td>\n",
       "      <td>All</td>\n",
       "      <td>623739.0</td>\n",
       "    </tr>\n",
       "    <tr>\n",
       "      <th>1</th>\n",
       "      <td>2014Q1</td>\n",
       "      <td>Family Income Supplement</td>\n",
       "      <td>All</td>\n",
       "      <td>48327.0</td>\n",
       "    </tr>\n",
       "    <tr>\n",
       "      <th>2</th>\n",
       "      <td>2014Q1</td>\n",
       "      <td>Child Benefit</td>\n",
       "      <td>Carlow</td>\n",
       "      <td>8319.0</td>\n",
       "    </tr>\n",
       "    <tr>\n",
       "      <th>3</th>\n",
       "      <td>2014Q1</td>\n",
       "      <td>Family Income Supplement</td>\n",
       "      <td>Carlow</td>\n",
       "      <td>774.0</td>\n",
       "    </tr>\n",
       "    <tr>\n",
       "      <th>4</th>\n",
       "      <td>2014Q1</td>\n",
       "      <td>Child Benefit</td>\n",
       "      <td>Cavan</td>\n",
       "      <td>10349.0</td>\n",
       "    </tr>\n",
       "  </tbody>\n",
       "</table>\n",
       "</div>"
      ],
      "text/plain": [
       "   period        scheme_description  county  recipients\n",
       "0  2014Q1             Child Benefit     All    623739.0\n",
       "1  2014Q1  Family Income Supplement     All     48327.0\n",
       "2  2014Q1             Child Benefit  Carlow      8319.0\n",
       "3  2014Q1  Family Income Supplement  Carlow       774.0\n",
       "4  2014Q1             Child Benefit   Cavan     10349.0"
      ]
     },
     "execution_count": 111,
     "metadata": {},
     "output_type": "execute_result"
    }
   ],
   "source": [
    "# Filter columns\n",
    "columns_selection = ['period', 'scheme_description', 'county', 'recipients']\n",
    "datasp = datasp[columns_selection]\n",
    "datasp.head()"
   ]
  },
  {
   "cell_type": "code",
   "execution_count": 112,
   "id": "f577748e",
   "metadata": {},
   "outputs": [
    {
     "name": "stdout",
     "output_type": "stream",
     "text": [
      "<class 'pandas.core.frame.DataFrame'>\n",
      "RangeIndex: 23894 entries, 0 to 23893\n",
      "Data columns (total 4 columns):\n",
      " #   Column              Non-Null Count  Dtype  \n",
      "---  ------              --------------  -----  \n",
      " 0   period              23894 non-null  object \n",
      " 1   scheme_description  23894 non-null  object \n",
      " 2   county              23894 non-null  object \n",
      " 3   recipients          23894 non-null  float64\n",
      "dtypes: float64(1), object(3)\n",
      "memory usage: 746.8+ KB\n"
     ]
    }
   ],
   "source": [
    "datasp.info()"
   ]
  },
  {
   "cell_type": "code",
   "execution_count": 113,
   "id": "5aabf1be",
   "metadata": {},
   "outputs": [
    {
     "data": {
      "text/plain": [
       "0"
      ]
     },
     "execution_count": 113,
     "metadata": {},
     "output_type": "execute_result"
    }
   ],
   "source": [
    "# Check duplicates\n",
    "datasp.duplicated().sum() "
   ]
  },
  {
   "cell_type": "code",
   "execution_count": 114,
   "id": "a14d3904",
   "metadata": {},
   "outputs": [
    {
     "data": {
      "text/plain": [
       "period                0\n",
       "scheme_description    0\n",
       "county                0\n",
       "recipients            0\n",
       "dtype: int64"
      ]
     },
     "execution_count": 114,
     "metadata": {},
     "output_type": "execute_result"
    }
   ],
   "source": [
    "# Check null values\n",
    "datasp.isnull().sum()"
   ]
  },
  {
   "cell_type": "code",
   "execution_count": 115,
   "id": "e78b9c48",
   "metadata": {},
   "outputs": [],
   "source": [
    "# Rename columns\n",
    "datasp.rename(columns= {'period': 'Year',\n",
    "                        'county': 'Residence_county',\n",
    "                        'scheme_description': 'Scheme_description',\n",
    "                        'recipients': 'Recipients'}, inplace=True)"
   ]
  },
  {
   "cell_type": "code",
   "execution_count": 116,
   "id": "64a65a6a",
   "metadata": {},
   "outputs": [
    {
     "data": {
      "text/plain": [
       "Residence_county\n",
       "All          874\n",
       "Limerick     853\n",
       "Wexford      853\n",
       "Westmeath    853\n",
       "Waterford    853\n",
       "Tipperary    853\n",
       "Offaly       853\n",
       "Monaghan     853\n",
       "Meath        853\n",
       "Mayo         853\n",
       "Louth        853\n",
       "Carlow       853\n",
       "Longford     853\n",
       "Leitrim      853\n",
       "Laois        853\n",
       "Kilkenny     853\n",
       "Kildare      853\n",
       "Kerry        853\n",
       "Galway       853\n",
       "Dublin       853\n",
       "Donegal      853\n",
       "Cork         853\n",
       "Clare        853\n",
       "Wicklow      853\n",
       "Roscommon    852\n",
       "Sligo        852\n",
       "Cavan        852\n",
       "Unknown      845\n",
       "Name: count, dtype: int64"
      ]
     },
     "execution_count": 116,
     "metadata": {},
     "output_type": "execute_result"
    }
   ],
   "source": [
    "# Count residence_county values\n",
    "datasp['Residence_county'].value_counts()"
   ]
  },
  {
   "cell_type": "code",
   "execution_count": 117,
   "id": "cb38f1fb",
   "metadata": {},
   "outputs": [],
   "source": [
    "# Remove Unknown data and all values from residence_county column\n",
    "datasp = datasp[datasp['Residence_county'] != 'Unknown']\n",
    "datasp = datasp[datasp['Residence_county'] != 'All']"
   ]
  },
  {
   "cell_type": "code",
   "execution_count": 118,
   "id": "391b20d1",
   "metadata": {},
   "outputs": [
    {
     "name": "stdout",
     "output_type": "stream",
     "text": [
      "<class 'pandas.core.frame.DataFrame'>\n",
      "Index: 22175 entries, 2 to 23893\n",
      "Data columns (total 4 columns):\n",
      " #   Column              Non-Null Count  Dtype \n",
      "---  ------              --------------  ----- \n",
      " 0   Year                22175 non-null  object\n",
      " 1   Scheme_description  22175 non-null  object\n",
      " 2   Residence_county    22175 non-null  object\n",
      " 3   Recipients          22175 non-null  int32 \n",
      "dtypes: int32(1), object(3)\n",
      "memory usage: 779.6+ KB\n"
     ]
    }
   ],
   "source": [
    "# Change recipients type to integer\n",
    "datasp['Recipients'] = datasp['Recipients'].astype(int)\n",
    "datasp.info()"
   ]
  },
  {
   "cell_type": "code",
   "execution_count": 119,
   "id": "04ae926f",
   "metadata": {},
   "outputs": [],
   "source": [
    "# Split year in two columns (year and period)\n",
    "datasp[['Year', 'Period']] = datasp['Year'].str.split('Q', expand=True) "
   ]
  },
  {
   "cell_type": "code",
   "execution_count": 120,
   "id": "bea6758d",
   "metadata": {},
   "outputs": [],
   "source": [
    "# Convert year and periods to integer\n",
    "datasp['Period'] = datasp['Period'].astype(int)\n",
    "datasp['Year'] = datasp['Year'].astype(int)"
   ]
  },
  {
   "cell_type": "code",
   "execution_count": 121,
   "id": "e564fa60",
   "metadata": {},
   "outputs": [
    {
     "data": {
      "text/html": [
       "<div>\n",
       "<style scoped>\n",
       "    .dataframe tbody tr th:only-of-type {\n",
       "        vertical-align: middle;\n",
       "    }\n",
       "\n",
       "    .dataframe tbody tr th {\n",
       "        vertical-align: top;\n",
       "    }\n",
       "\n",
       "    .dataframe thead th {\n",
       "        text-align: right;\n",
       "    }\n",
       "</style>\n",
       "<table border=\"1\" class=\"dataframe\">\n",
       "  <thead>\n",
       "    <tr style=\"text-align: right;\">\n",
       "      <th></th>\n",
       "      <th>Year</th>\n",
       "      <th>Period</th>\n",
       "      <th>Scheme_description</th>\n",
       "      <th>Residence_county</th>\n",
       "      <th>Recipients</th>\n",
       "    </tr>\n",
       "  </thead>\n",
       "  <tbody>\n",
       "    <tr>\n",
       "      <th>0</th>\n",
       "      <td>2014</td>\n",
       "      <td>1</td>\n",
       "      <td>Child Benefit</td>\n",
       "      <td>Carlow</td>\n",
       "      <td>8319</td>\n",
       "    </tr>\n",
       "    <tr>\n",
       "      <th>1</th>\n",
       "      <td>2014</td>\n",
       "      <td>1</td>\n",
       "      <td>Family Income Supplement</td>\n",
       "      <td>Carlow</td>\n",
       "      <td>774</td>\n",
       "    </tr>\n",
       "    <tr>\n",
       "      <th>2</th>\n",
       "      <td>2014</td>\n",
       "      <td>1</td>\n",
       "      <td>Child Benefit</td>\n",
       "      <td>Cavan</td>\n",
       "      <td>10349</td>\n",
       "    </tr>\n",
       "    <tr>\n",
       "      <th>3</th>\n",
       "      <td>2014</td>\n",
       "      <td>1</td>\n",
       "      <td>Family Income Supplement</td>\n",
       "      <td>Cavan</td>\n",
       "      <td>1089</td>\n",
       "    </tr>\n",
       "    <tr>\n",
       "      <th>4</th>\n",
       "      <td>2014</td>\n",
       "      <td>1</td>\n",
       "      <td>Child Benefit</td>\n",
       "      <td>Clare</td>\n",
       "      <td>15958</td>\n",
       "    </tr>\n",
       "  </tbody>\n",
       "</table>\n",
       "</div>"
      ],
      "text/plain": [
       "   Year  Period        Scheme_description Residence_county  Recipients\n",
       "0  2014       1             Child Benefit           Carlow        8319\n",
       "1  2014       1  Family Income Supplement           Carlow         774\n",
       "2  2014       1             Child Benefit            Cavan       10349\n",
       "3  2014       1  Family Income Supplement            Cavan        1089\n",
       "4  2014       1             Child Benefit            Clare       15958"
      ]
     },
     "execution_count": 121,
     "metadata": {},
     "output_type": "execute_result"
    }
   ],
   "source": [
    "# Organize columns and reset index\n",
    "columns_selection = ['Year', 'Period', 'Scheme_description', 'Residence_county', 'Recipients']\n",
    "datasp = datasp[columns_selection]\n",
    "datasp.reset_index(drop=True, inplace=True)\n",
    "datasp.head()"
   ]
  },
  {
   "cell_type": "code",
   "execution_count": 122,
   "id": "e57668f7",
   "metadata": {},
   "outputs": [
    {
     "data": {
      "text/plain": [
       "(22175, 5)"
      ]
     },
     "execution_count": 122,
     "metadata": {},
     "output_type": "execute_result"
    }
   ],
   "source": [
    "datasp.shape"
   ]
  },
  {
   "cell_type": "markdown",
   "id": "aefbb75f",
   "metadata": {},
   "source": [
    "#### Labour Force Dataset"
   ]
  },
  {
   "cell_type": "code",
   "execution_count": 123,
   "id": "3aff5db2",
   "metadata": {},
   "outputs": [
    {
     "data": {
      "text/html": [
       "<div>\n",
       "<style scoped>\n",
       "    .dataframe tbody tr th:only-of-type {\n",
       "        vertical-align: middle;\n",
       "    }\n",
       "\n",
       "    .dataframe tbody tr th {\n",
       "        vertical-align: top;\n",
       "    }\n",
       "\n",
       "    .dataframe thead th {\n",
       "        text-align: right;\n",
       "    }\n",
       "</style>\n",
       "<table border=\"1\" class=\"dataframe\">\n",
       "  <thead>\n",
       "    <tr style=\"text-align: right;\">\n",
       "      <th></th>\n",
       "      <th>STATISTIC</th>\n",
       "      <th>Statistic Label</th>\n",
       "      <th>TLIST(Q1)</th>\n",
       "      <th>Quarter</th>\n",
       "      <th>C02199V02655</th>\n",
       "      <th>Sex</th>\n",
       "      <th>C01999V02434</th>\n",
       "      <th>ILO Economic Status</th>\n",
       "      <th>UNIT</th>\n",
       "      <th>VALUE</th>\n",
       "    </tr>\n",
       "  </thead>\n",
       "  <tbody>\n",
       "    <tr>\n",
       "      <th>0</th>\n",
       "      <td>QLF01C01</td>\n",
       "      <td>Persons aged 15 years and over</td>\n",
       "      <td>19981</td>\n",
       "      <td>1998Q1</td>\n",
       "      <td>-</td>\n",
       "      <td>Both sexes</td>\n",
       "      <td>-</td>\n",
       "      <td>All ILO economic status</td>\n",
       "      <td>Thousand</td>\n",
       "      <td>2857.2</td>\n",
       "    </tr>\n",
       "    <tr>\n",
       "      <th>1</th>\n",
       "      <td>QLF01C01</td>\n",
       "      <td>Persons aged 15 years and over</td>\n",
       "      <td>19981</td>\n",
       "      <td>1998Q1</td>\n",
       "      <td>-</td>\n",
       "      <td>Both sexes</td>\n",
       "      <td>01</td>\n",
       "      <td>In labour force</td>\n",
       "      <td>Thousand</td>\n",
       "      <td>1699.0</td>\n",
       "    </tr>\n",
       "    <tr>\n",
       "      <th>2</th>\n",
       "      <td>QLF01C01</td>\n",
       "      <td>Persons aged 15 years and over</td>\n",
       "      <td>19981</td>\n",
       "      <td>1998Q1</td>\n",
       "      <td>-</td>\n",
       "      <td>Both sexes</td>\n",
       "      <td>02</td>\n",
       "      <td>In employment</td>\n",
       "      <td>Thousand</td>\n",
       "      <td>1550.3</td>\n",
       "    </tr>\n",
       "    <tr>\n",
       "      <th>3</th>\n",
       "      <td>QLF01C01</td>\n",
       "      <td>Persons aged 15 years and over</td>\n",
       "      <td>19981</td>\n",
       "      <td>1998Q1</td>\n",
       "      <td>-</td>\n",
       "      <td>Both sexes</td>\n",
       "      <td>03</td>\n",
       "      <td>In employment full-time</td>\n",
       "      <td>Thousand</td>\n",
       "      <td>1282.6</td>\n",
       "    </tr>\n",
       "    <tr>\n",
       "      <th>4</th>\n",
       "      <td>QLF01C01</td>\n",
       "      <td>Persons aged 15 years and over</td>\n",
       "      <td>19981</td>\n",
       "      <td>1998Q1</td>\n",
       "      <td>-</td>\n",
       "      <td>Both sexes</td>\n",
       "      <td>04</td>\n",
       "      <td>In employment part-time</td>\n",
       "      <td>Thousand</td>\n",
       "      <td>267.7</td>\n",
       "    </tr>\n",
       "  </tbody>\n",
       "</table>\n",
       "</div>"
      ],
      "text/plain": [
       "  STATISTIC                 Statistic Label  TLIST(Q1) Quarter C02199V02655  \\\n",
       "0  QLF01C01  Persons aged 15 years and over      19981  1998Q1            -   \n",
       "1  QLF01C01  Persons aged 15 years and over      19981  1998Q1            -   \n",
       "2  QLF01C01  Persons aged 15 years and over      19981  1998Q1            -   \n",
       "3  QLF01C01  Persons aged 15 years and over      19981  1998Q1            -   \n",
       "4  QLF01C01  Persons aged 15 years and over      19981  1998Q1            -   \n",
       "\n",
       "          Sex C01999V02434      ILO Economic Status      UNIT   VALUE  \n",
       "0  Both sexes            -  All ILO economic status  Thousand  2857.2  \n",
       "1  Both sexes           01          In labour force  Thousand  1699.0  \n",
       "2  Both sexes           02            In employment  Thousand  1550.3  \n",
       "3  Both sexes           03  In employment full-time  Thousand  1282.6  \n",
       "4  Both sexes           04  In employment part-time  Thousand   267.7  "
      ]
     },
     "execution_count": 123,
     "metadata": {},
     "output_type": "execute_result"
    }
   ],
   "source": [
    "# Load dataset\n",
    "labour_df = pd.read_csv(\"Labour_force .csv\")\n",
    "labour_df.head()"
   ]
  },
  {
   "cell_type": "code",
   "execution_count": 124,
   "id": "269ed99b",
   "metadata": {},
   "outputs": [],
   "source": [
    "# Filter Sex column to both sexes\n",
    "labour_df = labour_df[labour_df[\"Sex\"] == \"Both sexes\"]"
   ]
  },
  {
   "cell_type": "code",
   "execution_count": 125,
   "id": "6fcba185",
   "metadata": {},
   "outputs": [],
   "source": [
    "# Filter Columns\n",
    "columns_labour = [\"Quarter\", \"ILO Economic Status\", \"VALUE\"]\n",
    "labour_df = labour_df[columns_labour]"
   ]
  },
  {
   "cell_type": "code",
   "execution_count": 126,
   "id": "b799aef5",
   "metadata": {},
   "outputs": [
    {
     "data": {
      "text/plain": [
       "array(['All ILO economic status', 'In labour force', 'In employment',\n",
       "       'In employment full-time', 'In employment part-time',\n",
       "       'In employment part-time - not underemployed',\n",
       "       'In employment part-time - underemployed', 'Unemployed',\n",
       "       'Unemployed seeking full-time work/future job-starter',\n",
       "       'Unemployed seeking part-time work', 'Not in labour force',\n",
       "       'Potential additional labour force', 'Others not in labour force',\n",
       "       'Unemployed seeking work as self-employed'], dtype=object)"
      ]
     },
     "execution_count": 126,
     "metadata": {},
     "output_type": "execute_result"
    }
   ],
   "source": [
    "# Check variables in economic status\n",
    "labour_df[\"ILO Economic Status\"].unique()"
   ]
  },
  {
   "cell_type": "code",
   "execution_count": 127,
   "id": "1bb52e79",
   "metadata": {},
   "outputs": [
    {
     "data": {
      "text/html": [
       "<div>\n",
       "<style scoped>\n",
       "    .dataframe tbody tr th:only-of-type {\n",
       "        vertical-align: middle;\n",
       "    }\n",
       "\n",
       "    .dataframe tbody tr th {\n",
       "        vertical-align: top;\n",
       "    }\n",
       "\n",
       "    .dataframe thead th {\n",
       "        text-align: right;\n",
       "    }\n",
       "</style>\n",
       "<table border=\"1\" class=\"dataframe\">\n",
       "  <thead>\n",
       "    <tr style=\"text-align: right;\">\n",
       "      <th></th>\n",
       "      <th>Quarter</th>\n",
       "      <th>ILO Economic Status</th>\n",
       "      <th>VALUE</th>\n",
       "    </tr>\n",
       "  </thead>\n",
       "  <tbody>\n",
       "    <tr>\n",
       "      <th>0</th>\n",
       "      <td>1998Q1</td>\n",
       "      <td>In labour force</td>\n",
       "      <td>1699.0</td>\n",
       "    </tr>\n",
       "    <tr>\n",
       "      <th>1</th>\n",
       "      <td>1998Q1</td>\n",
       "      <td>In employment</td>\n",
       "      <td>1550.3</td>\n",
       "    </tr>\n",
       "    <tr>\n",
       "      <th>2</th>\n",
       "      <td>1998Q1</td>\n",
       "      <td>Unemployed</td>\n",
       "      <td>148.7</td>\n",
       "    </tr>\n",
       "    <tr>\n",
       "      <th>3</th>\n",
       "      <td>1998Q1</td>\n",
       "      <td>Not in labour force</td>\n",
       "      <td>1158.2</td>\n",
       "    </tr>\n",
       "    <tr>\n",
       "      <th>4</th>\n",
       "      <td>1998Q2</td>\n",
       "      <td>In labour force</td>\n",
       "      <td>1710.7</td>\n",
       "    </tr>\n",
       "  </tbody>\n",
       "</table>\n",
       "</div>"
      ],
      "text/plain": [
       "  Quarter  ILO Economic Status   VALUE\n",
       "0  1998Q1      In labour force  1699.0\n",
       "1  1998Q1        In employment  1550.3\n",
       "2  1998Q1           Unemployed   148.7\n",
       "3  1998Q1  Not in labour force  1158.2\n",
       "4  1998Q2      In labour force  1710.7"
      ]
     },
     "execution_count": 127,
     "metadata": {},
     "output_type": "execute_result"
    }
   ],
   "source": [
    "# Filter ILO Economic Status column: In labour force / In employment / Unemployed / Not in labour force\n",
    "labour_df = labour_df[labour_df[\"ILO Economic Status\"].isin([\"In labour force\", \"In employment\", \"Unemployed\", \"Not in labour force\"])].reset_index(drop=True)\n",
    "labour_df.head()"
   ]
  },
  {
   "cell_type": "code",
   "execution_count": 128,
   "id": "1c2e5977",
   "metadata": {},
   "outputs": [
    {
     "data": {
      "text/plain": [
       "Quarter                0\n",
       "ILO Economic Status    0\n",
       "VALUE                  0\n",
       "dtype: int64"
      ]
     },
     "execution_count": 128,
     "metadata": {},
     "output_type": "execute_result"
    }
   ],
   "source": [
    "# Check null\n",
    "labour_df.isnull().sum()"
   ]
  },
  {
   "cell_type": "code",
   "execution_count": 129,
   "id": "c4d0fb4c",
   "metadata": {},
   "outputs": [
    {
     "data": {
      "text/plain": [
       "0"
      ]
     },
     "execution_count": 129,
     "metadata": {},
     "output_type": "execute_result"
    }
   ],
   "source": [
    "# Check duplicates\n",
    "labour_df.duplicated().sum()"
   ]
  },
  {
   "cell_type": "code",
   "execution_count": 130,
   "id": "85757d0e",
   "metadata": {},
   "outputs": [],
   "source": [
    "# Split year in two columns (year and period)\n",
    "labour_df[[\"year\", \"period\"]] = labour_df[\"Quarter\"].str.split(\"Q\", expand=True)"
   ]
  },
  {
   "cell_type": "code",
   "execution_count": 131,
   "id": "5bdb71db",
   "metadata": {},
   "outputs": [],
   "source": [
    "# Rename columns\n",
    "labour_df.rename(columns={\n",
    "                          \"ILO Economic Status\": \"economic_status\",\n",
    "                          \"VALUE\": \"individuals\"\n",
    "                          }, inplace=True)"
   ]
  },
  {
   "cell_type": "code",
   "execution_count": 132,
   "id": "181b5d7e",
   "metadata": {},
   "outputs": [],
   "source": [
    "# Organize columns\n",
    "columns_order = [\"year\", \"period\", \"economic_status\", \"individuals\"]\n",
    "labour_df = labour_df[columns_order]\n",
    "\n",
    "# Set the individuals columns to thousands\n",
    "labour_df[\"individuals\"] = labour_df[\"individuals\"]*1000"
   ]
  },
  {
   "cell_type": "code",
   "execution_count": 133,
   "id": "d4931d7d",
   "metadata": {},
   "outputs": [
    {
     "data": {
      "text/plain": [
       "year                 0\n",
       "period               0\n",
       "economic_status      0\n",
       "individuals        0.0\n",
       "dtype: object"
      ]
     },
     "execution_count": 133,
     "metadata": {},
     "output_type": "execute_result"
    }
   ],
   "source": [
    "# Check outliers\n",
    "Q1 = labour_df['individuals'].quantile(.25)\n",
    "Q3 = labour_df['individuals'].quantile(.75)\n",
    "IQR = Q3 - Q1\n",
    "lower_out = Q1 - 1.5 * IQR\n",
    "upper_out = Q3 + 1.5 * IQR\n",
    "\n",
    "outliers = labour_df[(labour_df['individuals'] < lower_out) | (labour_df['individuals'] > upper_out)]\n",
    "outliers.sum()\n"
   ]
  },
  {
   "cell_type": "code",
   "execution_count": 134,
   "id": "3b7bd08c",
   "metadata": {},
   "outputs": [],
   "source": [
    "# Change data type to integer\n",
    "labour_df[\"year\"] = labour_df[\"year\"].astype(np.int64)\n",
    "labour_df[\"period\"] = labour_df[\"period\"].astype(np.int64)"
   ]
  },
  {
   "cell_type": "code",
   "execution_count": 135,
   "id": "92535fee",
   "metadata": {},
   "outputs": [
    {
     "name": "stdout",
     "output_type": "stream",
     "text": [
      "<class 'pandas.core.frame.DataFrame'>\n",
      "RangeIndex: 428 entries, 0 to 427\n",
      "Data columns (total 4 columns):\n",
      " #   Column           Non-Null Count  Dtype  \n",
      "---  ------           --------------  -----  \n",
      " 0   year             428 non-null    int64  \n",
      " 1   period           428 non-null    int64  \n",
      " 2   economic_status  428 non-null    object \n",
      " 3   individuals      428 non-null    float64\n",
      "dtypes: float64(1), int64(2), object(1)\n",
      "memory usage: 13.5+ KB\n"
     ]
    }
   ],
   "source": [
    "labour_df.info()"
   ]
  },
  {
   "cell_type": "code",
   "execution_count": 136,
   "id": "52a40d9d",
   "metadata": {},
   "outputs": [
    {
     "data": {
      "text/html": [
       "<div>\n",
       "<style scoped>\n",
       "    .dataframe tbody tr th:only-of-type {\n",
       "        vertical-align: middle;\n",
       "    }\n",
       "\n",
       "    .dataframe tbody tr th {\n",
       "        vertical-align: top;\n",
       "    }\n",
       "\n",
       "    .dataframe thead th {\n",
       "        text-align: right;\n",
       "    }\n",
       "</style>\n",
       "<table border=\"1\" class=\"dataframe\">\n",
       "  <thead>\n",
       "    <tr style=\"text-align: right;\">\n",
       "      <th></th>\n",
       "      <th>year</th>\n",
       "      <th>period</th>\n",
       "      <th>economic_status</th>\n",
       "      <th>individuals</th>\n",
       "    </tr>\n",
       "  </thead>\n",
       "  <tbody>\n",
       "    <tr>\n",
       "      <th>0</th>\n",
       "      <td>1998</td>\n",
       "      <td>1</td>\n",
       "      <td>In labour force</td>\n",
       "      <td>1699000.0</td>\n",
       "    </tr>\n",
       "    <tr>\n",
       "      <th>1</th>\n",
       "      <td>1998</td>\n",
       "      <td>1</td>\n",
       "      <td>In employment</td>\n",
       "      <td>1550300.0</td>\n",
       "    </tr>\n",
       "    <tr>\n",
       "      <th>2</th>\n",
       "      <td>1998</td>\n",
       "      <td>1</td>\n",
       "      <td>Unemployed</td>\n",
       "      <td>148700.0</td>\n",
       "    </tr>\n",
       "    <tr>\n",
       "      <th>3</th>\n",
       "      <td>1998</td>\n",
       "      <td>1</td>\n",
       "      <td>Not in labour force</td>\n",
       "      <td>1158200.0</td>\n",
       "    </tr>\n",
       "    <tr>\n",
       "      <th>4</th>\n",
       "      <td>1998</td>\n",
       "      <td>2</td>\n",
       "      <td>In labour force</td>\n",
       "      <td>1710700.0</td>\n",
       "    </tr>\n",
       "  </tbody>\n",
       "</table>\n",
       "</div>"
      ],
      "text/plain": [
       "   year  period      economic_status  individuals\n",
       "0  1998       1      In labour force    1699000.0\n",
       "1  1998       1        In employment    1550300.0\n",
       "2  1998       1           Unemployed     148700.0\n",
       "3  1998       1  Not in labour force    1158200.0\n",
       "4  1998       2      In labour force    1710700.0"
      ]
     },
     "execution_count": 136,
     "metadata": {},
     "output_type": "execute_result"
    }
   ],
   "source": [
    "labour_df.head()"
   ]
  },
  {
   "cell_type": "markdown",
   "id": "449f7111",
   "metadata": {},
   "source": [
    "#### Social Protection Expenditure Dataset"
   ]
  },
  {
   "cell_type": "code",
   "execution_count": 137,
   "id": "d2842f53",
   "metadata": {},
   "outputs": [
    {
     "data": {
      "text/html": [
       "<div>\n",
       "<style scoped>\n",
       "    .dataframe tbody tr th:only-of-type {\n",
       "        vertical-align: middle;\n",
       "    }\n",
       "\n",
       "    .dataframe tbody tr th {\n",
       "        vertical-align: top;\n",
       "    }\n",
       "\n",
       "    .dataframe thead th {\n",
       "        text-align: right;\n",
       "    }\n",
       "</style>\n",
       "<table border=\"1\" class=\"dataframe\">\n",
       "  <thead>\n",
       "    <tr style=\"text-align: right;\">\n",
       "      <th></th>\n",
       "      <th>STATISTIC</th>\n",
       "      <th>Statistic Label</th>\n",
       "      <th>TLIST(A1)</th>\n",
       "      <th>Year</th>\n",
       "      <th>C03908V04660</th>\n",
       "      <th>Social Protection Expenditure</th>\n",
       "      <th>UNIT</th>\n",
       "      <th>VALUE</th>\n",
       "    </tr>\n",
       "  </thead>\n",
       "  <tbody>\n",
       "    <tr>\n",
       "      <th>0</th>\n",
       "      <td>SPEA02C01</td>\n",
       "      <td>Social Protection Expenditure by function</td>\n",
       "      <td>2000</td>\n",
       "      <td>2000</td>\n",
       "      <td>1000000</td>\n",
       "      <td>Total Social Protection Expenditure</td>\n",
       "      <td>€million</td>\n",
       "      <td>16466</td>\n",
       "    </tr>\n",
       "    <tr>\n",
       "      <th>1</th>\n",
       "      <td>SPEA02C01</td>\n",
       "      <td>Social Protection Expenditure by function</td>\n",
       "      <td>2000</td>\n",
       "      <td>2000</td>\n",
       "      <td>1100000</td>\n",
       "      <td>Expenditure, Social Protection Benefits</td>\n",
       "      <td>€million</td>\n",
       "      <td>15584</td>\n",
       "    </tr>\n",
       "    <tr>\n",
       "      <th>2</th>\n",
       "      <td>SPEA02C01</td>\n",
       "      <td>Social Protection Expenditure by function</td>\n",
       "      <td>2000</td>\n",
       "      <td>2000</td>\n",
       "      <td>1110000</td>\n",
       "      <td>Expenditure, Sickness benefits</td>\n",
       "      <td>€million</td>\n",
       "      <td>5517</td>\n",
       "    </tr>\n",
       "    <tr>\n",
       "      <th>3</th>\n",
       "      <td>SPEA02C01</td>\n",
       "      <td>Social Protection Expenditure by function</td>\n",
       "      <td>2000</td>\n",
       "      <td>2000</td>\n",
       "      <td>1120000</td>\n",
       "      <td>Expenditure, Disability benefits</td>\n",
       "      <td>€million</td>\n",
       "      <td>682</td>\n",
       "    </tr>\n",
       "    <tr>\n",
       "      <th>4</th>\n",
       "      <td>SPEA02C01</td>\n",
       "      <td>Social Protection Expenditure by function</td>\n",
       "      <td>2000</td>\n",
       "      <td>2000</td>\n",
       "      <td>1130000</td>\n",
       "      <td>Expenditure, Old age benefits</td>\n",
       "      <td>€million</td>\n",
       "      <td>4444</td>\n",
       "    </tr>\n",
       "  </tbody>\n",
       "</table>\n",
       "</div>"
      ],
      "text/plain": [
       "   STATISTIC                            Statistic Label  TLIST(A1)  Year  \\\n",
       "0  SPEA02C01  Social Protection Expenditure by function       2000  2000   \n",
       "1  SPEA02C01  Social Protection Expenditure by function       2000  2000   \n",
       "2  SPEA02C01  Social Protection Expenditure by function       2000  2000   \n",
       "3  SPEA02C01  Social Protection Expenditure by function       2000  2000   \n",
       "4  SPEA02C01  Social Protection Expenditure by function       2000  2000   \n",
       "\n",
       "   C03908V04660            Social Protection Expenditure      UNIT  VALUE  \n",
       "0       1000000      Total Social Protection Expenditure  €million  16466  \n",
       "1       1100000  Expenditure, Social Protection Benefits  €million  15584  \n",
       "2       1110000           Expenditure, Sickness benefits  €million   5517  \n",
       "3       1120000         Expenditure, Disability benefits  €million    682  \n",
       "4       1130000            Expenditure, Old age benefits  €million   4444  "
      ]
     },
     "execution_count": 137,
     "metadata": {},
     "output_type": "execute_result"
    }
   ],
   "source": [
    "# Load dataset\n",
    "expenditure_df = pd.read_csv(\"Expenditure.csv\")\n",
    "expenditure_df.head()"
   ]
  },
  {
   "cell_type": "code",
   "execution_count": 138,
   "id": "368a5adb",
   "metadata": {},
   "outputs": [],
   "source": [
    "# Remove columns\n",
    "expenditure_df.drop(columns=[\"STATISTIC\", \"Statistic Label\", \"TLIST(A1)\", \"C03908V04660\"], inplace=True)"
   ]
  },
  {
   "cell_type": "code",
   "execution_count": 139,
   "id": "f4912a42",
   "metadata": {},
   "outputs": [
    {
     "data": {
      "text/plain": [
       "Year                             0\n",
       "Social Protection Expenditure    0\n",
       "UNIT                             0\n",
       "VALUE                            0\n",
       "dtype: int64"
      ]
     },
     "execution_count": 139,
     "metadata": {},
     "output_type": "execute_result"
    }
   ],
   "source": [
    "# Check null\n",
    "expenditure_df.isnull().sum()"
   ]
  },
  {
   "cell_type": "code",
   "execution_count": 140,
   "id": "4f75822c",
   "metadata": {},
   "outputs": [
    {
     "data": {
      "text/plain": [
       "0"
      ]
     },
     "execution_count": 140,
     "metadata": {},
     "output_type": "execute_result"
    }
   ],
   "source": [
    "# Check duplicates\n",
    "expenditure_df.duplicated().sum()"
   ]
  },
  {
   "cell_type": "code",
   "execution_count": 141,
   "id": "ebae9674",
   "metadata": {},
   "outputs": [],
   "source": [
    "# Rename columns\n",
    "expenditure_df.rename(columns={\"Year\": \"year\",\n",
    "                       \"Social Protection Expenditure\": \"social protection expenditure\",\n",
    "                       \"VALUE\": \"value (euro)\",\n",
    "                       \"UNIT\": \"unit\"}, inplace=True)"
   ]
  },
  {
   "cell_type": "code",
   "execution_count": 142,
   "id": "6f1771cf",
   "metadata": {},
   "outputs": [],
   "source": [
    "# Rename variables in social protection expenditure column for readability \n",
    "social_expenditure_rename = {\n",
    "                    \"Total Social Protection Expenditure\": \"Total Social Protection\",\n",
    "                    \"Expenditure, Social Protection Benefits\": \"Social Protection Benefits\", \n",
    "                    \"Expenditure, Sickness benefits\": \"Sickness benefits\",\n",
    "                    \"Expenditure, Disability benefits\": \"Disability benefits\",\n",
    "                    \"Expenditure, Old age benefits\": \"Old age benefits\",\n",
    "                    \"Expenditure, Survivor benefits\": \"Survivor benefits\",\n",
    "                    \"Expenditure, Family benefits\": \"Family benefits\",\n",
    "                    \"Expenditure, Unemployment benefits\": \"Unemployment benefits\",\n",
    "                    \"Expenditure, Housing benefits\": \"Housing benefits\",\n",
    "                    \"Expenditure, Social exclusion benefits n.e.c.\": \"Social exclusion benefits\",\n",
    "                    \"Expenditure, Social Protection - Administration Costs\": \"Social Protection - Administration Costs\" \n",
    "}\n",
    "\n",
    "expenditure_df[\"social protection expenditure\"] = expenditure_df[\"social protection expenditure\"].replace(social_expenditure_rename)"
   ]
  },
  {
   "cell_type": "code",
   "execution_count": 143,
   "id": "4bc2cbdb",
   "metadata": {},
   "outputs": [],
   "source": [
    "# Rename variables in unit column\n",
    "unit_rename = {\"€million\": \"Million\"}\n",
    "expenditure_df[\"unit\"] = expenditure_df[\"unit\"].replace(unit_rename)"
   ]
  },
  {
   "cell_type": "code",
   "execution_count": 144,
   "id": "619a9ac0",
   "metadata": {},
   "outputs": [
    {
     "data": {
      "text/plain": [
       "array(['Total Social Protection', 'Social Protection Benefits',\n",
       "       'Sickness benefits', 'Disability benefits', 'Old age benefits',\n",
       "       'Survivor benefits', 'Family benefits', 'Unemployment benefits',\n",
       "       'Housing benefits', 'Social exclusion benefits',\n",
       "       'Social Protection - Administration Costs'], dtype=object)"
      ]
     },
     "execution_count": 144,
     "metadata": {},
     "output_type": "execute_result"
    }
   ],
   "source": [
    "# Check unique values \n",
    "expenditure_df[\"social protection expenditure\"].unique()"
   ]
  },
  {
   "cell_type": "code",
   "execution_count": 145,
   "id": "5b3ec605",
   "metadata": {},
   "outputs": [
    {
     "data": {
      "text/html": [
       "<div>\n",
       "<style scoped>\n",
       "    .dataframe tbody tr th:only-of-type {\n",
       "        vertical-align: middle;\n",
       "    }\n",
       "\n",
       "    .dataframe tbody tr th {\n",
       "        vertical-align: top;\n",
       "    }\n",
       "\n",
       "    .dataframe thead th {\n",
       "        text-align: right;\n",
       "    }\n",
       "</style>\n",
       "<table border=\"1\" class=\"dataframe\">\n",
       "  <thead>\n",
       "    <tr style=\"text-align: right;\">\n",
       "      <th></th>\n",
       "      <th>year</th>\n",
       "      <th>social protection expenditure</th>\n",
       "      <th>unit</th>\n",
       "      <th>value (euro)</th>\n",
       "    </tr>\n",
       "  </thead>\n",
       "  <tbody>\n",
       "    <tr>\n",
       "      <th>77</th>\n",
       "      <td>2007</td>\n",
       "      <td>Total Social Protection</td>\n",
       "      <td>Million</td>\n",
       "      <td>35682</td>\n",
       "    </tr>\n",
       "    <tr>\n",
       "      <th>78</th>\n",
       "      <td>2007</td>\n",
       "      <td>Social Protection Benefits</td>\n",
       "      <td>Million</td>\n",
       "      <td>34080</td>\n",
       "    </tr>\n",
       "    <tr>\n",
       "      <th>88</th>\n",
       "      <td>2008</td>\n",
       "      <td>Total Social Protection</td>\n",
       "      <td>Million</td>\n",
       "      <td>39209</td>\n",
       "    </tr>\n",
       "    <tr>\n",
       "      <th>89</th>\n",
       "      <td>2008</td>\n",
       "      <td>Social Protection Benefits</td>\n",
       "      <td>Million</td>\n",
       "      <td>37838</td>\n",
       "    </tr>\n",
       "    <tr>\n",
       "      <th>99</th>\n",
       "      <td>2009</td>\n",
       "      <td>Total Social Protection</td>\n",
       "      <td>Million</td>\n",
       "      <td>42094</td>\n",
       "    </tr>\n",
       "  </tbody>\n",
       "</table>\n",
       "</div>"
      ],
      "text/plain": [
       "    year social protection expenditure     unit  value (euro)\n",
       "77  2007       Total Social Protection  Million         35682\n",
       "78  2007    Social Protection Benefits  Million         34080\n",
       "88  2008       Total Social Protection  Million         39209\n",
       "89  2008    Social Protection Benefits  Million         37838\n",
       "99  2009       Total Social Protection  Million         42094"
      ]
     },
     "execution_count": 145,
     "metadata": {},
     "output_type": "execute_result"
    }
   ],
   "source": [
    "# Check outliers\n",
    "Q1 = expenditure_df['value (euro)'].quantile(.25)\n",
    "Q3 = expenditure_df['value (euro)'].quantile(.75)\n",
    "IQR = Q3 - Q1\n",
    "lower_out = Q1 - 1.5 * IQR\n",
    "upper_out = Q3 + 1.5 * IQR\n",
    "\n",
    "outliers = expenditure_df[(expenditure_df['value (euro)'] < lower_out) | (expenditure_df['value (euro)'] > upper_out)]\n",
    "outliers.head()"
   ]
  },
  {
   "cell_type": "markdown",
   "id": "fc5bf7d0",
   "metadata": {},
   "source": [
    "Not necessary to remove the outliers since the main analysis will be made on unemployment social protection."
   ]
  },
  {
   "cell_type": "code",
   "execution_count": 146,
   "id": "3beb41ae",
   "metadata": {},
   "outputs": [
    {
     "data": {
      "text/html": [
       "<div>\n",
       "<style scoped>\n",
       "    .dataframe tbody tr th:only-of-type {\n",
       "        vertical-align: middle;\n",
       "    }\n",
       "\n",
       "    .dataframe tbody tr th {\n",
       "        vertical-align: top;\n",
       "    }\n",
       "\n",
       "    .dataframe thead th {\n",
       "        text-align: right;\n",
       "    }\n",
       "</style>\n",
       "<table border=\"1\" class=\"dataframe\">\n",
       "  <thead>\n",
       "    <tr style=\"text-align: right;\">\n",
       "      <th></th>\n",
       "      <th>year</th>\n",
       "      <th>social protection expenditure</th>\n",
       "      <th>unit</th>\n",
       "      <th>value (euro)</th>\n",
       "    </tr>\n",
       "  </thead>\n",
       "  <tbody>\n",
       "    <tr>\n",
       "      <th>0</th>\n",
       "      <td>2000</td>\n",
       "      <td>Total Social Protection</td>\n",
       "      <td>Million</td>\n",
       "      <td>16466</td>\n",
       "    </tr>\n",
       "    <tr>\n",
       "      <th>1</th>\n",
       "      <td>2000</td>\n",
       "      <td>Social Protection Benefits</td>\n",
       "      <td>Million</td>\n",
       "      <td>15584</td>\n",
       "    </tr>\n",
       "    <tr>\n",
       "      <th>2</th>\n",
       "      <td>2000</td>\n",
       "      <td>Sickness benefits</td>\n",
       "      <td>Million</td>\n",
       "      <td>5517</td>\n",
       "    </tr>\n",
       "    <tr>\n",
       "      <th>3</th>\n",
       "      <td>2000</td>\n",
       "      <td>Disability benefits</td>\n",
       "      <td>Million</td>\n",
       "      <td>682</td>\n",
       "    </tr>\n",
       "    <tr>\n",
       "      <th>4</th>\n",
       "      <td>2000</td>\n",
       "      <td>Old age benefits</td>\n",
       "      <td>Million</td>\n",
       "      <td>4444</td>\n",
       "    </tr>\n",
       "  </tbody>\n",
       "</table>\n",
       "</div>"
      ],
      "text/plain": [
       "   year social protection expenditure     unit  value (euro)\n",
       "0  2000       Total Social Protection  Million         16466\n",
       "1  2000    Social Protection Benefits  Million         15584\n",
       "2  2000             Sickness benefits  Million          5517\n",
       "3  2000           Disability benefits  Million           682\n",
       "4  2000              Old age benefits  Million          4444"
      ]
     },
     "execution_count": 146,
     "metadata": {},
     "output_type": "execute_result"
    }
   ],
   "source": [
    "expenditure_df.head()"
   ]
  }
 ],
 "metadata": {
  "kernelspec": {
   "display_name": "base",
   "language": "python",
   "name": "python3"
  },
  "language_info": {
   "codemirror_mode": {
    "name": "ipython",
    "version": 3
   },
   "file_extension": ".py",
   "mimetype": "text/x-python",
   "name": "python",
   "nbconvert_exporter": "python",
   "pygments_lexer": "ipython3",
   "version": "3.12.3"
  }
 },
 "nbformat": 4,
 "nbformat_minor": 5
}
