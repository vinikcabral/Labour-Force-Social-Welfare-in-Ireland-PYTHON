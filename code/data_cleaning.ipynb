{
 "cells": [
  {
   "cell_type": "markdown",
   "id": "783defab",
   "metadata": {},
   "source": [
    "# **Economic Dynamics & Social Protection in Ireland**"
   ]
  },
  {
   "cell_type": "markdown",
   "id": "a7156e7a",
   "metadata": {},
   "source": [
    "## Goal\n",
    "The goal of this project is to understand how labour force participation and social protection policies interact to shape economic health. Using Python for data analysis, the project explore how employment, unemployment, and welfare programs have evolved from 1998 to 2023, and what these patterns reveal about the effectiveness of Ireland’s policies and the resilience of its economy."
   ]
  },
  {
   "cell_type": "markdown",
   "id": "cf294369",
   "metadata": {},
   "source": [
    "## Setup"
   ]
  },
  {
   "cell_type": "markdown",
   "id": "c82c0e97",
   "metadata": {},
   "source": [
    "#### Importing libraries"
   ]
  },
  {
   "cell_type": "code",
   "execution_count": 3,
   "id": "a4685bbe",
   "metadata": {},
   "outputs": [],
   "source": [
    "import pandas as pd\n",
    "import matplotlib.pyplot as plt\n",
    "from matplotlib.ticker import FuncFormatter \n",
    "import seaborn as sns\n",
    "import numpy as np\n",
    "import plotly.graph_objects as go\n",
    "import plotly.express as px\n",
    "from scipy import stats\n",
    "import plotly.io as pio\n",
    "from IPython.display import Image\n",
    "\n",
    "%matplotlib inline"
   ]
  },
  {
   "cell_type": "markdown",
   "id": "d2ba573c",
   "metadata": {},
   "source": [
    "## Data Preparation"
   ]
  },
  {
   "cell_type": "markdown",
   "id": "243eac97",
   "metadata": {},
   "source": [
    "#### Social Protection Dataset"
   ]
  },
  {
   "cell_type": "code",
   "execution_count": 6,
   "id": "9ec6db7e",
   "metadata": {},
   "outputs": [
    {
     "ename": "FileNotFoundError",
     "evalue": "[Errno 2] No such file or directory: '978139ff-2a25-43a0-878e-42b046ae0aa1.csv'",
     "output_type": "error",
     "traceback": [
      "\u001b[1;31m---------------------------------------------------------------------------\u001b[0m",
      "\u001b[1;31mFileNotFoundError\u001b[0m                         Traceback (most recent call last)",
      "Cell \u001b[1;32mIn[6], line 2\u001b[0m\n\u001b[0;32m      1\u001b[0m \u001b[38;5;66;03m# Load data\u001b[39;00m\n\u001b[1;32m----> 2\u001b[0m datasp \u001b[38;5;241m=\u001b[39m pd\u001b[38;5;241m.\u001b[39mread_csv(\u001b[38;5;124m'\u001b[39m\u001b[38;5;124m978139ff-2a25-43a0-878e-42b046ae0aa1.csv\u001b[39m\u001b[38;5;124m'\u001b[39m)\n\u001b[0;32m      3\u001b[0m datasp\u001b[38;5;241m.\u001b[39mhead()\n",
      "File \u001b[1;32mc:\\Users\\Student\\anaconda3\\Lib\\site-packages\\pandas\\io\\parsers\\readers.py:1026\u001b[0m, in \u001b[0;36mread_csv\u001b[1;34m(filepath_or_buffer, sep, delimiter, header, names, index_col, usecols, dtype, engine, converters, true_values, false_values, skipinitialspace, skiprows, skipfooter, nrows, na_values, keep_default_na, na_filter, verbose, skip_blank_lines, parse_dates, infer_datetime_format, keep_date_col, date_parser, date_format, dayfirst, cache_dates, iterator, chunksize, compression, thousands, decimal, lineterminator, quotechar, quoting, doublequote, escapechar, comment, encoding, encoding_errors, dialect, on_bad_lines, delim_whitespace, low_memory, memory_map, float_precision, storage_options, dtype_backend)\u001b[0m\n\u001b[0;32m   1013\u001b[0m kwds_defaults \u001b[38;5;241m=\u001b[39m _refine_defaults_read(\n\u001b[0;32m   1014\u001b[0m     dialect,\n\u001b[0;32m   1015\u001b[0m     delimiter,\n\u001b[1;32m   (...)\u001b[0m\n\u001b[0;32m   1022\u001b[0m     dtype_backend\u001b[38;5;241m=\u001b[39mdtype_backend,\n\u001b[0;32m   1023\u001b[0m )\n\u001b[0;32m   1024\u001b[0m kwds\u001b[38;5;241m.\u001b[39mupdate(kwds_defaults)\n\u001b[1;32m-> 1026\u001b[0m \u001b[38;5;28;01mreturn\u001b[39;00m _read(filepath_or_buffer, kwds)\n",
      "File \u001b[1;32mc:\\Users\\Student\\anaconda3\\Lib\\site-packages\\pandas\\io\\parsers\\readers.py:620\u001b[0m, in \u001b[0;36m_read\u001b[1;34m(filepath_or_buffer, kwds)\u001b[0m\n\u001b[0;32m    617\u001b[0m _validate_names(kwds\u001b[38;5;241m.\u001b[39mget(\u001b[38;5;124m\"\u001b[39m\u001b[38;5;124mnames\u001b[39m\u001b[38;5;124m\"\u001b[39m, \u001b[38;5;28;01mNone\u001b[39;00m))\n\u001b[0;32m    619\u001b[0m \u001b[38;5;66;03m# Create the parser.\u001b[39;00m\n\u001b[1;32m--> 620\u001b[0m parser \u001b[38;5;241m=\u001b[39m TextFileReader(filepath_or_buffer, \u001b[38;5;241m*\u001b[39m\u001b[38;5;241m*\u001b[39mkwds)\n\u001b[0;32m    622\u001b[0m \u001b[38;5;28;01mif\u001b[39;00m chunksize \u001b[38;5;129;01mor\u001b[39;00m iterator:\n\u001b[0;32m    623\u001b[0m     \u001b[38;5;28;01mreturn\u001b[39;00m parser\n",
      "File \u001b[1;32mc:\\Users\\Student\\anaconda3\\Lib\\site-packages\\pandas\\io\\parsers\\readers.py:1620\u001b[0m, in \u001b[0;36mTextFileReader.__init__\u001b[1;34m(self, f, engine, **kwds)\u001b[0m\n\u001b[0;32m   1617\u001b[0m     \u001b[38;5;28mself\u001b[39m\u001b[38;5;241m.\u001b[39moptions[\u001b[38;5;124m\"\u001b[39m\u001b[38;5;124mhas_index_names\u001b[39m\u001b[38;5;124m\"\u001b[39m] \u001b[38;5;241m=\u001b[39m kwds[\u001b[38;5;124m\"\u001b[39m\u001b[38;5;124mhas_index_names\u001b[39m\u001b[38;5;124m\"\u001b[39m]\n\u001b[0;32m   1619\u001b[0m \u001b[38;5;28mself\u001b[39m\u001b[38;5;241m.\u001b[39mhandles: IOHandles \u001b[38;5;241m|\u001b[39m \u001b[38;5;28;01mNone\u001b[39;00m \u001b[38;5;241m=\u001b[39m \u001b[38;5;28;01mNone\u001b[39;00m\n\u001b[1;32m-> 1620\u001b[0m \u001b[38;5;28mself\u001b[39m\u001b[38;5;241m.\u001b[39m_engine \u001b[38;5;241m=\u001b[39m \u001b[38;5;28mself\u001b[39m\u001b[38;5;241m.\u001b[39m_make_engine(f, \u001b[38;5;28mself\u001b[39m\u001b[38;5;241m.\u001b[39mengine)\n",
      "File \u001b[1;32mc:\\Users\\Student\\anaconda3\\Lib\\site-packages\\pandas\\io\\parsers\\readers.py:1880\u001b[0m, in \u001b[0;36mTextFileReader._make_engine\u001b[1;34m(self, f, engine)\u001b[0m\n\u001b[0;32m   1878\u001b[0m     \u001b[38;5;28;01mif\u001b[39;00m \u001b[38;5;124m\"\u001b[39m\u001b[38;5;124mb\u001b[39m\u001b[38;5;124m\"\u001b[39m \u001b[38;5;129;01mnot\u001b[39;00m \u001b[38;5;129;01min\u001b[39;00m mode:\n\u001b[0;32m   1879\u001b[0m         mode \u001b[38;5;241m+\u001b[39m\u001b[38;5;241m=\u001b[39m \u001b[38;5;124m\"\u001b[39m\u001b[38;5;124mb\u001b[39m\u001b[38;5;124m\"\u001b[39m\n\u001b[1;32m-> 1880\u001b[0m \u001b[38;5;28mself\u001b[39m\u001b[38;5;241m.\u001b[39mhandles \u001b[38;5;241m=\u001b[39m get_handle(\n\u001b[0;32m   1881\u001b[0m     f,\n\u001b[0;32m   1882\u001b[0m     mode,\n\u001b[0;32m   1883\u001b[0m     encoding\u001b[38;5;241m=\u001b[39m\u001b[38;5;28mself\u001b[39m\u001b[38;5;241m.\u001b[39moptions\u001b[38;5;241m.\u001b[39mget(\u001b[38;5;124m\"\u001b[39m\u001b[38;5;124mencoding\u001b[39m\u001b[38;5;124m\"\u001b[39m, \u001b[38;5;28;01mNone\u001b[39;00m),\n\u001b[0;32m   1884\u001b[0m     compression\u001b[38;5;241m=\u001b[39m\u001b[38;5;28mself\u001b[39m\u001b[38;5;241m.\u001b[39moptions\u001b[38;5;241m.\u001b[39mget(\u001b[38;5;124m\"\u001b[39m\u001b[38;5;124mcompression\u001b[39m\u001b[38;5;124m\"\u001b[39m, \u001b[38;5;28;01mNone\u001b[39;00m),\n\u001b[0;32m   1885\u001b[0m     memory_map\u001b[38;5;241m=\u001b[39m\u001b[38;5;28mself\u001b[39m\u001b[38;5;241m.\u001b[39moptions\u001b[38;5;241m.\u001b[39mget(\u001b[38;5;124m\"\u001b[39m\u001b[38;5;124mmemory_map\u001b[39m\u001b[38;5;124m\"\u001b[39m, \u001b[38;5;28;01mFalse\u001b[39;00m),\n\u001b[0;32m   1886\u001b[0m     is_text\u001b[38;5;241m=\u001b[39mis_text,\n\u001b[0;32m   1887\u001b[0m     errors\u001b[38;5;241m=\u001b[39m\u001b[38;5;28mself\u001b[39m\u001b[38;5;241m.\u001b[39moptions\u001b[38;5;241m.\u001b[39mget(\u001b[38;5;124m\"\u001b[39m\u001b[38;5;124mencoding_errors\u001b[39m\u001b[38;5;124m\"\u001b[39m, \u001b[38;5;124m\"\u001b[39m\u001b[38;5;124mstrict\u001b[39m\u001b[38;5;124m\"\u001b[39m),\n\u001b[0;32m   1888\u001b[0m     storage_options\u001b[38;5;241m=\u001b[39m\u001b[38;5;28mself\u001b[39m\u001b[38;5;241m.\u001b[39moptions\u001b[38;5;241m.\u001b[39mget(\u001b[38;5;124m\"\u001b[39m\u001b[38;5;124mstorage_options\u001b[39m\u001b[38;5;124m\"\u001b[39m, \u001b[38;5;28;01mNone\u001b[39;00m),\n\u001b[0;32m   1889\u001b[0m )\n\u001b[0;32m   1890\u001b[0m \u001b[38;5;28;01massert\u001b[39;00m \u001b[38;5;28mself\u001b[39m\u001b[38;5;241m.\u001b[39mhandles \u001b[38;5;129;01mis\u001b[39;00m \u001b[38;5;129;01mnot\u001b[39;00m \u001b[38;5;28;01mNone\u001b[39;00m\n\u001b[0;32m   1891\u001b[0m f \u001b[38;5;241m=\u001b[39m \u001b[38;5;28mself\u001b[39m\u001b[38;5;241m.\u001b[39mhandles\u001b[38;5;241m.\u001b[39mhandle\n",
      "File \u001b[1;32mc:\\Users\\Student\\anaconda3\\Lib\\site-packages\\pandas\\io\\common.py:873\u001b[0m, in \u001b[0;36mget_handle\u001b[1;34m(path_or_buf, mode, encoding, compression, memory_map, is_text, errors, storage_options)\u001b[0m\n\u001b[0;32m    868\u001b[0m \u001b[38;5;28;01melif\u001b[39;00m \u001b[38;5;28misinstance\u001b[39m(handle, \u001b[38;5;28mstr\u001b[39m):\n\u001b[0;32m    869\u001b[0m     \u001b[38;5;66;03m# Check whether the filename is to be opened in binary mode.\u001b[39;00m\n\u001b[0;32m    870\u001b[0m     \u001b[38;5;66;03m# Binary mode does not support 'encoding' and 'newline'.\u001b[39;00m\n\u001b[0;32m    871\u001b[0m     \u001b[38;5;28;01mif\u001b[39;00m ioargs\u001b[38;5;241m.\u001b[39mencoding \u001b[38;5;129;01mand\u001b[39;00m \u001b[38;5;124m\"\u001b[39m\u001b[38;5;124mb\u001b[39m\u001b[38;5;124m\"\u001b[39m \u001b[38;5;129;01mnot\u001b[39;00m \u001b[38;5;129;01min\u001b[39;00m ioargs\u001b[38;5;241m.\u001b[39mmode:\n\u001b[0;32m    872\u001b[0m         \u001b[38;5;66;03m# Encoding\u001b[39;00m\n\u001b[1;32m--> 873\u001b[0m         handle \u001b[38;5;241m=\u001b[39m \u001b[38;5;28mopen\u001b[39m(\n\u001b[0;32m    874\u001b[0m             handle,\n\u001b[0;32m    875\u001b[0m             ioargs\u001b[38;5;241m.\u001b[39mmode,\n\u001b[0;32m    876\u001b[0m             encoding\u001b[38;5;241m=\u001b[39mioargs\u001b[38;5;241m.\u001b[39mencoding,\n\u001b[0;32m    877\u001b[0m             errors\u001b[38;5;241m=\u001b[39merrors,\n\u001b[0;32m    878\u001b[0m             newline\u001b[38;5;241m=\u001b[39m\u001b[38;5;124m\"\u001b[39m\u001b[38;5;124m\"\u001b[39m,\n\u001b[0;32m    879\u001b[0m         )\n\u001b[0;32m    880\u001b[0m     \u001b[38;5;28;01melse\u001b[39;00m:\n\u001b[0;32m    881\u001b[0m         \u001b[38;5;66;03m# Binary mode\u001b[39;00m\n\u001b[0;32m    882\u001b[0m         handle \u001b[38;5;241m=\u001b[39m \u001b[38;5;28mopen\u001b[39m(handle, ioargs\u001b[38;5;241m.\u001b[39mmode)\n",
      "\u001b[1;31mFileNotFoundError\u001b[0m: [Errno 2] No such file or directory: '978139ff-2a25-43a0-878e-42b046ae0aa1.csv'"
     ]
    }
   ],
   "source": [
    "# Load data\n",
    "datasp = pd.read_csv('978139ff-2a25-43a0-878e-42b046ae0aa1.csv')\n",
    "datasp.head()"
   ]
  },
  {
   "cell_type": "code",
   "execution_count": null,
   "id": "5e673e3a",
   "metadata": {},
   "outputs": [
    {
     "data": {
      "text/html": [
       "<div>\n",
       "<style scoped>\n",
       "    .dataframe tbody tr th:only-of-type {\n",
       "        vertical-align: middle;\n",
       "    }\n",
       "\n",
       "    .dataframe tbody tr th {\n",
       "        vertical-align: top;\n",
       "    }\n",
       "\n",
       "    .dataframe thead th {\n",
       "        text-align: right;\n",
       "    }\n",
       "</style>\n",
       "<table border=\"1\" class=\"dataframe\">\n",
       "  <thead>\n",
       "    <tr style=\"text-align: right;\">\n",
       "      <th></th>\n",
       "      <th>period</th>\n",
       "      <th>scheme_description</th>\n",
       "      <th>county</th>\n",
       "      <th>recipients</th>\n",
       "    </tr>\n",
       "  </thead>\n",
       "  <tbody>\n",
       "    <tr>\n",
       "      <th>0</th>\n",
       "      <td>2014Q1</td>\n",
       "      <td>Child Benefit</td>\n",
       "      <td>All</td>\n",
       "      <td>623,739</td>\n",
       "    </tr>\n",
       "    <tr>\n",
       "      <th>1</th>\n",
       "      <td>2014Q1</td>\n",
       "      <td>Family Income Supplement</td>\n",
       "      <td>All</td>\n",
       "      <td>48,327</td>\n",
       "    </tr>\n",
       "    <tr>\n",
       "      <th>2</th>\n",
       "      <td>2014Q1</td>\n",
       "      <td>Child Benefit</td>\n",
       "      <td>Carlow</td>\n",
       "      <td>8,319</td>\n",
       "    </tr>\n",
       "    <tr>\n",
       "      <th>3</th>\n",
       "      <td>2014Q1</td>\n",
       "      <td>Family Income Supplement</td>\n",
       "      <td>Carlow</td>\n",
       "      <td>774</td>\n",
       "    </tr>\n",
       "    <tr>\n",
       "      <th>4</th>\n",
       "      <td>2014Q1</td>\n",
       "      <td>Child Benefit</td>\n",
       "      <td>Cavan</td>\n",
       "      <td>10,349</td>\n",
       "    </tr>\n",
       "  </tbody>\n",
       "</table>\n",
       "</div>"
      ],
      "text/plain": [
       "   period        scheme_description  county  recipients\n",
       "0  2014Q1             Child Benefit     All     623,739\n",
       "1  2014Q1  Family Income Supplement     All      48,327\n",
       "2  2014Q1             Child Benefit  Carlow       8,319\n",
       "3  2014Q1  Family Income Supplement  Carlow         774\n",
       "4  2014Q1             Child Benefit   Cavan      10,349"
      ]
     },
     "metadata": {},
     "output_type": "display_data"
    }
   ],
   "source": [
    "# Filter columns\n",
    "columns_selection = ['period', 'scheme_description', 'county', 'recipients']\n",
    "datasp = datasp[columns_selection]\n",
    "datasp.head()"
   ]
  },
  {
   "cell_type": "code",
   "execution_count": null,
   "id": "5aabf1be",
   "metadata": {},
   "outputs": [
    {
     "data": {
      "text/plain": [
       "0"
      ]
     },
     "metadata": {},
     "output_type": "display_data"
    }
   ],
   "source": [
    "# Check duplicates\n",
    "datasp.duplicated().sum() "
   ]
  },
  {
   "cell_type": "code",
   "execution_count": null,
   "id": "a14d3904",
   "metadata": {},
   "outputs": [
    {
     "data": {
      "text/plain": [
       "period                0\n",
       "scheme_description    0\n",
       "county                0\n",
       "recipients            0\n",
       "dtype: int64"
      ]
     },
     "metadata": {},
     "output_type": "display_data"
    }
   ],
   "source": [
    "# Check null values\n",
    "datasp.isnull().sum()"
   ]
  },
  {
   "cell_type": "code",
   "execution_count": null,
   "id": "e78b9c48",
   "metadata": {},
   "outputs": [],
   "source": [
    "# Rename columns\n",
    "datasp.rename(columns= {'period': 'Year',\n",
    "                        'county': 'Residence_county',\n",
    "                        'scheme_description': 'Scheme_description',\n",
    "                        'recipients': 'Recipients'}, inplace=True)"
   ]
  },
  {
   "cell_type": "code",
   "execution_count": null,
   "id": "64a65a6a",
   "metadata": {},
   "outputs": [
    {
     "data": {
      "text/plain": [
       "Residence_county\n",
       "All          874\n",
       "Limerick     853\n",
       "Wexford      853\n",
       "Westmeath    853\n",
       "Waterford    853\n",
       "Tipperary    853\n",
       "Offaly       853\n",
       "Monaghan     853\n",
       "Meath        853\n",
       "Mayo         853\n",
       "Louth        853\n",
       "Carlow       853\n",
       "Longford     853\n",
       "Leitrim      853\n",
       "Laois        853\n",
       "Kilkenny     853\n",
       "Kildare      853\n",
       "Kerry        853\n",
       "Galway       853\n",
       "Dublin       853\n",
       "Donegal      853\n",
       "Cork         853\n",
       "Clare        853\n",
       "Wicklow      853\n",
       "Roscommon    852\n",
       "Sligo        852\n",
       "Cavan        852\n",
       "Unknown      845\n",
       "Name: count, dtype: int64"
      ]
     },
     "metadata": {},
     "output_type": "display_data"
    }
   ],
   "source": [
    "# Count residence_county values\n",
    "datasp['Residence_county'].value_counts()"
   ]
  },
  {
   "cell_type": "code",
   "execution_count": null,
   "id": "cb38f1fb",
   "metadata": {},
   "outputs": [],
   "source": [
    "# Remove Unknown data and all values from residence_county column\n",
    "datasp = datasp[datasp['Residence_county'] != 'Unknown']\n",
    "datasp = datasp[datasp['Residence_county'] != 'All']"
   ]
  },
  {
   "cell_type": "code",
   "execution_count": null,
   "id": "391b20d1",
   "metadata": {},
   "outputs": [
    {
     "name": "stdout",
     "output_type": "stream",
     "text": [
      "<class 'pandas.core.frame.DataFrame'>\n",
      "Index: 22175 entries, 2 to 23893\n",
      "Data columns (total 4 columns):\n",
      " #   Column              Non-Null Count  Dtype \n",
      "---  ------              --------------  ----- \n",
      " 0   Year                22175 non-null  object\n",
      " 1   Scheme_description  22175 non-null  object\n",
      " 2   Residence_county    22175 non-null  object\n",
      " 3   Recipients          22175 non-null  int32 \n",
      "dtypes: int32(1), object(3)\n",
      "memory usage: 779.6+ KB\n"
     ]
    }
   ],
   "source": [
    "# Change recipients type to integer\n",
    "datasp['Recipients'] = datasp['Recipients'].astype(int)\n",
    "datasp.info()"
   ]
  },
  {
   "cell_type": "code",
   "execution_count": null,
   "id": "04ae926f",
   "metadata": {},
   "outputs": [],
   "source": [
    "# Split year in two columns (year and period)\n",
    "datasp[['Year', 'Period']] = datasp['Year'].str.split('Q', expand=True) "
   ]
  },
  {
   "cell_type": "code",
   "execution_count": null,
   "id": "bea6758d",
   "metadata": {},
   "outputs": [],
   "source": [
    "# Convert year and periods to integer\n",
    "datasp['Period'] = datasp['Period'].astype(int)\n",
    "datasp['Year'] = datasp['Year'].astype(int)"
   ]
  },
  {
   "cell_type": "code",
   "execution_count": null,
   "id": "e564fa60",
   "metadata": {},
   "outputs": [
    {
     "data": {
      "text/html": [
       "<div>\n",
       "<style scoped>\n",
       "    .dataframe tbody tr th:only-of-type {\n",
       "        vertical-align: middle;\n",
       "    }\n",
       "\n",
       "    .dataframe tbody tr th {\n",
       "        vertical-align: top;\n",
       "    }\n",
       "\n",
       "    .dataframe thead th {\n",
       "        text-align: right;\n",
       "    }\n",
       "</style>\n",
       "<table border=\"1\" class=\"dataframe\">\n",
       "  <thead>\n",
       "    <tr style=\"text-align: right;\">\n",
       "      <th></th>\n",
       "      <th>Year</th>\n",
       "      <th>Period</th>\n",
       "      <th>Scheme_description</th>\n",
       "      <th>Residence_county</th>\n",
       "      <th>Recipients</th>\n",
       "    </tr>\n",
       "  </thead>\n",
       "  <tbody>\n",
       "    <tr>\n",
       "      <th>0</th>\n",
       "      <td>2014</td>\n",
       "      <td>1</td>\n",
       "      <td>Child Benefit</td>\n",
       "      <td>Carlow</td>\n",
       "      <td>8319</td>\n",
       "    </tr>\n",
       "    <tr>\n",
       "      <th>1</th>\n",
       "      <td>2014</td>\n",
       "      <td>1</td>\n",
       "      <td>Family Income Supplement</td>\n",
       "      <td>Carlow</td>\n",
       "      <td>774</td>\n",
       "    </tr>\n",
       "    <tr>\n",
       "      <th>2</th>\n",
       "      <td>2014</td>\n",
       "      <td>1</td>\n",
       "      <td>Child Benefit</td>\n",
       "      <td>Cavan</td>\n",
       "      <td>10349</td>\n",
       "    </tr>\n",
       "    <tr>\n",
       "      <th>3</th>\n",
       "      <td>2014</td>\n",
       "      <td>1</td>\n",
       "      <td>Family Income Supplement</td>\n",
       "      <td>Cavan</td>\n",
       "      <td>1089</td>\n",
       "    </tr>\n",
       "    <tr>\n",
       "      <th>4</th>\n",
       "      <td>2014</td>\n",
       "      <td>1</td>\n",
       "      <td>Child Benefit</td>\n",
       "      <td>Clare</td>\n",
       "      <td>15958</td>\n",
       "    </tr>\n",
       "  </tbody>\n",
       "</table>\n",
       "</div>"
      ],
      "text/plain": [
       "   Year  Period        Scheme_description Residence_county  Recipients\n",
       "0  2014       1             Child Benefit           Carlow        8319\n",
       "1  2014       1  Family Income Supplement           Carlow         774\n",
       "2  2014       1             Child Benefit            Cavan       10349\n",
       "3  2014       1  Family Income Supplement            Cavan        1089\n",
       "4  2014       1             Child Benefit            Clare       15958"
      ]
     },
     "metadata": {},
     "output_type": "display_data"
    }
   ],
   "source": [
    "# Organize columns and reset index\n",
    "columns_selection = ['Year', 'Period', 'Scheme_description', 'Residence_county', 'Recipients']\n",
    "datasp = datasp[columns_selection]\n",
    "datasp.reset_index(drop=True, inplace=True)\n",
    "datasp.head()"
   ]
  },
  {
   "cell_type": "markdown",
   "id": "aefbb75f",
   "metadata": {},
   "source": [
    "#### Labour Force Dataset"
   ]
  },
  {
   "cell_type": "code",
   "execution_count": null,
   "id": "3aff5db2",
   "metadata": {},
   "outputs": [
    {
     "data": {
      "text/html": [
       "<div>\n",
       "<style scoped>\n",
       "    .dataframe tbody tr th:only-of-type {\n",
       "        vertical-align: middle;\n",
       "    }\n",
       "\n",
       "    .dataframe tbody tr th {\n",
       "        vertical-align: top;\n",
       "    }\n",
       "\n",
       "    .dataframe thead th {\n",
       "        text-align: right;\n",
       "    }\n",
       "</style>\n",
       "<table border=\"1\" class=\"dataframe\">\n",
       "  <thead>\n",
       "    <tr style=\"text-align: right;\">\n",
       "      <th></th>\n",
       "      <th>STATISTIC</th>\n",
       "      <th>Statistic Label</th>\n",
       "      <th>TLIST(Q1)</th>\n",
       "      <th>Quarter</th>\n",
       "      <th>C02199V02655</th>\n",
       "      <th>Sex</th>\n",
       "      <th>C01999V02434</th>\n",
       "      <th>ILO Economic Status</th>\n",
       "      <th>UNIT</th>\n",
       "      <th>VALUE</th>\n",
       "    </tr>\n",
       "  </thead>\n",
       "  <tbody>\n",
       "    <tr>\n",
       "      <th>0</th>\n",
       "      <td>QLF01C01</td>\n",
       "      <td>Persons aged 15 years and over</td>\n",
       "      <td>19981</td>\n",
       "      <td>1998Q1</td>\n",
       "      <td>-</td>\n",
       "      <td>Both sexes</td>\n",
       "      <td>-</td>\n",
       "      <td>All ILO economic status</td>\n",
       "      <td>Thousand</td>\n",
       "      <td>2,857</td>\n",
       "    </tr>\n",
       "    <tr>\n",
       "      <th>1</th>\n",
       "      <td>QLF01C01</td>\n",
       "      <td>Persons aged 15 years and over</td>\n",
       "      <td>19981</td>\n",
       "      <td>1998Q1</td>\n",
       "      <td>-</td>\n",
       "      <td>Both sexes</td>\n",
       "      <td>01</td>\n",
       "      <td>In labour force</td>\n",
       "      <td>Thousand</td>\n",
       "      <td>1,699</td>\n",
       "    </tr>\n",
       "    <tr>\n",
       "      <th>2</th>\n",
       "      <td>QLF01C01</td>\n",
       "      <td>Persons aged 15 years and over</td>\n",
       "      <td>19981</td>\n",
       "      <td>1998Q1</td>\n",
       "      <td>-</td>\n",
       "      <td>Both sexes</td>\n",
       "      <td>02</td>\n",
       "      <td>In employment</td>\n",
       "      <td>Thousand</td>\n",
       "      <td>1,550</td>\n",
       "    </tr>\n",
       "    <tr>\n",
       "      <th>3</th>\n",
       "      <td>QLF01C01</td>\n",
       "      <td>Persons aged 15 years and over</td>\n",
       "      <td>19981</td>\n",
       "      <td>1998Q1</td>\n",
       "      <td>-</td>\n",
       "      <td>Both sexes</td>\n",
       "      <td>03</td>\n",
       "      <td>In employment full-time</td>\n",
       "      <td>Thousand</td>\n",
       "      <td>1,283</td>\n",
       "    </tr>\n",
       "    <tr>\n",
       "      <th>4</th>\n",
       "      <td>QLF01C01</td>\n",
       "      <td>Persons aged 15 years and over</td>\n",
       "      <td>19981</td>\n",
       "      <td>1998Q1</td>\n",
       "      <td>-</td>\n",
       "      <td>Both sexes</td>\n",
       "      <td>04</td>\n",
       "      <td>In employment part-time</td>\n",
       "      <td>Thousand</td>\n",
       "      <td>268</td>\n",
       "    </tr>\n",
       "  </tbody>\n",
       "</table>\n",
       "</div>"
      ],
      "text/plain": [
       "  STATISTIC                 Statistic Label  TLIST(Q1) Quarter C02199V02655  \\\n",
       "0  QLF01C01  Persons aged 15 years and over      19981  1998Q1            -   \n",
       "1  QLF01C01  Persons aged 15 years and over      19981  1998Q1            -   \n",
       "2  QLF01C01  Persons aged 15 years and over      19981  1998Q1            -   \n",
       "3  QLF01C01  Persons aged 15 years and over      19981  1998Q1            -   \n",
       "4  QLF01C01  Persons aged 15 years and over      19981  1998Q1            -   \n",
       "\n",
       "          Sex C01999V02434      ILO Economic Status      UNIT  VALUE  \n",
       "0  Both sexes            -  All ILO economic status  Thousand  2,857  \n",
       "1  Both sexes           01          In labour force  Thousand  1,699  \n",
       "2  Both sexes           02            In employment  Thousand  1,550  \n",
       "3  Both sexes           03  In employment full-time  Thousand  1,283  \n",
       "4  Both sexes           04  In employment part-time  Thousand    268  "
      ]
     },
     "metadata": {},
     "output_type": "display_data"
    }
   ],
   "source": [
    "# Load dataset\n",
    "labour_df = pd.read_csv(\"Labour_force .csv\")\n",
    "labour_df.head()"
   ]
  },
  {
   "cell_type": "code",
   "execution_count": null,
   "id": "269ed99b",
   "metadata": {},
   "outputs": [],
   "source": [
    "# Filter Sex column to both sexes\n",
    "labour_df = labour_df[labour_df[\"Sex\"] == \"Both sexes\"]"
   ]
  },
  {
   "cell_type": "code",
   "execution_count": null,
   "id": "6fcba185",
   "metadata": {},
   "outputs": [],
   "source": [
    "# Filter Columns\n",
    "columns_labour = [\"Quarter\", \"ILO Economic Status\", \"VALUE\"]\n",
    "labour_df = labour_df[columns_labour]"
   ]
  },
  {
   "cell_type": "code",
   "execution_count": null,
   "id": "b799aef5",
   "metadata": {},
   "outputs": [
    {
     "data": {
      "text/plain": [
       "array(['All ILO economic status', 'In labour force', 'In employment',\n",
       "       'In employment full-time', 'In employment part-time',\n",
       "       'In employment part-time - not underemployed',\n",
       "       'In employment part-time - underemployed', 'Unemployed',\n",
       "       'Unemployed seeking full-time work/future job-starter',\n",
       "       'Unemployed seeking part-time work', 'Not in labour force',\n",
       "       'Potential additional labour force', 'Others not in labour force',\n",
       "       'Unemployed seeking work as self-employed'], dtype=object)"
      ]
     },
     "metadata": {},
     "output_type": "display_data"
    }
   ],
   "source": [
    "# Check variables in economic status\n",
    "labour_df[\"ILO Economic Status\"].unique()"
   ]
  },
  {
   "cell_type": "code",
   "execution_count": null,
   "id": "1bb52e79",
   "metadata": {},
   "outputs": [
    {
     "data": {
      "text/html": [
       "<div>\n",
       "<style scoped>\n",
       "    .dataframe tbody tr th:only-of-type {\n",
       "        vertical-align: middle;\n",
       "    }\n",
       "\n",
       "    .dataframe tbody tr th {\n",
       "        vertical-align: top;\n",
       "    }\n",
       "\n",
       "    .dataframe thead th {\n",
       "        text-align: right;\n",
       "    }\n",
       "</style>\n",
       "<table border=\"1\" class=\"dataframe\">\n",
       "  <thead>\n",
       "    <tr style=\"text-align: right;\">\n",
       "      <th></th>\n",
       "      <th>Quarter</th>\n",
       "      <th>ILO Economic Status</th>\n",
       "      <th>VALUE</th>\n",
       "    </tr>\n",
       "  </thead>\n",
       "  <tbody>\n",
       "    <tr>\n",
       "      <th>0</th>\n",
       "      <td>1998Q1</td>\n",
       "      <td>In labour force</td>\n",
       "      <td>1,699</td>\n",
       "    </tr>\n",
       "    <tr>\n",
       "      <th>1</th>\n",
       "      <td>1998Q1</td>\n",
       "      <td>In employment</td>\n",
       "      <td>1,550</td>\n",
       "    </tr>\n",
       "    <tr>\n",
       "      <th>2</th>\n",
       "      <td>1998Q1</td>\n",
       "      <td>Unemployed</td>\n",
       "      <td>149</td>\n",
       "    </tr>\n",
       "    <tr>\n",
       "      <th>3</th>\n",
       "      <td>1998Q1</td>\n",
       "      <td>Not in labour force</td>\n",
       "      <td>1,158</td>\n",
       "    </tr>\n",
       "    <tr>\n",
       "      <th>4</th>\n",
       "      <td>1998Q2</td>\n",
       "      <td>In labour force</td>\n",
       "      <td>1,711</td>\n",
       "    </tr>\n",
       "  </tbody>\n",
       "</table>\n",
       "</div>"
      ],
      "text/plain": [
       "  Quarter  ILO Economic Status  VALUE\n",
       "0  1998Q1      In labour force  1,699\n",
       "1  1998Q1        In employment  1,550\n",
       "2  1998Q1           Unemployed    149\n",
       "3  1998Q1  Not in labour force  1,158\n",
       "4  1998Q2      In labour force  1,711"
      ]
     },
     "metadata": {},
     "output_type": "display_data"
    }
   ],
   "source": [
    "# Filter ILO Economic Status column: In labour force / In employment / Unemployed / Not in labour force\n",
    "labour_df = labour_df[labour_df[\"ILO Economic Status\"].isin([\"In labour force\", \"In employment\", \"Unemployed\", \"Not in labour force\"])].reset_index(drop=True)\n",
    "labour_df.head()"
   ]
  },
  {
   "cell_type": "code",
   "execution_count": null,
   "id": "1c2e5977",
   "metadata": {},
   "outputs": [
    {
     "data": {
      "text/plain": [
       "Quarter                0\n",
       "ILO Economic Status    0\n",
       "VALUE                  0\n",
       "dtype: int64"
      ]
     },
     "metadata": {},
     "output_type": "display_data"
    }
   ],
   "source": [
    "# Check null\n",
    "labour_df.isnull().sum()"
   ]
  },
  {
   "cell_type": "code",
   "execution_count": null,
   "id": "c4d0fb4c",
   "metadata": {},
   "outputs": [
    {
     "data": {
      "text/plain": [
       "0"
      ]
     },
     "metadata": {},
     "output_type": "display_data"
    }
   ],
   "source": [
    "# Check duplicates\n",
    "labour_df.duplicated().sum()"
   ]
  },
  {
   "cell_type": "code",
   "execution_count": null,
   "id": "85757d0e",
   "metadata": {},
   "outputs": [],
   "source": [
    "# Split year in two columns (year and period)\n",
    "labour_df[[\"year\", \"period\"]] = labour_df[\"Quarter\"].str.split(\"Q\", expand=True)"
   ]
  },
  {
   "cell_type": "code",
   "execution_count": null,
   "id": "5bdb71db",
   "metadata": {},
   "outputs": [],
   "source": [
    "# Rename columns\n",
    "labour_df.rename(columns={\n",
    "                          \"ILO Economic Status\": \"economic_status\",\n",
    "                          \"VALUE\": \"individuals\"\n",
    "                          }, inplace=True)"
   ]
  },
  {
   "cell_type": "code",
   "execution_count": null,
   "id": "181b5d7e",
   "metadata": {},
   "outputs": [],
   "source": [
    "# Organize columns\n",
    "columns_order = [\"year\", \"period\", \"economic_status\", \"individuals\"]\n",
    "labour_df = labour_df[columns_order]\n",
    "\n",
    "# Set the individuals columns to thousands\n",
    "labour_df[\"individuals\"] = labour_df[\"individuals\"]*1000"
   ]
  },
  {
   "cell_type": "code",
   "execution_count": null,
   "id": "d4931d7d",
   "metadata": {},
   "outputs": [
    {
     "data": {
      "text/plain": [
       "year               0\n",
       "period             0\n",
       "economic_status    0\n",
       "individuals        0\n",
       "dtype: object"
      ]
     },
     "metadata": {},
     "output_type": "display_data"
    }
   ],
   "source": [
    "# Check outliers\n",
    "Q1 = labour_df['individuals'].quantile(.25)\n",
    "Q3 = labour_df['individuals'].quantile(.75)\n",
    "IQR = Q3 - Q1\n",
    "lower_out = Q1 - 1.5 * IQR\n",
    "upper_out = Q3 + 1.5 * IQR\n",
    "\n",
    "outliers = labour_df[(labour_df['individuals'] < lower_out) | (labour_df['individuals'] > upper_out)]\n",
    "outliers.sum()\n"
   ]
  },
  {
   "cell_type": "code",
   "execution_count": null,
   "id": "3b7bd08c",
   "metadata": {},
   "outputs": [],
   "source": [
    "# Change data type to integer\n",
    "labour_df[\"year\"] = labour_df[\"year\"].astype(np.int64)\n",
    "labour_df[\"period\"] = labour_df[\"period\"].astype(np.int64)"
   ]
  },
  {
   "cell_type": "code",
   "execution_count": null,
   "id": "92535fee",
   "metadata": {},
   "outputs": [
    {
     "name": "stdout",
     "output_type": "stream",
     "text": [
      "<class 'pandas.core.frame.DataFrame'>\n",
      "RangeIndex: 428 entries, 0 to 427\n",
      "Data columns (total 4 columns):\n",
      " #   Column           Non-Null Count  Dtype  \n",
      "---  ------           --------------  -----  \n",
      " 0   year             428 non-null    int64  \n",
      " 1   period           428 non-null    int64  \n",
      " 2   economic_status  428 non-null    object \n",
      " 3   individuals      428 non-null    float64\n",
      "dtypes: float64(1), int64(2), object(1)\n",
      "memory usage: 13.5+ KB\n"
     ]
    }
   ],
   "source": [
    "labour_df.info()"
   ]
  },
  {
   "cell_type": "code",
   "execution_count": null,
   "id": "52a40d9d",
   "metadata": {},
   "outputs": [
    {
     "data": {
      "text/html": [
       "<div>\n",
       "<style scoped>\n",
       "    .dataframe tbody tr th:only-of-type {\n",
       "        vertical-align: middle;\n",
       "    }\n",
       "\n",
       "    .dataframe tbody tr th {\n",
       "        vertical-align: top;\n",
       "    }\n",
       "\n",
       "    .dataframe thead th {\n",
       "        text-align: right;\n",
       "    }\n",
       "</style>\n",
       "<table border=\"1\" class=\"dataframe\">\n",
       "  <thead>\n",
       "    <tr style=\"text-align: right;\">\n",
       "      <th></th>\n",
       "      <th>year</th>\n",
       "      <th>period</th>\n",
       "      <th>economic_status</th>\n",
       "      <th>individuals</th>\n",
       "    </tr>\n",
       "  </thead>\n",
       "  <tbody>\n",
       "    <tr>\n",
       "      <th>0</th>\n",
       "      <td>1998</td>\n",
       "      <td>1</td>\n",
       "      <td>In labour force</td>\n",
       "      <td>1,699,000</td>\n",
       "    </tr>\n",
       "    <tr>\n",
       "      <th>1</th>\n",
       "      <td>1998</td>\n",
       "      <td>1</td>\n",
       "      <td>In employment</td>\n",
       "      <td>1,550,300</td>\n",
       "    </tr>\n",
       "    <tr>\n",
       "      <th>2</th>\n",
       "      <td>1998</td>\n",
       "      <td>1</td>\n",
       "      <td>Unemployed</td>\n",
       "      <td>148,700</td>\n",
       "    </tr>\n",
       "    <tr>\n",
       "      <th>3</th>\n",
       "      <td>1998</td>\n",
       "      <td>1</td>\n",
       "      <td>Not in labour force</td>\n",
       "      <td>1,158,200</td>\n",
       "    </tr>\n",
       "    <tr>\n",
       "      <th>4</th>\n",
       "      <td>1998</td>\n",
       "      <td>2</td>\n",
       "      <td>In labour force</td>\n",
       "      <td>1,710,700</td>\n",
       "    </tr>\n",
       "  </tbody>\n",
       "</table>\n",
       "</div>"
      ],
      "text/plain": [
       "   year  period      economic_status  individuals\n",
       "0  1998       1      In labour force    1,699,000\n",
       "1  1998       1        In employment    1,550,300\n",
       "2  1998       1           Unemployed      148,700\n",
       "3  1998       1  Not in labour force    1,158,200\n",
       "4  1998       2      In labour force    1,710,700"
      ]
     },
     "metadata": {},
     "output_type": "display_data"
    }
   ],
   "source": [
    "labour_df.head()"
   ]
  },
  {
   "cell_type": "markdown",
   "id": "449f7111",
   "metadata": {},
   "source": [
    "#### Social Protection Expenditure Dataset"
   ]
  },
  {
   "cell_type": "code",
   "execution_count": null,
   "id": "d2842f53",
   "metadata": {},
   "outputs": [
    {
     "data": {
      "text/html": [
       "<div>\n",
       "<style scoped>\n",
       "    .dataframe tbody tr th:only-of-type {\n",
       "        vertical-align: middle;\n",
       "    }\n",
       "\n",
       "    .dataframe tbody tr th {\n",
       "        vertical-align: top;\n",
       "    }\n",
       "\n",
       "    .dataframe thead th {\n",
       "        text-align: right;\n",
       "    }\n",
       "</style>\n",
       "<table border=\"1\" class=\"dataframe\">\n",
       "  <thead>\n",
       "    <tr style=\"text-align: right;\">\n",
       "      <th></th>\n",
       "      <th>STATISTIC</th>\n",
       "      <th>Statistic Label</th>\n",
       "      <th>TLIST(A1)</th>\n",
       "      <th>Year</th>\n",
       "      <th>C03908V04660</th>\n",
       "      <th>Social Protection Expenditure</th>\n",
       "      <th>UNIT</th>\n",
       "      <th>VALUE</th>\n",
       "    </tr>\n",
       "  </thead>\n",
       "  <tbody>\n",
       "    <tr>\n",
       "      <th>0</th>\n",
       "      <td>SPEA02C01</td>\n",
       "      <td>Social Protection Expenditure by function</td>\n",
       "      <td>2000</td>\n",
       "      <td>2000</td>\n",
       "      <td>1000000</td>\n",
       "      <td>Total Social Protection Expenditure</td>\n",
       "      <td>€million</td>\n",
       "      <td>16466</td>\n",
       "    </tr>\n",
       "    <tr>\n",
       "      <th>1</th>\n",
       "      <td>SPEA02C01</td>\n",
       "      <td>Social Protection Expenditure by function</td>\n",
       "      <td>2000</td>\n",
       "      <td>2000</td>\n",
       "      <td>1100000</td>\n",
       "      <td>Expenditure, Social Protection Benefits</td>\n",
       "      <td>€million</td>\n",
       "      <td>15584</td>\n",
       "    </tr>\n",
       "    <tr>\n",
       "      <th>2</th>\n",
       "      <td>SPEA02C01</td>\n",
       "      <td>Social Protection Expenditure by function</td>\n",
       "      <td>2000</td>\n",
       "      <td>2000</td>\n",
       "      <td>1110000</td>\n",
       "      <td>Expenditure, Sickness benefits</td>\n",
       "      <td>€million</td>\n",
       "      <td>5517</td>\n",
       "    </tr>\n",
       "    <tr>\n",
       "      <th>3</th>\n",
       "      <td>SPEA02C01</td>\n",
       "      <td>Social Protection Expenditure by function</td>\n",
       "      <td>2000</td>\n",
       "      <td>2000</td>\n",
       "      <td>1120000</td>\n",
       "      <td>Expenditure, Disability benefits</td>\n",
       "      <td>€million</td>\n",
       "      <td>682</td>\n",
       "    </tr>\n",
       "    <tr>\n",
       "      <th>4</th>\n",
       "      <td>SPEA02C01</td>\n",
       "      <td>Social Protection Expenditure by function</td>\n",
       "      <td>2000</td>\n",
       "      <td>2000</td>\n",
       "      <td>1130000</td>\n",
       "      <td>Expenditure, Old age benefits</td>\n",
       "      <td>€million</td>\n",
       "      <td>4444</td>\n",
       "    </tr>\n",
       "  </tbody>\n",
       "</table>\n",
       "</div>"
      ],
      "text/plain": [
       "   STATISTIC                            Statistic Label  TLIST(A1)  Year  \\\n",
       "0  SPEA02C01  Social Protection Expenditure by function       2000  2000   \n",
       "1  SPEA02C01  Social Protection Expenditure by function       2000  2000   \n",
       "2  SPEA02C01  Social Protection Expenditure by function       2000  2000   \n",
       "3  SPEA02C01  Social Protection Expenditure by function       2000  2000   \n",
       "4  SPEA02C01  Social Protection Expenditure by function       2000  2000   \n",
       "\n",
       "   C03908V04660            Social Protection Expenditure      UNIT  VALUE  \n",
       "0       1000000      Total Social Protection Expenditure  €million  16466  \n",
       "1       1100000  Expenditure, Social Protection Benefits  €million  15584  \n",
       "2       1110000           Expenditure, Sickness benefits  €million   5517  \n",
       "3       1120000         Expenditure, Disability benefits  €million    682  \n",
       "4       1130000            Expenditure, Old age benefits  €million   4444  "
      ]
     },
     "metadata": {},
     "output_type": "display_data"
    }
   ],
   "source": [
    "# Load dataset\n",
    "expenditure_df = pd.read_csv(\"Expenditure.csv\")\n",
    "expenditure_df.head()"
   ]
  },
  {
   "cell_type": "code",
   "execution_count": null,
   "id": "368a5adb",
   "metadata": {},
   "outputs": [],
   "source": [
    "# Remove columns\n",
    "expenditure_df.drop(columns=[\"STATISTIC\", \"Statistic Label\", \"TLIST(A1)\", \"C03908V04660\"], inplace=True)"
   ]
  },
  {
   "cell_type": "code",
   "execution_count": null,
   "id": "f4912a42",
   "metadata": {},
   "outputs": [
    {
     "data": {
      "text/plain": [
       "Year                             0\n",
       "Social Protection Expenditure    0\n",
       "UNIT                             0\n",
       "VALUE                            0\n",
       "dtype: int64"
      ]
     },
     "metadata": {},
     "output_type": "display_data"
    }
   ],
   "source": [
    "# Check null\n",
    "expenditure_df.isnull().sum()"
   ]
  },
  {
   "cell_type": "code",
   "execution_count": null,
   "id": "4f75822c",
   "metadata": {},
   "outputs": [
    {
     "data": {
      "text/plain": [
       "0"
      ]
     },
     "metadata": {},
     "output_type": "display_data"
    }
   ],
   "source": [
    "# Check duplicates\n",
    "expenditure_df.duplicated().sum()"
   ]
  },
  {
   "cell_type": "code",
   "execution_count": null,
   "id": "ebae9674",
   "metadata": {},
   "outputs": [],
   "source": [
    "# Rename columns\n",
    "expenditure_df.rename(columns={\"Year\": \"year\",\n",
    "                       \"Social Protection Expenditure\": \"social protection expenditure\",\n",
    "                       \"VALUE\": \"value (euro)\",\n",
    "                       \"UNIT\": \"unit\"}, inplace=True)"
   ]
  },
  {
   "cell_type": "code",
   "execution_count": null,
   "id": "6f1771cf",
   "metadata": {},
   "outputs": [],
   "source": [
    "# Rename variables in social protection expenditure column for readability \n",
    "social_expenditure_rename = {\n",
    "                    \"Total Social Protection Expenditure\": \"Total Social Protection\",\n",
    "                    \"Expenditure, Social Protection Benefits\": \"Social Protection Benefits\", \n",
    "                    \"Expenditure, Sickness benefits\": \"Sickness benefits\",\n",
    "                    \"Expenditure, Disability benefits\": \"Disability benefits\",\n",
    "                    \"Expenditure, Old age benefits\": \"Old age benefits\",\n",
    "                    \"Expenditure, Survivor benefits\": \"Survivor benefits\",\n",
    "                    \"Expenditure, Family benefits\": \"Family benefits\",\n",
    "                    \"Expenditure, Unemployment benefits\": \"Unemployment benefits\",\n",
    "                    \"Expenditure, Housing benefits\": \"Housing benefits\",\n",
    "                    \"Expenditure, Social exclusion benefits n.e.c.\": \"Social exclusion benefits\",\n",
    "                    \"Expenditure, Social Protection - Administration Costs\": \"Social Protection - Administration Costs\" \n",
    "}\n",
    "\n",
    "expenditure_df[\"social protection expenditure\"] = expenditure_df[\"social protection expenditure\"].replace(social_expenditure_rename)"
   ]
  },
  {
   "cell_type": "code",
   "execution_count": null,
   "id": "4bc2cbdb",
   "metadata": {},
   "outputs": [],
   "source": [
    "# Rename variables in unit column\n",
    "unit_rename = {\"€million\": \"Million\"}\n",
    "expenditure_df[\"unit\"] = expenditure_df[\"unit\"].replace(unit_rename)"
   ]
  },
  {
   "cell_type": "code",
   "execution_count": null,
   "id": "619a9ac0",
   "metadata": {},
   "outputs": [
    {
     "data": {
      "text/plain": [
       "array(['Total Social Protection', 'Social Protection Benefits',\n",
       "       'Sickness benefits', 'Disability benefits', 'Old age benefits',\n",
       "       'Survivor benefits', 'Family benefits', 'Unemployment benefits',\n",
       "       'Housing benefits', 'Social exclusion benefits',\n",
       "       'Social Protection - Administration Costs'], dtype=object)"
      ]
     },
     "metadata": {},
     "output_type": "display_data"
    }
   ],
   "source": [
    "# Check unique values \n",
    "expenditure_df[\"social protection expenditure\"].unique()"
   ]
  },
  {
   "cell_type": "code",
   "execution_count": null,
   "id": "5b3ec605",
   "metadata": {},
   "outputs": [
    {
     "data": {
      "text/html": [
       "<div>\n",
       "<style scoped>\n",
       "    .dataframe tbody tr th:only-of-type {\n",
       "        vertical-align: middle;\n",
       "    }\n",
       "\n",
       "    .dataframe tbody tr th {\n",
       "        vertical-align: top;\n",
       "    }\n",
       "\n",
       "    .dataframe thead th {\n",
       "        text-align: right;\n",
       "    }\n",
       "</style>\n",
       "<table border=\"1\" class=\"dataframe\">\n",
       "  <thead>\n",
       "    <tr style=\"text-align: right;\">\n",
       "      <th></th>\n",
       "      <th>year</th>\n",
       "      <th>social protection expenditure</th>\n",
       "      <th>unit</th>\n",
       "      <th>value (euro)</th>\n",
       "    </tr>\n",
       "  </thead>\n",
       "  <tbody>\n",
       "    <tr>\n",
       "      <th>77</th>\n",
       "      <td>2007</td>\n",
       "      <td>Total Social Protection</td>\n",
       "      <td>Million</td>\n",
       "      <td>35682</td>\n",
       "    </tr>\n",
       "    <tr>\n",
       "      <th>78</th>\n",
       "      <td>2007</td>\n",
       "      <td>Social Protection Benefits</td>\n",
       "      <td>Million</td>\n",
       "      <td>34080</td>\n",
       "    </tr>\n",
       "    <tr>\n",
       "      <th>88</th>\n",
       "      <td>2008</td>\n",
       "      <td>Total Social Protection</td>\n",
       "      <td>Million</td>\n",
       "      <td>39209</td>\n",
       "    </tr>\n",
       "    <tr>\n",
       "      <th>89</th>\n",
       "      <td>2008</td>\n",
       "      <td>Social Protection Benefits</td>\n",
       "      <td>Million</td>\n",
       "      <td>37838</td>\n",
       "    </tr>\n",
       "    <tr>\n",
       "      <th>99</th>\n",
       "      <td>2009</td>\n",
       "      <td>Total Social Protection</td>\n",
       "      <td>Million</td>\n",
       "      <td>42094</td>\n",
       "    </tr>\n",
       "  </tbody>\n",
       "</table>\n",
       "</div>"
      ],
      "text/plain": [
       "    year social protection expenditure     unit  value (euro)\n",
       "77  2007       Total Social Protection  Million         35682\n",
       "78  2007    Social Protection Benefits  Million         34080\n",
       "88  2008       Total Social Protection  Million         39209\n",
       "89  2008    Social Protection Benefits  Million         37838\n",
       "99  2009       Total Social Protection  Million         42094"
      ]
     },
     "metadata": {},
     "output_type": "display_data"
    }
   ],
   "source": [
    "# Check outliers\n",
    "Q1 = expenditure_df['value (euro)'].quantile(.25)\n",
    "Q3 = expenditure_df['value (euro)'].quantile(.75)\n",
    "IQR = Q3 - Q1\n",
    "lower_out = Q1 - 1.5 * IQR\n",
    "upper_out = Q3 + 1.5 * IQR\n",
    "\n",
    "outliers = expenditure_df[(expenditure_df['value (euro)'] < lower_out) | (expenditure_df['value (euro)'] > upper_out)]\n",
    "outliers.head()"
   ]
  },
  {
   "cell_type": "markdown",
   "id": "fc5bf7d0",
   "metadata": {},
   "source": [
    "Not necessary to remove the outliers since the main analysis will be made on unemployment social protection."
   ]
  },
  {
   "cell_type": "code",
   "execution_count": null,
   "id": "3beb41ae",
   "metadata": {},
   "outputs": [
    {
     "data": {
      "text/html": [
       "<div>\n",
       "<style scoped>\n",
       "    .dataframe tbody tr th:only-of-type {\n",
       "        vertical-align: middle;\n",
       "    }\n",
       "\n",
       "    .dataframe tbody tr th {\n",
       "        vertical-align: top;\n",
       "    }\n",
       "\n",
       "    .dataframe thead th {\n",
       "        text-align: right;\n",
       "    }\n",
       "</style>\n",
       "<table border=\"1\" class=\"dataframe\">\n",
       "  <thead>\n",
       "    <tr style=\"text-align: right;\">\n",
       "      <th></th>\n",
       "      <th>year</th>\n",
       "      <th>social protection expenditure</th>\n",
       "      <th>unit</th>\n",
       "      <th>value (euro)</th>\n",
       "    </tr>\n",
       "  </thead>\n",
       "  <tbody>\n",
       "    <tr>\n",
       "      <th>0</th>\n",
       "      <td>2000</td>\n",
       "      <td>Total Social Protection</td>\n",
       "      <td>Million</td>\n",
       "      <td>16466</td>\n",
       "    </tr>\n",
       "    <tr>\n",
       "      <th>1</th>\n",
       "      <td>2000</td>\n",
       "      <td>Social Protection Benefits</td>\n",
       "      <td>Million</td>\n",
       "      <td>15584</td>\n",
       "    </tr>\n",
       "    <tr>\n",
       "      <th>2</th>\n",
       "      <td>2000</td>\n",
       "      <td>Sickness benefits</td>\n",
       "      <td>Million</td>\n",
       "      <td>5517</td>\n",
       "    </tr>\n",
       "    <tr>\n",
       "      <th>3</th>\n",
       "      <td>2000</td>\n",
       "      <td>Disability benefits</td>\n",
       "      <td>Million</td>\n",
       "      <td>682</td>\n",
       "    </tr>\n",
       "    <tr>\n",
       "      <th>4</th>\n",
       "      <td>2000</td>\n",
       "      <td>Old age benefits</td>\n",
       "      <td>Million</td>\n",
       "      <td>4444</td>\n",
       "    </tr>\n",
       "  </tbody>\n",
       "</table>\n",
       "</div>"
      ],
      "text/plain": [
       "   year social protection expenditure     unit  value (euro)\n",
       "0  2000       Total Social Protection  Million         16466\n",
       "1  2000    Social Protection Benefits  Million         15584\n",
       "2  2000             Sickness benefits  Million          5517\n",
       "3  2000           Disability benefits  Million           682\n",
       "4  2000              Old age benefits  Million          4444"
      ]
     },
     "metadata": {},
     "output_type": "display_data"
    }
   ],
   "source": [
    "expenditure_df.head()"
   ]
  }
 ],
 "metadata": {
  "kernelspec": {
   "display_name": "base",
   "language": "python",
   "name": "python3"
  },
  "language_info": {
   "codemirror_mode": {
    "name": "ipython",
    "version": 3
   },
   "file_extension": ".py",
   "mimetype": "text/x-python",
   "name": "python",
   "nbconvert_exporter": "python",
   "pygments_lexer": "ipython3",
   "version": "3.12.3"
  }
 },
 "nbformat": 4,
 "nbformat_minor": 5
}
